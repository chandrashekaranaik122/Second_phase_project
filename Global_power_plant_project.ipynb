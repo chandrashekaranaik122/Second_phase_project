{
 "cells": [
  {
   "cell_type": "markdown",
   "id": "17f35212",
   "metadata": {},
   "source": [
    "# Global_power_plant"
   ]
  },
  {
   "cell_type": "code",
   "execution_count": 1,
   "id": "ec65a029",
   "metadata": {},
   "outputs": [],
   "source": [
    "import pandas as pd\n",
    "import numpy as np\n",
    "import seaborn as sns\n",
    "import matplotlib.pyplot as plt\n",
    "import warnings\n",
    "warnings.filterwarnings('ignore')"
   ]
  },
  {
   "cell_type": "markdown",
   "id": "b19b537c",
   "metadata": {},
   "source": [
    "import all the nessesary lybraries such as pandas,numpy,seaborn,matplot "
   ]
  },
  {
   "cell_type": "code",
   "execution_count": 2,
   "id": "d16f3399",
   "metadata": {},
   "outputs": [
    {
     "data": {
      "text/html": [
       "<div>\n",
       "<style scoped>\n",
       "    .dataframe tbody tr th:only-of-type {\n",
       "        vertical-align: middle;\n",
       "    }\n",
       "\n",
       "    .dataframe tbody tr th {\n",
       "        vertical-align: top;\n",
       "    }\n",
       "\n",
       "    .dataframe thead th {\n",
       "        text-align: right;\n",
       "    }\n",
       "</style>\n",
       "<table border=\"1\" class=\"dataframe\">\n",
       "  <thead>\n",
       "    <tr style=\"text-align: right;\">\n",
       "      <th></th>\n",
       "      <th>country</th>\n",
       "      <th>country_long</th>\n",
       "      <th>name</th>\n",
       "      <th>gppd_idnr</th>\n",
       "      <th>capacity_mw</th>\n",
       "      <th>latitude</th>\n",
       "      <th>longitude</th>\n",
       "      <th>primary_fuel</th>\n",
       "      <th>other_fuel1</th>\n",
       "      <th>other_fuel2</th>\n",
       "      <th>...</th>\n",
       "      <th>year_of_capacity_data</th>\n",
       "      <th>generation_gwh_2013</th>\n",
       "      <th>generation_gwh_2014</th>\n",
       "      <th>generation_gwh_2015</th>\n",
       "      <th>generation_gwh_2016</th>\n",
       "      <th>generation_gwh_2017</th>\n",
       "      <th>generation_gwh_2018</th>\n",
       "      <th>generation_gwh_2019</th>\n",
       "      <th>generation_data_source</th>\n",
       "      <th>estimated_generation_gwh</th>\n",
       "    </tr>\n",
       "  </thead>\n",
       "  <tbody>\n",
       "    <tr>\n",
       "      <th>0</th>\n",
       "      <td>IND</td>\n",
       "      <td>India</td>\n",
       "      <td>ACME Solar Tower</td>\n",
       "      <td>WRI1020239</td>\n",
       "      <td>2.5</td>\n",
       "      <td>28.1839</td>\n",
       "      <td>73.2407</td>\n",
       "      <td>Solar</td>\n",
       "      <td>NaN</td>\n",
       "      <td>NaN</td>\n",
       "      <td>...</td>\n",
       "      <td>NaN</td>\n",
       "      <td>NaN</td>\n",
       "      <td>NaN</td>\n",
       "      <td>NaN</td>\n",
       "      <td>NaN</td>\n",
       "      <td>NaN</td>\n",
       "      <td>NaN</td>\n",
       "      <td>NaN</td>\n",
       "      <td>NaN</td>\n",
       "      <td>NaN</td>\n",
       "    </tr>\n",
       "    <tr>\n",
       "      <th>1</th>\n",
       "      <td>IND</td>\n",
       "      <td>India</td>\n",
       "      <td>ADITYA CEMENT WORKS</td>\n",
       "      <td>WRI1019881</td>\n",
       "      <td>98.0</td>\n",
       "      <td>24.7663</td>\n",
       "      <td>74.6090</td>\n",
       "      <td>Coal</td>\n",
       "      <td>NaN</td>\n",
       "      <td>NaN</td>\n",
       "      <td>...</td>\n",
       "      <td>NaN</td>\n",
       "      <td>NaN</td>\n",
       "      <td>NaN</td>\n",
       "      <td>NaN</td>\n",
       "      <td>NaN</td>\n",
       "      <td>NaN</td>\n",
       "      <td>NaN</td>\n",
       "      <td>NaN</td>\n",
       "      <td>NaN</td>\n",
       "      <td>NaN</td>\n",
       "    </tr>\n",
       "    <tr>\n",
       "      <th>2</th>\n",
       "      <td>IND</td>\n",
       "      <td>India</td>\n",
       "      <td>AES Saurashtra Windfarms</td>\n",
       "      <td>WRI1026669</td>\n",
       "      <td>39.2</td>\n",
       "      <td>21.9038</td>\n",
       "      <td>69.3732</td>\n",
       "      <td>Wind</td>\n",
       "      <td>NaN</td>\n",
       "      <td>NaN</td>\n",
       "      <td>...</td>\n",
       "      <td>NaN</td>\n",
       "      <td>NaN</td>\n",
       "      <td>NaN</td>\n",
       "      <td>NaN</td>\n",
       "      <td>NaN</td>\n",
       "      <td>NaN</td>\n",
       "      <td>NaN</td>\n",
       "      <td>NaN</td>\n",
       "      <td>NaN</td>\n",
       "      <td>NaN</td>\n",
       "    </tr>\n",
       "    <tr>\n",
       "      <th>3</th>\n",
       "      <td>IND</td>\n",
       "      <td>India</td>\n",
       "      <td>AGARTALA GT</td>\n",
       "      <td>IND0000001</td>\n",
       "      <td>135.0</td>\n",
       "      <td>23.8712</td>\n",
       "      <td>91.3602</td>\n",
       "      <td>Gas</td>\n",
       "      <td>NaN</td>\n",
       "      <td>NaN</td>\n",
       "      <td>...</td>\n",
       "      <td>2019.0</td>\n",
       "      <td>NaN</td>\n",
       "      <td>617.789264</td>\n",
       "      <td>843.747000</td>\n",
       "      <td>886.004428</td>\n",
       "      <td>663.774500</td>\n",
       "      <td>626.239128</td>\n",
       "      <td>NaN</td>\n",
       "      <td>Central Electricity Authority</td>\n",
       "      <td>NaN</td>\n",
       "    </tr>\n",
       "    <tr>\n",
       "      <th>4</th>\n",
       "      <td>IND</td>\n",
       "      <td>India</td>\n",
       "      <td>AKALTARA TPP</td>\n",
       "      <td>IND0000002</td>\n",
       "      <td>1800.0</td>\n",
       "      <td>21.9603</td>\n",
       "      <td>82.4091</td>\n",
       "      <td>Coal</td>\n",
       "      <td>Oil</td>\n",
       "      <td>NaN</td>\n",
       "      <td>...</td>\n",
       "      <td>2019.0</td>\n",
       "      <td>NaN</td>\n",
       "      <td>3035.550000</td>\n",
       "      <td>5916.370000</td>\n",
       "      <td>6243.000000</td>\n",
       "      <td>5385.579736</td>\n",
       "      <td>7279.000000</td>\n",
       "      <td>NaN</td>\n",
       "      <td>Central Electricity Authority</td>\n",
       "      <td>NaN</td>\n",
       "    </tr>\n",
       "    <tr>\n",
       "      <th>...</th>\n",
       "      <td>...</td>\n",
       "      <td>...</td>\n",
       "      <td>...</td>\n",
       "      <td>...</td>\n",
       "      <td>...</td>\n",
       "      <td>...</td>\n",
       "      <td>...</td>\n",
       "      <td>...</td>\n",
       "      <td>...</td>\n",
       "      <td>...</td>\n",
       "      <td>...</td>\n",
       "      <td>...</td>\n",
       "      <td>...</td>\n",
       "      <td>...</td>\n",
       "      <td>...</td>\n",
       "      <td>...</td>\n",
       "      <td>...</td>\n",
       "      <td>...</td>\n",
       "      <td>...</td>\n",
       "      <td>...</td>\n",
       "      <td>...</td>\n",
       "    </tr>\n",
       "    <tr>\n",
       "      <th>902</th>\n",
       "      <td>IND</td>\n",
       "      <td>India</td>\n",
       "      <td>YERMARUS TPP</td>\n",
       "      <td>IND0000513</td>\n",
       "      <td>1600.0</td>\n",
       "      <td>16.2949</td>\n",
       "      <td>77.3568</td>\n",
       "      <td>Coal</td>\n",
       "      <td>Oil</td>\n",
       "      <td>NaN</td>\n",
       "      <td>...</td>\n",
       "      <td>2019.0</td>\n",
       "      <td>NaN</td>\n",
       "      <td>NaN</td>\n",
       "      <td>0.994875</td>\n",
       "      <td>233.596650</td>\n",
       "      <td>865.400000</td>\n",
       "      <td>686.500000</td>\n",
       "      <td>NaN</td>\n",
       "      <td>Central Electricity Authority</td>\n",
       "      <td>NaN</td>\n",
       "    </tr>\n",
       "    <tr>\n",
       "      <th>903</th>\n",
       "      <td>IND</td>\n",
       "      <td>India</td>\n",
       "      <td>Yelesandra Solar Power Plant</td>\n",
       "      <td>WRI1026222</td>\n",
       "      <td>3.0</td>\n",
       "      <td>12.8932</td>\n",
       "      <td>78.1654</td>\n",
       "      <td>Solar</td>\n",
       "      <td>NaN</td>\n",
       "      <td>NaN</td>\n",
       "      <td>...</td>\n",
       "      <td>NaN</td>\n",
       "      <td>NaN</td>\n",
       "      <td>NaN</td>\n",
       "      <td>NaN</td>\n",
       "      <td>NaN</td>\n",
       "      <td>NaN</td>\n",
       "      <td>NaN</td>\n",
       "      <td>NaN</td>\n",
       "      <td>NaN</td>\n",
       "      <td>NaN</td>\n",
       "    </tr>\n",
       "    <tr>\n",
       "      <th>904</th>\n",
       "      <td>IND</td>\n",
       "      <td>India</td>\n",
       "      <td>Yelisirur wind power project</td>\n",
       "      <td>WRI1026776</td>\n",
       "      <td>25.5</td>\n",
       "      <td>15.2758</td>\n",
       "      <td>75.5811</td>\n",
       "      <td>Wind</td>\n",
       "      <td>NaN</td>\n",
       "      <td>NaN</td>\n",
       "      <td>...</td>\n",
       "      <td>NaN</td>\n",
       "      <td>NaN</td>\n",
       "      <td>NaN</td>\n",
       "      <td>NaN</td>\n",
       "      <td>NaN</td>\n",
       "      <td>NaN</td>\n",
       "      <td>NaN</td>\n",
       "      <td>NaN</td>\n",
       "      <td>NaN</td>\n",
       "      <td>NaN</td>\n",
       "    </tr>\n",
       "    <tr>\n",
       "      <th>905</th>\n",
       "      <td>IND</td>\n",
       "      <td>India</td>\n",
       "      <td>ZAWAR MINES</td>\n",
       "      <td>WRI1019901</td>\n",
       "      <td>80.0</td>\n",
       "      <td>24.3500</td>\n",
       "      <td>73.7477</td>\n",
       "      <td>Coal</td>\n",
       "      <td>NaN</td>\n",
       "      <td>NaN</td>\n",
       "      <td>...</td>\n",
       "      <td>NaN</td>\n",
       "      <td>NaN</td>\n",
       "      <td>NaN</td>\n",
       "      <td>NaN</td>\n",
       "      <td>NaN</td>\n",
       "      <td>NaN</td>\n",
       "      <td>NaN</td>\n",
       "      <td>NaN</td>\n",
       "      <td>NaN</td>\n",
       "      <td>NaN</td>\n",
       "    </tr>\n",
       "    <tr>\n",
       "      <th>906</th>\n",
       "      <td>IND</td>\n",
       "      <td>India</td>\n",
       "      <td>iEnergy Theni Wind Farm</td>\n",
       "      <td>WRI1026761</td>\n",
       "      <td>16.5</td>\n",
       "      <td>9.9344</td>\n",
       "      <td>77.4768</td>\n",
       "      <td>Wind</td>\n",
       "      <td>NaN</td>\n",
       "      <td>NaN</td>\n",
       "      <td>...</td>\n",
       "      <td>NaN</td>\n",
       "      <td>NaN</td>\n",
       "      <td>NaN</td>\n",
       "      <td>NaN</td>\n",
       "      <td>NaN</td>\n",
       "      <td>NaN</td>\n",
       "      <td>NaN</td>\n",
       "      <td>NaN</td>\n",
       "      <td>NaN</td>\n",
       "      <td>NaN</td>\n",
       "    </tr>\n",
       "  </tbody>\n",
       "</table>\n",
       "<p>907 rows × 27 columns</p>\n",
       "</div>"
      ],
      "text/plain": [
       "    country country_long                          name   gppd_idnr  \\\n",
       "0       IND        India              ACME Solar Tower  WRI1020239   \n",
       "1       IND        India           ADITYA CEMENT WORKS  WRI1019881   \n",
       "2       IND        India      AES Saurashtra Windfarms  WRI1026669   \n",
       "3       IND        India                   AGARTALA GT  IND0000001   \n",
       "4       IND        India                  AKALTARA TPP  IND0000002   \n",
       "..      ...          ...                           ...         ...   \n",
       "902     IND        India                  YERMARUS TPP  IND0000513   \n",
       "903     IND        India  Yelesandra Solar Power Plant  WRI1026222   \n",
       "904     IND        India  Yelisirur wind power project  WRI1026776   \n",
       "905     IND        India                   ZAWAR MINES  WRI1019901   \n",
       "906     IND        India       iEnergy Theni Wind Farm  WRI1026761   \n",
       "\n",
       "     capacity_mw  latitude  longitude primary_fuel other_fuel1 other_fuel2  \\\n",
       "0            2.5   28.1839    73.2407        Solar         NaN         NaN   \n",
       "1           98.0   24.7663    74.6090         Coal         NaN         NaN   \n",
       "2           39.2   21.9038    69.3732         Wind         NaN         NaN   \n",
       "3          135.0   23.8712    91.3602          Gas         NaN         NaN   \n",
       "4         1800.0   21.9603    82.4091         Coal         Oil         NaN   \n",
       "..           ...       ...        ...          ...         ...         ...   \n",
       "902       1600.0   16.2949    77.3568         Coal         Oil         NaN   \n",
       "903          3.0   12.8932    78.1654        Solar         NaN         NaN   \n",
       "904         25.5   15.2758    75.5811         Wind         NaN         NaN   \n",
       "905         80.0   24.3500    73.7477         Coal         NaN         NaN   \n",
       "906         16.5    9.9344    77.4768         Wind         NaN         NaN   \n",
       "\n",
       "     ...  year_of_capacity_data  generation_gwh_2013 generation_gwh_2014  \\\n",
       "0    ...                    NaN                  NaN                 NaN   \n",
       "1    ...                    NaN                  NaN                 NaN   \n",
       "2    ...                    NaN                  NaN                 NaN   \n",
       "3    ...                 2019.0                  NaN          617.789264   \n",
       "4    ...                 2019.0                  NaN         3035.550000   \n",
       "..   ...                    ...                  ...                 ...   \n",
       "902  ...                 2019.0                  NaN                 NaN   \n",
       "903  ...                    NaN                  NaN                 NaN   \n",
       "904  ...                    NaN                  NaN                 NaN   \n",
       "905  ...                    NaN                  NaN                 NaN   \n",
       "906  ...                    NaN                  NaN                 NaN   \n",
       "\n",
       "    generation_gwh_2015 generation_gwh_2016 generation_gwh_2017  \\\n",
       "0                   NaN                 NaN                 NaN   \n",
       "1                   NaN                 NaN                 NaN   \n",
       "2                   NaN                 NaN                 NaN   \n",
       "3            843.747000          886.004428          663.774500   \n",
       "4           5916.370000         6243.000000         5385.579736   \n",
       "..                  ...                 ...                 ...   \n",
       "902            0.994875          233.596650          865.400000   \n",
       "903                 NaN                 NaN                 NaN   \n",
       "904                 NaN                 NaN                 NaN   \n",
       "905                 NaN                 NaN                 NaN   \n",
       "906                 NaN                 NaN                 NaN   \n",
       "\n",
       "     generation_gwh_2018  generation_gwh_2019         generation_data_source  \\\n",
       "0                    NaN                  NaN                            NaN   \n",
       "1                    NaN                  NaN                            NaN   \n",
       "2                    NaN                  NaN                            NaN   \n",
       "3             626.239128                  NaN  Central Electricity Authority   \n",
       "4            7279.000000                  NaN  Central Electricity Authority   \n",
       "..                   ...                  ...                            ...   \n",
       "902           686.500000                  NaN  Central Electricity Authority   \n",
       "903                  NaN                  NaN                            NaN   \n",
       "904                  NaN                  NaN                            NaN   \n",
       "905                  NaN                  NaN                            NaN   \n",
       "906                  NaN                  NaN                            NaN   \n",
       "\n",
       "     estimated_generation_gwh  \n",
       "0                         NaN  \n",
       "1                         NaN  \n",
       "2                         NaN  \n",
       "3                         NaN  \n",
       "4                         NaN  \n",
       "..                        ...  \n",
       "902                       NaN  \n",
       "903                       NaN  \n",
       "904                       NaN  \n",
       "905                       NaN  \n",
       "906                       NaN  \n",
       "\n",
       "[907 rows x 27 columns]"
      ]
     },
     "execution_count": 2,
     "metadata": {},
     "output_type": "execute_result"
    }
   ],
   "source": [
    "df=pd.read_csv('power_plant.csv')\n",
    "df"
   ]
  },
  {
   "cell_type": "markdown",
   "id": "ca44867e",
   "metadata": {},
   "source": [
    "Key attributes of the database\n",
    "\n",
    "\n",
    "•\t`country` (text): 3 character country code corresponding to the ISO 3166-1 alpha-3 specification [5]\n",
    "\n",
    "•\t`country_long` (text): longer form of the country designation\n",
    "\n",
    "•\t`name` (text): name or title of the power plant, generally in Romanized form\n",
    "\n",
    "•\t`gppd_idnr` (text): 10 or 12 character identifier for the power plant\n",
    "\n",
    "•\t`capacity_mw` (number): electrical generating capacity in megawatts\n",
    "\n",
    "•\t`latitude` (number): geolocation in decimal degrees; WGS84 (EPSG:4326)\n",
    "\n",
    "•\t`longitude` (number): geolocation in decimal degrees; WGS84 (EPSG:4326)\n",
    "\n",
    "•\t`primary_fuel` (text): energy source used in primary electricity generation or export\n",
    "\n",
    "•\t`other_fuel1` (text): energy source used in electricity generation or export\n",
    "\n",
    "•\t`other_fuel2` (text): energy source used in electricity generation or export\n",
    "\n",
    "•\t`other_fuel3` (text): energy source used in electricity generation or export\n",
    "\n",
    "•\t `commissioning_year` (number): year of plant operation, weighted by unit-capacity when data is available\n",
    "\n",
    "•\t`owner` (text): majority shareholder of the power plant, generally in Romanized form\n",
    "\n",
    "•\t`source` (text): entity reporting the data; could be an organization, report, or document, generally in Romanized form\n",
    "\n",
    "•\t`url` (text): web document corresponding to the `source` field\n",
    "\n",
    "•\t`geolocation_source` (text): attribution for geolocation information\n",
    "\n",
    "•\t`wepp_id` (text): a reference to a unique plant identifier in the widely-used PLATTS-WEPP database.\n",
    "\n",
    "•\t`year_of_capacity_data` (number): year the capacity information was reported\n",
    "\n",
    "•\t`generation_gwh_2013` (number): electricity generation in gigawatt-hours reported for the year 2013\n",
    "\n",
    "•\t`generation_gwh_2014` (number): electricity generation in gigawatt-hours reported for the year 2014\n",
    "\n",
    "•\t`generation_gwh_2015` (number): electricity generation in gigawatt-hours reported for the year 2015\n",
    "\n",
    "•\t`generation_gwh_2016` (number): electricity generation in gigawatt-hours reported for the year 2016\n",
    "\n",
    "•\t`generation_gwh_2017` (number): electricity generation in gigawatt-hours reported for the year 2017\n",
    "\n",
    "•\t`generation_gwh_2018` (number): electricity generation in gigawatt-hours reported for the year 2018\n",
    "\n",
    "•\t`generation_gwh_2019` (number): electricity generation in gigawatt-hours reported for the year 2019\n",
    "\n",
    "•\t`generation_data_source` (text): attribution for the reported generation information\n",
    "\n",
    "•\t`estimated_generation_gwh_2013` (number): estimated electricity generation in gigawatt-hours for the year 2013\n",
    "\n",
    "•\t`estimated_generation_gwh_2014` (number): estimated electricity generation in gigawatt-hours for the year 2014\n",
    "\n",
    "•\t`estimated_generation_gwh_2015` (number): estimated electricity generation in gigawatt-hours for the year 2015\n",
    "\n",
    "•\t`estimated_generation_gwh_2016` (number): estimated electricity generation in gigawatt-hours for the year 2016\n",
    "\n",
    "•\t`estimated_generation_gwh_2017` (number): estimated electricity generation in gigawatt-hours for the year 2017\n",
    "\n",
    "•\t`estimated_generation_note_2013` (text): label of the model/method used to estimate generation for the year 2013\n",
    "\n",
    "•\t`estimated_generation_note_2014` (text): label of the model/method used to estimate generation for the year 2014\n",
    "\n",
    "•\t`estimated_generation_note_2015` (text): label of the model/method used to estimate generation for the year 2015\n",
    "\n",
    "•\t`estimated_generation_note_2016` (text): label of the model/method used to estimate generation for the year 2016\n",
    "\n",
    "•\t`estimated_generation_note_2017` (text): label of the model/method used to estimate generation for the year 2017 \n"
   ]
  },
  {
   "cell_type": "code",
   "execution_count": 3,
   "id": "a1045919",
   "metadata": {},
   "outputs": [
    {
     "data": {
      "text/plain": [
       "Index(['country', 'country_long', 'name', 'gppd_idnr', 'capacity_mw',\n",
       "       'latitude', 'longitude', 'primary_fuel', 'other_fuel1', 'other_fuel2',\n",
       "       'other_fuel3', 'commissioning_year', 'owner', 'source', 'url',\n",
       "       'geolocation_source', 'wepp_id', 'year_of_capacity_data',\n",
       "       'generation_gwh_2013', 'generation_gwh_2014', 'generation_gwh_2015',\n",
       "       'generation_gwh_2016', 'generation_gwh_2017', 'generation_gwh_2018',\n",
       "       'generation_gwh_2019', 'generation_data_source',\n",
       "       'estimated_generation_gwh'],\n",
       "      dtype='object')"
      ]
     },
     "execution_count": 3,
     "metadata": {},
     "output_type": "execute_result"
    }
   ],
   "source": [
    "df.columns"
   ]
  },
  {
   "cell_type": "code",
   "execution_count": 4,
   "id": "c7b40a8e",
   "metadata": {},
   "outputs": [],
   "source": [
    "# Columns present in the dataset"
   ]
  },
  {
   "cell_type": "code",
   "execution_count": 5,
   "id": "8262313a",
   "metadata": {},
   "outputs": [
    {
     "name": "stdout",
     "output_type": "stream",
     "text": [
      "<class 'pandas.core.frame.DataFrame'>\n",
      "RangeIndex: 907 entries, 0 to 906\n",
      "Data columns (total 27 columns):\n",
      " #   Column                    Non-Null Count  Dtype  \n",
      "---  ------                    --------------  -----  \n",
      " 0   country                   907 non-null    object \n",
      " 1   country_long              907 non-null    object \n",
      " 2   name                      907 non-null    object \n",
      " 3   gppd_idnr                 907 non-null    object \n",
      " 4   capacity_mw               907 non-null    float64\n",
      " 5   latitude                  861 non-null    float64\n",
      " 6   longitude                 861 non-null    float64\n",
      " 7   primary_fuel              907 non-null    object \n",
      " 8   other_fuel1               198 non-null    object \n",
      " 9   other_fuel2               1 non-null      object \n",
      " 10  other_fuel3               0 non-null      float64\n",
      " 11  commissioning_year        527 non-null    float64\n",
      " 12  owner                     342 non-null    object \n",
      " 13  source                    907 non-null    object \n",
      " 14  url                       907 non-null    object \n",
      " 15  geolocation_source        888 non-null    object \n",
      " 16  wepp_id                   0 non-null      float64\n",
      " 17  year_of_capacity_data     519 non-null    float64\n",
      " 18  generation_gwh_2013       0 non-null      float64\n",
      " 19  generation_gwh_2014       398 non-null    float64\n",
      " 20  generation_gwh_2015       422 non-null    float64\n",
      " 21  generation_gwh_2016       434 non-null    float64\n",
      " 22  generation_gwh_2017       440 non-null    float64\n",
      " 23  generation_gwh_2018       448 non-null    float64\n",
      " 24  generation_gwh_2019       0 non-null      float64\n",
      " 25  generation_data_source    449 non-null    object \n",
      " 26  estimated_generation_gwh  0 non-null      float64\n",
      "dtypes: float64(15), object(12)\n",
      "memory usage: 191.4+ KB\n"
     ]
    }
   ],
   "source": [
    "df.info()"
   ]
  },
  {
   "cell_type": "markdown",
   "id": "d9518ea8",
   "metadata": {},
   "source": [
    "there are so many missing values present in the dataset we need drop some rows and columns which are consisting of the null values present in it"
   ]
  },
  {
   "cell_type": "code",
   "execution_count": 6,
   "id": "e985d0a1",
   "metadata": {},
   "outputs": [
    {
     "data": {
      "text/plain": [
       "country                       0\n",
       "country_long                  0\n",
       "name                          0\n",
       "gppd_idnr                     0\n",
       "capacity_mw                   0\n",
       "latitude                     46\n",
       "longitude                    46\n",
       "primary_fuel                  0\n",
       "other_fuel1                 709\n",
       "other_fuel2                 906\n",
       "other_fuel3                 907\n",
       "commissioning_year          380\n",
       "owner                       565\n",
       "source                        0\n",
       "url                           0\n",
       "geolocation_source           19\n",
       "wepp_id                     907\n",
       "year_of_capacity_data       388\n",
       "generation_gwh_2013         907\n",
       "generation_gwh_2014         509\n",
       "generation_gwh_2015         485\n",
       "generation_gwh_2016         473\n",
       "generation_gwh_2017         467\n",
       "generation_gwh_2018         459\n",
       "generation_gwh_2019         907\n",
       "generation_data_source      458\n",
       "estimated_generation_gwh    907\n",
       "dtype: int64"
      ]
     },
     "execution_count": 6,
     "metadata": {},
     "output_type": "execute_result"
    }
   ],
   "source": [
    "df.isnull().sum()"
   ]
  },
  {
   "cell_type": "markdown",
   "id": "f004f305",
   "metadata": {},
   "source": [
    "columnswise missing values we can see aboue"
   ]
  },
  {
   "cell_type": "code",
   "execution_count": 7,
   "id": "8d8e15c4",
   "metadata": {},
   "outputs": [
    {
     "data": {
      "text/plain": [
       "<AxesSubplot:>"
      ]
     },
     "execution_count": 7,
     "metadata": {},
     "output_type": "execute_result"
    },
    {
     "data": {
      "image/png": "[encoded data removed]",
      "text/plain": [
       "<Figure size 432x288 with 2 Axes>"
      ]
     },
     "metadata": {
      "needs_background": "light"
     },
     "output_type": "display_data"
    }
   ],
   "source": [
    "sns.heatmap(df.isnull(),cmap='Blues')"
   ]
  },
  {
   "cell_type": "markdown",
   "id": "ea296875",
   "metadata": {},
   "source": [
    "with the help of heatmap we can see the null values present in dataset"
   ]
  },
  {
   "cell_type": "code",
   "execution_count": 8,
   "id": "4e87b951",
   "metadata": {},
   "outputs": [
    {
     "data": {
      "text/html": [
       "<div>\n",
       "<style scoped>\n",
       "    .dataframe tbody tr th:only-of-type {\n",
       "        vertical-align: middle;\n",
       "    }\n",
       "\n",
       "    .dataframe tbody tr th {\n",
       "        vertical-align: top;\n",
       "    }\n",
       "\n",
       "    .dataframe thead th {\n",
       "        text-align: right;\n",
       "    }\n",
       "</style>\n",
       "<table border=\"1\" class=\"dataframe\">\n",
       "  <thead>\n",
       "    <tr style=\"text-align: right;\">\n",
       "      <th></th>\n",
       "      <th>country</th>\n",
       "      <th>country_long</th>\n",
       "      <th>name</th>\n",
       "      <th>gppd_idnr</th>\n",
       "      <th>capacity_mw</th>\n",
       "      <th>latitude</th>\n",
       "      <th>longitude</th>\n",
       "      <th>primary_fuel</th>\n",
       "      <th>other_fuel1</th>\n",
       "      <th>other_fuel2</th>\n",
       "      <th>...</th>\n",
       "      <th>year_of_capacity_data</th>\n",
       "      <th>generation_gwh_2013</th>\n",
       "      <th>generation_gwh_2014</th>\n",
       "      <th>generation_gwh_2015</th>\n",
       "      <th>generation_gwh_2016</th>\n",
       "      <th>generation_gwh_2017</th>\n",
       "      <th>generation_gwh_2018</th>\n",
       "      <th>generation_gwh_2019</th>\n",
       "      <th>generation_data_source</th>\n",
       "      <th>estimated_generation_gwh</th>\n",
       "    </tr>\n",
       "  </thead>\n",
       "  <tbody>\n",
       "    <tr>\n",
       "      <th>0</th>\n",
       "      <td>IND</td>\n",
       "      <td>India</td>\n",
       "      <td>ACME Solar Tower</td>\n",
       "      <td>WRI1020239</td>\n",
       "      <td>2.5</td>\n",
       "      <td>28.1839</td>\n",
       "      <td>73.2407</td>\n",
       "      <td>Solar</td>\n",
       "      <td>NaN</td>\n",
       "      <td>NaN</td>\n",
       "      <td>...</td>\n",
       "      <td>NaN</td>\n",
       "      <td>NaN</td>\n",
       "      <td>NaN</td>\n",
       "      <td>NaN</td>\n",
       "      <td>NaN</td>\n",
       "      <td>NaN</td>\n",
       "      <td>NaN</td>\n",
       "      <td>NaN</td>\n",
       "      <td>NaN</td>\n",
       "      <td>NaN</td>\n",
       "    </tr>\n",
       "    <tr>\n",
       "      <th>1</th>\n",
       "      <td>IND</td>\n",
       "      <td>India</td>\n",
       "      <td>ADITYA CEMENT WORKS</td>\n",
       "      <td>WRI1019881</td>\n",
       "      <td>98.0</td>\n",
       "      <td>24.7663</td>\n",
       "      <td>74.6090</td>\n",
       "      <td>Coal</td>\n",
       "      <td>NaN</td>\n",
       "      <td>NaN</td>\n",
       "      <td>...</td>\n",
       "      <td>NaN</td>\n",
       "      <td>NaN</td>\n",
       "      <td>NaN</td>\n",
       "      <td>NaN</td>\n",
       "      <td>NaN</td>\n",
       "      <td>NaN</td>\n",
       "      <td>NaN</td>\n",
       "      <td>NaN</td>\n",
       "      <td>NaN</td>\n",
       "      <td>NaN</td>\n",
       "    </tr>\n",
       "    <tr>\n",
       "      <th>2</th>\n",
       "      <td>IND</td>\n",
       "      <td>India</td>\n",
       "      <td>AES Saurashtra Windfarms</td>\n",
       "      <td>WRI1026669</td>\n",
       "      <td>39.2</td>\n",
       "      <td>21.9038</td>\n",
       "      <td>69.3732</td>\n",
       "      <td>Wind</td>\n",
       "      <td>NaN</td>\n",
       "      <td>NaN</td>\n",
       "      <td>...</td>\n",
       "      <td>NaN</td>\n",
       "      <td>NaN</td>\n",
       "      <td>NaN</td>\n",
       "      <td>NaN</td>\n",
       "      <td>NaN</td>\n",
       "      <td>NaN</td>\n",
       "      <td>NaN</td>\n",
       "      <td>NaN</td>\n",
       "      <td>NaN</td>\n",
       "      <td>NaN</td>\n",
       "    </tr>\n",
       "    <tr>\n",
       "      <th>3</th>\n",
       "      <td>IND</td>\n",
       "      <td>India</td>\n",
       "      <td>AGARTALA GT</td>\n",
       "      <td>IND0000001</td>\n",
       "      <td>135.0</td>\n",
       "      <td>23.8712</td>\n",
       "      <td>91.3602</td>\n",
       "      <td>Gas</td>\n",
       "      <td>NaN</td>\n",
       "      <td>NaN</td>\n",
       "      <td>...</td>\n",
       "      <td>2019.0</td>\n",
       "      <td>NaN</td>\n",
       "      <td>617.789264</td>\n",
       "      <td>843.747</td>\n",
       "      <td>886.004428</td>\n",
       "      <td>663.774500</td>\n",
       "      <td>626.239128</td>\n",
       "      <td>NaN</td>\n",
       "      <td>Central Electricity Authority</td>\n",
       "      <td>NaN</td>\n",
       "    </tr>\n",
       "    <tr>\n",
       "      <th>4</th>\n",
       "      <td>IND</td>\n",
       "      <td>India</td>\n",
       "      <td>AKALTARA TPP</td>\n",
       "      <td>IND0000002</td>\n",
       "      <td>1800.0</td>\n",
       "      <td>21.9603</td>\n",
       "      <td>82.4091</td>\n",
       "      <td>Coal</td>\n",
       "      <td>Oil</td>\n",
       "      <td>NaN</td>\n",
       "      <td>...</td>\n",
       "      <td>2019.0</td>\n",
       "      <td>NaN</td>\n",
       "      <td>3035.550000</td>\n",
       "      <td>5916.370</td>\n",
       "      <td>6243.000000</td>\n",
       "      <td>5385.579736</td>\n",
       "      <td>7279.000000</td>\n",
       "      <td>NaN</td>\n",
       "      <td>Central Electricity Authority</td>\n",
       "      <td>NaN</td>\n",
       "    </tr>\n",
       "  </tbody>\n",
       "</table>\n",
       "<p>5 rows × 27 columns</p>\n",
       "</div>"
      ],
      "text/plain": [
       "  country country_long                      name   gppd_idnr  capacity_mw  \\\n",
       "0     IND        India          ACME Solar Tower  WRI1020239          2.5   \n",
       "1     IND        India       ADITYA CEMENT WORKS  WRI1019881         98.0   \n",
       "2     IND        India  AES Saurashtra Windfarms  WRI1026669         39.2   \n",
       "3     IND        India               AGARTALA GT  IND0000001        135.0   \n",
       "4     IND        India              AKALTARA TPP  IND0000002       1800.0   \n",
       "\n",
       "   latitude  longitude primary_fuel other_fuel1 other_fuel2  ...  \\\n",
       "0   28.1839    73.2407        Solar         NaN         NaN  ...   \n",
       "1   24.7663    74.6090         Coal         NaN         NaN  ...   \n",
       "2   21.9038    69.3732         Wind         NaN         NaN  ...   \n",
       "3   23.8712    91.3602          Gas         NaN         NaN  ...   \n",
       "4   21.9603    82.4091         Coal         Oil         NaN  ...   \n",
       "\n",
       "   year_of_capacity_data  generation_gwh_2013 generation_gwh_2014  \\\n",
       "0                    NaN                  NaN                 NaN   \n",
       "1                    NaN                  NaN                 NaN   \n",
       "2                    NaN                  NaN                 NaN   \n",
       "3                 2019.0                  NaN          617.789264   \n",
       "4                 2019.0                  NaN         3035.550000   \n",
       "\n",
       "  generation_gwh_2015 generation_gwh_2016 generation_gwh_2017  \\\n",
       "0                 NaN                 NaN                 NaN   \n",
       "1                 NaN                 NaN                 NaN   \n",
       "2                 NaN                 NaN                 NaN   \n",
       "3             843.747          886.004428          663.774500   \n",
       "4            5916.370         6243.000000         5385.579736   \n",
       "\n",
       "   generation_gwh_2018  generation_gwh_2019         generation_data_source  \\\n",
       "0                  NaN                  NaN                            NaN   \n",
       "1                  NaN                  NaN                            NaN   \n",
       "2                  NaN                  NaN                            NaN   \n",
       "3           626.239128                  NaN  Central Electricity Authority   \n",
       "4          7279.000000                  NaN  Central Electricity Authority   \n",
       "\n",
       "   estimated_generation_gwh  \n",
       "0                       NaN  \n",
       "1                       NaN  \n",
       "2                       NaN  \n",
       "3                       NaN  \n",
       "4                       NaN  \n",
       "\n",
       "[5 rows x 27 columns]"
      ]
     },
     "execution_count": 8,
     "metadata": {},
     "output_type": "execute_result"
    }
   ],
   "source": [
    "df.head()"
   ]
  },
  {
   "cell_type": "markdown",
   "id": "d729dfa3",
   "metadata": {},
   "source": [
    "looking on the top 5 rows of the data"
   ]
  },
  {
   "cell_type": "code",
   "execution_count": 9,
   "id": "8d4da684",
   "metadata": {},
   "outputs": [
    {
     "data": {
      "text/html": [
       "<div>\n",
       "<style scoped>\n",
       "    .dataframe tbody tr th:only-of-type {\n",
       "        vertical-align: middle;\n",
       "    }\n",
       "\n",
       "    .dataframe tbody tr th {\n",
       "        vertical-align: top;\n",
       "    }\n",
       "\n",
       "    .dataframe thead th {\n",
       "        text-align: right;\n",
       "    }\n",
       "</style>\n",
       "<table border=\"1\" class=\"dataframe\">\n",
       "  <thead>\n",
       "    <tr style=\"text-align: right;\">\n",
       "      <th></th>\n",
       "      <th>country</th>\n",
       "      <th>country_long</th>\n",
       "      <th>name</th>\n",
       "      <th>gppd_idnr</th>\n",
       "      <th>capacity_mw</th>\n",
       "      <th>latitude</th>\n",
       "      <th>longitude</th>\n",
       "      <th>primary_fuel</th>\n",
       "      <th>other_fuel1</th>\n",
       "      <th>other_fuel2</th>\n",
       "      <th>...</th>\n",
       "      <th>source</th>\n",
       "      <th>url</th>\n",
       "      <th>geolocation_source</th>\n",
       "      <th>year_of_capacity_data</th>\n",
       "      <th>generation_gwh_2014</th>\n",
       "      <th>generation_gwh_2015</th>\n",
       "      <th>generation_gwh_2016</th>\n",
       "      <th>generation_gwh_2017</th>\n",
       "      <th>generation_gwh_2018</th>\n",
       "      <th>generation_data_source</th>\n",
       "    </tr>\n",
       "  </thead>\n",
       "  <tbody>\n",
       "    <tr>\n",
       "      <th>0</th>\n",
       "      <td>IND</td>\n",
       "      <td>India</td>\n",
       "      <td>ACME Solar Tower</td>\n",
       "      <td>WRI1020239</td>\n",
       "      <td>2.5</td>\n",
       "      <td>28.1839</td>\n",
       "      <td>73.2407</td>\n",
       "      <td>Solar</td>\n",
       "      <td>NaN</td>\n",
       "      <td>NaN</td>\n",
       "      <td>...</td>\n",
       "      <td>National Renewable Energy Laboratory</td>\n",
       "      <td>http://www.nrel.gov/csp/solarpaces/project_det...</td>\n",
       "      <td>National Renewable Energy Laboratory</td>\n",
       "      <td>NaN</td>\n",
       "      <td>NaN</td>\n",
       "      <td>NaN</td>\n",
       "      <td>NaN</td>\n",
       "      <td>NaN</td>\n",
       "      <td>NaN</td>\n",
       "      <td>NaN</td>\n",
       "    </tr>\n",
       "    <tr>\n",
       "      <th>1</th>\n",
       "      <td>IND</td>\n",
       "      <td>India</td>\n",
       "      <td>ADITYA CEMENT WORKS</td>\n",
       "      <td>WRI1019881</td>\n",
       "      <td>98.0</td>\n",
       "      <td>24.7663</td>\n",
       "      <td>74.6090</td>\n",
       "      <td>Coal</td>\n",
       "      <td>NaN</td>\n",
       "      <td>NaN</td>\n",
       "      <td>...</td>\n",
       "      <td>Ultratech Cement ltd</td>\n",
       "      <td>http://www.ultratechcement.com/</td>\n",
       "      <td>WRI</td>\n",
       "      <td>NaN</td>\n",
       "      <td>NaN</td>\n",
       "      <td>NaN</td>\n",
       "      <td>NaN</td>\n",
       "      <td>NaN</td>\n",
       "      <td>NaN</td>\n",
       "      <td>NaN</td>\n",
       "    </tr>\n",
       "    <tr>\n",
       "      <th>2</th>\n",
       "      <td>IND</td>\n",
       "      <td>India</td>\n",
       "      <td>AES Saurashtra Windfarms</td>\n",
       "      <td>WRI1026669</td>\n",
       "      <td>39.2</td>\n",
       "      <td>21.9038</td>\n",
       "      <td>69.3732</td>\n",
       "      <td>Wind</td>\n",
       "      <td>NaN</td>\n",
       "      <td>NaN</td>\n",
       "      <td>...</td>\n",
       "      <td>CDM</td>\n",
       "      <td>https://cdm.unfccc.int/Projects/DB/DNV-CUK1328...</td>\n",
       "      <td>WRI</td>\n",
       "      <td>NaN</td>\n",
       "      <td>NaN</td>\n",
       "      <td>NaN</td>\n",
       "      <td>NaN</td>\n",
       "      <td>NaN</td>\n",
       "      <td>NaN</td>\n",
       "      <td>NaN</td>\n",
       "    </tr>\n",
       "    <tr>\n",
       "      <th>3</th>\n",
       "      <td>IND</td>\n",
       "      <td>India</td>\n",
       "      <td>AGARTALA GT</td>\n",
       "      <td>IND0000001</td>\n",
       "      <td>135.0</td>\n",
       "      <td>23.8712</td>\n",
       "      <td>91.3602</td>\n",
       "      <td>Gas</td>\n",
       "      <td>NaN</td>\n",
       "      <td>NaN</td>\n",
       "      <td>...</td>\n",
       "      <td>Central Electricity Authority</td>\n",
       "      <td>http://www.cea.nic.in/</td>\n",
       "      <td>WRI</td>\n",
       "      <td>2019.0</td>\n",
       "      <td>617.789264</td>\n",
       "      <td>843.747000</td>\n",
       "      <td>886.004428</td>\n",
       "      <td>663.774500</td>\n",
       "      <td>626.239128</td>\n",
       "      <td>Central Electricity Authority</td>\n",
       "    </tr>\n",
       "    <tr>\n",
       "      <th>4</th>\n",
       "      <td>IND</td>\n",
       "      <td>India</td>\n",
       "      <td>AKALTARA TPP</td>\n",
       "      <td>IND0000002</td>\n",
       "      <td>1800.0</td>\n",
       "      <td>21.9603</td>\n",
       "      <td>82.4091</td>\n",
       "      <td>Coal</td>\n",
       "      <td>Oil</td>\n",
       "      <td>NaN</td>\n",
       "      <td>...</td>\n",
       "      <td>Central Electricity Authority</td>\n",
       "      <td>http://www.cea.nic.in/</td>\n",
       "      <td>WRI</td>\n",
       "      <td>2019.0</td>\n",
       "      <td>3035.550000</td>\n",
       "      <td>5916.370000</td>\n",
       "      <td>6243.000000</td>\n",
       "      <td>5385.579736</td>\n",
       "      <td>7279.000000</td>\n",
       "      <td>Central Electricity Authority</td>\n",
       "    </tr>\n",
       "    <tr>\n",
       "      <th>...</th>\n",
       "      <td>...</td>\n",
       "      <td>...</td>\n",
       "      <td>...</td>\n",
       "      <td>...</td>\n",
       "      <td>...</td>\n",
       "      <td>...</td>\n",
       "      <td>...</td>\n",
       "      <td>...</td>\n",
       "      <td>...</td>\n",
       "      <td>...</td>\n",
       "      <td>...</td>\n",
       "      <td>...</td>\n",
       "      <td>...</td>\n",
       "      <td>...</td>\n",
       "      <td>...</td>\n",
       "      <td>...</td>\n",
       "      <td>...</td>\n",
       "      <td>...</td>\n",
       "      <td>...</td>\n",
       "      <td>...</td>\n",
       "      <td>...</td>\n",
       "    </tr>\n",
       "    <tr>\n",
       "      <th>902</th>\n",
       "      <td>IND</td>\n",
       "      <td>India</td>\n",
       "      <td>YERMARUS TPP</td>\n",
       "      <td>IND0000513</td>\n",
       "      <td>1600.0</td>\n",
       "      <td>16.2949</td>\n",
       "      <td>77.3568</td>\n",
       "      <td>Coal</td>\n",
       "      <td>Oil</td>\n",
       "      <td>NaN</td>\n",
       "      <td>...</td>\n",
       "      <td>Central Electricity Authority</td>\n",
       "      <td>http://www.cea.nic.in/</td>\n",
       "      <td>WRI</td>\n",
       "      <td>2019.0</td>\n",
       "      <td>NaN</td>\n",
       "      <td>0.994875</td>\n",
       "      <td>233.596650</td>\n",
       "      <td>865.400000</td>\n",
       "      <td>686.500000</td>\n",
       "      <td>Central Electricity Authority</td>\n",
       "    </tr>\n",
       "    <tr>\n",
       "      <th>903</th>\n",
       "      <td>IND</td>\n",
       "      <td>India</td>\n",
       "      <td>Yelesandra Solar Power Plant</td>\n",
       "      <td>WRI1026222</td>\n",
       "      <td>3.0</td>\n",
       "      <td>12.8932</td>\n",
       "      <td>78.1654</td>\n",
       "      <td>Solar</td>\n",
       "      <td>NaN</td>\n",
       "      <td>NaN</td>\n",
       "      <td>...</td>\n",
       "      <td>Karnataka Power Corporation Limited</td>\n",
       "      <td>http://karnatakapower.com</td>\n",
       "      <td>Industry About</td>\n",
       "      <td>NaN</td>\n",
       "      <td>NaN</td>\n",
       "      <td>NaN</td>\n",
       "      <td>NaN</td>\n",
       "      <td>NaN</td>\n",
       "      <td>NaN</td>\n",
       "      <td>NaN</td>\n",
       "    </tr>\n",
       "    <tr>\n",
       "      <th>904</th>\n",
       "      <td>IND</td>\n",
       "      <td>India</td>\n",
       "      <td>Yelisirur wind power project</td>\n",
       "      <td>WRI1026776</td>\n",
       "      <td>25.5</td>\n",
       "      <td>15.2758</td>\n",
       "      <td>75.5811</td>\n",
       "      <td>Wind</td>\n",
       "      <td>NaN</td>\n",
       "      <td>NaN</td>\n",
       "      <td>...</td>\n",
       "      <td>CDM</td>\n",
       "      <td>https://cdm.unfccc.int/Projects/DB/TUEV-RHEIN1...</td>\n",
       "      <td>WRI</td>\n",
       "      <td>NaN</td>\n",
       "      <td>NaN</td>\n",
       "      <td>NaN</td>\n",
       "      <td>NaN</td>\n",
       "      <td>NaN</td>\n",
       "      <td>NaN</td>\n",
       "      <td>NaN</td>\n",
       "    </tr>\n",
       "    <tr>\n",
       "      <th>905</th>\n",
       "      <td>IND</td>\n",
       "      <td>India</td>\n",
       "      <td>ZAWAR MINES</td>\n",
       "      <td>WRI1019901</td>\n",
       "      <td>80.0</td>\n",
       "      <td>24.3500</td>\n",
       "      <td>73.7477</td>\n",
       "      <td>Coal</td>\n",
       "      <td>NaN</td>\n",
       "      <td>NaN</td>\n",
       "      <td>...</td>\n",
       "      <td>Hindustan Zinc ltd</td>\n",
       "      <td>http://www.hzlindia.com/</td>\n",
       "      <td>WRI</td>\n",
       "      <td>NaN</td>\n",
       "      <td>NaN</td>\n",
       "      <td>NaN</td>\n",
       "      <td>NaN</td>\n",
       "      <td>NaN</td>\n",
       "      <td>NaN</td>\n",
       "      <td>NaN</td>\n",
       "    </tr>\n",
       "    <tr>\n",
       "      <th>906</th>\n",
       "      <td>IND</td>\n",
       "      <td>India</td>\n",
       "      <td>iEnergy Theni Wind Farm</td>\n",
       "      <td>WRI1026761</td>\n",
       "      <td>16.5</td>\n",
       "      <td>9.9344</td>\n",
       "      <td>77.4768</td>\n",
       "      <td>Wind</td>\n",
       "      <td>NaN</td>\n",
       "      <td>NaN</td>\n",
       "      <td>...</td>\n",
       "      <td>CDM</td>\n",
       "      <td>https://cdm.unfccc.int/Projects/DB/RWTUV134503...</td>\n",
       "      <td>WRI</td>\n",
       "      <td>NaN</td>\n",
       "      <td>NaN</td>\n",
       "      <td>NaN</td>\n",
       "      <td>NaN</td>\n",
       "      <td>NaN</td>\n",
       "      <td>NaN</td>\n",
       "      <td>NaN</td>\n",
       "    </tr>\n",
       "  </tbody>\n",
       "</table>\n",
       "<p>907 rows × 22 columns</p>\n",
       "</div>"
      ],
      "text/plain": [
       "    country country_long                          name   gppd_idnr  \\\n",
       "0       IND        India              ACME Solar Tower  WRI1020239   \n",
       "1       IND        India           ADITYA CEMENT WORKS  WRI1019881   \n",
       "2       IND        India      AES Saurashtra Windfarms  WRI1026669   \n",
       "3       IND        India                   AGARTALA GT  IND0000001   \n",
       "4       IND        India                  AKALTARA TPP  IND0000002   \n",
       "..      ...          ...                           ...         ...   \n",
       "902     IND        India                  YERMARUS TPP  IND0000513   \n",
       "903     IND        India  Yelesandra Solar Power Plant  WRI1026222   \n",
       "904     IND        India  Yelisirur wind power project  WRI1026776   \n",
       "905     IND        India                   ZAWAR MINES  WRI1019901   \n",
       "906     IND        India       iEnergy Theni Wind Farm  WRI1026761   \n",
       "\n",
       "     capacity_mw  latitude  longitude primary_fuel other_fuel1 other_fuel2  \\\n",
       "0            2.5   28.1839    73.2407        Solar         NaN         NaN   \n",
       "1           98.0   24.7663    74.6090         Coal         NaN         NaN   \n",
       "2           39.2   21.9038    69.3732         Wind         NaN         NaN   \n",
       "3          135.0   23.8712    91.3602          Gas         NaN         NaN   \n",
       "4         1800.0   21.9603    82.4091         Coal         Oil         NaN   \n",
       "..           ...       ...        ...          ...         ...         ...   \n",
       "902       1600.0   16.2949    77.3568         Coal         Oil         NaN   \n",
       "903          3.0   12.8932    78.1654        Solar         NaN         NaN   \n",
       "904         25.5   15.2758    75.5811         Wind         NaN         NaN   \n",
       "905         80.0   24.3500    73.7477         Coal         NaN         NaN   \n",
       "906         16.5    9.9344    77.4768         Wind         NaN         NaN   \n",
       "\n",
       "     ...                                source  \\\n",
       "0    ...  National Renewable Energy Laboratory   \n",
       "1    ...                  Ultratech Cement ltd   \n",
       "2    ...                                   CDM   \n",
       "3    ...         Central Electricity Authority   \n",
       "4    ...         Central Electricity Authority   \n",
       "..   ...                                   ...   \n",
       "902  ...         Central Electricity Authority   \n",
       "903  ...   Karnataka Power Corporation Limited   \n",
       "904  ...                                   CDM   \n",
       "905  ...                    Hindustan Zinc ltd   \n",
       "906  ...                                   CDM   \n",
       "\n",
       "                                                   url  \\\n",
       "0    http://www.nrel.gov/csp/solarpaces/project_det...   \n",
       "1                      http://www.ultratechcement.com/   \n",
       "2    https://cdm.unfccc.int/Projects/DB/DNV-CUK1328...   \n",
       "3                               http://www.cea.nic.in/   \n",
       "4                               http://www.cea.nic.in/   \n",
       "..                                                 ...   \n",
       "902                             http://www.cea.nic.in/   \n",
       "903                          http://karnatakapower.com   \n",
       "904  https://cdm.unfccc.int/Projects/DB/TUEV-RHEIN1...   \n",
       "905                           http://www.hzlindia.com/   \n",
       "906  https://cdm.unfccc.int/Projects/DB/RWTUV134503...   \n",
       "\n",
       "                       geolocation_source year_of_capacity_data  \\\n",
       "0    National Renewable Energy Laboratory                   NaN   \n",
       "1                                     WRI                   NaN   \n",
       "2                                     WRI                   NaN   \n",
       "3                                     WRI                2019.0   \n",
       "4                                     WRI                2019.0   \n",
       "..                                    ...                   ...   \n",
       "902                                   WRI                2019.0   \n",
       "903                        Industry About                   NaN   \n",
       "904                                   WRI                   NaN   \n",
       "905                                   WRI                   NaN   \n",
       "906                                   WRI                   NaN   \n",
       "\n",
       "    generation_gwh_2014  generation_gwh_2015  generation_gwh_2016  \\\n",
       "0                   NaN                  NaN                  NaN   \n",
       "1                   NaN                  NaN                  NaN   \n",
       "2                   NaN                  NaN                  NaN   \n",
       "3            617.789264           843.747000           886.004428   \n",
       "4           3035.550000          5916.370000          6243.000000   \n",
       "..                  ...                  ...                  ...   \n",
       "902                 NaN             0.994875           233.596650   \n",
       "903                 NaN                  NaN                  NaN   \n",
       "904                 NaN                  NaN                  NaN   \n",
       "905                 NaN                  NaN                  NaN   \n",
       "906                 NaN                  NaN                  NaN   \n",
       "\n",
       "     generation_gwh_2017  generation_gwh_2018         generation_data_source  \n",
       "0                    NaN                  NaN                            NaN  \n",
       "1                    NaN                  NaN                            NaN  \n",
       "2                    NaN                  NaN                            NaN  \n",
       "3             663.774500           626.239128  Central Electricity Authority  \n",
       "4            5385.579736          7279.000000  Central Electricity Authority  \n",
       "..                   ...                  ...                            ...  \n",
       "902           865.400000           686.500000  Central Electricity Authority  \n",
       "903                  NaN                  NaN                            NaN  \n",
       "904                  NaN                  NaN                            NaN  \n",
       "905                  NaN                  NaN                            NaN  \n",
       "906                  NaN                  NaN                            NaN  \n",
       "\n",
       "[907 rows x 22 columns]"
      ]
     },
     "execution_count": 9,
     "metadata": {},
     "output_type": "execute_result"
    }
   ],
   "source": [
    "df.drop(['other_fuel3','wepp_id','generation_gwh_2013','generation_gwh_2019','estimated_generation_gwh'],axis=1)"
   ]
  },
  {
   "cell_type": "markdown",
   "id": "5dbb8900",
   "metadata": {},
   "source": [
    "droping some columns"
   ]
  },
  {
   "cell_type": "code",
   "execution_count": 10,
   "id": "f933428d",
   "metadata": {},
   "outputs": [
    {
     "data": {
      "text/plain": [
       "country                       0\n",
       "country_long                  0\n",
       "name                          0\n",
       "gppd_idnr                     0\n",
       "capacity_mw                   0\n",
       "latitude                     46\n",
       "longitude                    46\n",
       "primary_fuel                  0\n",
       "other_fuel1                 709\n",
       "other_fuel2                 906\n",
       "other_fuel3                 907\n",
       "commissioning_year          380\n",
       "owner                       565\n",
       "source                        0\n",
       "url                           0\n",
       "geolocation_source           19\n",
       "wepp_id                     907\n",
       "year_of_capacity_data       388\n",
       "generation_gwh_2013         907\n",
       "generation_gwh_2014         509\n",
       "generation_gwh_2015         485\n",
       "generation_gwh_2016         473\n",
       "generation_gwh_2017         467\n",
       "generation_gwh_2018         459\n",
       "generation_gwh_2019         907\n",
       "generation_data_source      458\n",
       "estimated_generation_gwh    907\n",
       "dtype: int64"
      ]
     },
     "execution_count": 10,
     "metadata": {},
     "output_type": "execute_result"
    }
   ],
   "source": [
    "df.isnull().sum()"
   ]
  },
  {
   "cell_type": "code",
   "execution_count": 11,
   "id": "0a9e50bd",
   "metadata": {},
   "outputs": [],
   "source": [
    "df.drop(['other_fuel1','other_fuel2','other_fuel3','owner','wepp_id','generation_gwh_2013','generation_gwh_2019','estimated_generation_gwh'],axis=1,inplace=True)"
   ]
  },
  {
   "cell_type": "code",
   "execution_count": 12,
   "id": "4a8f5dab",
   "metadata": {},
   "outputs": [
    {
     "data": {
      "text/plain": [
       "country                     0\n",
       "country_long                0\n",
       "name                        0\n",
       "gppd_idnr                   0\n",
       "capacity_mw                 0\n",
       "latitude                   46\n",
       "longitude                  46\n",
       "primary_fuel                0\n",
       "commissioning_year        380\n",
       "source                      0\n",
       "url                         0\n",
       "geolocation_source         19\n",
       "year_of_capacity_data     388\n",
       "generation_gwh_2014       509\n",
       "generation_gwh_2015       485\n",
       "generation_gwh_2016       473\n",
       "generation_gwh_2017       467\n",
       "generation_gwh_2018       459\n",
       "generation_data_source    458\n",
       "dtype: int64"
      ]
     },
     "execution_count": 12,
     "metadata": {},
     "output_type": "execute_result"
    }
   ],
   "source": [
    "df.isnull().sum()"
   ]
  },
  {
   "cell_type": "code",
   "execution_count": 13,
   "id": "62a74069",
   "metadata": {},
   "outputs": [
    {
     "data": {
      "text/plain": [
       "0      73.2407\n",
       "1      74.6090\n",
       "2      69.3732\n",
       "3      91.3602\n",
       "4      82.4091\n",
       "        ...   \n",
       "902    77.3568\n",
       "903    78.1654\n",
       "904    75.5811\n",
       "905    73.7477\n",
       "906    77.4768\n",
       "Name: longitude, Length: 907, dtype: float64"
      ]
     },
     "execution_count": 13,
     "metadata": {},
     "output_type": "execute_result"
    }
   ],
   "source": [
    "df['longitude'].fillna(value=df['longitude'].mean())"
   ]
  },
  {
   "cell_type": "markdown",
   "id": "06eb14fd",
   "metadata": {},
   "source": [
    "taking the mean to replace the missing values"
   ]
  },
  {
   "cell_type": "code",
   "execution_count": 14,
   "id": "af425905",
   "metadata": {},
   "outputs": [],
   "source": [
    "df['longitude'].fillna(value=df['longitude'].mean(),inplace=True)\n",
    "df['commissioning_year'].fillna(value=df['commissioning_year'].mean(),inplace=True)\n",
    "df['year_of_capacity_data'].fillna(value=df['year_of_capacity_data'].mean(),inplace=True)\n",
    "df['generation_gwh_2014'].fillna(value=df['generation_gwh_2014'].mean(),inplace=True)\n",
    "df['generation_gwh_2015'].fillna(value=df['generation_gwh_2015'].mean(),inplace=True)\n",
    "df['generation_gwh_2016'].fillna(value=df['generation_gwh_2016'].mean(),inplace=True)\n",
    "df['generation_gwh_2017'].fillna(value=df['generation_gwh_2017'].mean(),inplace=True)\n",
    "df['generation_gwh_2018'].fillna(value=df['generation_gwh_2018'].mean(),inplace=True)\n",
    "df['commissioning_year'].fillna(value=df['commissioning_year'].mean(),inplace=True)\n",
    "df['latitude'].fillna(value=df['latitude'].mean(),inplace=True)"
   ]
  },
  {
   "cell_type": "markdown",
   "id": "f19cdcba",
   "metadata": {},
   "source": [
    "filling the mean values of the respective columns in the missing values presenyt in the dataset"
   ]
  },
  {
   "cell_type": "code",
   "execution_count": 15,
   "id": "6f8b2f4f",
   "metadata": {},
   "outputs": [
    {
     "data": {
      "text/plain": [
       "country                     0\n",
       "country_long                0\n",
       "name                        0\n",
       "gppd_idnr                   0\n",
       "capacity_mw                 0\n",
       "latitude                    0\n",
       "longitude                   0\n",
       "primary_fuel                0\n",
       "commissioning_year          0\n",
       "source                      0\n",
       "url                         0\n",
       "geolocation_source         19\n",
       "year_of_capacity_data       0\n",
       "generation_gwh_2014         0\n",
       "generation_gwh_2015         0\n",
       "generation_gwh_2016         0\n",
       "generation_gwh_2017         0\n",
       "generation_gwh_2018         0\n",
       "generation_data_source    458\n",
       "dtype: int64"
      ]
     },
     "execution_count": 15,
     "metadata": {},
     "output_type": "execute_result"
    }
   ],
   "source": [
    "df.isnull().sum()"
   ]
  },
  {
   "cell_type": "markdown",
   "id": "de559ca8",
   "metadata": {},
   "source": [
    "Now we can see all the missing values are filled with the mean of respective column"
   ]
  },
  {
   "cell_type": "code",
   "execution_count": 16,
   "id": "19ba3bdb",
   "metadata": {},
   "outputs": [],
   "source": [
    "df.drop(['generation_data_source'],axis=1,inplace=True)"
   ]
  },
  {
   "cell_type": "markdown",
   "id": "6b776c14",
   "metadata": {},
   "source": [
    "droping the generation_data_source column"
   ]
  },
  {
   "cell_type": "code",
   "execution_count": 17,
   "id": "04e56f82",
   "metadata": {},
   "outputs": [
    {
     "data": {
      "text/plain": [
       "country                   0\n",
       "country_long              0\n",
       "name                      0\n",
       "gppd_idnr                 0\n",
       "capacity_mw               0\n",
       "latitude                  0\n",
       "longitude                 0\n",
       "primary_fuel              0\n",
       "commissioning_year        0\n",
       "source                    0\n",
       "url                       0\n",
       "geolocation_source       19\n",
       "year_of_capacity_data     0\n",
       "generation_gwh_2014       0\n",
       "generation_gwh_2015       0\n",
       "generation_gwh_2016       0\n",
       "generation_gwh_2017       0\n",
       "generation_gwh_2018       0\n",
       "dtype: int64"
      ]
     },
     "execution_count": 17,
     "metadata": {},
     "output_type": "execute_result"
    }
   ],
   "source": [
    "df.isnull().sum()"
   ]
  },
  {
   "cell_type": "code",
   "execution_count": 18,
   "id": "f0c7d3bf",
   "metadata": {},
   "outputs": [],
   "source": [
    "df.dropna(axis=0,inplace=True)"
   ]
  },
  {
   "cell_type": "markdown",
   "id": "cac97cbe",
   "metadata": {},
   "source": [
    "drooping the rows which has missing values"
   ]
  },
  {
   "cell_type": "code",
   "execution_count": 19,
   "id": "34be4d49",
   "metadata": {},
   "outputs": [
    {
     "data": {
      "text/plain": [
       "country                  0\n",
       "country_long             0\n",
       "name                     0\n",
       "gppd_idnr                0\n",
       "capacity_mw              0\n",
       "latitude                 0\n",
       "longitude                0\n",
       "primary_fuel             0\n",
       "commissioning_year       0\n",
       "source                   0\n",
       "url                      0\n",
       "geolocation_source       0\n",
       "year_of_capacity_data    0\n",
       "generation_gwh_2014      0\n",
       "generation_gwh_2015      0\n",
       "generation_gwh_2016      0\n",
       "generation_gwh_2017      0\n",
       "generation_gwh_2018      0\n",
       "dtype: int64"
      ]
     },
     "execution_count": 19,
     "metadata": {},
     "output_type": "execute_result"
    }
   ],
   "source": [
    "df.isnull().sum()"
   ]
  },
  {
   "cell_type": "markdown",
   "id": "38be94e0",
   "metadata": {},
   "source": [
    "now there is no missing values present in the dataset"
   ]
  },
  {
   "cell_type": "code",
   "execution_count": 20,
   "id": "74603645",
   "metadata": {},
   "outputs": [
    {
     "data": {
      "text/html": [
       "<div>\n",
       "<style scoped>\n",
       "    .dataframe tbody tr th:only-of-type {\n",
       "        vertical-align: middle;\n",
       "    }\n",
       "\n",
       "    .dataframe tbody tr th {\n",
       "        vertical-align: top;\n",
       "    }\n",
       "\n",
       "    .dataframe thead th {\n",
       "        text-align: right;\n",
       "    }\n",
       "</style>\n",
       "<table border=\"1\" class=\"dataframe\">\n",
       "  <thead>\n",
       "    <tr style=\"text-align: right;\">\n",
       "      <th></th>\n",
       "      <th>capacity_mw</th>\n",
       "      <th>latitude</th>\n",
       "      <th>longitude</th>\n",
       "      <th>commissioning_year</th>\n",
       "      <th>year_of_capacity_data</th>\n",
       "      <th>generation_gwh_2014</th>\n",
       "      <th>generation_gwh_2015</th>\n",
       "      <th>generation_gwh_2016</th>\n",
       "      <th>generation_gwh_2017</th>\n",
       "      <th>generation_gwh_2018</th>\n",
       "    </tr>\n",
       "  </thead>\n",
       "  <tbody>\n",
       "    <tr>\n",
       "      <th>count</th>\n",
       "      <td>888.000000</td>\n",
       "      <td>888.000000</td>\n",
       "      <td>888.000000</td>\n",
       "      <td>888.000000</td>\n",
       "      <td>888.0</td>\n",
       "      <td>888.000000</td>\n",
       "      <td>888.000000</td>\n",
       "      <td>888.000000</td>\n",
       "      <td>888.000000</td>\n",
       "      <td>888.000000</td>\n",
       "    </tr>\n",
       "    <tr>\n",
       "      <th>mean</th>\n",
       "      <td>332.423700</td>\n",
       "      <td>21.197918</td>\n",
       "      <td>77.464907</td>\n",
       "      <td>1997.014915</td>\n",
       "      <td>2019.0</td>\n",
       "      <td>2431.823590</td>\n",
       "      <td>2428.226946</td>\n",
       "      <td>2467.936859</td>\n",
       "      <td>2547.759305</td>\n",
       "      <td>2600.804099</td>\n",
       "    </tr>\n",
       "    <tr>\n",
       "      <th>std</th>\n",
       "      <td>594.808895</td>\n",
       "      <td>6.143913</td>\n",
       "      <td>4.863559</td>\n",
       "      <td>13.105625</td>\n",
       "      <td>0.0</td>\n",
       "      <td>2693.733821</td>\n",
       "      <td>2889.811238</td>\n",
       "      <td>2908.549636</td>\n",
       "      <td>2952.626448</td>\n",
       "      <td>3063.096787</td>\n",
       "    </tr>\n",
       "    <tr>\n",
       "      <th>min</th>\n",
       "      <td>0.000000</td>\n",
       "      <td>8.168900</td>\n",
       "      <td>68.644700</td>\n",
       "      <td>1927.000000</td>\n",
       "      <td>2019.0</td>\n",
       "      <td>0.000000</td>\n",
       "      <td>0.000000</td>\n",
       "      <td>0.000000</td>\n",
       "      <td>0.000000</td>\n",
       "      <td>0.000000</td>\n",
       "    </tr>\n",
       "    <tr>\n",
       "      <th>25%</th>\n",
       "      <td>16.987500</td>\n",
       "      <td>16.929600</td>\n",
       "      <td>74.349325</td>\n",
       "      <td>1997.000000</td>\n",
       "      <td>2019.0</td>\n",
       "      <td>1153.595000</td>\n",
       "      <td>841.324750</td>\n",
       "      <td>807.347975</td>\n",
       "      <td>831.633775</td>\n",
       "      <td>696.865750</td>\n",
       "    </tr>\n",
       "    <tr>\n",
       "      <th>50%</th>\n",
       "      <td>60.000000</td>\n",
       "      <td>21.436900</td>\n",
       "      <td>76.872100</td>\n",
       "      <td>1997.091082</td>\n",
       "      <td>2019.0</td>\n",
       "      <td>2431.823590</td>\n",
       "      <td>2428.226946</td>\n",
       "      <td>2467.936859</td>\n",
       "      <td>2547.759305</td>\n",
       "      <td>2600.804099</td>\n",
       "    </tr>\n",
       "    <tr>\n",
       "      <th>75%</th>\n",
       "      <td>397.000000</td>\n",
       "      <td>25.235025</td>\n",
       "      <td>79.302225</td>\n",
       "      <td>2003.000000</td>\n",
       "      <td>2019.0</td>\n",
       "      <td>2431.823590</td>\n",
       "      <td>2428.226946</td>\n",
       "      <td>2467.936859</td>\n",
       "      <td>2547.759305</td>\n",
       "      <td>2600.804099</td>\n",
       "    </tr>\n",
       "    <tr>\n",
       "      <th>max</th>\n",
       "      <td>4760.000000</td>\n",
       "      <td>34.649000</td>\n",
       "      <td>95.408000</td>\n",
       "      <td>2018.000000</td>\n",
       "      <td>2019.0</td>\n",
       "      <td>28127.000000</td>\n",
       "      <td>30539.000000</td>\n",
       "      <td>30015.000000</td>\n",
       "      <td>35116.000000</td>\n",
       "      <td>35136.000000</td>\n",
       "    </tr>\n",
       "  </tbody>\n",
       "</table>\n",
       "</div>"
      ],
      "text/plain": [
       "       capacity_mw    latitude   longitude  commissioning_year  \\\n",
       "count   888.000000  888.000000  888.000000          888.000000   \n",
       "mean    332.423700   21.197918   77.464907         1997.014915   \n",
       "std     594.808895    6.143913    4.863559           13.105625   \n",
       "min       0.000000    8.168900   68.644700         1927.000000   \n",
       "25%      16.987500   16.929600   74.349325         1997.000000   \n",
       "50%      60.000000   21.436900   76.872100         1997.091082   \n",
       "75%     397.000000   25.235025   79.302225         2003.000000   \n",
       "max    4760.000000   34.649000   95.408000         2018.000000   \n",
       "\n",
       "       year_of_capacity_data  generation_gwh_2014  generation_gwh_2015  \\\n",
       "count                  888.0           888.000000           888.000000   \n",
       "mean                  2019.0          2431.823590          2428.226946   \n",
       "std                      0.0          2693.733821          2889.811238   \n",
       "min                   2019.0             0.000000             0.000000   \n",
       "25%                   2019.0          1153.595000           841.324750   \n",
       "50%                   2019.0          2431.823590          2428.226946   \n",
       "75%                   2019.0          2431.823590          2428.226946   \n",
       "max                   2019.0         28127.000000         30539.000000   \n",
       "\n",
       "       generation_gwh_2016  generation_gwh_2017  generation_gwh_2018  \n",
       "count           888.000000           888.000000           888.000000  \n",
       "mean           2467.936859          2547.759305          2600.804099  \n",
       "std            2908.549636          2952.626448          3063.096787  \n",
       "min               0.000000             0.000000             0.000000  \n",
       "25%             807.347975           831.633775           696.865750  \n",
       "50%            2467.936859          2547.759305          2600.804099  \n",
       "75%            2467.936859          2547.759305          2600.804099  \n",
       "max           30015.000000         35116.000000         35136.000000  "
      ]
     },
     "execution_count": 20,
     "metadata": {},
     "output_type": "execute_result"
    }
   ],
   "source": [
    "df.describe()"
   ]
  },
  {
   "cell_type": "markdown",
   "id": "debf8de9",
   "metadata": {},
   "source": [
    "# Statistical Analysis "
   ]
  },
  {
   "cell_type": "markdown",
   "id": "c2080741",
   "metadata": {},
   "source": [
    "* there are 888 rows are present in the dataset\n",
    "* the mean of capacity_mw column is very large then the median ,here so much of right skewed data is present\n",
    "* other columns has normal data because the mean and median both are equal\n",
    "* the diffrence between the 75th percentile and max percentile is very high in some columns, it means some outliers present \n",
    "  we need to clear the outliers from the dataset\n",
    "* the Standard deviation of the some columns are very high , it shows also outliers are present..."
   ]
  },
  {
   "cell_type": "code",
   "execution_count": 21,
   "id": "f7efefdf",
   "metadata": {},
   "outputs": [
    {
     "data": {
      "text/plain": [
       "country                   object\n",
       "country_long              object\n",
       "name                      object\n",
       "gppd_idnr                 object\n",
       "capacity_mw              float64\n",
       "latitude                 float64\n",
       "longitude                float64\n",
       "primary_fuel              object\n",
       "commissioning_year       float64\n",
       "source                    object\n",
       "url                       object\n",
       "geolocation_source        object\n",
       "year_of_capacity_data    float64\n",
       "generation_gwh_2014      float64\n",
       "generation_gwh_2015      float64\n",
       "generation_gwh_2016      float64\n",
       "generation_gwh_2017      float64\n",
       "generation_gwh_2018      float64\n",
       "dtype: object"
      ]
     },
     "execution_count": 21,
     "metadata": {},
     "output_type": "execute_result"
    }
   ],
   "source": [
    "df.dtypes"
   ]
  },
  {
   "cell_type": "markdown",
   "id": "020bf36d",
   "metadata": {},
   "source": [
    "there 2 types of datatypes are present in the dataset, further we need to convert the object data into numarical datatype"
   ]
  },
  {
   "cell_type": "code",
   "execution_count": 22,
   "id": "2ab63a21",
   "metadata": {},
   "outputs": [
    {
     "name": "stdout",
     "output_type": "stream",
     "text": [
      "IND    888\n",
      "Name: country, dtype: int64\n",
      "India    888\n",
      "Name: country_long, dtype: int64\n",
      "ACME Solar Tower             1\n",
      "Patnaik Hatti Wind Farm      1\n",
      "PRAGATI CCCP -III            1\n",
      "PRAGATI CCGT                 1\n",
      "PRIYADARSHNI JURALA          1\n",
      "                            ..\n",
      "K.N. Ram Kaltek Wind Farm    1\n",
      "KADAMPARI                    1\n",
      "KADANA                       1\n",
      "KADRA                        1\n",
      "iEnergy Theni Wind Farm      1\n",
      "Name: name, Length: 888, dtype: int64\n",
      "WRI1020239    1\n",
      "WRI1026750    1\n",
      "IND0000343    1\n",
      "IND0000344    1\n",
      "IND0000345    1\n",
      "             ..\n",
      "WRI1026339    1\n",
      "IND0000166    1\n",
      "IND0000167    1\n",
      "IND0000168    1\n",
      "WRI1026761    1\n",
      "Name: gppd_idnr, Length: 888, dtype: int64\n",
      "5.0       38\n",
      "10.0      22\n",
      "15.0      20\n",
      "600.0     20\n",
      "1200.0    19\n",
      "          ..\n",
      "195.0      1\n",
      "291.0      1\n",
      "645.0      1\n",
      "41.4       1\n",
      "106.6      1\n",
      "Name: capacity_mw, Length: 357, dtype: int64\n",
      "21.197918    27\n",
      "19.000400     3\n",
      "24.191700     3\n",
      "31.268000     2\n",
      "14.235200     2\n",
      "             ..\n",
      "22.755400     1\n",
      "27.159800     1\n",
      "17.297000     1\n",
      "20.877200     1\n",
      "9.934400      1\n",
      "Name: latitude, Length: 837, dtype: int64\n",
      "77.464907    27\n",
      "71.691700     4\n",
      "75.898800     3\n",
      "71.691800     3\n",
      "72.898300     3\n",
      "             ..\n",
      "70.396100     1\n",
      "74.239300     1\n",
      "77.043500     1\n",
      "73.825400     1\n",
      "77.476800     1\n",
      "Name: longitude, Length: 828, dtype: int64\n",
      "Coal       258\n",
      "Hydro      251\n",
      "Solar      123\n",
      "Wind       108\n",
      "Gas         69\n",
      "Biomass     50\n",
      "Oil         20\n",
      "Nuclear      9\n",
      "Name: primary_fuel, dtype: int64\n",
      "1997.091082    365\n",
      "2015.000000     27\n",
      "2013.000000     24\n",
      "2012.000000     23\n",
      "2016.000000     19\n",
      "              ... \n",
      "1946.000000      1\n",
      "1956.000000      1\n",
      "1937.000000      1\n",
      "1949.000000      1\n",
      "1953.000000      1\n",
      "Name: commissioning_year, Length: 74, dtype: int64\n",
      "Central Electricity Authority                                  519\n",
      "CDM                                                            109\n",
      "Lancosola                                                       10\n",
      "National Thermal Power Corporation (NTPC)                        6\n",
      "National Renewable Energy Laboratory                             4\n",
      "                                                              ... \n",
      "Harsha Engineers Limited                                         1\n",
      "Godawari Energy ltd                                              1\n",
      "Sunkon Energy Private Limited                                    1\n",
      "West Bengal Energy Development Corporation Limited (WBEDCL)      1\n",
      "Yashwantrao Krishna ssk                                          1\n",
      "Name: source, Length: 191, dtype: int64\n",
      "http://www.cea.nic.in/                                                                                                                                          519\n",
      "http://www.lancosolar.com/pdfs/rajasthan-pv-project-details.pdf                                                                                                   7\n",
      "http://www.ntpc.co.in                                                                                                                                             6\n",
      "http://viainfotech.biz/Biomass/theme5/document/green_market/REC-project-list.pdf                                                                                  5\n",
      "http://www.acclimited.com/                                                                                                                                        4\n",
      "                                                                                                                                                               ... \n",
      "https://cdm.unfccc.int/filestorage/s/x/8LZ62R4VIOK570F3AWSBNTUECYJ9XD.pdf/3_Revsied_PDD_JAL_2013_01_08_Clean_mode.pdf?t=VkZ8b2pkY2xwfDD7-5fVv-HnyeV-IOsi3cee      1\n",
      "http://www.esselgroup.com                                                                                                                                         1\n",
      "https://cdm.unfccc.int/Projects/DB/LRQA%20Ltd1346322352.66/view                                                                                                   1\n",
      "https://cdm.unfccc.int/Projects/DB/DNV-CUK1351166669.28/view                                                                                                      1\n",
      "https://cdm.unfccc.int/Projects/DB/RWTUV1345031355.85/view                                                                                                        1\n",
      "Name: url, Length: 288, dtype: int64\n",
      "WRI                                     765\n",
      "Industry About                          119\n",
      "National Renewable Energy Laboratory      4\n",
      "Name: geolocation_source, dtype: int64\n",
      "2019.0    888\n",
      "Name: year_of_capacity_data, dtype: int64\n",
      "2431.82359    490\n",
      "0.00000        28\n",
      "359.13980       1\n",
      "7368.39000      1\n",
      "9983.01800      1\n",
      "             ... \n",
      "1154.34200      1\n",
      "451.05340       1\n",
      "3239.14290      1\n",
      "3155.00000      1\n",
      "3194.35982      1\n",
      "Name: generation_gwh_2014, Length: 372, dtype: int64\n",
      "2428.226946     466\n",
      "0.000000         27\n",
      "1497.798000       1\n",
      "10422.690000      1\n",
      "240.799900        1\n",
      "               ... \n",
      "14192.000000      1\n",
      "219.377600        1\n",
      "288.460450        1\n",
      "410.566850        1\n",
      "0.994875          1\n",
      "Name: generation_gwh_2015, Length: 397, dtype: int64\n",
      "2467.936859     454\n",
      "0.000000         30\n",
      "8470.570000       2\n",
      "1511.000000       2\n",
      "12.676300         1\n",
      "               ... \n",
      "131.021600        1\n",
      "6130.019928       1\n",
      "5931.490000       1\n",
      "14834.800000      1\n",
      "233.596650        1\n",
      "Name: generation_gwh_2016, Length: 404, dtype: int64\n",
      "2547.759305     448\n",
      "0.000000         32\n",
      "170.085300        2\n",
      "272.739450        1\n",
      "0.975100          1\n",
      "               ... \n",
      "15177.000000      1\n",
      "191.945450        1\n",
      "307.375400        1\n",
      "382.438200        1\n",
      "865.400000        1\n",
      "Name: generation_gwh_2017, Length: 409, dtype: int64\n",
      "2600.804099     440\n",
      "0.000000         39\n",
      "21.939750         1\n",
      "17.213500         1\n",
      "7200.400000       1\n",
      "               ... \n",
      "7321.267900       1\n",
      "6532.350000       1\n",
      "15305.220000      1\n",
      "373.970750        1\n",
      "686.500000        1\n",
      "Name: generation_gwh_2018, Length: 411, dtype: int64\n"
     ]
    }
   ],
   "source": [
    "for i in df.columns:\n",
    "    print(df[i].value_counts())"
   ]
  },
  {
   "cell_type": "markdown",
   "id": "f0971862",
   "metadata": {},
   "source": [
    "checking for the value counts in the dataset"
   ]
  },
  {
   "cell_type": "code",
   "execution_count": 23,
   "id": "9c6c4d54",
   "metadata": {},
   "outputs": [
    {
     "name": "stdout",
     "output_type": "stream",
     "text": [
      "country \n",
      " IND    888\n",
      "Name: country, dtype: int64 \n",
      " ======================== \n",
      " <bound method IndexOpsMixin.nunique of 0      IND\n",
      "1      IND\n",
      "2      IND\n",
      "3      IND\n",
      "4      IND\n",
      "      ... \n",
      "902    IND\n",
      "903    IND\n",
      "904    IND\n",
      "905    IND\n",
      "906    IND\n",
      "Name: country, Length: 888, dtype: object> \n",
      " ========================\n",
      "country_long \n",
      " India    888\n",
      "Name: country_long, dtype: int64 \n",
      " ======================== \n",
      " <bound method IndexOpsMixin.nunique of 0      India\n",
      "1      India\n",
      "2      India\n",
      "3      India\n",
      "4      India\n",
      "       ...  \n",
      "902    India\n",
      "903    India\n",
      "904    India\n",
      "905    India\n",
      "906    India\n",
      "Name: country_long, Length: 888, dtype: object> \n",
      " ========================\n",
      "name \n",
      " ACME Solar Tower             1\n",
      "Patnaik Hatti Wind Farm      1\n",
      "PRAGATI CCCP -III            1\n",
      "PRAGATI CCGT                 1\n",
      "PRIYADARSHNI JURALA          1\n",
      "                            ..\n",
      "K.N. Ram Kaltek Wind Farm    1\n",
      "KADAMPARI                    1\n",
      "KADANA                       1\n",
      "KADRA                        1\n",
      "iEnergy Theni Wind Farm      1\n",
      "Name: name, Length: 888, dtype: int64 \n",
      " ======================== \n",
      " <bound method IndexOpsMixin.nunique of 0                  ACME Solar Tower\n",
      "1               ADITYA CEMENT WORKS\n",
      "2          AES Saurashtra Windfarms\n",
      "3                       AGARTALA GT\n",
      "4                      AKALTARA TPP\n",
      "                   ...             \n",
      "902                    YERMARUS TPP\n",
      "903    Yelesandra Solar Power Plant\n",
      "904    Yelisirur wind power project\n",
      "905                     ZAWAR MINES\n",
      "906         iEnergy Theni Wind Farm\n",
      "Name: name, Length: 888, dtype: object> \n",
      " ========================\n",
      "gppd_idnr \n",
      " WRI1020239    1\n",
      "WRI1026750    1\n",
      "IND0000343    1\n",
      "IND0000344    1\n",
      "IND0000345    1\n",
      "             ..\n",
      "WRI1026339    1\n",
      "IND0000166    1\n",
      "IND0000167    1\n",
      "IND0000168    1\n",
      "WRI1026761    1\n",
      "Name: gppd_idnr, Length: 888, dtype: int64 \n",
      " ======================== \n",
      " <bound method IndexOpsMixin.nunique of 0      WRI1020239\n",
      "1      WRI1019881\n",
      "2      WRI1026669\n",
      "3      IND0000001\n",
      "4      IND0000002\n",
      "          ...    \n",
      "902    IND0000513\n",
      "903    WRI1026222\n",
      "904    WRI1026776\n",
      "905    WRI1019901\n",
      "906    WRI1026761\n",
      "Name: gppd_idnr, Length: 888, dtype: object> \n",
      " ========================\n",
      "primary_fuel \n",
      " Coal       258\n",
      "Hydro      251\n",
      "Solar      123\n",
      "Wind       108\n",
      "Gas         69\n",
      "Biomass     50\n",
      "Oil         20\n",
      "Nuclear      9\n",
      "Name: primary_fuel, dtype: int64 \n",
      " ======================== \n",
      " <bound method IndexOpsMixin.nunique of 0      Solar\n",
      "1       Coal\n",
      "2       Wind\n",
      "3        Gas\n",
      "4       Coal\n",
      "       ...  \n",
      "902     Coal\n",
      "903    Solar\n",
      "904     Wind\n",
      "905     Coal\n",
      "906     Wind\n",
      "Name: primary_fuel, Length: 888, dtype: object> \n",
      " ========================\n",
      "source \n",
      " Central Electricity Authority                                  519\n",
      "CDM                                                            109\n",
      "Lancosola                                                       10\n",
      "National Thermal Power Corporation (NTPC)                        6\n",
      "National Renewable Energy Laboratory                             4\n",
      "                                                              ... \n",
      "Harsha Engineers Limited                                         1\n",
      "Godawari Energy ltd                                              1\n",
      "Sunkon Energy Private Limited                                    1\n",
      "West Bengal Energy Development Corporation Limited (WBEDCL)      1\n",
      "Yashwantrao Krishna ssk                                          1\n",
      "Name: source, Length: 191, dtype: int64 \n",
      " ======================== \n",
      " <bound method IndexOpsMixin.nunique of 0      National Renewable Energy Laboratory\n",
      "1                      Ultratech Cement ltd\n",
      "2                                       CDM\n",
      "3             Central Electricity Authority\n",
      "4             Central Electricity Authority\n",
      "                       ...                 \n",
      "902           Central Electricity Authority\n",
      "903     Karnataka Power Corporation Limited\n",
      "904                                     CDM\n",
      "905                      Hindustan Zinc ltd\n",
      "906                                     CDM\n",
      "Name: source, Length: 888, dtype: object> \n",
      " ========================\n",
      "url \n",
      " http://www.cea.nic.in/                                                                                                                                          519\n",
      "http://www.lancosolar.com/pdfs/rajasthan-pv-project-details.pdf                                                                                                   7\n",
      "http://www.ntpc.co.in                                                                                                                                             6\n",
      "http://viainfotech.biz/Biomass/theme5/document/green_market/REC-project-list.pdf                                                                                  5\n",
      "http://www.acclimited.com/                                                                                                                                        4\n",
      "                                                                                                                                                               ... \n",
      "https://cdm.unfccc.int/filestorage/s/x/8LZ62R4VIOK570F3AWSBNTUECYJ9XD.pdf/3_Revsied_PDD_JAL_2013_01_08_Clean_mode.pdf?t=VkZ8b2pkY2xwfDD7-5fVv-HnyeV-IOsi3cee      1\n",
      "http://www.esselgroup.com                                                                                                                                         1\n",
      "https://cdm.unfccc.int/Projects/DB/LRQA%20Ltd1346322352.66/view                                                                                                   1\n",
      "https://cdm.unfccc.int/Projects/DB/DNV-CUK1351166669.28/view                                                                                                      1\n",
      "https://cdm.unfccc.int/Projects/DB/RWTUV1345031355.85/view                                                                                                        1\n",
      "Name: url, Length: 288, dtype: int64 \n",
      " ======================== \n",
      " <bound method IndexOpsMixin.nunique of 0      http://www.nrel.gov/csp/solarpaces/project_det...\n",
      "1                        http://www.ultratechcement.com/\n",
      "2      https://cdm.unfccc.int/Projects/DB/DNV-CUK1328...\n",
      "3                                 http://www.cea.nic.in/\n",
      "4                                 http://www.cea.nic.in/\n",
      "                             ...                        \n",
      "902                               http://www.cea.nic.in/\n",
      "903                            http://karnatakapower.com\n",
      "904    https://cdm.unfccc.int/Projects/DB/TUEV-RHEIN1...\n",
      "905                             http://www.hzlindia.com/\n",
      "906    https://cdm.unfccc.int/Projects/DB/RWTUV134503...\n",
      "Name: url, Length: 888, dtype: object> \n",
      " ========================\n",
      "geolocation_source \n",
      " WRI                                     765\n",
      "Industry About                          119\n",
      "National Renewable Energy Laboratory      4\n",
      "Name: geolocation_source, dtype: int64 \n",
      " ======================== \n",
      " <bound method IndexOpsMixin.nunique of 0      National Renewable Energy Laboratory\n",
      "1                                       WRI\n",
      "2                                       WRI\n",
      "3                                       WRI\n",
      "4                                       WRI\n",
      "                       ...                 \n",
      "902                                     WRI\n",
      "903                          Industry About\n",
      "904                                     WRI\n",
      "905                                     WRI\n",
      "906                                     WRI\n",
      "Name: geolocation_source, Length: 888, dtype: object> \n",
      " ========================\n"
     ]
    }
   ],
   "source": [
    "for i in df.columns:\n",
    "    if df[i].dtypes=='object':\n",
    "        print(i,'\\n',df[i].value_counts(),\n",
    "             '\\n','========================','\\n',\n",
    "              df[i].nunique,\n",
    "             '\\n','========================')"
   ]
  },
  {
   "cell_type": "markdown",
   "id": "9c88339b",
   "metadata": {},
   "source": [
    "checking the object datatype in the dataset"
   ]
  },
  {
   "cell_type": "code",
   "execution_count": 24,
   "id": "0b521788",
   "metadata": {},
   "outputs": [
    {
     "data": {
      "text/plain": [
       "<AxesSubplot:>"
      ]
     },
     "execution_count": 24,
     "metadata": {},
     "output_type": "execute_result"
    },
    {
     "data": {
      "image/png": "[encoded data removed]",
      "text/plain": [
       "<Figure size 432x288 with 2 Axes>"
      ]
     },
     "metadata": {
      "needs_background": "light"
     },
     "output_type": "display_data"
    }
   ],
   "source": [
    "sns.heatmap(df.isnull())"
   ]
  },
  {
   "cell_type": "markdown",
   "id": "4fba52f1",
   "metadata": {},
   "source": [
    "now there is null values appering in the dataset"
   ]
  },
  {
   "cell_type": "markdown",
   "id": "730ad452",
   "metadata": {},
   "source": [
    "# Exploratory Data Analysis "
   ]
  },
  {
   "cell_type": "code",
   "execution_count": 25,
   "id": "ecc8dee0",
   "metadata": {},
   "outputs": [
    {
     "data": {
      "text/plain": [
       "<AxesSubplot:xlabel='longitude', ylabel='latitude'>"
      ]
     },
     "execution_count": 25,
     "metadata": {},
     "output_type": "execute_result"
    },
    {
     "data": {
      "image/png": "[encoded data removed]",
      "text/plain": [
       "<Figure size 432x288 with 1 Axes>"
      ]
     },
     "metadata": {
      "needs_background": "light"
     },
     "output_type": "display_data"
    }
   ],
   "source": [
    "sns.scatterplot(x='longitude',y='latitude',data=df)"
   ]
  },
  {
   "cell_type": "markdown",
   "id": "a55b3714",
   "metadata": {},
   "source": [
    "location of the power stations present in the longitude and latitude "
   ]
  },
  {
   "cell_type": "code",
   "execution_count": 26,
   "id": "9d2f9007",
   "metadata": {},
   "outputs": [
    {
     "data": {
      "text/plain": [
       "<seaborn.axisgrid.FacetGrid at 0x220364d8b80>"
      ]
     },
     "execution_count": 26,
     "metadata": {},
     "output_type": "execute_result"
    },
    {
     "data": {
      "image/png": "[encoded data removed]",
      "text/plain": [
       "<Figure size 360x360 with 1 Axes>"
      ]
     },
     "metadata": {
      "needs_background": "light"
     },
     "output_type": "display_data"
    }
   ],
   "source": [
    "sns.catplot(x='primary_fuel',y='longitude',data=df)"
   ]
  },
  {
   "cell_type": "markdown",
   "id": "3cc3d381",
   "metadata": {},
   "source": [
    "checking the types of fuel used in the stations present in longitude locations"
   ]
  },
  {
   "cell_type": "code",
   "execution_count": 27,
   "id": "6504be12",
   "metadata": {},
   "outputs": [
    {
     "data": {
      "text/plain": [
       "<seaborn.axisgrid.FacetGrid at 0x220364e5c70>"
      ]
     },
     "execution_count": 27,
     "metadata": {},
     "output_type": "execute_result"
    },
    {
     "data": {
      "image/png": "[encoded data removed]",
      "text/plain": [
       "<Figure size 360x360 with 1 Axes>"
      ]
     },
     "metadata": {
      "needs_background": "light"
     },
     "output_type": "display_data"
    }
   ],
   "source": [
    "sns.catplot(x='primary_fuel',y='latitude',data=df)"
   ]
  },
  {
   "cell_type": "markdown",
   "id": "62e4694f",
   "metadata": {},
   "source": [
    "type of primary_fuel used in latitude locations "
   ]
  },
  {
   "cell_type": "code",
   "execution_count": 28,
   "id": "84c0e692",
   "metadata": {},
   "outputs": [
    {
     "data": {
      "text/plain": [
       "<AxesSubplot:xlabel='primary_fuel', ylabel='count'>"
      ]
     },
     "execution_count": 28,
     "metadata": {},
     "output_type": "execute_result"
    },
    {
     "data": {
      "image/png": "[encoded data removed]",
      "text/plain": [
       "<Figure size 432x288 with 1 Axes>"
      ]
     },
     "metadata": {
      "needs_background": "light"
     },
     "output_type": "display_data"
    }
   ],
   "source": [
    "sns.countplot(x='primary_fuel',data=df)"
   ]
  },
  {
   "cell_type": "markdown",
   "id": "231de92e",
   "metadata": {},
   "source": [
    "Mejority of fuel used as fuel is Coal and Hydro type"
   ]
  },
  {
   "cell_type": "code",
   "execution_count": 29,
   "id": "9cc45cf0",
   "metadata": {},
   "outputs": [
    {
     "data": {
      "text/plain": [
       "<AxesSubplot:xlabel='generation_gwh_2015', ylabel='generation_gwh_2016'>"
      ]
     },
     "execution_count": 29,
     "metadata": {},
     "output_type": "execute_result"
    },
    {
     "data": {
      "image/png": "[encoded data removed]",
      "text/plain": [
       "<Figure size 936x288 with 1 Axes>"
      ]
     },
     "metadata": {
      "needs_background": "light"
     },
     "output_type": "display_data"
    }
   ],
   "source": [
    "plt.figure(figsize=(13,4))\n",
    "sns.scatterplot(x='generation_gwh_2015',y='generation_gwh_2016',hue='primary_fuel',data=df)"
   ]
  },
  {
   "cell_type": "code",
   "execution_count": 30,
   "id": "a4d6a805",
   "metadata": {},
   "outputs": [
    {
     "data": {
      "text/plain": [
       "<AxesSubplot:xlabel='primary_fuel', ylabel='generation_gwh_2018'>"
      ]
     },
     "execution_count": 30,
     "metadata": {},
     "output_type": "execute_result"
    },
    {
     "data": {
      "image/png": "[encoded data removed]",
      "text/plain": [
       "<Figure size 936x288 with 1 Axes>"
      ]
     },
     "metadata": {
      "needs_background": "light"
     },
     "output_type": "display_data"
    }
   ],
   "source": [
    "plt.figure(figsize=(13,4))\n",
    "sns.scatterplot(hue='capacity_mw',y='generation_gwh_2018',x='primary_fuel',data=df)"
   ]
  },
  {
   "cell_type": "code",
   "execution_count": 31,
   "id": "d93b26c2",
   "metadata": {},
   "outputs": [
    {
     "data": {
      "text/plain": [
       "<AxesSubplot:xlabel='primary_fuel', ylabel='generation_gwh_2016'>"
      ]
     },
     "execution_count": 31,
     "metadata": {},
     "output_type": "execute_result"
    },
    {
     "data": {
      "image/png": "[encoded data removed]",
      "text/plain": [
       "<Figure size 936x288 with 1 Axes>"
      ]
     },
     "metadata": {
      "needs_background": "light"
     },
     "output_type": "display_data"
    }
   ],
   "source": [
    "plt.figure(figsize=(13,4))\n",
    "sns.scatterplot(x='primary_fuel',y='generation_gwh_2016',hue='capacity_mw',data=df)"
   ]
  },
  {
   "cell_type": "code",
   "execution_count": 32,
   "id": "16744400",
   "metadata": {},
   "outputs": [
    {
     "data": {
      "text/plain": [
       "<AxesSubplot:xlabel='capacity_mw', ylabel='generation_gwh_2017'>"
      ]
     },
     "execution_count": 32,
     "metadata": {},
     "output_type": "execute_result"
    },
    {
     "data": {
      "image/png": "[encoded data removed]",
      "text/plain": [
       "<Figure size 936x288 with 1 Axes>"
      ]
     },
     "metadata": {
      "needs_background": "light"
     },
     "output_type": "display_data"
    }
   ],
   "source": [
    "plt.figure(figsize=(13,4))\n",
    "sns.scatterplot(hue='primary_fuel',y='generation_gwh_2017',x='capacity_mw',data=df)"
   ]
  },
  {
   "cell_type": "code",
   "execution_count": 33,
   "id": "02a18751",
   "metadata": {},
   "outputs": [
    {
     "data": {
      "text/plain": [
       "<seaborn.axisgrid.FacetGrid at 0x220367d37c0>"
      ]
     },
     "execution_count": 33,
     "metadata": {},
     "output_type": "execute_result"
    },
    {
     "data": {
      "text/plain": [
       "<Figure size 2160x720 with 0 Axes>"
      ]
     },
     "metadata": {},
     "output_type": "display_data"
    },
    {
     "data": {
      "image/png": "[encoded data removed]",
      "text/plain": [
       "<Figure size 360x360 with 1 Axes>"
      ]
     },
     "metadata": {
      "needs_background": "light"
     },
     "output_type": "display_data"
    }
   ],
   "source": [
    "plt.figure(figsize=(30,10))\n",
    "sns.catplot(x='primary_fuel',y='generation_gwh_2018',data=df)"
   ]
  },
  {
   "cell_type": "code",
   "execution_count": 34,
   "id": "4e395ce2",
   "metadata": {},
   "outputs": [
    {
     "data": {
      "text/plain": [
       "<seaborn.axisgrid.FacetGrid at 0x220398f3eb0>"
      ]
     },
     "execution_count": 34,
     "metadata": {},
     "output_type": "execute_result"
    },
    {
     "data": {
      "text/plain": [
       "<Figure size 1800x288 with 0 Axes>"
      ]
     },
     "metadata": {},
     "output_type": "display_data"
    },
    {
     "data": {
      "image/png": "[encoded data removed]",
      "text/plain": [
       "<Figure size 590.625x360 with 1 Axes>"
      ]
     },
     "metadata": {
      "needs_background": "light"
     },
     "output_type": "display_data"
    }
   ],
   "source": [
    "plt.figure(figsize=(25,4))\n",
    "sns.catplot(hue='geolocation_source',y='generation_gwh_2018',x='primary_fuel',data=df)"
   ]
  },
  {
   "cell_type": "code",
   "execution_count": 35,
   "id": "ef1e7de2",
   "metadata": {},
   "outputs": [
    {
     "data": {
      "text/plain": [
       "<AxesSubplot:xlabel='geolocation_source', ylabel='count'>"
      ]
     },
     "execution_count": 35,
     "metadata": {},
     "output_type": "execute_result"
    },
    {
     "data": {
      "image/png": "[encoded data removed]",
      "text/plain": [
       "<Figure size 432x288 with 1 Axes>"
      ]
     },
     "metadata": {
      "needs_background": "light"
     },
     "output_type": "display_data"
    }
   ],
   "source": [
    "sns.countplot(x='geolocation_source',data=df)"
   ]
  },
  {
   "cell_type": "markdown",
   "id": "c19116c8",
   "metadata": {},
   "source": [
    "By Looking all the aboue graphs \n",
    " \n",
    "* Coal is used in large quantity to generate the power in all years \n",
    "* Every year upto 35000gwh of power generated\n",
    "* other types of fuel is also used to generate the power and after Coal , water source is in the 2nd place which is used to generate the power\n",
    "* WRI used more geolocation source"
   ]
  },
  {
   "cell_type": "code",
   "execution_count": 36,
   "id": "1784aaad",
   "metadata": {},
   "outputs": [
    {
     "data": {
      "text/html": [
       "<div>\n",
       "<style scoped>\n",
       "    .dataframe tbody tr th:only-of-type {\n",
       "        vertical-align: middle;\n",
       "    }\n",
       "\n",
       "    .dataframe tbody tr th {\n",
       "        vertical-align: top;\n",
       "    }\n",
       "\n",
       "    .dataframe thead th {\n",
       "        text-align: right;\n",
       "    }\n",
       "</style>\n",
       "<table border=\"1\" class=\"dataframe\">\n",
       "  <thead>\n",
       "    <tr style=\"text-align: right;\">\n",
       "      <th></th>\n",
       "      <th>country</th>\n",
       "      <th>country_long</th>\n",
       "      <th>name</th>\n",
       "      <th>gppd_idnr</th>\n",
       "      <th>capacity_mw</th>\n",
       "      <th>latitude</th>\n",
       "      <th>longitude</th>\n",
       "      <th>primary_fuel</th>\n",
       "      <th>commissioning_year</th>\n",
       "      <th>source</th>\n",
       "      <th>url</th>\n",
       "      <th>geolocation_source</th>\n",
       "      <th>year_of_capacity_data</th>\n",
       "      <th>generation_gwh_2014</th>\n",
       "      <th>generation_gwh_2015</th>\n",
       "      <th>generation_gwh_2016</th>\n",
       "      <th>generation_gwh_2017</th>\n",
       "      <th>generation_gwh_2018</th>\n",
       "    </tr>\n",
       "  </thead>\n",
       "  <tbody>\n",
       "    <tr>\n",
       "      <th>0</th>\n",
       "      <td>0.0</td>\n",
       "      <td>0.0</td>\n",
       "      <td>0.0</td>\n",
       "      <td>656.0</td>\n",
       "      <td>2.5</td>\n",
       "      <td>28.1839</td>\n",
       "      <td>73.2407</td>\n",
       "      <td>6.0</td>\n",
       "      <td>2011.000000</td>\n",
       "      <td>109.0</td>\n",
       "      <td>126.0</td>\n",
       "      <td>1.0</td>\n",
       "      <td>2019.0</td>\n",
       "      <td>2431.823590</td>\n",
       "      <td>2428.226946</td>\n",
       "      <td>2467.936859</td>\n",
       "      <td>2547.759305</td>\n",
       "      <td>2600.804099</td>\n",
       "    </tr>\n",
       "    <tr>\n",
       "      <th>1</th>\n",
       "      <td>0.0</td>\n",
       "      <td>0.0</td>\n",
       "      <td>1.0</td>\n",
       "      <td>519.0</td>\n",
       "      <td>98.0</td>\n",
       "      <td>24.7663</td>\n",
       "      <td>74.6090</td>\n",
       "      <td>1.0</td>\n",
       "      <td>1997.091082</td>\n",
       "      <td>174.0</td>\n",
       "      <td>169.0</td>\n",
       "      <td>2.0</td>\n",
       "      <td>2019.0</td>\n",
       "      <td>2431.823590</td>\n",
       "      <td>2428.226946</td>\n",
       "      <td>2467.936859</td>\n",
       "      <td>2547.759305</td>\n",
       "      <td>2600.804099</td>\n",
       "    </tr>\n",
       "    <tr>\n",
       "      <th>2</th>\n",
       "      <td>0.0</td>\n",
       "      <td>0.0</td>\n",
       "      <td>2.0</td>\n",
       "      <td>845.0</td>\n",
       "      <td>39.2</td>\n",
       "      <td>21.9038</td>\n",
       "      <td>69.3732</td>\n",
       "      <td>7.0</td>\n",
       "      <td>1997.091082</td>\n",
       "      <td>21.0</td>\n",
       "      <td>196.0</td>\n",
       "      <td>2.0</td>\n",
       "      <td>2019.0</td>\n",
       "      <td>2431.823590</td>\n",
       "      <td>2428.226946</td>\n",
       "      <td>2467.936859</td>\n",
       "      <td>2547.759305</td>\n",
       "      <td>2600.804099</td>\n",
       "    </tr>\n",
       "    <tr>\n",
       "      <th>3</th>\n",
       "      <td>0.0</td>\n",
       "      <td>0.0</td>\n",
       "      <td>3.0</td>\n",
       "      <td>0.0</td>\n",
       "      <td>135.0</td>\n",
       "      <td>23.8712</td>\n",
       "      <td>91.3602</td>\n",
       "      <td>2.0</td>\n",
       "      <td>2004.000000</td>\n",
       "      <td>22.0</td>\n",
       "      <td>58.0</td>\n",
       "      <td>2.0</td>\n",
       "      <td>2019.0</td>\n",
       "      <td>617.789264</td>\n",
       "      <td>843.747000</td>\n",
       "      <td>886.004428</td>\n",
       "      <td>663.774500</td>\n",
       "      <td>626.239128</td>\n",
       "    </tr>\n",
       "    <tr>\n",
       "      <th>4</th>\n",
       "      <td>0.0</td>\n",
       "      <td>0.0</td>\n",
       "      <td>4.0</td>\n",
       "      <td>1.0</td>\n",
       "      <td>1800.0</td>\n",
       "      <td>21.9603</td>\n",
       "      <td>82.4091</td>\n",
       "      <td>1.0</td>\n",
       "      <td>2015.000000</td>\n",
       "      <td>22.0</td>\n",
       "      <td>58.0</td>\n",
       "      <td>2.0</td>\n",
       "      <td>2019.0</td>\n",
       "      <td>3035.550000</td>\n",
       "      <td>5916.370000</td>\n",
       "      <td>6243.000000</td>\n",
       "      <td>5385.579736</td>\n",
       "      <td>7279.000000</td>\n",
       "    </tr>\n",
       "    <tr>\n",
       "      <th>...</th>\n",
       "      <td>...</td>\n",
       "      <td>...</td>\n",
       "      <td>...</td>\n",
       "      <td>...</td>\n",
       "      <td>...</td>\n",
       "      <td>...</td>\n",
       "      <td>...</td>\n",
       "      <td>...</td>\n",
       "      <td>...</td>\n",
       "      <td>...</td>\n",
       "      <td>...</td>\n",
       "      <td>...</td>\n",
       "      <td>...</td>\n",
       "      <td>...</td>\n",
       "      <td>...</td>\n",
       "      <td>...</td>\n",
       "      <td>...</td>\n",
       "      <td>...</td>\n",
       "    </tr>\n",
       "    <tr>\n",
       "      <th>902</th>\n",
       "      <td>0.0</td>\n",
       "      <td>0.0</td>\n",
       "      <td>883.0</td>\n",
       "      <td>491.0</td>\n",
       "      <td>1600.0</td>\n",
       "      <td>16.2949</td>\n",
       "      <td>77.3568</td>\n",
       "      <td>1.0</td>\n",
       "      <td>2016.000000</td>\n",
       "      <td>22.0</td>\n",
       "      <td>58.0</td>\n",
       "      <td>2.0</td>\n",
       "      <td>2019.0</td>\n",
       "      <td>2431.823590</td>\n",
       "      <td>0.994875</td>\n",
       "      <td>233.596650</td>\n",
       "      <td>865.400000</td>\n",
       "      <td>686.500000</td>\n",
       "    </tr>\n",
       "    <tr>\n",
       "      <th>903</th>\n",
       "      <td>0.0</td>\n",
       "      <td>0.0</td>\n",
       "      <td>884.0</td>\n",
       "      <td>814.0</td>\n",
       "      <td>3.0</td>\n",
       "      <td>12.8932</td>\n",
       "      <td>78.1654</td>\n",
       "      <td>6.0</td>\n",
       "      <td>1997.091082</td>\n",
       "      <td>77.0</td>\n",
       "      <td>22.0</td>\n",
       "      <td>0.0</td>\n",
       "      <td>2019.0</td>\n",
       "      <td>2431.823590</td>\n",
       "      <td>2428.226946</td>\n",
       "      <td>2467.936859</td>\n",
       "      <td>2547.759305</td>\n",
       "      <td>2600.804099</td>\n",
       "    </tr>\n",
       "    <tr>\n",
       "      <th>904</th>\n",
       "      <td>0.0</td>\n",
       "      <td>0.0</td>\n",
       "      <td>885.0</td>\n",
       "      <td>873.0</td>\n",
       "      <td>25.5</td>\n",
       "      <td>15.2758</td>\n",
       "      <td>75.5811</td>\n",
       "      <td>7.0</td>\n",
       "      <td>1997.091082</td>\n",
       "      <td>21.0</td>\n",
       "      <td>246.0</td>\n",
       "      <td>2.0</td>\n",
       "      <td>2019.0</td>\n",
       "      <td>2431.823590</td>\n",
       "      <td>2428.226946</td>\n",
       "      <td>2467.936859</td>\n",
       "      <td>2547.759305</td>\n",
       "      <td>2600.804099</td>\n",
       "    </tr>\n",
       "    <tr>\n",
       "      <th>905</th>\n",
       "      <td>0.0</td>\n",
       "      <td>0.0</td>\n",
       "      <td>886.0</td>\n",
       "      <td>539.0</td>\n",
       "      <td>80.0</td>\n",
       "      <td>24.3500</td>\n",
       "      <td>73.7477</td>\n",
       "      <td>1.0</td>\n",
       "      <td>1997.091082</td>\n",
       "      <td>59.0</td>\n",
       "      <td>82.0</td>\n",
       "      <td>2.0</td>\n",
       "      <td>2019.0</td>\n",
       "      <td>2431.823590</td>\n",
       "      <td>2428.226946</td>\n",
       "      <td>2467.936859</td>\n",
       "      <td>2547.759305</td>\n",
       "      <td>2600.804099</td>\n",
       "    </tr>\n",
       "    <tr>\n",
       "      <th>906</th>\n",
       "      <td>0.0</td>\n",
       "      <td>0.0</td>\n",
       "      <td>887.0</td>\n",
       "      <td>858.0</td>\n",
       "      <td>16.5</td>\n",
       "      <td>9.9344</td>\n",
       "      <td>77.4768</td>\n",
       "      <td>7.0</td>\n",
       "      <td>1997.091082</td>\n",
       "      <td>21.0</td>\n",
       "      <td>234.0</td>\n",
       "      <td>2.0</td>\n",
       "      <td>2019.0</td>\n",
       "      <td>2431.823590</td>\n",
       "      <td>2428.226946</td>\n",
       "      <td>2467.936859</td>\n",
       "      <td>2547.759305</td>\n",
       "      <td>2600.804099</td>\n",
       "    </tr>\n",
       "  </tbody>\n",
       "</table>\n",
       "<p>888 rows × 18 columns</p>\n",
       "</div>"
      ],
      "text/plain": [
       "     country  country_long   name  gppd_idnr  capacity_mw  latitude  \\\n",
       "0        0.0           0.0    0.0      656.0          2.5   28.1839   \n",
       "1        0.0           0.0    1.0      519.0         98.0   24.7663   \n",
       "2        0.0           0.0    2.0      845.0         39.2   21.9038   \n",
       "3        0.0           0.0    3.0        0.0        135.0   23.8712   \n",
       "4        0.0           0.0    4.0        1.0       1800.0   21.9603   \n",
       "..       ...           ...    ...        ...          ...       ...   \n",
       "902      0.0           0.0  883.0      491.0       1600.0   16.2949   \n",
       "903      0.0           0.0  884.0      814.0          3.0   12.8932   \n",
       "904      0.0           0.0  885.0      873.0         25.5   15.2758   \n",
       "905      0.0           0.0  886.0      539.0         80.0   24.3500   \n",
       "906      0.0           0.0  887.0      858.0         16.5    9.9344   \n",
       "\n",
       "     longitude  primary_fuel  commissioning_year  source    url  \\\n",
       "0      73.2407           6.0         2011.000000   109.0  126.0   \n",
       "1      74.6090           1.0         1997.091082   174.0  169.0   \n",
       "2      69.3732           7.0         1997.091082    21.0  196.0   \n",
       "3      91.3602           2.0         2004.000000    22.0   58.0   \n",
       "4      82.4091           1.0         2015.000000    22.0   58.0   \n",
       "..         ...           ...                 ...     ...    ...   \n",
       "902    77.3568           1.0         2016.000000    22.0   58.0   \n",
       "903    78.1654           6.0         1997.091082    77.0   22.0   \n",
       "904    75.5811           7.0         1997.091082    21.0  246.0   \n",
       "905    73.7477           1.0         1997.091082    59.0   82.0   \n",
       "906    77.4768           7.0         1997.091082    21.0  234.0   \n",
       "\n",
       "     geolocation_source  year_of_capacity_data  generation_gwh_2014  \\\n",
       "0                   1.0                 2019.0          2431.823590   \n",
       "1                   2.0                 2019.0          2431.823590   \n",
       "2                   2.0                 2019.0          2431.823590   \n",
       "3                   2.0                 2019.0           617.789264   \n",
       "4                   2.0                 2019.0          3035.550000   \n",
       "..                  ...                    ...                  ...   \n",
       "902                 2.0                 2019.0          2431.823590   \n",
       "903                 0.0                 2019.0          2431.823590   \n",
       "904                 2.0                 2019.0          2431.823590   \n",
       "905                 2.0                 2019.0          2431.823590   \n",
       "906                 2.0                 2019.0          2431.823590   \n",
       "\n",
       "     generation_gwh_2015  generation_gwh_2016  generation_gwh_2017  \\\n",
       "0            2428.226946          2467.936859          2547.759305   \n",
       "1            2428.226946          2467.936859          2547.759305   \n",
       "2            2428.226946          2467.936859          2547.759305   \n",
       "3             843.747000           886.004428           663.774500   \n",
       "4            5916.370000          6243.000000          5385.579736   \n",
       "..                   ...                  ...                  ...   \n",
       "902             0.994875           233.596650           865.400000   \n",
       "903          2428.226946          2467.936859          2547.759305   \n",
       "904          2428.226946          2467.936859          2547.759305   \n",
       "905          2428.226946          2467.936859          2547.759305   \n",
       "906          2428.226946          2467.936859          2547.759305   \n",
       "\n",
       "     generation_gwh_2018  \n",
       "0            2600.804099  \n",
       "1            2600.804099  \n",
       "2            2600.804099  \n",
       "3             626.239128  \n",
       "4            7279.000000  \n",
       "..                   ...  \n",
       "902           686.500000  \n",
       "903          2600.804099  \n",
       "904          2600.804099  \n",
       "905          2600.804099  \n",
       "906          2600.804099  \n",
       "\n",
       "[888 rows x 18 columns]"
      ]
     },
     "execution_count": 36,
     "metadata": {},
     "output_type": "execute_result"
    }
   ],
   "source": [
    "from sklearn.preprocessing import OrdinalEncoder\n",
    "oe=OrdinalEncoder()\n",
    "\n",
    "for i in df.columns:\n",
    "    if df[i].dtypes=='object':\n",
    "        df[i]=oe.fit_transform(df[i].values.reshape(-1,1))\n",
    "df"
   ]
  },
  {
   "cell_type": "markdown",
   "id": "3f757ae3",
   "metadata": {},
   "source": [
    "with the help of OrdinalEncoder, we are converting the object datatype into numarical data"
   ]
  },
  {
   "cell_type": "code",
   "execution_count": 37,
   "id": "39ee34d1",
   "metadata": {},
   "outputs": [
    {
     "data": {
      "image/png": "[encoded data removed]",
      "text/plain": [
       "<Figure size 1800x2160 with 14 Axes>"
      ]
     },
     "metadata": {
      "needs_background": "light"
     },
     "output_type": "display_data"
    }
   ],
   "source": [
    "plt.figure(figsize=(25,30))\n",
    "p=1\n",
    "\n",
    "for i in df.columns:\n",
    "    if p<15:\n",
    "        plt.subplot(5,4,p)\n",
    "        sns.boxplot(data=df[i])\n",
    "        plt.xlabel(i)\n",
    "        plt.ylabel('density')\n",
    "    p+=1\n",
    "plt.show()"
   ]
  },
  {
   "cell_type": "markdown",
   "id": "185099a6",
   "metadata": {},
   "source": [
    "checking for the outliers present in dataset"
   ]
  },
  {
   "cell_type": "code",
   "execution_count": 38,
   "id": "17ee8255",
   "metadata": {},
   "outputs": [],
   "source": [
    "df.drop(['year_of_capacity_data','country','country_long'],axis=1,inplace=True)"
   ]
  },
  {
   "cell_type": "code",
   "execution_count": 39,
   "id": "4d279287",
   "metadata": {},
   "outputs": [
    {
     "data": {
      "text/html": [
       "<div>\n",
       "<style scoped>\n",
       "    .dataframe tbody tr th:only-of-type {\n",
       "        vertical-align: middle;\n",
       "    }\n",
       "\n",
       "    .dataframe tbody tr th {\n",
       "        vertical-align: top;\n",
       "    }\n",
       "\n",
       "    .dataframe thead th {\n",
       "        text-align: right;\n",
       "    }\n",
       "</style>\n",
       "<table border=\"1\" class=\"dataframe\">\n",
       "  <thead>\n",
       "    <tr style=\"text-align: right;\">\n",
       "      <th></th>\n",
       "      <th>name</th>\n",
       "      <th>gppd_idnr</th>\n",
       "      <th>capacity_mw</th>\n",
       "      <th>latitude</th>\n",
       "      <th>longitude</th>\n",
       "      <th>primary_fuel</th>\n",
       "      <th>commissioning_year</th>\n",
       "      <th>source</th>\n",
       "      <th>url</th>\n",
       "      <th>geolocation_source</th>\n",
       "      <th>generation_gwh_2014</th>\n",
       "      <th>generation_gwh_2015</th>\n",
       "      <th>generation_gwh_2016</th>\n",
       "      <th>generation_gwh_2017</th>\n",
       "      <th>generation_gwh_2018</th>\n",
       "    </tr>\n",
       "  </thead>\n",
       "  <tbody>\n",
       "    <tr>\n",
       "      <th>count</th>\n",
       "      <td>888.000000</td>\n",
       "      <td>888.000000</td>\n",
       "      <td>888.000000</td>\n",
       "      <td>888.000000</td>\n",
       "      <td>888.000000</td>\n",
       "      <td>888.000000</td>\n",
       "      <td>888.000000</td>\n",
       "      <td>888.000000</td>\n",
       "      <td>888.000000</td>\n",
       "      <td>888.000000</td>\n",
       "      <td>888.000000</td>\n",
       "      <td>888.000000</td>\n",
       "      <td>888.000000</td>\n",
       "      <td>888.000000</td>\n",
       "      <td>888.000000</td>\n",
       "    </tr>\n",
       "    <tr>\n",
       "      <th>mean</th>\n",
       "      <td>443.500000</td>\n",
       "      <td>443.500000</td>\n",
       "      <td>332.423700</td>\n",
       "      <td>21.197918</td>\n",
       "      <td>77.464907</td>\n",
       "      <td>3.129505</td>\n",
       "      <td>1997.014915</td>\n",
       "      <td>43.940315</td>\n",
       "      <td>90.082207</td>\n",
       "      <td>1.727477</td>\n",
       "      <td>2431.823590</td>\n",
       "      <td>2428.226946</td>\n",
       "      <td>2467.936859</td>\n",
       "      <td>2547.759305</td>\n",
       "      <td>2600.804099</td>\n",
       "    </tr>\n",
       "    <tr>\n",
       "      <th>std</th>\n",
       "      <td>256.487816</td>\n",
       "      <td>256.487816</td>\n",
       "      <td>594.808895</td>\n",
       "      <td>6.143913</td>\n",
       "      <td>4.863559</td>\n",
       "      <td>2.242388</td>\n",
       "      <td>13.105625</td>\n",
       "      <td>44.807289</td>\n",
       "      <td>64.628807</td>\n",
       "      <td>0.683226</td>\n",
       "      <td>2693.733821</td>\n",
       "      <td>2889.811238</td>\n",
       "      <td>2908.549636</td>\n",
       "      <td>2952.626448</td>\n",
       "      <td>3063.096787</td>\n",
       "    </tr>\n",
       "    <tr>\n",
       "      <th>min</th>\n",
       "      <td>0.000000</td>\n",
       "      <td>0.000000</td>\n",
       "      <td>0.000000</td>\n",
       "      <td>8.168900</td>\n",
       "      <td>68.644700</td>\n",
       "      <td>0.000000</td>\n",
       "      <td>1927.000000</td>\n",
       "      <td>0.000000</td>\n",
       "      <td>0.000000</td>\n",
       "      <td>0.000000</td>\n",
       "      <td>0.000000</td>\n",
       "      <td>0.000000</td>\n",
       "      <td>0.000000</td>\n",
       "      <td>0.000000</td>\n",
       "      <td>0.000000</td>\n",
       "    </tr>\n",
       "    <tr>\n",
       "      <th>25%</th>\n",
       "      <td>221.750000</td>\n",
       "      <td>221.750000</td>\n",
       "      <td>16.987500</td>\n",
       "      <td>16.929600</td>\n",
       "      <td>74.349325</td>\n",
       "      <td>1.000000</td>\n",
       "      <td>1997.000000</td>\n",
       "      <td>22.000000</td>\n",
       "      <td>58.000000</td>\n",
       "      <td>2.000000</td>\n",
       "      <td>1153.595000</td>\n",
       "      <td>841.324750</td>\n",
       "      <td>807.347975</td>\n",
       "      <td>831.633775</td>\n",
       "      <td>696.865750</td>\n",
       "    </tr>\n",
       "    <tr>\n",
       "      <th>50%</th>\n",
       "      <td>443.500000</td>\n",
       "      <td>443.500000</td>\n",
       "      <td>60.000000</td>\n",
       "      <td>21.436900</td>\n",
       "      <td>76.872100</td>\n",
       "      <td>3.000000</td>\n",
       "      <td>1997.091082</td>\n",
       "      <td>22.000000</td>\n",
       "      <td>58.000000</td>\n",
       "      <td>2.000000</td>\n",
       "      <td>2431.823590</td>\n",
       "      <td>2428.226946</td>\n",
       "      <td>2467.936859</td>\n",
       "      <td>2547.759305</td>\n",
       "      <td>2600.804099</td>\n",
       "    </tr>\n",
       "    <tr>\n",
       "      <th>75%</th>\n",
       "      <td>665.250000</td>\n",
       "      <td>665.250000</td>\n",
       "      <td>397.000000</td>\n",
       "      <td>25.235025</td>\n",
       "      <td>79.302225</td>\n",
       "      <td>6.000000</td>\n",
       "      <td>2003.000000</td>\n",
       "      <td>30.250000</td>\n",
       "      <td>105.000000</td>\n",
       "      <td>2.000000</td>\n",
       "      <td>2431.823590</td>\n",
       "      <td>2428.226946</td>\n",
       "      <td>2467.936859</td>\n",
       "      <td>2547.759305</td>\n",
       "      <td>2600.804099</td>\n",
       "    </tr>\n",
       "    <tr>\n",
       "      <th>max</th>\n",
       "      <td>887.000000</td>\n",
       "      <td>887.000000</td>\n",
       "      <td>4760.000000</td>\n",
       "      <td>34.649000</td>\n",
       "      <td>95.408000</td>\n",
       "      <td>7.000000</td>\n",
       "      <td>2018.000000</td>\n",
       "      <td>190.000000</td>\n",
       "      <td>287.000000</td>\n",
       "      <td>2.000000</td>\n",
       "      <td>28127.000000</td>\n",
       "      <td>30539.000000</td>\n",
       "      <td>30015.000000</td>\n",
       "      <td>35116.000000</td>\n",
       "      <td>35136.000000</td>\n",
       "    </tr>\n",
       "  </tbody>\n",
       "</table>\n",
       "</div>"
      ],
      "text/plain": [
       "             name   gppd_idnr  capacity_mw    latitude   longitude  \\\n",
       "count  888.000000  888.000000   888.000000  888.000000  888.000000   \n",
       "mean   443.500000  443.500000   332.423700   21.197918   77.464907   \n",
       "std    256.487816  256.487816   594.808895    6.143913    4.863559   \n",
       "min      0.000000    0.000000     0.000000    8.168900   68.644700   \n",
       "25%    221.750000  221.750000    16.987500   16.929600   74.349325   \n",
       "50%    443.500000  443.500000    60.000000   21.436900   76.872100   \n",
       "75%    665.250000  665.250000   397.000000   25.235025   79.302225   \n",
       "max    887.000000  887.000000  4760.000000   34.649000   95.408000   \n",
       "\n",
       "       primary_fuel  commissioning_year      source         url  \\\n",
       "count    888.000000          888.000000  888.000000  888.000000   \n",
       "mean       3.129505         1997.014915   43.940315   90.082207   \n",
       "std        2.242388           13.105625   44.807289   64.628807   \n",
       "min        0.000000         1927.000000    0.000000    0.000000   \n",
       "25%        1.000000         1997.000000   22.000000   58.000000   \n",
       "50%        3.000000         1997.091082   22.000000   58.000000   \n",
       "75%        6.000000         2003.000000   30.250000  105.000000   \n",
       "max        7.000000         2018.000000  190.000000  287.000000   \n",
       "\n",
       "       geolocation_source  generation_gwh_2014  generation_gwh_2015  \\\n",
       "count          888.000000           888.000000           888.000000   \n",
       "mean             1.727477          2431.823590          2428.226946   \n",
       "std              0.683226          2693.733821          2889.811238   \n",
       "min              0.000000             0.000000             0.000000   \n",
       "25%              2.000000          1153.595000           841.324750   \n",
       "50%              2.000000          2431.823590          2428.226946   \n",
       "75%              2.000000          2431.823590          2428.226946   \n",
       "max              2.000000         28127.000000         30539.000000   \n",
       "\n",
       "       generation_gwh_2016  generation_gwh_2017  generation_gwh_2018  \n",
       "count           888.000000           888.000000           888.000000  \n",
       "mean           2467.936859          2547.759305          2600.804099  \n",
       "std            2908.549636          2952.626448          3063.096787  \n",
       "min               0.000000             0.000000             0.000000  \n",
       "25%             807.347975           831.633775           696.865750  \n",
       "50%            2467.936859          2547.759305          2600.804099  \n",
       "75%            2467.936859          2547.759305          2600.804099  \n",
       "max           30015.000000         35116.000000         35136.000000  "
      ]
     },
     "execution_count": 39,
     "metadata": {},
     "output_type": "execute_result"
    }
   ],
   "source": [
    "df.describe()"
   ]
  },
  {
   "cell_type": "code",
   "execution_count": 40,
   "id": "64b5777b",
   "metadata": {},
   "outputs": [
    {
     "data": {
      "text/html": [
       "<div>\n",
       "<style scoped>\n",
       "    .dataframe tbody tr th:only-of-type {\n",
       "        vertical-align: middle;\n",
       "    }\n",
       "\n",
       "    .dataframe tbody tr th {\n",
       "        vertical-align: top;\n",
       "    }\n",
       "\n",
       "    .dataframe thead th {\n",
       "        text-align: right;\n",
       "    }\n",
       "</style>\n",
       "<table border=\"1\" class=\"dataframe\">\n",
       "  <thead>\n",
       "    <tr style=\"text-align: right;\">\n",
       "      <th></th>\n",
       "      <th>name</th>\n",
       "      <th>gppd_idnr</th>\n",
       "      <th>capacity_mw</th>\n",
       "      <th>latitude</th>\n",
       "      <th>longitude</th>\n",
       "      <th>primary_fuel</th>\n",
       "      <th>commissioning_year</th>\n",
       "      <th>source</th>\n",
       "      <th>url</th>\n",
       "      <th>geolocation_source</th>\n",
       "      <th>generation_gwh_2014</th>\n",
       "      <th>generation_gwh_2015</th>\n",
       "      <th>generation_gwh_2016</th>\n",
       "      <th>generation_gwh_2017</th>\n",
       "      <th>generation_gwh_2018</th>\n",
       "    </tr>\n",
       "  </thead>\n",
       "  <tbody>\n",
       "    <tr>\n",
       "      <th>0</th>\n",
       "      <td>1.730101</td>\n",
       "      <td>0.828966</td>\n",
       "      <td>0.554984</td>\n",
       "      <td>1.137698</td>\n",
       "      <td>0.869032</td>\n",
       "      <td>1.280828</td>\n",
       "      <td>1.067707</td>\n",
       "      <td>1.452807</td>\n",
       "      <td>0.556068</td>\n",
       "      <td>1.065369</td>\n",
       "      <td>0.000000</td>\n",
       "      <td>1.574510e-16</td>\n",
       "      <td>0.000000</td>\n",
       "      <td>0.000000</td>\n",
       "      <td>0.000000</td>\n",
       "    </tr>\n",
       "    <tr>\n",
       "      <th>1</th>\n",
       "      <td>1.726200</td>\n",
       "      <td>0.294527</td>\n",
       "      <td>0.394338</td>\n",
       "      <td>0.581127</td>\n",
       "      <td>0.587536</td>\n",
       "      <td>0.950194</td>\n",
       "      <td>0.005815</td>\n",
       "      <td>2.904281</td>\n",
       "      <td>1.221781</td>\n",
       "      <td>0.399101</td>\n",
       "      <td>0.000000</td>\n",
       "      <td>1.574510e-16</td>\n",
       "      <td>0.000000</td>\n",
       "      <td>0.000000</td>\n",
       "      <td>0.000000</td>\n",
       "    </tr>\n",
       "    <tr>\n",
       "      <th>2</th>\n",
       "      <td>1.722299</td>\n",
       "      <td>1.566259</td>\n",
       "      <td>0.493249</td>\n",
       "      <td>0.114956</td>\n",
       "      <td>1.664680</td>\n",
       "      <td>1.727032</td>\n",
       "      <td>0.005815</td>\n",
       "      <td>0.512266</td>\n",
       "      <td>1.639787</td>\n",
       "      <td>0.399101</td>\n",
       "      <td>0.000000</td>\n",
       "      <td>1.574510e-16</td>\n",
       "      <td>0.000000</td>\n",
       "      <td>0.000000</td>\n",
       "      <td>0.000000</td>\n",
       "    </tr>\n",
       "    <tr>\n",
       "      <th>3</th>\n",
       "      <td>1.718398</td>\n",
       "      <td>1.730101</td>\n",
       "      <td>0.332098</td>\n",
       "      <td>0.435356</td>\n",
       "      <td>2.858632</td>\n",
       "      <td>0.503990</td>\n",
       "      <td>0.533284</td>\n",
       "      <td>0.489935</td>\n",
       "      <td>0.496687</td>\n",
       "      <td>0.399101</td>\n",
       "      <td>0.673807</td>\n",
       "      <td>5.486078e-01</td>\n",
       "      <td>0.544197</td>\n",
       "      <td>0.638430</td>\n",
       "      <td>0.644994</td>\n",
       "    </tr>\n",
       "    <tr>\n",
       "      <th>4</th>\n",
       "      <td>1.714497</td>\n",
       "      <td>1.726200</td>\n",
       "      <td>2.468698</td>\n",
       "      <td>0.124157</td>\n",
       "      <td>1.017152</td>\n",
       "      <td>0.950194</td>\n",
       "      <td>1.373091</td>\n",
       "      <td>0.489935</td>\n",
       "      <td>0.496687</td>\n",
       "      <td>0.399101</td>\n",
       "      <td>0.224249</td>\n",
       "      <td>1.207729e+00</td>\n",
       "      <td>1.298651</td>\n",
       "      <td>0.961659</td>\n",
       "      <td>1.528137</td>\n",
       "    </tr>\n",
       "    <tr>\n",
       "      <th>...</th>\n",
       "      <td>...</td>\n",
       "      <td>...</td>\n",
       "      <td>...</td>\n",
       "      <td>...</td>\n",
       "      <td>...</td>\n",
       "      <td>...</td>\n",
       "      <td>...</td>\n",
       "      <td>...</td>\n",
       "      <td>...</td>\n",
       "      <td>...</td>\n",
       "      <td>...</td>\n",
       "      <td>...</td>\n",
       "      <td>...</td>\n",
       "      <td>...</td>\n",
       "      <td>...</td>\n",
       "    </tr>\n",
       "    <tr>\n",
       "      <th>902</th>\n",
       "      <td>1.714497</td>\n",
       "      <td>0.185298</td>\n",
       "      <td>2.132266</td>\n",
       "      <td>0.798478</td>\n",
       "      <td>0.022241</td>\n",
       "      <td>0.950194</td>\n",
       "      <td>1.449437</td>\n",
       "      <td>0.489935</td>\n",
       "      <td>0.496687</td>\n",
       "      <td>0.399101</td>\n",
       "      <td>0.000000</td>\n",
       "      <td>8.404009e-01</td>\n",
       "      <td>0.768630</td>\n",
       "      <td>0.570105</td>\n",
       "      <td>0.625309</td>\n",
       "    </tr>\n",
       "    <tr>\n",
       "      <th>903</th>\n",
       "      <td>1.718398</td>\n",
       "      <td>1.445327</td>\n",
       "      <td>0.554143</td>\n",
       "      <td>1.352460</td>\n",
       "      <td>0.144110</td>\n",
       "      <td>1.280828</td>\n",
       "      <td>0.005815</td>\n",
       "      <td>0.738235</td>\n",
       "      <td>1.054028</td>\n",
       "      <td>2.529838</td>\n",
       "      <td>0.000000</td>\n",
       "      <td>1.574510e-16</td>\n",
       "      <td>0.000000</td>\n",
       "      <td>0.000000</td>\n",
       "      <td>0.000000</td>\n",
       "    </tr>\n",
       "    <tr>\n",
       "      <th>904</th>\n",
       "      <td>1.722299</td>\n",
       "      <td>1.675487</td>\n",
       "      <td>0.516295</td>\n",
       "      <td>0.964443</td>\n",
       "      <td>0.387549</td>\n",
       "      <td>1.727032</td>\n",
       "      <td>0.005815</td>\n",
       "      <td>0.512266</td>\n",
       "      <td>2.413872</td>\n",
       "      <td>0.399101</td>\n",
       "      <td>0.000000</td>\n",
       "      <td>1.574510e-16</td>\n",
       "      <td>0.000000</td>\n",
       "      <td>0.000000</td>\n",
       "      <td>0.000000</td>\n",
       "    </tr>\n",
       "    <tr>\n",
       "      <th>905</th>\n",
       "      <td>1.726200</td>\n",
       "      <td>0.372547</td>\n",
       "      <td>0.424617</td>\n",
       "      <td>0.513331</td>\n",
       "      <td>0.764728</td>\n",
       "      <td>0.950194</td>\n",
       "      <td>0.005815</td>\n",
       "      <td>0.336288</td>\n",
       "      <td>0.125126</td>\n",
       "      <td>0.399101</td>\n",
       "      <td>0.000000</td>\n",
       "      <td>1.574510e-16</td>\n",
       "      <td>0.000000</td>\n",
       "      <td>0.000000</td>\n",
       "      <td>0.000000</td>\n",
       "    </tr>\n",
       "    <tr>\n",
       "      <th>906</th>\n",
       "      <td>1.730101</td>\n",
       "      <td>1.616972</td>\n",
       "      <td>0.531434</td>\n",
       "      <td>1.834314</td>\n",
       "      <td>0.002447</td>\n",
       "      <td>1.727032</td>\n",
       "      <td>0.005815</td>\n",
       "      <td>0.512266</td>\n",
       "      <td>2.228091</td>\n",
       "      <td>0.399101</td>\n",
       "      <td>0.000000</td>\n",
       "      <td>1.574510e-16</td>\n",
       "      <td>0.000000</td>\n",
       "      <td>0.000000</td>\n",
       "      <td>0.000000</td>\n",
       "    </tr>\n",
       "  </tbody>\n",
       "</table>\n",
       "<p>888 rows × 15 columns</p>\n",
       "</div>"
      ],
      "text/plain": [
       "         name  gppd_idnr  capacity_mw  latitude  longitude  primary_fuel  \\\n",
       "0    1.730101   0.828966     0.554984  1.137698   0.869032      1.280828   \n",
       "1    1.726200   0.294527     0.394338  0.581127   0.587536      0.950194   \n",
       "2    1.722299   1.566259     0.493249  0.114956   1.664680      1.727032   \n",
       "3    1.718398   1.730101     0.332098  0.435356   2.858632      0.503990   \n",
       "4    1.714497   1.726200     2.468698  0.124157   1.017152      0.950194   \n",
       "..        ...        ...          ...       ...        ...           ...   \n",
       "902  1.714497   0.185298     2.132266  0.798478   0.022241      0.950194   \n",
       "903  1.718398   1.445327     0.554143  1.352460   0.144110      1.280828   \n",
       "904  1.722299   1.675487     0.516295  0.964443   0.387549      1.727032   \n",
       "905  1.726200   0.372547     0.424617  0.513331   0.764728      0.950194   \n",
       "906  1.730101   1.616972     0.531434  1.834314   0.002447      1.727032   \n",
       "\n",
       "     commissioning_year    source       url  geolocation_source  \\\n",
       "0              1.067707  1.452807  0.556068            1.065369   \n",
       "1              0.005815  2.904281  1.221781            0.399101   \n",
       "2              0.005815  0.512266  1.639787            0.399101   \n",
       "3              0.533284  0.489935  0.496687            0.399101   \n",
       "4              1.373091  0.489935  0.496687            0.399101   \n",
       "..                  ...       ...       ...                 ...   \n",
       "902            1.449437  0.489935  0.496687            0.399101   \n",
       "903            0.005815  0.738235  1.054028            2.529838   \n",
       "904            0.005815  0.512266  2.413872            0.399101   \n",
       "905            0.005815  0.336288  0.125126            0.399101   \n",
       "906            0.005815  0.512266  2.228091            0.399101   \n",
       "\n",
       "     generation_gwh_2014  generation_gwh_2015  generation_gwh_2016  \\\n",
       "0               0.000000         1.574510e-16             0.000000   \n",
       "1               0.000000         1.574510e-16             0.000000   \n",
       "2               0.000000         1.574510e-16             0.000000   \n",
       "3               0.673807         5.486078e-01             0.544197   \n",
       "4               0.224249         1.207729e+00             1.298651   \n",
       "..                   ...                  ...                  ...   \n",
       "902             0.000000         8.404009e-01             0.768630   \n",
       "903             0.000000         1.574510e-16             0.000000   \n",
       "904             0.000000         1.574510e-16             0.000000   \n",
       "905             0.000000         1.574510e-16             0.000000   \n",
       "906             0.000000         1.574510e-16             0.000000   \n",
       "\n",
       "     generation_gwh_2017  generation_gwh_2018  \n",
       "0               0.000000             0.000000  \n",
       "1               0.000000             0.000000  \n",
       "2               0.000000             0.000000  \n",
       "3               0.638430             0.644994  \n",
       "4               0.961659             1.528137  \n",
       "..                   ...                  ...  \n",
       "902             0.570105             0.625309  \n",
       "903             0.000000             0.000000  \n",
       "904             0.000000             0.000000  \n",
       "905             0.000000             0.000000  \n",
       "906             0.000000             0.000000  \n",
       "\n",
       "[888 rows x 15 columns]"
      ]
     },
     "execution_count": 40,
     "metadata": {},
     "output_type": "execute_result"
    }
   ],
   "source": [
    "from scipy.stats import zscore\n",
    "z=np.abs(zscore(df))\n",
    "z"
   ]
  },
  {
   "cell_type": "markdown",
   "id": "97094c32",
   "metadata": {},
   "source": [
    "with the help of zscore removing the outliers"
   ]
  },
  {
   "cell_type": "code",
   "execution_count": 41,
   "id": "573cc63e",
   "metadata": {},
   "outputs": [
    {
     "name": "stdout",
     "output_type": "stream",
     "text": [
      "(array([ 15,  15,  15,  15,  15,  69,  78, 141, 141, 141, 141, 141, 141,\n",
      "       145, 156, 177, 181, 189, 205, 205, 205, 205, 205, 218, 240, 294,\n",
      "       303, 303, 303, 303, 303, 303, 316, 318, 328, 335, 337, 355, 358,\n",
      "       359, 359, 359, 359, 359, 359, 366, 370, 410, 421, 437, 443, 447,\n",
      "       471, 475, 477, 486, 486, 486, 486, 486, 486, 487, 487, 487, 487,\n",
      "       487, 487, 492, 501, 511, 530, 533, 564, 568, 574, 592, 612, 629,\n",
      "       639, 639, 639, 639, 639, 639, 647, 647, 647, 647, 647, 647, 651,\n",
      "       659, 678, 684, 684, 684, 684, 684, 684, 695, 698, 710, 710, 710,\n",
      "       713, 713, 713, 713, 713, 715, 715, 715, 715, 715, 715, 717, 756,\n",
      "       770, 770, 770, 770, 770, 770, 772, 791, 792, 792, 792, 792, 792,\n",
      "       792, 802, 815, 831, 853, 853, 854, 854, 855, 862, 863, 863, 863,\n",
      "       863, 863, 863, 876, 881], dtype=int64), array([ 2, 11, 12, 13, 14,  7,  7,  2, 10, 11, 12, 13, 14,  2, 10,  4,  4,\n",
      "        7, 10, 11, 12, 13, 14,  6,  4,  7,  2, 10, 11, 12, 13, 14,  7,  4,\n",
      "        4,  4,  6,  4,  2,  2, 10, 11, 12, 13, 14,  6,  2,  4,  4,  6,  8,\n",
      "        6,  6,  2,  6,  2, 10, 11, 12, 13, 14,  2, 10, 11, 12, 13, 14,  4,\n",
      "        8,  4,  6,  6,  6,  4,  6,  6,  6,  4,  2, 10, 11, 12, 13, 14,  2,\n",
      "       10, 11, 12, 13, 14,  7,  7,  7,  2, 10, 11, 12, 13, 14,  6,  6, 10,\n",
      "       11, 12, 10, 11, 12, 13, 14,  2, 10, 11, 12, 13, 14,  6,  2,  2, 10,\n",
      "       11, 12, 13, 14,  2,  6,  2, 10, 11, 12, 13, 14,  4,  7,  6,  7,  8,\n",
      "        7,  8,  8,  7,  2, 10, 11, 12, 13, 14,  7,  7], dtype=int64))\n"
     ]
    }
   ],
   "source": [
    "threshold=3\n",
    "print(np.where(z>3))"
   ]
  },
  {
   "cell_type": "markdown",
   "id": "30c801e0",
   "metadata": {},
   "source": [
    "setting threshold to 3 , because the 99.9% of data is present in the 3 Standard deviations"
   ]
  },
  {
   "cell_type": "code",
   "execution_count": 42,
   "id": "72a3bc29",
   "metadata": {},
   "outputs": [
    {
     "name": "stdout",
     "output_type": "stream",
     "text": [
      "3.8648902062418693\n",
      "3.7507210193701472\n"
     ]
    }
   ],
   "source": [
    "print(z.iloc[15][2])\n",
    "print(z.iloc[713][13])"
   ]
  },
  {
   "cell_type": "markdown",
   "id": "e68ea16a",
   "metadata": {},
   "source": [
    "we can see the Standard deviations more than 3"
   ]
  },
  {
   "cell_type": "code",
   "execution_count": 43,
   "id": "e935b4ee",
   "metadata": {},
   "outputs": [],
   "source": [
    "df1=df[(z<3).all(axis=1)]"
   ]
  },
  {
   "cell_type": "markdown",
   "id": "0417c073",
   "metadata": {},
   "source": [
    "saving the data into new variable as df1"
   ]
  },
  {
   "cell_type": "code",
   "execution_count": 44,
   "id": "9b538358",
   "metadata": {},
   "outputs": [
    {
     "data": {
      "text/html": [
       "<div>\n",
       "<style scoped>\n",
       "    .dataframe tbody tr th:only-of-type {\n",
       "        vertical-align: middle;\n",
       "    }\n",
       "\n",
       "    .dataframe tbody tr th {\n",
       "        vertical-align: top;\n",
       "    }\n",
       "\n",
       "    .dataframe thead th {\n",
       "        text-align: right;\n",
       "    }\n",
       "</style>\n",
       "<table border=\"1\" class=\"dataframe\">\n",
       "  <thead>\n",
       "    <tr style=\"text-align: right;\">\n",
       "      <th></th>\n",
       "      <th>name</th>\n",
       "      <th>gppd_idnr</th>\n",
       "      <th>capacity_mw</th>\n",
       "      <th>latitude</th>\n",
       "      <th>longitude</th>\n",
       "      <th>primary_fuel</th>\n",
       "      <th>commissioning_year</th>\n",
       "      <th>source</th>\n",
       "      <th>url</th>\n",
       "      <th>geolocation_source</th>\n",
       "      <th>generation_gwh_2014</th>\n",
       "      <th>generation_gwh_2015</th>\n",
       "      <th>generation_gwh_2016</th>\n",
       "      <th>generation_gwh_2017</th>\n",
       "      <th>generation_gwh_2018</th>\n",
       "    </tr>\n",
       "  </thead>\n",
       "  <tbody>\n",
       "    <tr>\n",
       "      <th>count</th>\n",
       "      <td>816.000000</td>\n",
       "      <td>816.000000</td>\n",
       "      <td>816.000000</td>\n",
       "      <td>816.000000</td>\n",
       "      <td>816.000000</td>\n",
       "      <td>816.000000</td>\n",
       "      <td>816.000000</td>\n",
       "      <td>816.000000</td>\n",
       "      <td>816.000000</td>\n",
       "      <td>816.000000</td>\n",
       "      <td>816.000000</td>\n",
       "      <td>816.000000</td>\n",
       "      <td>816.000000</td>\n",
       "      <td>816.000000</td>\n",
       "      <td>816.000000</td>\n",
       "    </tr>\n",
       "    <tr>\n",
       "      <th>mean</th>\n",
       "      <td>437.176471</td>\n",
       "      <td>449.122549</td>\n",
       "      <td>278.385467</td>\n",
       "      <td>21.087797</td>\n",
       "      <td>77.089498</td>\n",
       "      <td>3.209559</td>\n",
       "      <td>1997.770350</td>\n",
       "      <td>42.667892</td>\n",
       "      <td>90.756127</td>\n",
       "      <td>1.720588</td>\n",
       "      <td>2165.469226</td>\n",
       "      <td>2130.638159</td>\n",
       "      <td>2167.993772</td>\n",
       "      <td>2237.262468</td>\n",
       "      <td>2265.446388</td>\n",
       "    </tr>\n",
       "    <tr>\n",
       "      <th>std</th>\n",
       "      <td>257.468913</td>\n",
       "      <td>259.748745</td>\n",
       "      <td>429.314724</td>\n",
       "      <td>6.213224</td>\n",
       "      <td>4.421012</td>\n",
       "      <td>2.272580</td>\n",
       "      <td>11.411308</td>\n",
       "      <td>42.287143</td>\n",
       "      <td>64.698816</td>\n",
       "      <td>0.690242</td>\n",
       "      <td>1522.605877</td>\n",
       "      <td>1563.835210</td>\n",
       "      <td>1622.851097</td>\n",
       "      <td>1663.926343</td>\n",
       "      <td>1713.313232</td>\n",
       "    </tr>\n",
       "    <tr>\n",
       "      <th>min</th>\n",
       "      <td>0.000000</td>\n",
       "      <td>0.000000</td>\n",
       "      <td>0.000000</td>\n",
       "      <td>8.168900</td>\n",
       "      <td>68.644700</td>\n",
       "      <td>0.000000</td>\n",
       "      <td>1958.000000</td>\n",
       "      <td>0.000000</td>\n",
       "      <td>0.000000</td>\n",
       "      <td>0.000000</td>\n",
       "      <td>0.000000</td>\n",
       "      <td>0.000000</td>\n",
       "      <td>0.000000</td>\n",
       "      <td>0.000000</td>\n",
       "      <td>0.000000</td>\n",
       "    </tr>\n",
       "    <tr>\n",
       "      <th>25%</th>\n",
       "      <td>213.750000</td>\n",
       "      <td>222.500000</td>\n",
       "      <td>16.500000</td>\n",
       "      <td>16.765425</td>\n",
       "      <td>74.227575</td>\n",
       "      <td>1.000000</td>\n",
       "      <td>1997.091082</td>\n",
       "      <td>22.000000</td>\n",
       "      <td>58.000000</td>\n",
       "      <td>2.000000</td>\n",
       "      <td>1153.836172</td>\n",
       "      <td>827.971275</td>\n",
       "      <td>787.472850</td>\n",
       "      <td>828.446950</td>\n",
       "      <td>696.865750</td>\n",
       "    </tr>\n",
       "    <tr>\n",
       "      <th>50%</th>\n",
       "      <td>433.500000</td>\n",
       "      <td>456.500000</td>\n",
       "      <td>60.000000</td>\n",
       "      <td>21.292250</td>\n",
       "      <td>76.666550</td>\n",
       "      <td>3.000000</td>\n",
       "      <td>1997.091082</td>\n",
       "      <td>22.000000</td>\n",
       "      <td>58.000000</td>\n",
       "      <td>2.000000</td>\n",
       "      <td>2431.823590</td>\n",
       "      <td>2428.226946</td>\n",
       "      <td>2467.936859</td>\n",
       "      <td>2547.759305</td>\n",
       "      <td>2600.804099</td>\n",
       "    </tr>\n",
       "    <tr>\n",
       "      <th>75%</th>\n",
       "      <td>660.250000</td>\n",
       "      <td>676.250000</td>\n",
       "      <td>376.553250</td>\n",
       "      <td>25.183775</td>\n",
       "      <td>79.054725</td>\n",
       "      <td>6.000000</td>\n",
       "      <td>2003.000000</td>\n",
       "      <td>30.250000</td>\n",
       "      <td>108.250000</td>\n",
       "      <td>2.000000</td>\n",
       "      <td>2431.823590</td>\n",
       "      <td>2428.226946</td>\n",
       "      <td>2467.936859</td>\n",
       "      <td>2547.759305</td>\n",
       "      <td>2600.804099</td>\n",
       "    </tr>\n",
       "    <tr>\n",
       "      <th>max</th>\n",
       "      <td>887.000000</td>\n",
       "      <td>887.000000</td>\n",
       "      <td>2000.000000</td>\n",
       "      <td>34.649000</td>\n",
       "      <td>91.981000</td>\n",
       "      <td>7.000000</td>\n",
       "      <td>2018.000000</td>\n",
       "      <td>178.000000</td>\n",
       "      <td>283.000000</td>\n",
       "      <td>2.000000</td>\n",
       "      <td>10063.180000</td>\n",
       "      <td>10422.690000</td>\n",
       "      <td>10503.882000</td>\n",
       "      <td>9833.690000</td>\n",
       "      <td>9859.500000</td>\n",
       "    </tr>\n",
       "  </tbody>\n",
       "</table>\n",
       "</div>"
      ],
      "text/plain": [
       "             name   gppd_idnr  capacity_mw    latitude   longitude  \\\n",
       "count  816.000000  816.000000   816.000000  816.000000  816.000000   \n",
       "mean   437.176471  449.122549   278.385467   21.087797   77.089498   \n",
       "std    257.468913  259.748745   429.314724    6.213224    4.421012   \n",
       "min      0.000000    0.000000     0.000000    8.168900   68.644700   \n",
       "25%    213.750000  222.500000    16.500000   16.765425   74.227575   \n",
       "50%    433.500000  456.500000    60.000000   21.292250   76.666550   \n",
       "75%    660.250000  676.250000   376.553250   25.183775   79.054725   \n",
       "max    887.000000  887.000000  2000.000000   34.649000   91.981000   \n",
       "\n",
       "       primary_fuel  commissioning_year      source         url  \\\n",
       "count    816.000000          816.000000  816.000000  816.000000   \n",
       "mean       3.209559         1997.770350   42.667892   90.756127   \n",
       "std        2.272580           11.411308   42.287143   64.698816   \n",
       "min        0.000000         1958.000000    0.000000    0.000000   \n",
       "25%        1.000000         1997.091082   22.000000   58.000000   \n",
       "50%        3.000000         1997.091082   22.000000   58.000000   \n",
       "75%        6.000000         2003.000000   30.250000  108.250000   \n",
       "max        7.000000         2018.000000  178.000000  283.000000   \n",
       "\n",
       "       geolocation_source  generation_gwh_2014  generation_gwh_2015  \\\n",
       "count          816.000000           816.000000           816.000000   \n",
       "mean             1.720588          2165.469226          2130.638159   \n",
       "std              0.690242          1522.605877          1563.835210   \n",
       "min              0.000000             0.000000             0.000000   \n",
       "25%              2.000000          1153.836172           827.971275   \n",
       "50%              2.000000          2431.823590          2428.226946   \n",
       "75%              2.000000          2431.823590          2428.226946   \n",
       "max              2.000000         10063.180000         10422.690000   \n",
       "\n",
       "       generation_gwh_2016  generation_gwh_2017  generation_gwh_2018  \n",
       "count           816.000000           816.000000           816.000000  \n",
       "mean           2167.993772          2237.262468          2265.446388  \n",
       "std            1622.851097          1663.926343          1713.313232  \n",
       "min               0.000000             0.000000             0.000000  \n",
       "25%             787.472850           828.446950           696.865750  \n",
       "50%            2467.936859          2547.759305          2600.804099  \n",
       "75%            2467.936859          2547.759305          2600.804099  \n",
       "max           10503.882000          9833.690000          9859.500000  "
      ]
     },
     "execution_count": 44,
     "metadata": {},
     "output_type": "execute_result"
    }
   ],
   "source": [
    "df1.describe()"
   ]
  },
  {
   "cell_type": "markdown",
   "id": "272bef01",
   "metadata": {},
   "source": [
    "now we can see the outliers are removed from dataset"
   ]
  },
  {
   "cell_type": "code",
   "execution_count": 45,
   "id": "43ade577",
   "metadata": {},
   "outputs": [
    {
     "data": {
      "text/plain": [
       "name                   0.023906\n",
       "gppd_idnr             -0.042185\n",
       "capacity_mw            1.919400\n",
       "latitude              -0.112097\n",
       "longitude              0.941417\n",
       "primary_fuel           0.467322\n",
       "commissioning_year    -0.858978\n",
       "source                 1.806976\n",
       "url                    1.494394\n",
       "geolocation_source    -2.082277\n",
       "generation_gwh_2014    1.515541\n",
       "generation_gwh_2015    1.385609\n",
       "generation_gwh_2016    1.407312\n",
       "generation_gwh_2017    1.276561\n",
       "generation_gwh_2018    1.313628\n",
       "dtype: float64"
      ]
     },
     "execution_count": 45,
     "metadata": {},
     "output_type": "execute_result"
    }
   ],
   "source": [
    "df1.skew()"
   ]
  },
  {
   "cell_type": "markdown",
   "id": "203ad6dc",
   "metadata": {},
   "source": [
    "checking for the skewness of the dataset , all are in range"
   ]
  },
  {
   "cell_type": "code",
   "execution_count": 46,
   "id": "5c8722ba",
   "metadata": {},
   "outputs": [],
   "source": [
    "from statsmodels.stats.outliers_influence import variance_inflation_factor"
   ]
  },
  {
   "cell_type": "code",
   "execution_count": 47,
   "id": "a4897ad8",
   "metadata": {},
   "outputs": [
    {
     "data": {
      "text/html": [
       "<div>\n",
       "<style scoped>\n",
       "    .dataframe tbody tr th:only-of-type {\n",
       "        vertical-align: middle;\n",
       "    }\n",
       "\n",
       "    .dataframe tbody tr th {\n",
       "        vertical-align: top;\n",
       "    }\n",
       "\n",
       "    .dataframe thead th {\n",
       "        text-align: right;\n",
       "    }\n",
       "</style>\n",
       "<table border=\"1\" class=\"dataframe\">\n",
       "  <thead>\n",
       "    <tr style=\"text-align: right;\">\n",
       "      <th></th>\n",
       "      <th>VIF Values</th>\n",
       "      <th>VIF Features</th>\n",
       "    </tr>\n",
       "  </thead>\n",
       "  <tbody>\n",
       "    <tr>\n",
       "      <th>0</th>\n",
       "      <td>5.733485</td>\n",
       "      <td>name</td>\n",
       "    </tr>\n",
       "    <tr>\n",
       "      <th>1</th>\n",
       "      <td>15.538633</td>\n",
       "      <td>gppd_idnr</td>\n",
       "    </tr>\n",
       "    <tr>\n",
       "      <th>2</th>\n",
       "      <td>3.503485</td>\n",
       "      <td>capacity_mw</td>\n",
       "    </tr>\n",
       "    <tr>\n",
       "      <th>3</th>\n",
       "      <td>13.926981</td>\n",
       "      <td>latitude</td>\n",
       "    </tr>\n",
       "    <tr>\n",
       "      <th>4</th>\n",
       "      <td>406.351612</td>\n",
       "      <td>longitude</td>\n",
       "    </tr>\n",
       "    <tr>\n",
       "      <th>5</th>\n",
       "      <td>11.683056</td>\n",
       "      <td>primary_fuel</td>\n",
       "    </tr>\n",
       "    <tr>\n",
       "      <th>6</th>\n",
       "      <td>529.300391</td>\n",
       "      <td>commissioning_year</td>\n",
       "    </tr>\n",
       "    <tr>\n",
       "      <th>7</th>\n",
       "      <td>4.440523</td>\n",
       "      <td>source</td>\n",
       "    </tr>\n",
       "    <tr>\n",
       "      <th>8</th>\n",
       "      <td>9.527891</td>\n",
       "      <td>url</td>\n",
       "    </tr>\n",
       "    <tr>\n",
       "      <th>9</th>\n",
       "      <td>25.460639</td>\n",
       "      <td>geolocation_source</td>\n",
       "    </tr>\n",
       "    <tr>\n",
       "      <th>10</th>\n",
       "      <td>15.526152</td>\n",
       "      <td>generation_gwh_2014</td>\n",
       "    </tr>\n",
       "    <tr>\n",
       "      <th>11</th>\n",
       "      <td>29.078007</td>\n",
       "      <td>generation_gwh_2015</td>\n",
       "    </tr>\n",
       "    <tr>\n",
       "      <th>12</th>\n",
       "      <td>34.271893</td>\n",
       "      <td>generation_gwh_2016</td>\n",
       "    </tr>\n",
       "    <tr>\n",
       "      <th>13</th>\n",
       "      <td>39.608644</td>\n",
       "      <td>generation_gwh_2017</td>\n",
       "    </tr>\n",
       "    <tr>\n",
       "      <th>14</th>\n",
       "      <td>38.057204</td>\n",
       "      <td>generation_gwh_2018</td>\n",
       "    </tr>\n",
       "  </tbody>\n",
       "</table>\n",
       "</div>"
      ],
      "text/plain": [
       "    VIF Values         VIF Features\n",
       "0     5.733485                 name\n",
       "1    15.538633            gppd_idnr\n",
       "2     3.503485          capacity_mw\n",
       "3    13.926981             latitude\n",
       "4   406.351612            longitude\n",
       "5    11.683056         primary_fuel\n",
       "6   529.300391   commissioning_year\n",
       "7     4.440523               source\n",
       "8     9.527891                  url\n",
       "9    25.460639   geolocation_source\n",
       "10   15.526152  generation_gwh_2014\n",
       "11   29.078007  generation_gwh_2015\n",
       "12   34.271893  generation_gwh_2016\n",
       "13   39.608644  generation_gwh_2017\n",
       "14   38.057204  generation_gwh_2018"
      ]
     },
     "execution_count": 47,
     "metadata": {},
     "output_type": "execute_result"
    }
   ],
   "source": [
    "vif=pd.DataFrame()\n",
    "vif['VIF Values']=[variance_inflation_factor(df1.values,i)\n",
    "                  for i in range(len(df1.columns))]\n",
    "vif['VIF Features']=df1.columns\n",
    "vif"
   ]
  },
  {
   "cell_type": "markdown",
   "id": "e1cca2f4",
   "metadata": {},
   "source": [
    "checking for the multi colinearity of data,we can see 2 columns has more vif values , we need to drop the columns"
   ]
  },
  {
   "cell_type": "code",
   "execution_count": 48,
   "id": "07572dda",
   "metadata": {},
   "outputs": [],
   "source": [
    "df1.drop(['commissioning_year'],axis=1,inplace=True)"
   ]
  },
  {
   "cell_type": "code",
   "execution_count": 49,
   "id": "5922285a",
   "metadata": {},
   "outputs": [
    {
     "data": {
      "text/html": [
       "<div>\n",
       "<style scoped>\n",
       "    .dataframe tbody tr th:only-of-type {\n",
       "        vertical-align: middle;\n",
       "    }\n",
       "\n",
       "    .dataframe tbody tr th {\n",
       "        vertical-align: top;\n",
       "    }\n",
       "\n",
       "    .dataframe thead th {\n",
       "        text-align: right;\n",
       "    }\n",
       "</style>\n",
       "<table border=\"1\" class=\"dataframe\">\n",
       "  <thead>\n",
       "    <tr style=\"text-align: right;\">\n",
       "      <th></th>\n",
       "      <th>VIF Values</th>\n",
       "      <th>VIF Features</th>\n",
       "    </tr>\n",
       "  </thead>\n",
       "  <tbody>\n",
       "    <tr>\n",
       "      <th>0</th>\n",
       "      <td>5.695540</td>\n",
       "      <td>name</td>\n",
       "    </tr>\n",
       "    <tr>\n",
       "      <th>1</th>\n",
       "      <td>14.820457</td>\n",
       "      <td>gppd_idnr</td>\n",
       "    </tr>\n",
       "    <tr>\n",
       "      <th>2</th>\n",
       "      <td>3.484005</td>\n",
       "      <td>capacity_mw</td>\n",
       "    </tr>\n",
       "    <tr>\n",
       "      <th>3</th>\n",
       "      <td>13.123413</td>\n",
       "      <td>latitude</td>\n",
       "    </tr>\n",
       "    <tr>\n",
       "      <th>4</th>\n",
       "      <td>57.029510</td>\n",
       "      <td>longitude</td>\n",
       "    </tr>\n",
       "    <tr>\n",
       "      <th>5</th>\n",
       "      <td>10.176799</td>\n",
       "      <td>primary_fuel</td>\n",
       "    </tr>\n",
       "    <tr>\n",
       "      <th>6</th>\n",
       "      <td>4.013597</td>\n",
       "      <td>source</td>\n",
       "    </tr>\n",
       "    <tr>\n",
       "      <th>7</th>\n",
       "      <td>9.329016</td>\n",
       "      <td>url</td>\n",
       "    </tr>\n",
       "    <tr>\n",
       "      <th>8</th>\n",
       "      <td>22.543476</td>\n",
       "      <td>geolocation_source</td>\n",
       "    </tr>\n",
       "    <tr>\n",
       "      <th>9</th>\n",
       "      <td>15.526074</td>\n",
       "      <td>generation_gwh_2014</td>\n",
       "    </tr>\n",
       "    <tr>\n",
       "      <th>10</th>\n",
       "      <td>28.979398</td>\n",
       "      <td>generation_gwh_2015</td>\n",
       "    </tr>\n",
       "    <tr>\n",
       "      <th>11</th>\n",
       "      <td>34.157729</td>\n",
       "      <td>generation_gwh_2016</td>\n",
       "    </tr>\n",
       "    <tr>\n",
       "      <th>12</th>\n",
       "      <td>39.553546</td>\n",
       "      <td>generation_gwh_2017</td>\n",
       "    </tr>\n",
       "    <tr>\n",
       "      <th>13</th>\n",
       "      <td>38.050570</td>\n",
       "      <td>generation_gwh_2018</td>\n",
       "    </tr>\n",
       "  </tbody>\n",
       "</table>\n",
       "</div>"
      ],
      "text/plain": [
       "    VIF Values         VIF Features\n",
       "0     5.695540                 name\n",
       "1    14.820457            gppd_idnr\n",
       "2     3.484005          capacity_mw\n",
       "3    13.123413             latitude\n",
       "4    57.029510            longitude\n",
       "5    10.176799         primary_fuel\n",
       "6     4.013597               source\n",
       "7     9.329016                  url\n",
       "8    22.543476   geolocation_source\n",
       "9    15.526074  generation_gwh_2014\n",
       "10   28.979398  generation_gwh_2015\n",
       "11   34.157729  generation_gwh_2016\n",
       "12   39.553546  generation_gwh_2017\n",
       "13   38.050570  generation_gwh_2018"
      ]
     },
     "execution_count": 49,
     "metadata": {},
     "output_type": "execute_result"
    }
   ],
   "source": [
    "vif=pd.DataFrame()\n",
    "vif['VIF Values']=[variance_inflation_factor(df1.values,i)\n",
    "                  for i in range(len(df1.columns))]\n",
    "vif['VIF Features']=df1.columns\n",
    "vif"
   ]
  },
  {
   "cell_type": "code",
   "execution_count": 50,
   "id": "d56b3ecf",
   "metadata": {},
   "outputs": [
    {
     "data": {
      "text/plain": [
       "<AxesSubplot:>"
      ]
     },
     "execution_count": 50,
     "metadata": {},
     "output_type": "execute_result"
    },
    {
     "data": {
      "image/png": "[encoded data removed]",
      "text/plain": [
       "<Figure size 720x432 with 2 Axes>"
      ]
     },
     "metadata": {
      "needs_background": "light"
     },
     "output_type": "display_data"
    }
   ],
   "source": [
    "plt.figure(figsize=(10,6))\n",
    "sns.heatmap(df1.corr(),annot=True,fmt='0.2f',cmap='Blues',linewidth=0.2)"
   ]
  },
  {
   "cell_type": "markdown",
   "id": "e6d24a84",
   "metadata": {},
   "source": [
    "from the graph it shows generation_gwh_2016 and 2017 columns showing littile co reletion we need to drop 1 column"
   ]
  },
  {
   "cell_type": "code",
   "execution_count": 51,
   "id": "e4092ca3",
   "metadata": {},
   "outputs": [],
   "source": [
    "df1.drop(['generation_gwh_2016'],axis=1,inplace=True)"
   ]
  },
  {
   "cell_type": "code",
   "execution_count": 52,
   "id": "ae9c87ef",
   "metadata": {},
   "outputs": [
    {
     "data": {
      "text/plain": [
       "<AxesSubplot:>"
      ]
     },
     "execution_count": 52,
     "metadata": {},
     "output_type": "execute_result"
    },
    {
     "data": {
      "image/png": "[encoded data removed]",
      "text/plain": [
       "<Figure size 720x432 with 2 Axes>"
      ]
     },
     "metadata": {
      "needs_background": "light"
     },
     "output_type": "display_data"
    }
   ],
   "source": [
    "plt.figure(figsize=(10,6))\n",
    "sns.heatmap(df1.corr(),annot=True,fmt='0.2f',cmap='Blues',linewidth=0.2)"
   ]
  },
  {
   "cell_type": "markdown",
   "id": "7a5e0521",
   "metadata": {},
   "source": [
    "# 1) Primary Fuel prediction"
   ]
  },
  {
   "cell_type": "code",
   "execution_count": 53,
   "id": "f0ae0aa7",
   "metadata": {},
   "outputs": [
    {
     "data": {
      "text/html": [
       "<div>\n",
       "<style scoped>\n",
       "    .dataframe tbody tr th:only-of-type {\n",
       "        vertical-align: middle;\n",
       "    }\n",
       "\n",
       "    .dataframe tbody tr th {\n",
       "        vertical-align: top;\n",
       "    }\n",
       "\n",
       "    .dataframe thead th {\n",
       "        text-align: right;\n",
       "    }\n",
       "</style>\n",
       "<table border=\"1\" class=\"dataframe\">\n",
       "  <thead>\n",
       "    <tr style=\"text-align: right;\">\n",
       "      <th></th>\n",
       "      <th>name</th>\n",
       "      <th>gppd_idnr</th>\n",
       "      <th>capacity_mw</th>\n",
       "      <th>latitude</th>\n",
       "      <th>longitude</th>\n",
       "      <th>source</th>\n",
       "      <th>url</th>\n",
       "      <th>geolocation_source</th>\n",
       "      <th>generation_gwh_2014</th>\n",
       "      <th>generation_gwh_2015</th>\n",
       "      <th>generation_gwh_2017</th>\n",
       "      <th>generation_gwh_2018</th>\n",
       "    </tr>\n",
       "  </thead>\n",
       "  <tbody>\n",
       "    <tr>\n",
       "      <th>0</th>\n",
       "      <td>0.0</td>\n",
       "      <td>656.0</td>\n",
       "      <td>2.5</td>\n",
       "      <td>28.1839</td>\n",
       "      <td>73.2407</td>\n",
       "      <td>109.0</td>\n",
       "      <td>126.0</td>\n",
       "      <td>1.0</td>\n",
       "      <td>2431.823590</td>\n",
       "      <td>2428.226946</td>\n",
       "      <td>2547.759305</td>\n",
       "      <td>2600.804099</td>\n",
       "    </tr>\n",
       "    <tr>\n",
       "      <th>1</th>\n",
       "      <td>1.0</td>\n",
       "      <td>519.0</td>\n",
       "      <td>98.0</td>\n",
       "      <td>24.7663</td>\n",
       "      <td>74.6090</td>\n",
       "      <td>174.0</td>\n",
       "      <td>169.0</td>\n",
       "      <td>2.0</td>\n",
       "      <td>2431.823590</td>\n",
       "      <td>2428.226946</td>\n",
       "      <td>2547.759305</td>\n",
       "      <td>2600.804099</td>\n",
       "    </tr>\n",
       "    <tr>\n",
       "      <th>2</th>\n",
       "      <td>2.0</td>\n",
       "      <td>845.0</td>\n",
       "      <td>39.2</td>\n",
       "      <td>21.9038</td>\n",
       "      <td>69.3732</td>\n",
       "      <td>21.0</td>\n",
       "      <td>196.0</td>\n",
       "      <td>2.0</td>\n",
       "      <td>2431.823590</td>\n",
       "      <td>2428.226946</td>\n",
       "      <td>2547.759305</td>\n",
       "      <td>2600.804099</td>\n",
       "    </tr>\n",
       "    <tr>\n",
       "      <th>3</th>\n",
       "      <td>3.0</td>\n",
       "      <td>0.0</td>\n",
       "      <td>135.0</td>\n",
       "      <td>23.8712</td>\n",
       "      <td>91.3602</td>\n",
       "      <td>22.0</td>\n",
       "      <td>58.0</td>\n",
       "      <td>2.0</td>\n",
       "      <td>617.789264</td>\n",
       "      <td>843.747000</td>\n",
       "      <td>663.774500</td>\n",
       "      <td>626.239128</td>\n",
       "    </tr>\n",
       "    <tr>\n",
       "      <th>4</th>\n",
       "      <td>4.0</td>\n",
       "      <td>1.0</td>\n",
       "      <td>1800.0</td>\n",
       "      <td>21.9603</td>\n",
       "      <td>82.4091</td>\n",
       "      <td>22.0</td>\n",
       "      <td>58.0</td>\n",
       "      <td>2.0</td>\n",
       "      <td>3035.550000</td>\n",
       "      <td>5916.370000</td>\n",
       "      <td>5385.579736</td>\n",
       "      <td>7279.000000</td>\n",
       "    </tr>\n",
       "    <tr>\n",
       "      <th>...</th>\n",
       "      <td>...</td>\n",
       "      <td>...</td>\n",
       "      <td>...</td>\n",
       "      <td>...</td>\n",
       "      <td>...</td>\n",
       "      <td>...</td>\n",
       "      <td>...</td>\n",
       "      <td>...</td>\n",
       "      <td>...</td>\n",
       "      <td>...</td>\n",
       "      <td>...</td>\n",
       "      <td>...</td>\n",
       "    </tr>\n",
       "    <tr>\n",
       "      <th>902</th>\n",
       "      <td>883.0</td>\n",
       "      <td>491.0</td>\n",
       "      <td>1600.0</td>\n",
       "      <td>16.2949</td>\n",
       "      <td>77.3568</td>\n",
       "      <td>22.0</td>\n",
       "      <td>58.0</td>\n",
       "      <td>2.0</td>\n",
       "      <td>2431.823590</td>\n",
       "      <td>0.994875</td>\n",
       "      <td>865.400000</td>\n",
       "      <td>686.500000</td>\n",
       "    </tr>\n",
       "    <tr>\n",
       "      <th>903</th>\n",
       "      <td>884.0</td>\n",
       "      <td>814.0</td>\n",
       "      <td>3.0</td>\n",
       "      <td>12.8932</td>\n",
       "      <td>78.1654</td>\n",
       "      <td>77.0</td>\n",
       "      <td>22.0</td>\n",
       "      <td>0.0</td>\n",
       "      <td>2431.823590</td>\n",
       "      <td>2428.226946</td>\n",
       "      <td>2547.759305</td>\n",
       "      <td>2600.804099</td>\n",
       "    </tr>\n",
       "    <tr>\n",
       "      <th>904</th>\n",
       "      <td>885.0</td>\n",
       "      <td>873.0</td>\n",
       "      <td>25.5</td>\n",
       "      <td>15.2758</td>\n",
       "      <td>75.5811</td>\n",
       "      <td>21.0</td>\n",
       "      <td>246.0</td>\n",
       "      <td>2.0</td>\n",
       "      <td>2431.823590</td>\n",
       "      <td>2428.226946</td>\n",
       "      <td>2547.759305</td>\n",
       "      <td>2600.804099</td>\n",
       "    </tr>\n",
       "    <tr>\n",
       "      <th>905</th>\n",
       "      <td>886.0</td>\n",
       "      <td>539.0</td>\n",
       "      <td>80.0</td>\n",
       "      <td>24.3500</td>\n",
       "      <td>73.7477</td>\n",
       "      <td>59.0</td>\n",
       "      <td>82.0</td>\n",
       "      <td>2.0</td>\n",
       "      <td>2431.823590</td>\n",
       "      <td>2428.226946</td>\n",
       "      <td>2547.759305</td>\n",
       "      <td>2600.804099</td>\n",
       "    </tr>\n",
       "    <tr>\n",
       "      <th>906</th>\n",
       "      <td>887.0</td>\n",
       "      <td>858.0</td>\n",
       "      <td>16.5</td>\n",
       "      <td>9.9344</td>\n",
       "      <td>77.4768</td>\n",
       "      <td>21.0</td>\n",
       "      <td>234.0</td>\n",
       "      <td>2.0</td>\n",
       "      <td>2431.823590</td>\n",
       "      <td>2428.226946</td>\n",
       "      <td>2547.759305</td>\n",
       "      <td>2600.804099</td>\n",
       "    </tr>\n",
       "  </tbody>\n",
       "</table>\n",
       "<p>816 rows × 12 columns</p>\n",
       "</div>"
      ],
      "text/plain": [
       "      name  gppd_idnr  capacity_mw  latitude  longitude  source    url  \\\n",
       "0      0.0      656.0          2.5   28.1839    73.2407   109.0  126.0   \n",
       "1      1.0      519.0         98.0   24.7663    74.6090   174.0  169.0   \n",
       "2      2.0      845.0         39.2   21.9038    69.3732    21.0  196.0   \n",
       "3      3.0        0.0        135.0   23.8712    91.3602    22.0   58.0   \n",
       "4      4.0        1.0       1800.0   21.9603    82.4091    22.0   58.0   \n",
       "..     ...        ...          ...       ...        ...     ...    ...   \n",
       "902  883.0      491.0       1600.0   16.2949    77.3568    22.0   58.0   \n",
       "903  884.0      814.0          3.0   12.8932    78.1654    77.0   22.0   \n",
       "904  885.0      873.0         25.5   15.2758    75.5811    21.0  246.0   \n",
       "905  886.0      539.0         80.0   24.3500    73.7477    59.0   82.0   \n",
       "906  887.0      858.0         16.5    9.9344    77.4768    21.0  234.0   \n",
       "\n",
       "     geolocation_source  generation_gwh_2014  generation_gwh_2015  \\\n",
       "0                   1.0          2431.823590          2428.226946   \n",
       "1                   2.0          2431.823590          2428.226946   \n",
       "2                   2.0          2431.823590          2428.226946   \n",
       "3                   2.0           617.789264           843.747000   \n",
       "4                   2.0          3035.550000          5916.370000   \n",
       "..                  ...                  ...                  ...   \n",
       "902                 2.0          2431.823590             0.994875   \n",
       "903                 0.0          2431.823590          2428.226946   \n",
       "904                 2.0          2431.823590          2428.226946   \n",
       "905                 2.0          2431.823590          2428.226946   \n",
       "906                 2.0          2431.823590          2428.226946   \n",
       "\n",
       "     generation_gwh_2017  generation_gwh_2018  \n",
       "0            2547.759305          2600.804099  \n",
       "1            2547.759305          2600.804099  \n",
       "2            2547.759305          2600.804099  \n",
       "3             663.774500           626.239128  \n",
       "4            5385.579736          7279.000000  \n",
       "..                   ...                  ...  \n",
       "902           865.400000           686.500000  \n",
       "903          2547.759305          2600.804099  \n",
       "904          2547.759305          2600.804099  \n",
       "905          2547.759305          2600.804099  \n",
       "906          2547.759305          2600.804099  \n",
       "\n",
       "[816 rows x 12 columns]"
      ]
     },
     "execution_count": 53,
     "metadata": {},
     "output_type": "execute_result"
    }
   ],
   "source": [
    "x=df1.drop('primary_fuel',axis=1)\n",
    "x"
   ]
  },
  {
   "cell_type": "markdown",
   "id": "79c71b96",
   "metadata": {},
   "source": [
    "separating the independent variables as x"
   ]
  },
  {
   "cell_type": "code",
   "execution_count": 54,
   "id": "478e2426",
   "metadata": {},
   "outputs": [
    {
     "data": {
      "text/plain": [
       "0      6.0\n",
       "1      1.0\n",
       "2      7.0\n",
       "3      2.0\n",
       "4      1.0\n",
       "      ... \n",
       "902    1.0\n",
       "903    6.0\n",
       "904    7.0\n",
       "905    1.0\n",
       "906    7.0\n",
       "Name: primary_fuel, Length: 816, dtype: float64"
      ]
     },
     "execution_count": 54,
     "metadata": {},
     "output_type": "execute_result"
    }
   ],
   "source": [
    "y=df1['primary_fuel']\n",
    "y"
   ]
  },
  {
   "cell_type": "markdown",
   "id": "4e272bf5",
   "metadata": {},
   "source": [
    "separated dependent variable as y"
   ]
  },
  {
   "cell_type": "code",
   "execution_count": 55,
   "id": "c862e95e",
   "metadata": {},
   "outputs": [
    {
     "data": {
      "text/html": [
       "<div>\n",
       "<style scoped>\n",
       "    .dataframe tbody tr th:only-of-type {\n",
       "        vertical-align: middle;\n",
       "    }\n",
       "\n",
       "    .dataframe tbody tr th {\n",
       "        vertical-align: top;\n",
       "    }\n",
       "\n",
       "    .dataframe thead th {\n",
       "        text-align: right;\n",
       "    }\n",
       "</style>\n",
       "<table border=\"1\" class=\"dataframe\">\n",
       "  <thead>\n",
       "    <tr style=\"text-align: right;\">\n",
       "      <th></th>\n",
       "      <th>name</th>\n",
       "      <th>gppd_idnr</th>\n",
       "      <th>capacity_mw</th>\n",
       "      <th>latitude</th>\n",
       "      <th>longitude</th>\n",
       "      <th>source</th>\n",
       "      <th>url</th>\n",
       "      <th>geolocation_source</th>\n",
       "      <th>generation_gwh_2014</th>\n",
       "      <th>generation_gwh_2015</th>\n",
       "      <th>generation_gwh_2017</th>\n",
       "      <th>generation_gwh_2018</th>\n",
       "    </tr>\n",
       "  </thead>\n",
       "  <tbody>\n",
       "    <tr>\n",
       "      <th>0</th>\n",
       "      <td>-1.699019</td>\n",
       "      <td>0.796941</td>\n",
       "      <td>-0.643012</td>\n",
       "      <td>1.142797</td>\n",
       "      <td>-0.871103</td>\n",
       "      <td>1.569574</td>\n",
       "      <td>0.545072</td>\n",
       "      <td>-1.044604</td>\n",
       "      <td>0.175041</td>\n",
       "      <td>0.190411</td>\n",
       "      <td>0.186719</td>\n",
       "      <td>0.195856</td>\n",
       "    </tr>\n",
       "    <tr>\n",
       "      <th>1</th>\n",
       "      <td>-1.695133</td>\n",
       "      <td>0.269184</td>\n",
       "      <td>-0.420428</td>\n",
       "      <td>0.592407</td>\n",
       "      <td>-0.561414</td>\n",
       "      <td>3.107627</td>\n",
       "      <td>1.210097</td>\n",
       "      <td>0.405051</td>\n",
       "      <td>0.175041</td>\n",
       "      <td>0.190411</td>\n",
       "      <td>0.186719</td>\n",
       "      <td>0.195856</td>\n",
       "    </tr>\n",
       "    <tr>\n",
       "      <th>2</th>\n",
       "      <td>-1.691246</td>\n",
       "      <td>1.525013</td>\n",
       "      <td>-0.557475</td>\n",
       "      <td>0.131414</td>\n",
       "      <td>-1.746439</td>\n",
       "      <td>-0.512713</td>\n",
       "      <td>1.627672</td>\n",
       "      <td>0.405051</td>\n",
       "      <td>0.175041</td>\n",
       "      <td>0.190411</td>\n",
       "      <td>0.186719</td>\n",
       "      <td>0.195856</td>\n",
       "    </tr>\n",
       "    <tr>\n",
       "      <th>3</th>\n",
       "      <td>-1.687360</td>\n",
       "      <td>-1.730126</td>\n",
       "      <td>-0.334192</td>\n",
       "      <td>0.448255</td>\n",
       "      <td>3.229906</td>\n",
       "      <td>-0.489051</td>\n",
       "      <td>-0.506597</td>\n",
       "      <td>0.405051</td>\n",
       "      <td>-1.017091</td>\n",
       "      <td>-0.823412</td>\n",
       "      <td>-0.946228</td>\n",
       "      <td>-0.957334</td>\n",
       "    </tr>\n",
       "    <tr>\n",
       "      <th>4</th>\n",
       "      <td>-1.683474</td>\n",
       "      <td>-1.726274</td>\n",
       "      <td>3.546461</td>\n",
       "      <td>0.140513</td>\n",
       "      <td>1.203992</td>\n",
       "      <td>-0.489051</td>\n",
       "      <td>-0.506597</td>\n",
       "      <td>0.405051</td>\n",
       "      <td>0.571792</td>\n",
       "      <td>2.422284</td>\n",
       "      <td>1.893262</td>\n",
       "      <td>2.928028</td>\n",
       "    </tr>\n",
       "    <tr>\n",
       "      <th>...</th>\n",
       "      <td>...</td>\n",
       "      <td>...</td>\n",
       "      <td>...</td>\n",
       "      <td>...</td>\n",
       "      <td>...</td>\n",
       "      <td>...</td>\n",
       "      <td>...</td>\n",
       "      <td>...</td>\n",
       "      <td>...</td>\n",
       "      <td>...</td>\n",
       "      <td>...</td>\n",
       "      <td>...</td>\n",
       "    </tr>\n",
       "    <tr>\n",
       "      <th>811</th>\n",
       "      <td>1.732625</td>\n",
       "      <td>0.161322</td>\n",
       "      <td>3.080316</td>\n",
       "      <td>-0.771876</td>\n",
       "      <td>0.060499</td>\n",
       "      <td>-0.489051</td>\n",
       "      <td>-0.506597</td>\n",
       "      <td>0.405051</td>\n",
       "      <td>0.175041</td>\n",
       "      <td>-1.362643</td>\n",
       "      <td>-0.824979</td>\n",
       "      <td>-0.922140</td>\n",
       "    </tr>\n",
       "    <tr>\n",
       "      <th>812</th>\n",
       "      <td>1.736511</td>\n",
       "      <td>1.405594</td>\n",
       "      <td>-0.641847</td>\n",
       "      <td>-1.319705</td>\n",
       "      <td>0.243510</td>\n",
       "      <td>0.812378</td>\n",
       "      <td>-1.063363</td>\n",
       "      <td>-2.494259</td>\n",
       "      <td>0.175041</td>\n",
       "      <td>0.190411</td>\n",
       "      <td>0.186719</td>\n",
       "      <td>0.195856</td>\n",
       "    </tr>\n",
       "    <tr>\n",
       "      <th>813</th>\n",
       "      <td>1.740397</td>\n",
       "      <td>1.632876</td>\n",
       "      <td>-0.589406</td>\n",
       "      <td>-0.935998</td>\n",
       "      <td>-0.341398</td>\n",
       "      <td>-0.512713</td>\n",
       "      <td>2.400957</td>\n",
       "      <td>0.405051</td>\n",
       "      <td>0.175041</td>\n",
       "      <td>0.190411</td>\n",
       "      <td>0.186719</td>\n",
       "      <td>0.195856</td>\n",
       "    </tr>\n",
       "    <tr>\n",
       "      <th>814</th>\n",
       "      <td>1.744284</td>\n",
       "      <td>0.346229</td>\n",
       "      <td>-0.462381</td>\n",
       "      <td>0.525364</td>\n",
       "      <td>-0.756353</td>\n",
       "      <td>0.386456</td>\n",
       "      <td>-0.135420</td>\n",
       "      <td>0.405051</td>\n",
       "      <td>0.175041</td>\n",
       "      <td>0.190411</td>\n",
       "      <td>0.186719</td>\n",
       "      <td>0.195856</td>\n",
       "    </tr>\n",
       "    <tr>\n",
       "      <th>815</th>\n",
       "      <td>1.748170</td>\n",
       "      <td>1.575092</td>\n",
       "      <td>-0.610382</td>\n",
       "      <td>-1.796207</td>\n",
       "      <td>0.087659</td>\n",
       "      <td>-0.512713</td>\n",
       "      <td>2.215369</td>\n",
       "      <td>0.405051</td>\n",
       "      <td>0.175041</td>\n",
       "      <td>0.190411</td>\n",
       "      <td>0.186719</td>\n",
       "      <td>0.195856</td>\n",
       "    </tr>\n",
       "  </tbody>\n",
       "</table>\n",
       "<p>816 rows × 12 columns</p>\n",
       "</div>"
      ],
      "text/plain": [
       "         name  gppd_idnr  capacity_mw  latitude  longitude    source  \\\n",
       "0   -1.699019   0.796941    -0.643012  1.142797  -0.871103  1.569574   \n",
       "1   -1.695133   0.269184    -0.420428  0.592407  -0.561414  3.107627   \n",
       "2   -1.691246   1.525013    -0.557475  0.131414  -1.746439 -0.512713   \n",
       "3   -1.687360  -1.730126    -0.334192  0.448255   3.229906 -0.489051   \n",
       "4   -1.683474  -1.726274     3.546461  0.140513   1.203992 -0.489051   \n",
       "..        ...        ...          ...       ...        ...       ...   \n",
       "811  1.732625   0.161322     3.080316 -0.771876   0.060499 -0.489051   \n",
       "812  1.736511   1.405594    -0.641847 -1.319705   0.243510  0.812378   \n",
       "813  1.740397   1.632876    -0.589406 -0.935998  -0.341398 -0.512713   \n",
       "814  1.744284   0.346229    -0.462381  0.525364  -0.756353  0.386456   \n",
       "815  1.748170   1.575092    -0.610382 -1.796207   0.087659 -0.512713   \n",
       "\n",
       "          url  geolocation_source  generation_gwh_2014  generation_gwh_2015  \\\n",
       "0    0.545072           -1.044604             0.175041             0.190411   \n",
       "1    1.210097            0.405051             0.175041             0.190411   \n",
       "2    1.627672            0.405051             0.175041             0.190411   \n",
       "3   -0.506597            0.405051            -1.017091            -0.823412   \n",
       "4   -0.506597            0.405051             0.571792             2.422284   \n",
       "..        ...                 ...                  ...                  ...   \n",
       "811 -0.506597            0.405051             0.175041            -1.362643   \n",
       "812 -1.063363           -2.494259             0.175041             0.190411   \n",
       "813  2.400957            0.405051             0.175041             0.190411   \n",
       "814 -0.135420            0.405051             0.175041             0.190411   \n",
       "815  2.215369            0.405051             0.175041             0.190411   \n",
       "\n",
       "     generation_gwh_2017  generation_gwh_2018  \n",
       "0               0.186719             0.195856  \n",
       "1               0.186719             0.195856  \n",
       "2               0.186719             0.195856  \n",
       "3              -0.946228            -0.957334  \n",
       "4               1.893262             2.928028  \n",
       "..                   ...                  ...  \n",
       "811            -0.824979            -0.922140  \n",
       "812             0.186719             0.195856  \n",
       "813             0.186719             0.195856  \n",
       "814             0.186719             0.195856  \n",
       "815             0.186719             0.195856  \n",
       "\n",
       "[816 rows x 12 columns]"
      ]
     },
     "execution_count": 55,
     "metadata": {},
     "output_type": "execute_result"
    }
   ],
   "source": [
    "from sklearn.preprocessing import StandardScaler\n",
    "sc=StandardScaler()\n",
    "x=pd.DataFrame(sc.fit_transform(x),columns=x.columns)\n",
    "x"
   ]
  },
  {
   "cell_type": "markdown",
   "id": "ecbcdd36",
   "metadata": {},
   "source": [
    "using the StandardScaler to standardize the values of data set with mean zero and Standard deviation as -1 to +1"
   ]
  },
  {
   "cell_type": "code",
   "execution_count": 56,
   "id": "8e2d0fb0",
   "metadata": {},
   "outputs": [],
   "source": [
    "from imblearn.over_sampling import SMOTE\n",
    "sm=SMOTE()\n",
    "x,y=sm.fit_resample(x,y)"
   ]
  },
  {
   "cell_type": "markdown",
   "id": "2d04743c",
   "metadata": {},
   "source": [
    "using the SMOTE fuction to resample x and y values , because the target variable has different types of outputs we need to equal the count "
   ]
  },
  {
   "cell_type": "code",
   "execution_count": 57,
   "id": "bbd6311f",
   "metadata": {},
   "outputs": [
    {
     "data": {
      "text/plain": [
       "6.0    231\n",
       "1.0    231\n",
       "7.0    231\n",
       "2.0    231\n",
       "3.0    231\n",
       "0.0    231\n",
       "5.0    231\n",
       "4.0    231\n",
       "Name: primary_fuel, dtype: int64"
      ]
     },
     "execution_count": 57,
     "metadata": {},
     "output_type": "execute_result"
    }
   ],
   "source": [
    "y.value_counts()"
   ]
  },
  {
   "cell_type": "markdown",
   "id": "77896ef2",
   "metadata": {},
   "source": [
    "now all the predictions are equal in quantity "
   ]
  },
  {
   "cell_type": "markdown",
   "id": "cd95e5f2",
   "metadata": {},
   "source": [
    "# Modelling"
   ]
  },
  {
   "cell_type": "markdown",
   "id": "589295b5",
   "metadata": {},
   "source": [
    "since the target has multiclass data is present , its an Classification problem"
   ]
  },
  {
   "cell_type": "code",
   "execution_count": 58,
   "id": "4b9dc46b",
   "metadata": {},
   "outputs": [],
   "source": [
    "from sklearn.tree import DecisionTreeClassifier as DTC\n",
    "from sklearn.model_selection import train_test_split\n",
    "from sklearn.metrics import accuracy_score,classification_report,confusion_matrix"
   ]
  },
  {
   "cell_type": "markdown",
   "id": "5b4ee097",
   "metadata": {},
   "source": [
    "importing all the nessesary models for modelling "
   ]
  },
  {
   "cell_type": "code",
   "execution_count": 59,
   "id": "5dca1ea5",
   "metadata": {},
   "outputs": [
    {
     "name": "stdout",
     "output_type": "stream",
     "text": [
      "Best Accuracy score is  0.9261261261261261 at the random state of  124\n"
     ]
    }
   ],
   "source": [
    "maxAccu=0\n",
    "maxRs=0\n",
    "\n",
    "for i in range(1,1800):\n",
    "    x_train,x_test,y_train,y_test=train_test_split(x,y,test_size=0.30,random_state=i)\n",
    "    dtc=DTC()\n",
    "    dtc.fit(x_train,y_train)\n",
    "    pred=dtc.predict(x_test)\n",
    "    accu=accuracy_score(y_test,pred)\n",
    "    if accu>maxAccu:\n",
    "        maxAccu=accu\n",
    "        maxRs=i\n",
    "print('Best Accuracy score is ',maxAccu,'at the random state of ',maxRs)"
   ]
  },
  {
   "cell_type": "markdown",
   "id": "993a2bef",
   "metadata": {},
   "source": [
    "Running for the best Random state to run the model well"
   ]
  },
  {
   "cell_type": "code",
   "execution_count": 60,
   "id": "711bad08",
   "metadata": {},
   "outputs": [],
   "source": [
    "from sklearn.ensemble import GradientBoostingClassifier,AdaBoostClassifier,BaggingClassifier\n",
    "from sklearn.ensemble import RandomForestClassifier,ExtraTreesClassifier\n",
    "from sklearn.svm import SVC"
   ]
  },
  {
   "cell_type": "markdown",
   "id": "b7d69659",
   "metadata": {},
   "source": [
    "importing the other models also for modelling"
   ]
  },
  {
   "cell_type": "code",
   "execution_count": 61,
   "id": "648a1313",
   "metadata": {},
   "outputs": [],
   "source": [
    "x_train,x_test,y_train,y_test=train_test_split(x,y,test_size=0.30,random_state=maxRs)"
   ]
  },
  {
   "cell_type": "markdown",
   "id": "e7c138e0",
   "metadata": {},
   "source": [
    "separating the train and test data separately with best Random State "
   ]
  },
  {
   "cell_type": "code",
   "execution_count": 62,
   "id": "5511b6b2",
   "metadata": {},
   "outputs": [
    {
     "name": "stdout",
     "output_type": "stream",
     "text": [
      "GradientBoostingClassifier\n",
      "Accuracy score on test data 90.990990990991\n",
      "Accuracy score on train data 99.84532095901005\n",
      "Classification Report \n",
      "               precision    recall  f1-score   support\n",
      "\n",
      "         0.0       0.96      0.97      0.97        80\n",
      "         1.0       0.80      0.67      0.73        64\n",
      "         2.0       0.84      0.81      0.82        72\n",
      "         3.0       0.81      0.83      0.82        65\n",
      "         4.0       0.89      0.98      0.93        63\n",
      "         5.0       0.94      0.98      0.96        59\n",
      "         6.0       1.00      1.00      1.00        79\n",
      "         7.0       1.00      1.00      1.00        73\n",
      "\n",
      "    accuracy                           0.91       555\n",
      "   macro avg       0.90      0.91      0.90       555\n",
      "weighted avg       0.91      0.91      0.91       555\n",
      "\n",
      "Confusion Matrix \n",
      " [[78  2  0  0  0  0  0  0]\n",
      " [ 3 43  4  7  7  0  0  0]\n",
      " [ 0  5 58  5  1  3  0  0]\n",
      " [ 0  4  6 54  0  1  0  0]\n",
      " [ 0  0  0  1 62  0  0  0]\n",
      " [ 0  0  1  0  0 58  0  0]\n",
      " [ 0  0  0  0  0  0 79  0]\n",
      " [ 0  0  0  0  0  0  0 73]]\n"
     ]
    }
   ],
   "source": [
    "print('GradientBoostingClassifier')\n",
    "gb=GradientBoostingClassifier()\n",
    "gb.fit(x_train,y_train)\n",
    "predgb=gb.predict(x_test)\n",
    "predgb_train=gb.predict(x_train)\n",
    "print('Accuracy score on test data',accuracy_score(y_test,predgb)*100)\n",
    "print('Accuracy score on train data',accuracy_score(y_train,predgb_train)*100)\n",
    "print('Classification Report','\\n',classification_report(y_test,predgb))\n",
    "print('Confusion Matrix','\\n',confusion_matrix(y_test,predgb))"
   ]
  },
  {
   "cell_type": "markdown",
   "id": "2a2b6238",
   "metadata": {},
   "source": [
    "With GradientBoostingClassifier the accuracy score on test data is 92% and train data is 99% it means model is overfitting"
   ]
  },
  {
   "cell_type": "code",
   "execution_count": 63,
   "id": "c202b850",
   "metadata": {},
   "outputs": [
    {
     "name": "stdout",
     "output_type": "stream",
     "text": [
      "AdaBoostClassifier\n",
      "Accuracy Score on test data 38.01801801801802\n",
      "Accuracy Score on train data 37.277648878576954\n",
      "Classification_report \n",
      "               precision    recall  f1-score   support\n",
      "\n",
      "         0.0       0.00      0.00      0.00        80\n",
      "         1.0       0.00      0.00      0.00        64\n",
      "         2.0       0.00      0.00      0.00        72\n",
      "         3.0       0.00      0.00      0.00        65\n",
      "         4.0       0.00      0.00      0.00        63\n",
      "         5.0       0.15      1.00      0.26        59\n",
      "         6.0       1.00      1.00      1.00        79\n",
      "         7.0       0.99      1.00      0.99        73\n",
      "\n",
      "    accuracy                           0.38       555\n",
      "   macro avg       0.27      0.38      0.28       555\n",
      "weighted avg       0.29      0.38      0.30       555\n",
      "\n",
      "Confusion Matrix \n",
      " [[ 0  0  0  0  0 80  0  0]\n",
      " [ 0  0  0  0  0 64  0  0]\n",
      " [ 0  0  0  0  0 72  0  0]\n",
      " [ 0  0  0  0  0 65  0  0]\n",
      " [ 0  0  0  0  0 62  0  1]\n",
      " [ 0  0  0  0  0 59  0  0]\n",
      " [ 0  0  0  0  0  0 79  0]\n",
      " [ 0  0  0  0  0  0  0 73]]\n"
     ]
    }
   ],
   "source": [
    "print('AdaBoostClassifier')\n",
    "ab=AdaBoostClassifier()\n",
    "ab.fit(x_train,y_train)\n",
    "predab=ab.predict(x_test)\n",
    "predab_train=ab.predict(x_train)\n",
    "print('Accuracy Score on test data',accuracy_score(y_test,predab)*100)\n",
    "print('Accuracy Score on train data',accuracy_score(y_train,predab_train)*100)\n",
    "print('Classification_report','\\n',classification_report(y_test,predab))\n",
    "print('Confusion Matrix','\\n',confusion_matrix(y_test,predab))"
   ]
  },
  {
   "cell_type": "markdown",
   "id": "6112ec36",
   "metadata": {},
   "source": [
    "with AdaBoostClassifier the Accuracy score is just 34% , the model is underfitting"
   ]
  },
  {
   "cell_type": "code",
   "execution_count": 64,
   "id": "82fb27fe",
   "metadata": {},
   "outputs": [
    {
     "name": "stdout",
     "output_type": "stream",
     "text": [
      "BaggingClassifier\n",
      "Accuracy score on test data 92.07207207207207\n",
      "Accuracy score on train data 99.61330239752513\n",
      "Classification Report \n",
      "               precision    recall  f1-score   support\n",
      "\n",
      "         0.0       0.96      0.97      0.97        80\n",
      "         1.0       0.87      0.70      0.78        64\n",
      "         2.0       0.82      0.85      0.84        72\n",
      "         3.0       0.81      0.86      0.84        65\n",
      "         4.0       0.92      0.97      0.95        63\n",
      "         5.0       0.95      0.98      0.97        59\n",
      "         6.0       1.00      1.00      1.00        79\n",
      "         7.0       1.00      1.00      1.00        73\n",
      "\n",
      "    accuracy                           0.92       555\n",
      "   macro avg       0.92      0.92      0.92       555\n",
      "weighted avg       0.92      0.92      0.92       555\n",
      "\n",
      "Confusion Matrix \n",
      " [[78  2  0  0  0  0  0  0]\n",
      " [ 3 45  4  7  5  0  0  0]\n",
      " [ 0  4 61  4  0  3  0  0]\n",
      " [ 0  1  8 56  0  0  0  0]\n",
      " [ 0  0  1  1 61  0  0  0]\n",
      " [ 0  0  0  1  0 58  0  0]\n",
      " [ 0  0  0  0  0  0 79  0]\n",
      " [ 0  0  0  0  0  0  0 73]]\n"
     ]
    }
   ],
   "source": [
    "print('BaggingClassifier')\n",
    "bg=BaggingClassifier()\n",
    "bg.fit(x_train,y_train)\n",
    "predbg=bg.predict(x_test)\n",
    "predbg_train=bg.predict(x_train)\n",
    "print('Accuracy score on test data',accuracy_score(y_test,predbg)*100)\n",
    "print('Accuracy score on train data',accuracy_score(y_train,predbg_train)*100)\n",
    "print('Classification Report','\\n',classification_report(y_test,predbg))\n",
    "print('Confusion Matrix','\\n',confusion_matrix(y_test,predbg))"
   ]
  },
  {
   "cell_type": "markdown",
   "id": "8936f9e4",
   "metadata": {},
   "source": [
    "BaggingClassifier the Accuracy score is 93%"
   ]
  },
  {
   "cell_type": "code",
   "execution_count": 65,
   "id": "c08592ad",
   "metadata": {},
   "outputs": [
    {
     "name": "stdout",
     "output_type": "stream",
     "text": [
      "RandomForestClassifier\n",
      "Accuracy score on test data 91.53153153153153\n",
      "Accuracy score on train data 100.0\n",
      "Classification Report \n",
      "               precision    recall  f1-score   support\n",
      "\n",
      "         0.0       0.95      0.99      0.97        80\n",
      "         1.0       0.83      0.61      0.70        64\n",
      "         2.0       0.81      0.81      0.81        72\n",
      "         3.0       0.81      0.92      0.86        65\n",
      "         4.0       0.94      0.98      0.96        63\n",
      "         5.0       0.95      0.98      0.97        59\n",
      "         6.0       1.00      1.00      1.00        79\n",
      "         7.0       1.00      1.00      1.00        73\n",
      "\n",
      "    accuracy                           0.92       555\n",
      "   macro avg       0.91      0.91      0.91       555\n",
      "weighted avg       0.91      0.92      0.91       555\n",
      "\n",
      "Confusion Matrix \n",
      " [[79  1  0  0  0  0  0  0]\n",
      " [ 4 39  9  8  4  0  0  0]\n",
      " [ 0  5 58  6  0  3  0  0]\n",
      " [ 0  1  4 60  0  0  0  0]\n",
      " [ 0  0  1  0 62  0  0  0]\n",
      " [ 0  1  0  0  0 58  0  0]\n",
      " [ 0  0  0  0  0  0 79  0]\n",
      " [ 0  0  0  0  0  0  0 73]]\n"
     ]
    }
   ],
   "source": [
    "print('RandomForestClassifier')\n",
    "rf=RandomForestClassifier()\n",
    "rf.fit(x_train,y_train)\n",
    "predrf=rf.predict(x_test)\n",
    "predrf_train=rf.predict(x_train)\n",
    "print('Accuracy score on test data',accuracy_score(y_test,predrf)*100)\n",
    "print('Accuracy score on train data',accuracy_score(y_train,predrf_train)*100)\n",
    "print('Classification Report','\\n',classification_report(y_test,predrf))\n",
    "print('Confusion Matrix','\\n',confusion_matrix(y_test,predrf))"
   ]
  },
  {
   "cell_type": "markdown",
   "id": "83c6c22f",
   "metadata": {},
   "source": [
    "with RandomForestClassifier Accuracy score 93%"
   ]
  },
  {
   "cell_type": "code",
   "execution_count": 66,
   "id": "c3af657e",
   "metadata": {},
   "outputs": [
    {
     "name": "stdout",
     "output_type": "stream",
     "text": [
      "ExtraTreesClassifier\n",
      "Accuracy score on test data 92.61261261261261\n",
      "Accuracy score on train data 100.0\n",
      "Classification Report \n",
      "               precision    recall  f1-score   support\n",
      "\n",
      "         0.0       0.96      0.99      0.98        80\n",
      "         1.0       0.88      0.67      0.76        64\n",
      "         2.0       0.83      0.82      0.83        72\n",
      "         3.0       0.82      0.91      0.86        65\n",
      "         4.0       0.94      1.00      0.97        63\n",
      "         5.0       0.95      1.00      0.98        59\n",
      "         6.0       1.00      1.00      1.00        79\n",
      "         7.0       1.00      1.00      1.00        73\n",
      "\n",
      "    accuracy                           0.93       555\n",
      "   macro avg       0.92      0.92      0.92       555\n",
      "weighted avg       0.93      0.93      0.92       555\n",
      "\n",
      "confusion Matrix \n",
      " [[79  1  0  0  0  0  0  0]\n",
      " [ 3 43  7  6  4  1  0  0]\n",
      " [ 0  4 59  7  0  2  0  0]\n",
      " [ 0  1  5 59  0  0  0  0]\n",
      " [ 0  0  0  0 63  0  0  0]\n",
      " [ 0  0  0  0  0 59  0  0]\n",
      " [ 0  0  0  0  0  0 79  0]\n",
      " [ 0  0  0  0  0  0  0 73]]\n"
     ]
    }
   ],
   "source": [
    "print('ExtraTreesClassifier')\n",
    "et=ExtraTreesClassifier()\n",
    "et.fit(x_train,y_train)\n",
    "predet=et.predict(x_test)\n",
    "predet_train=et.predict(x_train)\n",
    "print('Accuracy score on test data',accuracy_score(y_test,predet)*100)\n",
    "print('Accuracy score on train data',accuracy_score(y_train,predet_train)*100)\n",
    "print('Classification Report','\\n',classification_report(y_test,predet))\n",
    "print('confusion Matrix','\\n',confusion_matrix(y_test,predet))"
   ]
  },
  {
   "cell_type": "markdown",
   "id": "cfab8b03",
   "metadata": {},
   "source": [
    "with ExtraTreesClassifier the accuracy score is 94%"
   ]
  },
  {
   "cell_type": "code",
   "execution_count": 67,
   "id": "9f5e3463",
   "metadata": {},
   "outputs": [
    {
     "name": "stdout",
     "output_type": "stream",
     "text": [
      "SupportVector\n",
      "Accuracy Score on test data 81.62162162162161\n",
      "Accuracy Score on train data 85.22815158546017\n",
      "Classification Report \n",
      "               precision    recall  f1-score   support\n",
      "\n",
      "         0.0       0.82      0.85      0.83        80\n",
      "         1.0       0.72      0.44      0.54        64\n",
      "         2.0       0.68      0.74      0.71        72\n",
      "         3.0       0.79      0.65      0.71        65\n",
      "         4.0       0.88      1.00      0.93        63\n",
      "         5.0       0.63      0.80      0.70        59\n",
      "         6.0       1.00      1.00      1.00        79\n",
      "         7.0       0.96      1.00      0.98        73\n",
      "\n",
      "    accuracy                           0.82       555\n",
      "   macro avg       0.81      0.81      0.80       555\n",
      "weighted avg       0.82      0.82      0.81       555\n",
      "\n",
      "Confusion Matrix \n",
      " [[68  4  0  0  0  8  0  0]\n",
      " [ 6 28 12  7  9  2  0  0]\n",
      " [ 5  5 53  2  0  6  0  1]\n",
      " [ 0  0 11 42  0 12  0  0]\n",
      " [ 0  0  0  0 63  0  0  0]\n",
      " [ 4  2  2  2  0 47  0  2]\n",
      " [ 0  0  0  0  0  0 79  0]\n",
      " [ 0  0  0  0  0  0  0 73]]\n"
     ]
    }
   ],
   "source": [
    "print('SupportVector')\n",
    "svc=SVC()\n",
    "svc.fit(x_train,y_train)\n",
    "predsvc=svc.predict(x_test)\n",
    "predsvc_train=svc.predict(x_train)\n",
    "print('Accuracy Score on test data',accuracy_score(y_test,predsvc)*100)\n",
    "print('Accuracy Score on train data',accuracy_score(y_train,predsvc_train)*100)\n",
    "print('Classification Report','\\n',classification_report(y_test,predsvc))\n",
    "print('Confusion Matrix','\\n',confusion_matrix(y_test,predsvc))"
   ]
  },
  {
   "cell_type": "markdown",
   "id": "532e08fd",
   "metadata": {},
   "source": [
    "with Supportvector accuracy score is 84%"
   ]
  },
  {
   "cell_type": "code",
   "execution_count": 68,
   "id": "08ab5d52",
   "metadata": {},
   "outputs": [
    {
     "name": "stdout",
     "output_type": "stream",
     "text": [
      "DecisionTreeClassifier\n",
      "Accuracy Score on test data 91.7117117117117\n",
      "Accuracy Score on train data 100.0\n",
      "Classification Report \n",
      "               precision    recall  f1-score   support\n",
      "\n",
      "         0.0       0.96      0.96      0.96        80\n",
      "         1.0       0.84      0.73      0.78        64\n",
      "         2.0       0.85      0.79      0.82        72\n",
      "         3.0       0.79      0.92      0.85        65\n",
      "         4.0       0.94      0.95      0.94        63\n",
      "         5.0       0.93      0.95      0.94        59\n",
      "         6.0       1.00      1.00      1.00        79\n",
      "         7.0       1.00      1.00      1.00        73\n",
      "\n",
      "    accuracy                           0.92       555\n",
      "   macro avg       0.91      0.91      0.91       555\n",
      "weighted avg       0.92      0.92      0.92       555\n",
      "\n",
      "Confusion Matrix \n",
      " [[77  2  0  0  0  1  0  0]\n",
      " [ 3 47  4  7  3  0  0  0]\n",
      " [ 0  5 57  6  1  3  0  0]\n",
      " [ 0  0  5 60  0  0  0  0]\n",
      " [ 0  1  0  2 60  0  0  0]\n",
      " [ 0  1  1  1  0 56  0  0]\n",
      " [ 0  0  0  0  0  0 79  0]\n",
      " [ 0  0  0  0  0  0  0 73]]\n"
     ]
    }
   ],
   "source": [
    "print('DecisionTreeClassifier')\n",
    "dtc=DTC()\n",
    "dtc.fit(x_train,y_train)\n",
    "preddtc=dtc.predict(x_test)\n",
    "preddtc_train=dtc.predict(x_train)\n",
    "print('Accuracy Score on test data',accuracy_score(y_test,preddtc)*100)\n",
    "print('Accuracy Score on train data',accuracy_score(y_train,preddtc_train)*100)\n",
    "print('Classification Report','\\n',classification_report(y_test,preddtc))\n",
    "print('Confusion Matrix','\\n',confusion_matrix(y_test,preddtc))"
   ]
  },
  {
   "cell_type": "markdown",
   "id": "80d99574",
   "metadata": {},
   "source": [
    "with DecisionTreeClassifier the accuracy is 91%"
   ]
  },
  {
   "cell_type": "code",
   "execution_count": 69,
   "id": "92e96e59",
   "metadata": {},
   "outputs": [],
   "source": [
    "from sklearn.model_selection import cross_val_score"
   ]
  },
  {
   "cell_type": "markdown",
   "id": "f5f3b67c",
   "metadata": {},
   "source": [
    "importing the cross validation score to avoid the underfitting and overfitting"
   ]
  },
  {
   "cell_type": "code",
   "execution_count": 70,
   "id": "5f51512d",
   "metadata": {},
   "outputs": [
    {
     "name": "stdout",
     "output_type": "stream",
     "text": [
      "DecisionTreeClassifier\n",
      "Score [84.32432432 88.64864865 87.56756757 89.18918919 91.89189189 89.18918919\n",
      " 89.18918919 91.35135135 88.58695652 89.13043478]\n",
      "Mean 88.90687426556993\n"
     ]
    }
   ],
   "source": [
    "print('DecisionTreeClassifier')\n",
    "scoredtc=cross_val_score(dtc,x,y,cv=10)\n",
    "print('Score',scoredtc*100)\n",
    "print('Mean',scoredtc.mean()*100)"
   ]
  },
  {
   "cell_type": "code",
   "execution_count": 71,
   "id": "1b131983",
   "metadata": {},
   "outputs": [
    {
     "name": "stdout",
     "output_type": "stream",
     "text": [
      "GradientBoostClassifier\n",
      "score [85.94594595 88.64864865 84.32432432 89.18918919 92.43243243 89.18918919\n",
      " 89.72972973 91.89189189 90.76086957 87.5       ]\n",
      "Mean score 88.96122209165688\n"
     ]
    }
   ],
   "source": [
    "print('GradientBoostClassifier')\n",
    "scoregb=cross_val_score(gb,x,y,cv=10)\n",
    "print('score',scoregb*100)\n",
    "print('Mean score',scoregb.mean()*100)"
   ]
  },
  {
   "cell_type": "code",
   "execution_count": 72,
   "id": "c0943bad",
   "metadata": {},
   "outputs": [
    {
     "name": "stdout",
     "output_type": "stream",
     "text": [
      "AdaBoostClassifer\n",
      "score [37.83783784 37.2972973  37.83783784 37.2972973  37.2972973  37.2972973\n",
      " 37.2972973  37.2972973  37.5        37.5       ]\n",
      "Mean score 37.44594594594595\n"
     ]
    }
   ],
   "source": [
    "print('AdaBoostClassifer')\n",
    "scoreab=cross_val_score(ab,x,y,cv=10)\n",
    "print('score',scoreab*100)\n",
    "print('Mean score',scoreab.mean()*100)"
   ]
  },
  {
   "cell_type": "code",
   "execution_count": 73,
   "id": "0e6988ca",
   "metadata": {},
   "outputs": [
    {
     "name": "stdout",
     "output_type": "stream",
     "text": [
      "ExtraTreesClassifier\n",
      "score [91.89189189 91.89189189 88.64864865 93.51351351 94.59459459 91.35135135\n",
      " 90.27027027 92.97297297 94.02173913 91.30434783]\n",
      "Mean score 92.04612220916569\n"
     ]
    }
   ],
   "source": [
    "print('ExtraTreesClassifier')\n",
    "scoreet=cross_val_score(et,x,y,cv=10)\n",
    "print('score',scoreet*100)\n",
    "print('Mean score',scoreet.mean()*100)"
   ]
  },
  {
   "cell_type": "code",
   "execution_count": 74,
   "id": "34a56ea5",
   "metadata": {},
   "outputs": [
    {
     "name": "stdout",
     "output_type": "stream",
     "text": [
      "RandomForestClassifier\n",
      "score [89.72972973 93.51351351 88.10810811 92.97297297 93.51351351 91.89189189\n",
      " 90.27027027 93.51351351 91.84782609 91.30434783]\n",
      "Mean score 91.6665687426557\n"
     ]
    }
   ],
   "source": [
    "print('RandomForestClassifier')\n",
    "scorerf=cross_val_score(rf,x,y,cv=10)\n",
    "print('score',scorerf*100)\n",
    "print('Mean score',scorerf.mean()*100)"
   ]
  },
  {
   "cell_type": "code",
   "execution_count": 75,
   "id": "9d27fd85",
   "metadata": {},
   "outputs": [
    {
     "name": "stdout",
     "output_type": "stream",
     "text": [
      "BaggingClassifier\n",
      "score [89.72972973 91.35135135 87.02702703 89.18918919 94.59459459 90.27027027\n",
      " 92.43243243 92.97297297 90.2173913  90.2173913 ]\n",
      "Mean score 90.80023501762632\n"
     ]
    }
   ],
   "source": [
    "print('BaggingClassifier')\n",
    "scorebg=cross_val_score(bg,x,y,cv=10)\n",
    "print('score',scorebg*100)\n",
    "print('Mean score',scorebg.mean()*100)"
   ]
  },
  {
   "cell_type": "code",
   "execution_count": 76,
   "id": "28cc162c",
   "metadata": {},
   "outputs": [
    {
     "name": "stdout",
     "output_type": "stream",
     "text": [
      "Support vector\n",
      "score [81.62162162 82.7027027  74.59459459 84.86486486 84.86486486 82.7027027\n",
      " 84.86486486 89.18918919 82.60869565 85.32608696]\n",
      "Mean score 83.33401880141011\n"
     ]
    }
   ],
   "source": [
    "print('Support vector')\n",
    "scoresvc=cross_val_score(svc,x,y,cv=10)\n",
    "print('score',scoresvc*100)\n",
    "print('Mean score',scoresvc.mean()*100)"
   ]
  },
  {
   "cell_type": "markdown",
   "id": "d6cf58e7",
   "metadata": {},
   "source": [
    "after the cross validation ExtraTreesClassifier is best performing model"
   ]
  },
  {
   "cell_type": "code",
   "execution_count": 77,
   "id": "cfaa2d67",
   "metadata": {},
   "outputs": [],
   "source": [
    "from sklearn.model_selection import GridSearchCV"
   ]
  },
  {
   "cell_type": "markdown",
   "id": "e2ca7f4d",
   "metadata": {},
   "source": [
    "importing GridSearchCV to find the best performing model"
   ]
  },
  {
   "cell_type": "code",
   "execution_count": 78,
   "id": "e7878382",
   "metadata": {},
   "outputs": [],
   "source": [
    "parameters={'criterion':['gini','entropy'],\n",
    "           'random_state':[100,500,1000,1500],\n",
    "           'max_depth':[10,50,100],\n",
    "           'n_jobs':[-2,-1,1],\n",
    "           'n_estimators':[50,100,150,200]}"
   ]
  },
  {
   "cell_type": "markdown",
   "id": "6db13f12",
   "metadata": {},
   "source": [
    "sending the best parameters"
   ]
  },
  {
   "cell_type": "code",
   "execution_count": 79,
   "id": "367efea7",
   "metadata": {},
   "outputs": [
    {
     "data": {
      "text/plain": [
       "{'criterion': 'gini',\n",
       " 'max_depth': 50,\n",
       " 'n_estimators': 50,\n",
       " 'n_jobs': -2,\n",
       " 'random_state': 500}"
      ]
     },
     "execution_count": 79,
     "metadata": {},
     "output_type": "execute_result"
    }
   ],
   "source": [
    "gscv=GridSearchCV(ExtraTreesClassifier(),parameters,cv=5)\n",
    "gscv.fit(x_train,y_train)\n",
    "gscv.best_params_"
   ]
  },
  {
   "cell_type": "code",
   "execution_count": 81,
   "id": "e3bf2d92",
   "metadata": {},
   "outputs": [],
   "source": [
    "model=ExtraTreesClassifier(criterion='gini',random_state=500,max_depth=50,n_jobs=-2,n_estimators=50)"
   ]
  },
  {
   "cell_type": "markdown",
   "id": "2fe2ec0d",
   "metadata": {},
   "source": [
    "building the best model with best parameters "
   ]
  },
  {
   "cell_type": "code",
   "execution_count": 82,
   "id": "7d3a4b06",
   "metadata": {},
   "outputs": [
    {
     "name": "stdout",
     "output_type": "stream",
     "text": [
      "92.61261261261261\n"
     ]
    }
   ],
   "source": [
    "model.fit(x_train,y_train)\n",
    "pred=model.predict(x_test)\n",
    "print(accuracy_score(y_test,pred)*100)"
   ]
  },
  {
   "cell_type": "markdown",
   "id": "eda5ec70",
   "metadata": {},
   "source": [
    "after fitting model accurcy is little better "
   ]
  },
  {
   "cell_type": "code",
   "execution_count": 83,
   "id": "6fe890e8",
   "metadata": {},
   "outputs": [],
   "source": [
    "import pickle\n",
    "filename='Global_plant'\n",
    "pickle.dump(model,open(filename,'wb'))"
   ]
  },
  {
   "cell_type": "markdown",
   "id": "f52c3068",
   "metadata": {},
   "source": [
    "importing pickle lybrari to save the model"
   ]
  },
  {
   "cell_type": "code",
   "execution_count": 84,
   "id": "ed758a56",
   "metadata": {},
   "outputs": [
    {
     "data": {
      "text/plain": [
       "92.61261261261261"
      ]
     },
     "execution_count": 84,
     "metadata": {},
     "output_type": "execute_result"
    }
   ],
   "source": [
    "final=pickle.load(open('Global_plant','rb'))\n",
    "final.score(x_test,y_test)*100"
   ]
  },
  {
   "cell_type": "markdown",
   "id": "1ce46da1",
   "metadata": {},
   "source": [
    "accuracy is 94% with the final model"
   ]
  },
  {
   "cell_type": "markdown",
   "id": "f1f0e739",
   "metadata": {},
   "source": [
    "# 2) capacity_mw  prediction"
   ]
  },
  {
   "cell_type": "code",
   "execution_count": 85,
   "id": "33f78384",
   "metadata": {},
   "outputs": [
    {
     "data": {
      "text/html": [
       "<div>\n",
       "<style scoped>\n",
       "    .dataframe tbody tr th:only-of-type {\n",
       "        vertical-align: middle;\n",
       "    }\n",
       "\n",
       "    .dataframe tbody tr th {\n",
       "        vertical-align: top;\n",
       "    }\n",
       "\n",
       "    .dataframe thead th {\n",
       "        text-align: right;\n",
       "    }\n",
       "</style>\n",
       "<table border=\"1\" class=\"dataframe\">\n",
       "  <thead>\n",
       "    <tr style=\"text-align: right;\">\n",
       "      <th></th>\n",
       "      <th>name</th>\n",
       "      <th>gppd_idnr</th>\n",
       "      <th>capacity_mw</th>\n",
       "      <th>latitude</th>\n",
       "      <th>longitude</th>\n",
       "      <th>primary_fuel</th>\n",
       "      <th>source</th>\n",
       "      <th>url</th>\n",
       "      <th>geolocation_source</th>\n",
       "      <th>generation_gwh_2014</th>\n",
       "      <th>generation_gwh_2015</th>\n",
       "      <th>generation_gwh_2017</th>\n",
       "      <th>generation_gwh_2018</th>\n",
       "    </tr>\n",
       "  </thead>\n",
       "  <tbody>\n",
       "    <tr>\n",
       "      <th>0</th>\n",
       "      <td>-1.699019</td>\n",
       "      <td>0.796941</td>\n",
       "      <td>-0.643012</td>\n",
       "      <td>1.142797</td>\n",
       "      <td>-0.871103</td>\n",
       "      <td>1.228627</td>\n",
       "      <td>1.569574</td>\n",
       "      <td>0.545072</td>\n",
       "      <td>-1.044604</td>\n",
       "      <td>0.175041</td>\n",
       "      <td>0.190411</td>\n",
       "      <td>0.186719</td>\n",
       "      <td>0.195856</td>\n",
       "    </tr>\n",
       "    <tr>\n",
       "      <th>1</th>\n",
       "      <td>-1.695133</td>\n",
       "      <td>0.269184</td>\n",
       "      <td>-0.420428</td>\n",
       "      <td>0.592407</td>\n",
       "      <td>-0.561414</td>\n",
       "      <td>-0.972865</td>\n",
       "      <td>3.107627</td>\n",
       "      <td>1.210097</td>\n",
       "      <td>0.405051</td>\n",
       "      <td>0.175041</td>\n",
       "      <td>0.190411</td>\n",
       "      <td>0.186719</td>\n",
       "      <td>0.195856</td>\n",
       "    </tr>\n",
       "    <tr>\n",
       "      <th>2</th>\n",
       "      <td>-1.691246</td>\n",
       "      <td>1.525013</td>\n",
       "      <td>-0.557475</td>\n",
       "      <td>0.131414</td>\n",
       "      <td>-1.746439</td>\n",
       "      <td>1.668925</td>\n",
       "      <td>-0.512713</td>\n",
       "      <td>1.627672</td>\n",
       "      <td>0.405051</td>\n",
       "      <td>0.175041</td>\n",
       "      <td>0.190411</td>\n",
       "      <td>0.186719</td>\n",
       "      <td>0.195856</td>\n",
       "    </tr>\n",
       "    <tr>\n",
       "      <th>3</th>\n",
       "      <td>-1.687360</td>\n",
       "      <td>-1.730126</td>\n",
       "      <td>-0.334192</td>\n",
       "      <td>0.448255</td>\n",
       "      <td>3.229906</td>\n",
       "      <td>-0.532567</td>\n",
       "      <td>-0.489051</td>\n",
       "      <td>-0.506597</td>\n",
       "      <td>0.405051</td>\n",
       "      <td>-1.017091</td>\n",
       "      <td>-0.823412</td>\n",
       "      <td>-0.946228</td>\n",
       "      <td>-0.957334</td>\n",
       "    </tr>\n",
       "    <tr>\n",
       "      <th>4</th>\n",
       "      <td>-1.683474</td>\n",
       "      <td>-1.726274</td>\n",
       "      <td>3.546461</td>\n",
       "      <td>0.140513</td>\n",
       "      <td>1.203992</td>\n",
       "      <td>-0.972865</td>\n",
       "      <td>-0.489051</td>\n",
       "      <td>-0.506597</td>\n",
       "      <td>0.405051</td>\n",
       "      <td>0.571792</td>\n",
       "      <td>2.422284</td>\n",
       "      <td>1.893262</td>\n",
       "      <td>2.928028</td>\n",
       "    </tr>\n",
       "    <tr>\n",
       "      <th>...</th>\n",
       "      <td>...</td>\n",
       "      <td>...</td>\n",
       "      <td>...</td>\n",
       "      <td>...</td>\n",
       "      <td>...</td>\n",
       "      <td>...</td>\n",
       "      <td>...</td>\n",
       "      <td>...</td>\n",
       "      <td>...</td>\n",
       "      <td>...</td>\n",
       "      <td>...</td>\n",
       "      <td>...</td>\n",
       "      <td>...</td>\n",
       "    </tr>\n",
       "    <tr>\n",
       "      <th>811</th>\n",
       "      <td>1.732625</td>\n",
       "      <td>0.161322</td>\n",
       "      <td>3.080316</td>\n",
       "      <td>-0.771876</td>\n",
       "      <td>0.060499</td>\n",
       "      <td>-0.972865</td>\n",
       "      <td>-0.489051</td>\n",
       "      <td>-0.506597</td>\n",
       "      <td>0.405051</td>\n",
       "      <td>0.175041</td>\n",
       "      <td>-1.362643</td>\n",
       "      <td>-0.824979</td>\n",
       "      <td>-0.922140</td>\n",
       "    </tr>\n",
       "    <tr>\n",
       "      <th>812</th>\n",
       "      <td>1.736511</td>\n",
       "      <td>1.405594</td>\n",
       "      <td>-0.641847</td>\n",
       "      <td>-1.319705</td>\n",
       "      <td>0.243510</td>\n",
       "      <td>1.228627</td>\n",
       "      <td>0.812378</td>\n",
       "      <td>-1.063363</td>\n",
       "      <td>-2.494259</td>\n",
       "      <td>0.175041</td>\n",
       "      <td>0.190411</td>\n",
       "      <td>0.186719</td>\n",
       "      <td>0.195856</td>\n",
       "    </tr>\n",
       "    <tr>\n",
       "      <th>813</th>\n",
       "      <td>1.740397</td>\n",
       "      <td>1.632876</td>\n",
       "      <td>-0.589406</td>\n",
       "      <td>-0.935998</td>\n",
       "      <td>-0.341398</td>\n",
       "      <td>1.668925</td>\n",
       "      <td>-0.512713</td>\n",
       "      <td>2.400957</td>\n",
       "      <td>0.405051</td>\n",
       "      <td>0.175041</td>\n",
       "      <td>0.190411</td>\n",
       "      <td>0.186719</td>\n",
       "      <td>0.195856</td>\n",
       "    </tr>\n",
       "    <tr>\n",
       "      <th>814</th>\n",
       "      <td>1.744284</td>\n",
       "      <td>0.346229</td>\n",
       "      <td>-0.462381</td>\n",
       "      <td>0.525364</td>\n",
       "      <td>-0.756353</td>\n",
       "      <td>-0.972865</td>\n",
       "      <td>0.386456</td>\n",
       "      <td>-0.135420</td>\n",
       "      <td>0.405051</td>\n",
       "      <td>0.175041</td>\n",
       "      <td>0.190411</td>\n",
       "      <td>0.186719</td>\n",
       "      <td>0.195856</td>\n",
       "    </tr>\n",
       "    <tr>\n",
       "      <th>815</th>\n",
       "      <td>1.748170</td>\n",
       "      <td>1.575092</td>\n",
       "      <td>-0.610382</td>\n",
       "      <td>-1.796207</td>\n",
       "      <td>0.087659</td>\n",
       "      <td>1.668925</td>\n",
       "      <td>-0.512713</td>\n",
       "      <td>2.215369</td>\n",
       "      <td>0.405051</td>\n",
       "      <td>0.175041</td>\n",
       "      <td>0.190411</td>\n",
       "      <td>0.186719</td>\n",
       "      <td>0.195856</td>\n",
       "    </tr>\n",
       "  </tbody>\n",
       "</table>\n",
       "<p>816 rows × 13 columns</p>\n",
       "</div>"
      ],
      "text/plain": [
       "         name  gppd_idnr  capacity_mw  latitude  longitude  primary_fuel  \\\n",
       "0   -1.699019   0.796941    -0.643012  1.142797  -0.871103      1.228627   \n",
       "1   -1.695133   0.269184    -0.420428  0.592407  -0.561414     -0.972865   \n",
       "2   -1.691246   1.525013    -0.557475  0.131414  -1.746439      1.668925   \n",
       "3   -1.687360  -1.730126    -0.334192  0.448255   3.229906     -0.532567   \n",
       "4   -1.683474  -1.726274     3.546461  0.140513   1.203992     -0.972865   \n",
       "..        ...        ...          ...       ...        ...           ...   \n",
       "811  1.732625   0.161322     3.080316 -0.771876   0.060499     -0.972865   \n",
       "812  1.736511   1.405594    -0.641847 -1.319705   0.243510      1.228627   \n",
       "813  1.740397   1.632876    -0.589406 -0.935998  -0.341398      1.668925   \n",
       "814  1.744284   0.346229    -0.462381  0.525364  -0.756353     -0.972865   \n",
       "815  1.748170   1.575092    -0.610382 -1.796207   0.087659      1.668925   \n",
       "\n",
       "       source       url  geolocation_source  generation_gwh_2014  \\\n",
       "0    1.569574  0.545072           -1.044604             0.175041   \n",
       "1    3.107627  1.210097            0.405051             0.175041   \n",
       "2   -0.512713  1.627672            0.405051             0.175041   \n",
       "3   -0.489051 -0.506597            0.405051            -1.017091   \n",
       "4   -0.489051 -0.506597            0.405051             0.571792   \n",
       "..        ...       ...                 ...                  ...   \n",
       "811 -0.489051 -0.506597            0.405051             0.175041   \n",
       "812  0.812378 -1.063363           -2.494259             0.175041   \n",
       "813 -0.512713  2.400957            0.405051             0.175041   \n",
       "814  0.386456 -0.135420            0.405051             0.175041   \n",
       "815 -0.512713  2.215369            0.405051             0.175041   \n",
       "\n",
       "     generation_gwh_2015  generation_gwh_2017  generation_gwh_2018  \n",
       "0               0.190411             0.186719             0.195856  \n",
       "1               0.190411             0.186719             0.195856  \n",
       "2               0.190411             0.186719             0.195856  \n",
       "3              -0.823412            -0.946228            -0.957334  \n",
       "4               2.422284             1.893262             2.928028  \n",
       "..                   ...                  ...                  ...  \n",
       "811            -1.362643            -0.824979            -0.922140  \n",
       "812             0.190411             0.186719             0.195856  \n",
       "813             0.190411             0.186719             0.195856  \n",
       "814             0.190411             0.186719             0.195856  \n",
       "815             0.190411             0.186719             0.195856  \n",
       "\n",
       "[816 rows x 13 columns]"
      ]
     },
     "execution_count": 85,
     "metadata": {},
     "output_type": "execute_result"
    }
   ],
   "source": [
    "from sklearn.preprocessing import StandardScaler\n",
    "sc=StandardScaler()\n",
    "df2=pd.DataFrame(sc.fit_transform(df1),columns=df1.columns)\n",
    "df2"
   ]
  },
  {
   "cell_type": "markdown",
   "id": "f46fe750",
   "metadata": {},
   "source": [
    "for 2nd prediction saving the dataset as df2"
   ]
  },
  {
   "cell_type": "code",
   "execution_count": 86,
   "id": "4d131055",
   "metadata": {},
   "outputs": [
    {
     "data": {
      "text/html": [
       "<div>\n",
       "<style scoped>\n",
       "    .dataframe tbody tr th:only-of-type {\n",
       "        vertical-align: middle;\n",
       "    }\n",
       "\n",
       "    .dataframe tbody tr th {\n",
       "        vertical-align: top;\n",
       "    }\n",
       "\n",
       "    .dataframe thead th {\n",
       "        text-align: right;\n",
       "    }\n",
       "</style>\n",
       "<table border=\"1\" class=\"dataframe\">\n",
       "  <thead>\n",
       "    <tr style=\"text-align: right;\">\n",
       "      <th></th>\n",
       "      <th>name</th>\n",
       "      <th>gppd_idnr</th>\n",
       "      <th>latitude</th>\n",
       "      <th>longitude</th>\n",
       "      <th>primary_fuel</th>\n",
       "      <th>source</th>\n",
       "      <th>url</th>\n",
       "      <th>geolocation_source</th>\n",
       "      <th>generation_gwh_2014</th>\n",
       "      <th>generation_gwh_2015</th>\n",
       "      <th>generation_gwh_2017</th>\n",
       "      <th>generation_gwh_2018</th>\n",
       "    </tr>\n",
       "  </thead>\n",
       "  <tbody>\n",
       "    <tr>\n",
       "      <th>0</th>\n",
       "      <td>-1.699019</td>\n",
       "      <td>0.796941</td>\n",
       "      <td>1.142797</td>\n",
       "      <td>-0.871103</td>\n",
       "      <td>1.228627</td>\n",
       "      <td>1.569574</td>\n",
       "      <td>0.545072</td>\n",
       "      <td>-1.044604</td>\n",
       "      <td>0.175041</td>\n",
       "      <td>0.190411</td>\n",
       "      <td>0.186719</td>\n",
       "      <td>0.195856</td>\n",
       "    </tr>\n",
       "    <tr>\n",
       "      <th>1</th>\n",
       "      <td>-1.695133</td>\n",
       "      <td>0.269184</td>\n",
       "      <td>0.592407</td>\n",
       "      <td>-0.561414</td>\n",
       "      <td>-0.972865</td>\n",
       "      <td>3.107627</td>\n",
       "      <td>1.210097</td>\n",
       "      <td>0.405051</td>\n",
       "      <td>0.175041</td>\n",
       "      <td>0.190411</td>\n",
       "      <td>0.186719</td>\n",
       "      <td>0.195856</td>\n",
       "    </tr>\n",
       "    <tr>\n",
       "      <th>2</th>\n",
       "      <td>-1.691246</td>\n",
       "      <td>1.525013</td>\n",
       "      <td>0.131414</td>\n",
       "      <td>-1.746439</td>\n",
       "      <td>1.668925</td>\n",
       "      <td>-0.512713</td>\n",
       "      <td>1.627672</td>\n",
       "      <td>0.405051</td>\n",
       "      <td>0.175041</td>\n",
       "      <td>0.190411</td>\n",
       "      <td>0.186719</td>\n",
       "      <td>0.195856</td>\n",
       "    </tr>\n",
       "    <tr>\n",
       "      <th>3</th>\n",
       "      <td>-1.687360</td>\n",
       "      <td>-1.730126</td>\n",
       "      <td>0.448255</td>\n",
       "      <td>3.229906</td>\n",
       "      <td>-0.532567</td>\n",
       "      <td>-0.489051</td>\n",
       "      <td>-0.506597</td>\n",
       "      <td>0.405051</td>\n",
       "      <td>-1.017091</td>\n",
       "      <td>-0.823412</td>\n",
       "      <td>-0.946228</td>\n",
       "      <td>-0.957334</td>\n",
       "    </tr>\n",
       "    <tr>\n",
       "      <th>4</th>\n",
       "      <td>-1.683474</td>\n",
       "      <td>-1.726274</td>\n",
       "      <td>0.140513</td>\n",
       "      <td>1.203992</td>\n",
       "      <td>-0.972865</td>\n",
       "      <td>-0.489051</td>\n",
       "      <td>-0.506597</td>\n",
       "      <td>0.405051</td>\n",
       "      <td>0.571792</td>\n",
       "      <td>2.422284</td>\n",
       "      <td>1.893262</td>\n",
       "      <td>2.928028</td>\n",
       "    </tr>\n",
       "    <tr>\n",
       "      <th>...</th>\n",
       "      <td>...</td>\n",
       "      <td>...</td>\n",
       "      <td>...</td>\n",
       "      <td>...</td>\n",
       "      <td>...</td>\n",
       "      <td>...</td>\n",
       "      <td>...</td>\n",
       "      <td>...</td>\n",
       "      <td>...</td>\n",
       "      <td>...</td>\n",
       "      <td>...</td>\n",
       "      <td>...</td>\n",
       "    </tr>\n",
       "    <tr>\n",
       "      <th>811</th>\n",
       "      <td>1.732625</td>\n",
       "      <td>0.161322</td>\n",
       "      <td>-0.771876</td>\n",
       "      <td>0.060499</td>\n",
       "      <td>-0.972865</td>\n",
       "      <td>-0.489051</td>\n",
       "      <td>-0.506597</td>\n",
       "      <td>0.405051</td>\n",
       "      <td>0.175041</td>\n",
       "      <td>-1.362643</td>\n",
       "      <td>-0.824979</td>\n",
       "      <td>-0.922140</td>\n",
       "    </tr>\n",
       "    <tr>\n",
       "      <th>812</th>\n",
       "      <td>1.736511</td>\n",
       "      <td>1.405594</td>\n",
       "      <td>-1.319705</td>\n",
       "      <td>0.243510</td>\n",
       "      <td>1.228627</td>\n",
       "      <td>0.812378</td>\n",
       "      <td>-1.063363</td>\n",
       "      <td>-2.494259</td>\n",
       "      <td>0.175041</td>\n",
       "      <td>0.190411</td>\n",
       "      <td>0.186719</td>\n",
       "      <td>0.195856</td>\n",
       "    </tr>\n",
       "    <tr>\n",
       "      <th>813</th>\n",
       "      <td>1.740397</td>\n",
       "      <td>1.632876</td>\n",
       "      <td>-0.935998</td>\n",
       "      <td>-0.341398</td>\n",
       "      <td>1.668925</td>\n",
       "      <td>-0.512713</td>\n",
       "      <td>2.400957</td>\n",
       "      <td>0.405051</td>\n",
       "      <td>0.175041</td>\n",
       "      <td>0.190411</td>\n",
       "      <td>0.186719</td>\n",
       "      <td>0.195856</td>\n",
       "    </tr>\n",
       "    <tr>\n",
       "      <th>814</th>\n",
       "      <td>1.744284</td>\n",
       "      <td>0.346229</td>\n",
       "      <td>0.525364</td>\n",
       "      <td>-0.756353</td>\n",
       "      <td>-0.972865</td>\n",
       "      <td>0.386456</td>\n",
       "      <td>-0.135420</td>\n",
       "      <td>0.405051</td>\n",
       "      <td>0.175041</td>\n",
       "      <td>0.190411</td>\n",
       "      <td>0.186719</td>\n",
       "      <td>0.195856</td>\n",
       "    </tr>\n",
       "    <tr>\n",
       "      <th>815</th>\n",
       "      <td>1.748170</td>\n",
       "      <td>1.575092</td>\n",
       "      <td>-1.796207</td>\n",
       "      <td>0.087659</td>\n",
       "      <td>1.668925</td>\n",
       "      <td>-0.512713</td>\n",
       "      <td>2.215369</td>\n",
       "      <td>0.405051</td>\n",
       "      <td>0.175041</td>\n",
       "      <td>0.190411</td>\n",
       "      <td>0.186719</td>\n",
       "      <td>0.195856</td>\n",
       "    </tr>\n",
       "  </tbody>\n",
       "</table>\n",
       "<p>816 rows × 12 columns</p>\n",
       "</div>"
      ],
      "text/plain": [
       "         name  gppd_idnr  latitude  longitude  primary_fuel    source  \\\n",
       "0   -1.699019   0.796941  1.142797  -0.871103      1.228627  1.569574   \n",
       "1   -1.695133   0.269184  0.592407  -0.561414     -0.972865  3.107627   \n",
       "2   -1.691246   1.525013  0.131414  -1.746439      1.668925 -0.512713   \n",
       "3   -1.687360  -1.730126  0.448255   3.229906     -0.532567 -0.489051   \n",
       "4   -1.683474  -1.726274  0.140513   1.203992     -0.972865 -0.489051   \n",
       "..        ...        ...       ...        ...           ...       ...   \n",
       "811  1.732625   0.161322 -0.771876   0.060499     -0.972865 -0.489051   \n",
       "812  1.736511   1.405594 -1.319705   0.243510      1.228627  0.812378   \n",
       "813  1.740397   1.632876 -0.935998  -0.341398      1.668925 -0.512713   \n",
       "814  1.744284   0.346229  0.525364  -0.756353     -0.972865  0.386456   \n",
       "815  1.748170   1.575092 -1.796207   0.087659      1.668925 -0.512713   \n",
       "\n",
       "          url  geolocation_source  generation_gwh_2014  generation_gwh_2015  \\\n",
       "0    0.545072           -1.044604             0.175041             0.190411   \n",
       "1    1.210097            0.405051             0.175041             0.190411   \n",
       "2    1.627672            0.405051             0.175041             0.190411   \n",
       "3   -0.506597            0.405051            -1.017091            -0.823412   \n",
       "4   -0.506597            0.405051             0.571792             2.422284   \n",
       "..        ...                 ...                  ...                  ...   \n",
       "811 -0.506597            0.405051             0.175041            -1.362643   \n",
       "812 -1.063363           -2.494259             0.175041             0.190411   \n",
       "813  2.400957            0.405051             0.175041             0.190411   \n",
       "814 -0.135420            0.405051             0.175041             0.190411   \n",
       "815  2.215369            0.405051             0.175041             0.190411   \n",
       "\n",
       "     generation_gwh_2017  generation_gwh_2018  \n",
       "0               0.186719             0.195856  \n",
       "1               0.186719             0.195856  \n",
       "2               0.186719             0.195856  \n",
       "3              -0.946228            -0.957334  \n",
       "4               1.893262             2.928028  \n",
       "..                   ...                  ...  \n",
       "811            -0.824979            -0.922140  \n",
       "812             0.186719             0.195856  \n",
       "813             0.186719             0.195856  \n",
       "814             0.186719             0.195856  \n",
       "815             0.186719             0.195856  \n",
       "\n",
       "[816 rows x 12 columns]"
      ]
     },
     "execution_count": 86,
     "metadata": {},
     "output_type": "execute_result"
    }
   ],
   "source": [
    "x1=df2.drop('capacity_mw',axis=1)\n",
    "x1"
   ]
  },
  {
   "cell_type": "markdown",
   "id": "cead45da",
   "metadata": {},
   "source": [
    "now seperating independent variables and naming as x1"
   ]
  },
  {
   "cell_type": "code",
   "execution_count": 87,
   "id": "c58e5592",
   "metadata": {},
   "outputs": [
    {
     "data": {
      "text/plain": [
       "0     -0.643012\n",
       "1     -0.420428\n",
       "2     -0.557475\n",
       "3     -0.334192\n",
       "4      3.546461\n",
       "         ...   \n",
       "811    3.080316\n",
       "812   -0.641847\n",
       "813   -0.589406\n",
       "814   -0.462381\n",
       "815   -0.610382\n",
       "Name: capacity_mw, Length: 816, dtype: float64"
      ]
     },
     "execution_count": 87,
     "metadata": {},
     "output_type": "execute_result"
    }
   ],
   "source": [
    "y1=df2['capacity_mw']\n",
    "y1"
   ]
  },
  {
   "cell_type": "markdown",
   "id": "b4b6872f",
   "metadata": {},
   "source": [
    "dependent variable named as y1"
   ]
  },
  {
   "cell_type": "markdown",
   "id": "24f8925c",
   "metadata": {},
   "source": [
    "Since my model having the continious values, So i need to with Regression Model"
   ]
  },
  {
   "cell_type": "code",
   "execution_count": 88,
   "id": "6015b71b",
   "metadata": {},
   "outputs": [],
   "source": [
    "from sklearn.linear_model import LinearRegression\n",
    "from sklearn.model_selection import train_test_split\n",
    "from sklearn.metrics import r2_score,mean_squared_error,mean_absolute_error"
   ]
  },
  {
   "cell_type": "markdown",
   "id": "9d614a40",
   "metadata": {},
   "source": [
    "Importing nessesary models for prediction, train,test,split and r2 score,MSE,MAE"
   ]
  },
  {
   "cell_type": "code",
   "execution_count": 89,
   "id": "6481ac77",
   "metadata": {},
   "outputs": [
    {
     "name": "stdout",
     "output_type": "stream",
     "text": [
      "Best Accuracy is  0.7157726722848521 at the Random State 1451\n"
     ]
    }
   ],
   "source": [
    "maxAccu=0\n",
    "maxRs=0\n",
    "\n",
    "for i in range(1,1500):\n",
    "    x1_train,x1_test,y1_train,y1_test=train_test_split(x1,y1,test_size=0.30,random_state=i)\n",
    "    lr=LinearRegression()\n",
    "    lr.fit(x1_train,y1_train)\n",
    "    pred=lr.predict(x1_test)\n",
    "    accu=r2_score(y1_test,pred)\n",
    "    if accu>maxAccu:\n",
    "        maxAccu=accu\n",
    "        maxRs=i\n",
    "print('Best Accuracy is ',maxAccu,'at the Random State',maxRs)"
   ]
  },
  {
   "cell_type": "markdown",
   "id": "8fc1009a",
   "metadata": {},
   "source": [
    "Checking for Best random state for my model"
   ]
  },
  {
   "cell_type": "code",
   "execution_count": 90,
   "id": "b375e3a4",
   "metadata": {},
   "outputs": [],
   "source": [
    "from sklearn.tree import DecisionTreeRegressor as DTR\n",
    "from sklearn.svm import SVR\n",
    "from sklearn.ensemble import RandomForestRegressor,ExtraTreesRegressor\n",
    "from sklearn.ensemble import GradientBoostingRegressor,AdaBoostRegressor,BaggingRegressor\n",
    "from sklearn.linear_model import Lasso,Ridge,ElasticNet"
   ]
  },
  {
   "cell_type": "markdown",
   "id": "f242e3e2",
   "metadata": {},
   "source": [
    "importing other models for regression"
   ]
  },
  {
   "cell_type": "code",
   "execution_count": 91,
   "id": "269973a7",
   "metadata": {},
   "outputs": [],
   "source": [
    "x1_train,x1_test,y1_train,y1_test=train_test_split(x1,y1,test_size=0.30,random_state=maxRs)"
   ]
  },
  {
   "cell_type": "markdown",
   "id": "001b0dfb",
   "metadata": {},
   "source": [
    "seperating train and test data for model prediction"
   ]
  },
  {
   "cell_type": "code",
   "execution_count": 92,
   "id": "061400de",
   "metadata": {},
   "outputs": [
    {
     "name": "stdout",
     "output_type": "stream",
     "text": [
      "LinearRegression\n",
      "R2_Score on test data 71.57726722848521\n",
      "R2_Score on train data 53.62518567107577\n",
      "Mean squared error 0.265866221820803\n",
      "Mean absolute error 0.36746564805699744\n"
     ]
    }
   ],
   "source": [
    "print('LinearRegression')\n",
    "lr=LinearRegression()\n",
    "lr.fit(x1_train,y1_train)\n",
    "predlr=lr.predict(x1_test)\n",
    "predlr_train=lr.predict(x1_train)\n",
    "print('R2_Score on test data',r2_score(y1_test,predlr)*100)\n",
    "print('R2_Score on train data',r2_score(y1_train,predlr_train)*100)\n",
    "print('Mean squared error',mean_squared_error(y1_test,predlr))\n",
    "print('Mean absolute error',mean_absolute_error(y1_test,predlr))"
   ]
  },
  {
   "cell_type": "markdown",
   "id": "4b3710e7",
   "metadata": {},
   "source": [
    "R2 score of Linear Regression test data 72% and train data is 53% ,it means model is underfitting"
   ]
  },
  {
   "cell_type": "code",
   "execution_count": 93,
   "id": "cb865cb3",
   "metadata": {},
   "outputs": [
    {
     "name": "stdout",
     "output_type": "stream",
     "text": [
      "DecisionTreeRegressor\n",
      "R2 Score on test data 69.507597621299\n",
      "R2 Score on train data 100.0\n",
      "Mean squared error 0.2852259098319223\n",
      "Mean absolute error 0.2852259098319223\n"
     ]
    }
   ],
   "source": [
    "print('DecisionTreeRegressor')\n",
    "dtr=DTR()\n",
    "dtr.fit(x1_train,y1_train)\n",
    "preddtr=dtr.predict(x1_test)\n",
    "preddtr_train=dtr.predict(x1_train)\n",
    "print('R2 Score on test data',r2_score(y1_test,preddtr)*100)\n",
    "print('R2 Score on train data',r2_score(y1_train,preddtr_train)*100)\n",
    "print('Mean squared error',mean_squared_error(y1_test,preddtr))\n",
    "print('Mean absolute error',mean_squared_error(y1_test,preddtr))"
   ]
  },
  {
   "cell_type": "markdown",
   "id": "3056c586",
   "metadata": {},
   "source": [
    "with DecisionTreeRegressor R2 score of test data is  71% and train data is 100% , it indicates my model is overfitting"
   ]
  },
  {
   "cell_type": "code",
   "execution_count": 94,
   "id": "e62efdfd",
   "metadata": {},
   "outputs": [
    {
     "name": "stdout",
     "output_type": "stream",
     "text": [
      "RandomForestRegressor\n",
      "R2 score on test data 85.34916689379403\n",
      "R2 score on train data 96.27979915703847\n",
      "Mean squared error 0.13704388229614023\n",
      "Mean absolute error 0.22091506730857388\n"
     ]
    }
   ],
   "source": [
    "print('RandomForestRegressor')\n",
    "rf=RandomForestRegressor()\n",
    "rf.fit(x1_train,y1_train)\n",
    "predrf=rf.predict(x1_test)\n",
    "predrf_train=rf.predict(x1_train)\n",
    "print('R2 score on test data',r2_score(y1_test,predrf)*100)\n",
    "print('R2 score on train data',r2_score(y1_train,predrf_train)*100)\n",
    "print('Mean squared error',mean_squared_error(y1_test,predrf))\n",
    "print('Mean absolute error',mean_absolute_error(y1_test,predrf))"
   ]
  },
  {
   "cell_type": "markdown",
   "id": "98b55598",
   "metadata": {},
   "source": [
    "RandomForestRegressor shows R2 score is good 84%"
   ]
  },
  {
   "cell_type": "code",
   "execution_count": 95,
   "id": "2f229599",
   "metadata": {},
   "outputs": [
    {
     "name": "stdout",
     "output_type": "stream",
     "text": [
      "ExtraTreesRegressor\n",
      "R2 score on test data 87.62333506749876\n",
      "R2 score on train data 100.0\n",
      "Mean squared error 0.11577131484147431\n",
      "Mean absolute error 0.1937915829829382\n"
     ]
    }
   ],
   "source": [
    "print('ExtraTreesRegressor')\n",
    "et=ExtraTreesRegressor()\n",
    "et.fit(x1_train,y1_train)\n",
    "predet=et.predict(x1_test)\n",
    "predet_train=et.predict(x1_train)\n",
    "print('R2 score on test data',r2_score(y1_test,predet)*100)\n",
    "print('R2 score on train data',r2_score(y1_train,predet_train)*100)\n",
    "print('Mean squared error',mean_squared_error(y1_test,predet))\n",
    "print('Mean absolute error',mean_absolute_error(y1_test,predet))"
   ]
  },
  {
   "cell_type": "markdown",
   "id": "0d902bab",
   "metadata": {},
   "source": [
    "with ExtraTreesRegressor R2 score is test data is 88%"
   ]
  },
  {
   "cell_type": "code",
   "execution_count": 96,
   "id": "4531cf5f",
   "metadata": {},
   "outputs": [
    {
     "name": "stdout",
     "output_type": "stream",
     "text": [
      "GradientBoostingRegressor\n",
      "R2 score on test data 81.57808530043353\n",
      "R2 score on train data 95.58263962114707\n",
      "Mean squared error 0.17231857679735074\n",
      "Mean absolute error 0.24213920195309088\n"
     ]
    }
   ],
   "source": [
    "print('GradientBoostingRegressor')\n",
    "gb=GradientBoostingRegressor()\n",
    "gb.fit(x1_train,y1_train)\n",
    "predgb=gb.predict(x1_test)\n",
    "predgb_train=gb.predict(x1_train)\n",
    "print('R2 score on test data',r2_score(y1_test,predgb)*100)\n",
    "print('R2 score on train data',r2_score(y1_train,predgb_train)*100)\n",
    "print('Mean squared error',mean_squared_error(y1_test,predgb))\n",
    "print('Mean absolute error',mean_absolute_error(y1_test,predgb))"
   ]
  },
  {
   "cell_type": "markdown",
   "id": "faebfa69",
   "metadata": {},
   "source": [
    "with GradientBoostRegressor the test data 82%"
   ]
  },
  {
   "cell_type": "code",
   "execution_count": 97,
   "id": "62659281",
   "metadata": {},
   "outputs": [
    {
     "name": "stdout",
     "output_type": "stream",
     "text": [
      "AdaBoostRegressor\n",
      "R2 score on test data 59.80436592695988\n",
      "R2 score on train data 66.14994362136015\n",
      "Mean squared error 0.37598993209410403\n",
      "Mean absolute error 0.5384937669006632\n"
     ]
    }
   ],
   "source": [
    "print('AdaBoostRegressor')\n",
    "ab=AdaBoostRegressor()\n",
    "ab.fit(x1_train,y1_train)\n",
    "predab=ab.predict(x1_test)\n",
    "predab_train=ab.predict(x1_train)\n",
    "print('R2 score on test data',r2_score(y1_test,predab)*100)\n",
    "print('R2 score on train data',r2_score(y1_train,predab_train)*100)\n",
    "print('Mean squared error',mean_squared_error(y1_test,predab))\n",
    "print('Mean absolute error',mean_absolute_error(y1_test,predab))"
   ]
  },
  {
   "cell_type": "markdown",
   "id": "d75a8e6c",
   "metadata": {},
   "source": [
    "AdaBoost Regressor not performing well"
   ]
  },
  {
   "cell_type": "code",
   "execution_count": 98,
   "id": "4591911b",
   "metadata": {},
   "outputs": [
    {
     "name": "stdout",
     "output_type": "stream",
     "text": [
      "BaggingRegressor\n",
      "R2 score on test data 84.3227337427892\n",
      "R2 score on train data 95.07728025156538\n",
      "Mean squared error 0.14664513724945594\n",
      "Mean absolute error 0.23139646703871478\n"
     ]
    }
   ],
   "source": [
    "print('BaggingRegressor')\n",
    "bg=BaggingRegressor()\n",
    "bg.fit(x1_train,y1_train)\n",
    "predbg=bg.predict(x1_test)\n",
    "predbg_train=bg.predict(x1_train)\n",
    "print('R2 score on test data',r2_score(y1_test,predbg)*100)\n",
    "print('R2 score on train data',r2_score(y1_train,predbg_train)*100)\n",
    "print('Mean squared error',mean_squared_error(y1_test,predbg))\n",
    "print('Mean absolute error',mean_absolute_error(y1_test,predbg))"
   ]
  },
  {
   "cell_type": "markdown",
   "id": "4d0aefb7",
   "metadata": {},
   "source": [
    "Bagging Regressor has 82% of R2 score "
   ]
  },
  {
   "cell_type": "code",
   "execution_count": 99,
   "id": "410d1887",
   "metadata": {},
   "outputs": [
    {
     "name": "stdout",
     "output_type": "stream",
     "text": [
      "Lasso\n",
      "R2 score on test data 66.19681082383627\n",
      "R2 score on train data 47.7810892356549\n",
      "Mean squared error 0.31619500714468224\n",
      "Mean absolute error 0.40117543193705957\n"
     ]
    }
   ],
   "source": [
    "print('Lasso')\n",
    "ls=Lasso(alpha=0.1)\n",
    "ls.fit(x1_train,y1_train)\n",
    "predls=ls.predict(x1_test)\n",
    "predls_train=ls.predict(x1_train)\n",
    "print('R2 score on test data',r2_score(y1_test,predls)*100)\n",
    "print('R2 score on train data',r2_score(y1_train,predls_train)*100)\n",
    "print('Mean squared error',mean_squared_error(y1_test,predls))\n",
    "print('Mean absolute error',mean_absolute_error(y1_test,predls))"
   ]
  },
  {
   "cell_type": "markdown",
   "id": "7f434b0d",
   "metadata": {},
   "source": [
    "with Lasso R2 score is just 66%"
   ]
  },
  {
   "cell_type": "code",
   "execution_count": 100,
   "id": "0d170112",
   "metadata": {},
   "outputs": [
    {
     "name": "stdout",
     "output_type": "stream",
     "text": [
      "Ridge\n",
      "R2 score on test data 71.57756831071335\n",
      "R2 score on train data 53.62518558667142\n",
      "Mean squared error 0.2658634054978584\n",
      "Mean absolute error 0.3674613604312874\n"
     ]
    }
   ],
   "source": [
    "print('Ridge')\n",
    "rd=Ridge(alpha=0.01)\n",
    "rd.fit(x1_train,y1_train)\n",
    "predrd=rd.predict(x1_test)\n",
    "predrd_train=rd.predict(x1_train)\n",
    "print('R2 score on test data',r2_score(y1_test,predrd)*100)\n",
    "print('R2 score on train data',r2_score(y1_train,predrd_train)*100)\n",
    "print('Mean squared error',mean_squared_error(y1_test,predrd))\n",
    "print('Mean absolute error',mean_absolute_error(y1_test,predrd))"
   ]
  },
  {
   "cell_type": "markdown",
   "id": "de91c114",
   "metadata": {},
   "source": [
    "with Ridge the R2 score is 71%"
   ]
  },
  {
   "cell_type": "code",
   "execution_count": 101,
   "id": "d22c7120",
   "metadata": {},
   "outputs": [
    {
     "name": "stdout",
     "output_type": "stream",
     "text": [
      "ElasticNet\n",
      "R2 score on test data 71.70102098758116\n",
      "R2 score on train data 53.41841106950538\n",
      "Mean squared error 0.2647086292475817\n",
      "Mean absolute error 0.3648605950077163\n"
     ]
    }
   ],
   "source": [
    "print('ElasticNet')\n",
    "el=ElasticNet(alpha=0.01)\n",
    "el.fit(x1_train,y1_train)\n",
    "predel=el.predict(x1_test)\n",
    "predel_train=el.predict(x1_train)\n",
    "print('R2 score on test data',r2_score(y1_test,predel)*100)\n",
    "print('R2 score on train data',r2_score(y1_train,predel_train)*100)\n",
    "print('Mean squared error',mean_squared_error(y1_test,predel))\n",
    "print('Mean absolute error',mean_absolute_error(y1_test,predel))"
   ]
  },
  {
   "cell_type": "markdown",
   "id": "4a7fde8c",
   "metadata": {},
   "source": [
    "ElasticNet has R2 score is 71%"
   ]
  },
  {
   "cell_type": "code",
   "execution_count": 102,
   "id": "773927c5",
   "metadata": {},
   "outputs": [
    {
     "name": "stdout",
     "output_type": "stream",
     "text": [
      "Support Vector\n",
      "R2 score on test data 81.43259320667863\n",
      "R2 score on train data 70.77071995282434\n",
      "Mean squared error 0.17367950973727478\n",
      "Mean absolute error 0.26158286657405044\n"
     ]
    }
   ],
   "source": [
    "print('Support Vector')\n",
    "svr=SVR()\n",
    "svr.fit(x1_train,y1_train)\n",
    "predsvr=svr.predict(x1_test)\n",
    "predsvr_train=svr.predict(x1_train)\n",
    "print('R2 score on test data',r2_score(y1_test,predsvr)*100)\n",
    "print('R2 score on train data',r2_score(y1_train,predsvr_train)*100)\n",
    "print('Mean squared error',mean_squared_error(y1_test,predsvr))\n",
    "print('Mean absolute error',mean_absolute_error(y1_test,predsvr))"
   ]
  },
  {
   "cell_type": "markdown",
   "id": "852ccac0",
   "metadata": {},
   "source": [
    "with SupportVector R2 score test data is 81%"
   ]
  },
  {
   "cell_type": "code",
   "execution_count": 103,
   "id": "c2a23a6e",
   "metadata": {},
   "outputs": [],
   "source": [
    "from sklearn.model_selection import cross_val_score"
   ]
  },
  {
   "cell_type": "markdown",
   "id": "27439672",
   "metadata": {},
   "source": [
    "using the Cross validation score to avoid the underfitting and overfitting"
   ]
  },
  {
   "cell_type": "code",
   "execution_count": 104,
   "id": "911fa6f8",
   "metadata": {},
   "outputs": [
    {
     "name": "stdout",
     "output_type": "stream",
     "text": [
      "ElasticNet\n",
      "Score [51.18059015 55.59410754 49.99189759 62.5215955  56.29556488]\n",
      "Mean Score 55.11675113194282\n",
      "\n",
      "\n",
      "Ridge\n",
      "Score [48.52782215 54.04200114 50.31117727 62.67698658 56.28576969]\n",
      "Mean Score 54.3687513657925\n",
      "\n",
      "\n",
      "Lasso\n",
      "Score [51.35668291 55.25439224 46.64138397 53.47765197 46.78816418]\n",
      "Mean Score 50.7036550569292\n",
      "\n",
      "\n",
      "AdaBoost\n",
      "Score [48.19945081 20.37079391 57.59765654 71.0478108  69.05371506]\n",
      "Mean Score 53.253885422550596\n",
      "\n",
      "\n",
      "ExtraTrees\n",
      "Score [82.67870052 80.82341604 67.34116274 81.74429724 75.79908242]\n",
      "Mean Score 77.6773317912014\n",
      "\n",
      "\n",
      "Bagging\n",
      "Score [75.114971   78.50108273 65.7448385  80.11270016 76.78038875]\n",
      "Mean Score 75.2507962265296\n",
      "\n",
      "\n",
      "GradinetBoosting\n",
      "Score [74.8586568  75.98727229 66.16127035 76.79060148 67.309719  ]\n",
      "Mean Score 72.22150398208427\n",
      "\n",
      "\n",
      "DecisionTree\n",
      "Score [37.05136685 53.08151405 56.79564007 74.61895077 61.58280428]\n",
      "Mean Score 56.6260552024169\n",
      "\n",
      "\n",
      "Support vector\n",
      "Score [65.9471913  68.7594949  55.62070018 72.08910217 66.78120775]\n",
      "Mean Score 65.8395392591174\n",
      "\n",
      "\n",
      "RandomForest\n",
      "Score [75.76962689 80.80108948 68.09569084 80.3625196  75.6002371 ]\n",
      "Mean Score 76.12583278289561\n",
      "\n",
      "\n"
     ]
    }
   ],
   "source": [
    "print('ElasticNet')\n",
    "scoreel=cross_val_score(el,x1,y1)\n",
    "print('Score',scoreel*100)\n",
    "print('Mean Score',scoreel.mean()*100)\n",
    "print('\\n')\n",
    "\n",
    "print('Ridge')\n",
    "scorerd=cross_val_score(rd,x1,y1)\n",
    "print('Score',scorerd*100)\n",
    "print('Mean Score',scorerd.mean()*100)\n",
    "print('\\n')\n",
    "\n",
    "print('Lasso')\n",
    "scorels=cross_val_score(ls,x1,y1)\n",
    "print('Score',scorels*100)\n",
    "print('Mean Score',scorels.mean()*100)\n",
    "print('\\n')\n",
    "\n",
    "print('AdaBoost')\n",
    "scoreab=cross_val_score(ab,x1,y1)\n",
    "print('Score',scoreab*100)\n",
    "print('Mean Score',scoreab.mean()*100)\n",
    "print('\\n')\n",
    "\n",
    "print('ExtraTrees')\n",
    "scoreet=cross_val_score(et,x1,y1)\n",
    "print('Score',scoreet*100)\n",
    "print('Mean Score',scoreet.mean()*100)\n",
    "print('\\n')\n",
    "\n",
    "print('Bagging')\n",
    "scorebg=cross_val_score(bg,x1,y1)\n",
    "print('Score',scorebg*100)\n",
    "print('Mean Score',scorebg.mean()*100)\n",
    "print('\\n')\n",
    "\n",
    "print('GradinetBoosting')\n",
    "scoregb=cross_val_score(gb,x1,y1)\n",
    "print('Score',scoregb*100)\n",
    "print('Mean Score',scoregb.mean()*100)\n",
    "print('\\n')\n",
    "\n",
    "print('DecisionTree')\n",
    "scoredtr=cross_val_score(dtr,x1,y1)\n",
    "print('Score',scoredtr*100)\n",
    "print('Mean Score',scoredtr.mean()*100)\n",
    "print('\\n')\n",
    "\n",
    "print('Support vector')\n",
    "scoresvr=cross_val_score(svr,x1,y1)\n",
    "print('Score',scoresvr*100)\n",
    "print('Mean Score',scoresvr.mean()*100)\n",
    "print('\\n')\n",
    "\n",
    "print('RandomForest')\n",
    "scorerf=cross_val_score(rf,x1,y1)\n",
    "print('Score',scorerf*100)\n",
    "print('Mean Score',scorerf.mean()*100)\n",
    "print('\\n')"
   ]
  },
  {
   "cell_type": "markdown",
   "id": "c57beea7",
   "metadata": {},
   "source": [
    "After the Cross validation score the ExtraTreesRegressor is best performing model "
   ]
  },
  {
   "cell_type": "code",
   "execution_count": 105,
   "id": "74333474",
   "metadata": {},
   "outputs": [],
   "source": [
    "from sklearn.model_selection import GridSearchCV"
   ]
  },
  {
   "cell_type": "markdown",
   "id": "7eb1e607",
   "metadata": {},
   "source": [
    "using the GridSearchCV to find best parameters to run the model well"
   ]
  },
  {
   "cell_type": "code",
   "execution_count": 110,
   "id": "d738ae02",
   "metadata": {},
   "outputs": [],
   "source": [
    "parameters={\n",
    "           'max_depth':[10,50,100,200],\n",
    "           'n_jobs':[-2,-1,1],\n",
    "           'n_estimators':[50,100,150,200],\n",
    "           'random_state':[100,500,1000,1500]}"
   ]
  },
  {
   "cell_type": "markdown",
   "id": "a3f0ac8d",
   "metadata": {},
   "source": [
    "training the best parameters for hyperparameters"
   ]
  },
  {
   "cell_type": "code",
   "execution_count": 111,
   "id": "f9446b0a",
   "metadata": {},
   "outputs": [
    {
     "data": {
      "text/plain": [
       "{'max_depth': 50, 'n_estimators': 200, 'n_jobs': -2, 'random_state': 100}"
      ]
     },
     "execution_count": 111,
     "metadata": {},
     "output_type": "execute_result"
    }
   ],
   "source": [
    "gscv=GridSearchCV(ExtraTreesRegressor(),parameters,cv=5)\n",
    "gscv.fit(x_train,y_train)\n",
    "gscv.best_params_"
   ]
  },
  {
   "cell_type": "markdown",
   "id": "e1b89f8a",
   "metadata": {},
   "source": [
    "the best parameters are obtained from GridSearchCV"
   ]
  },
  {
   "cell_type": "code",
   "execution_count": 112,
   "id": "5ad8e18f",
   "metadata": {},
   "outputs": [],
   "source": [
    "model=ExtraTreesRegressor(random_state=100,max_depth=50,n_jobs=-2,n_estimators=200)"
   ]
  },
  {
   "cell_type": "markdown",
   "id": "9f5eb737",
   "metadata": {},
   "source": [
    "building the model with best parameters"
   ]
  },
  {
   "cell_type": "code",
   "execution_count": 113,
   "id": "b3b344cb",
   "metadata": {},
   "outputs": [
    {
     "name": "stdout",
     "output_type": "stream",
     "text": [
      "R2 score  87.34606177901277\n"
     ]
    }
   ],
   "source": [
    "model.fit(x1_train,y1_train)\n",
    "pred=model.predict(x1_test)\n",
    "print('R2 score ',r2_score(y1_test,pred)*100)"
   ]
  },
  {
   "cell_type": "markdown",
   "id": "67e78ad4",
   "metadata": {},
   "source": [
    "the accuracy is 87% with best model"
   ]
  },
  {
   "cell_type": "code",
   "execution_count": 114,
   "id": "eed3fb8e",
   "metadata": {},
   "outputs": [],
   "source": [
    "import pickle\n",
    "file='Prediction_capacity'\n",
    "pickle.dump(model,open(file,'wb'))"
   ]
  },
  {
   "cell_type": "markdown",
   "id": "ba36dc60",
   "metadata": {},
   "source": [
    "saving the model with pickle lybrari"
   ]
  },
  {
   "cell_type": "code",
   "execution_count": 115,
   "id": "7000faed",
   "metadata": {},
   "outputs": [
    {
     "data": {
      "text/plain": [
       "87.34606177901277"
      ]
     },
     "execution_count": 115,
     "metadata": {},
     "output_type": "execute_result"
    }
   ],
   "source": [
    "final=pickle.load(open('Prediction_capacity','rb'))\n",
    "final.score(x1_test,y1_test)*100"
   ]
  },
  {
   "cell_type": "markdown",
   "id": "5245c50c",
   "metadata": {},
   "source": [
    "loading the saved model from the jupyter notebook"
   ]
  },
  {
   "cell_type": "code",
   "execution_count": null,
   "id": "68e82ea1",
   "metadata": {},
   "outputs": [],
   "source": []
  },
  {
   "cell_type": "code",
   "execution_count": null,
   "id": "4b955532",
   "metadata": {},
   "outputs": [],
   "source": []
  }
 ],
 "metadata": {
  "kernelspec": {
   "display_name": "Python 3 (ipykernel)",
   "language": "python",
   "name": "python3"
  },
  "language_info": {
   "codemirror_mode": {
    "name": "ipython",
    "version": 3
   },
   "file_extension": ".py",
   "mimetype": "text/x-python",
   "name": "python",
   "nbconvert_exporter": "python",
   "pygments_lexer": "ipython3",
   "version": "3.9.12"
  }
 },
 "nbformat": 4,
 "nbformat_minor": 5
}
