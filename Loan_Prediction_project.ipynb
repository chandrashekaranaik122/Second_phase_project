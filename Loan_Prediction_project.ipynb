{
 "cells": [
  {
   "cell_type": "markdown",
   "id": "07460cc7",
   "metadata": {},
   "source": [
    "# Loan_Prediction_project"
   ]
  },
  {
   "cell_type": "code",
   "execution_count": 1,
   "id": "8d3d571e",
   "metadata": {},
   "outputs": [],
   "source": [
    "import pandas as pd\n",
    "import numpy as np\n",
    "import matplotlib.pyplot as plt\n",
    "import seaborn as sns\n",
    "import warnings\n",
    "warnings.filterwarnings('ignore')"
   ]
  },
  {
   "cell_type": "markdown",
   "id": "1038f50a",
   "metadata": {},
   "source": [
    "importing all the nessasary lybraries"
   ]
  },
  {
   "cell_type": "code",
   "execution_count": 2,
   "id": "b5afca34",
   "metadata": {},
   "outputs": [
    {
     "data": {
      "text/html": [
       "<div>\n",
       "<style scoped>\n",
       "    .dataframe tbody tr th:only-of-type {\n",
       "        vertical-align: middle;\n",
       "    }\n",
       "\n",
       "    .dataframe tbody tr th {\n",
       "        vertical-align: top;\n",
       "    }\n",
       "\n",
       "    .dataframe thead th {\n",
       "        text-align: right;\n",
       "    }\n",
       "</style>\n",
       "<table border=\"1\" class=\"dataframe\">\n",
       "  <thead>\n",
       "    <tr style=\"text-align: right;\">\n",
       "      <th></th>\n",
       "      <th>Loan_ID</th>\n",
       "      <th>Gender</th>\n",
       "      <th>Married</th>\n",
       "      <th>Dependents</th>\n",
       "      <th>Education</th>\n",
       "      <th>Self_Employed</th>\n",
       "      <th>ApplicantIncome</th>\n",
       "      <th>CoapplicantIncome</th>\n",
       "      <th>LoanAmount</th>\n",
       "      <th>Loan_Amount_Term</th>\n",
       "      <th>Credit_History</th>\n",
       "      <th>Property_Area</th>\n",
       "      <th>Loan_Status</th>\n",
       "    </tr>\n",
       "  </thead>\n",
       "  <tbody>\n",
       "    <tr>\n",
       "      <th>0</th>\n",
       "      <td>LP001002</td>\n",
       "      <td>Male</td>\n",
       "      <td>No</td>\n",
       "      <td>0</td>\n",
       "      <td>Graduate</td>\n",
       "      <td>No</td>\n",
       "      <td>5849</td>\n",
       "      <td>0.0</td>\n",
       "      <td>NaN</td>\n",
       "      <td>360.0</td>\n",
       "      <td>1.0</td>\n",
       "      <td>Urban</td>\n",
       "      <td>Y</td>\n",
       "    </tr>\n",
       "    <tr>\n",
       "      <th>1</th>\n",
       "      <td>LP001003</td>\n",
       "      <td>Male</td>\n",
       "      <td>Yes</td>\n",
       "      <td>1</td>\n",
       "      <td>Graduate</td>\n",
       "      <td>No</td>\n",
       "      <td>4583</td>\n",
       "      <td>1508.0</td>\n",
       "      <td>128.0</td>\n",
       "      <td>360.0</td>\n",
       "      <td>1.0</td>\n",
       "      <td>Rural</td>\n",
       "      <td>N</td>\n",
       "    </tr>\n",
       "    <tr>\n",
       "      <th>2</th>\n",
       "      <td>LP001005</td>\n",
       "      <td>Male</td>\n",
       "      <td>Yes</td>\n",
       "      <td>0</td>\n",
       "      <td>Graduate</td>\n",
       "      <td>Yes</td>\n",
       "      <td>3000</td>\n",
       "      <td>0.0</td>\n",
       "      <td>66.0</td>\n",
       "      <td>360.0</td>\n",
       "      <td>1.0</td>\n",
       "      <td>Urban</td>\n",
       "      <td>Y</td>\n",
       "    </tr>\n",
       "    <tr>\n",
       "      <th>3</th>\n",
       "      <td>LP001006</td>\n",
       "      <td>Male</td>\n",
       "      <td>Yes</td>\n",
       "      <td>0</td>\n",
       "      <td>Not Graduate</td>\n",
       "      <td>No</td>\n",
       "      <td>2583</td>\n",
       "      <td>2358.0</td>\n",
       "      <td>120.0</td>\n",
       "      <td>360.0</td>\n",
       "      <td>1.0</td>\n",
       "      <td>Urban</td>\n",
       "      <td>Y</td>\n",
       "    </tr>\n",
       "    <tr>\n",
       "      <th>4</th>\n",
       "      <td>LP001008</td>\n",
       "      <td>Male</td>\n",
       "      <td>No</td>\n",
       "      <td>0</td>\n",
       "      <td>Graduate</td>\n",
       "      <td>No</td>\n",
       "      <td>6000</td>\n",
       "      <td>0.0</td>\n",
       "      <td>141.0</td>\n",
       "      <td>360.0</td>\n",
       "      <td>1.0</td>\n",
       "      <td>Urban</td>\n",
       "      <td>Y</td>\n",
       "    </tr>\n",
       "    <tr>\n",
       "      <th>...</th>\n",
       "      <td>...</td>\n",
       "      <td>...</td>\n",
       "      <td>...</td>\n",
       "      <td>...</td>\n",
       "      <td>...</td>\n",
       "      <td>...</td>\n",
       "      <td>...</td>\n",
       "      <td>...</td>\n",
       "      <td>...</td>\n",
       "      <td>...</td>\n",
       "      <td>...</td>\n",
       "      <td>...</td>\n",
       "      <td>...</td>\n",
       "    </tr>\n",
       "    <tr>\n",
       "      <th>609</th>\n",
       "      <td>LP002978</td>\n",
       "      <td>Female</td>\n",
       "      <td>No</td>\n",
       "      <td>0</td>\n",
       "      <td>Graduate</td>\n",
       "      <td>No</td>\n",
       "      <td>2900</td>\n",
       "      <td>0.0</td>\n",
       "      <td>71.0</td>\n",
       "      <td>360.0</td>\n",
       "      <td>1.0</td>\n",
       "      <td>Rural</td>\n",
       "      <td>Y</td>\n",
       "    </tr>\n",
       "    <tr>\n",
       "      <th>610</th>\n",
       "      <td>LP002979</td>\n",
       "      <td>Male</td>\n",
       "      <td>Yes</td>\n",
       "      <td>3+</td>\n",
       "      <td>Graduate</td>\n",
       "      <td>No</td>\n",
       "      <td>4106</td>\n",
       "      <td>0.0</td>\n",
       "      <td>40.0</td>\n",
       "      <td>180.0</td>\n",
       "      <td>1.0</td>\n",
       "      <td>Rural</td>\n",
       "      <td>Y</td>\n",
       "    </tr>\n",
       "    <tr>\n",
       "      <th>611</th>\n",
       "      <td>LP002983</td>\n",
       "      <td>Male</td>\n",
       "      <td>Yes</td>\n",
       "      <td>1</td>\n",
       "      <td>Graduate</td>\n",
       "      <td>No</td>\n",
       "      <td>8072</td>\n",
       "      <td>240.0</td>\n",
       "      <td>253.0</td>\n",
       "      <td>360.0</td>\n",
       "      <td>1.0</td>\n",
       "      <td>Urban</td>\n",
       "      <td>Y</td>\n",
       "    </tr>\n",
       "    <tr>\n",
       "      <th>612</th>\n",
       "      <td>LP002984</td>\n",
       "      <td>Male</td>\n",
       "      <td>Yes</td>\n",
       "      <td>2</td>\n",
       "      <td>Graduate</td>\n",
       "      <td>No</td>\n",
       "      <td>7583</td>\n",
       "      <td>0.0</td>\n",
       "      <td>187.0</td>\n",
       "      <td>360.0</td>\n",
       "      <td>1.0</td>\n",
       "      <td>Urban</td>\n",
       "      <td>Y</td>\n",
       "    </tr>\n",
       "    <tr>\n",
       "      <th>613</th>\n",
       "      <td>LP002990</td>\n",
       "      <td>Female</td>\n",
       "      <td>No</td>\n",
       "      <td>0</td>\n",
       "      <td>Graduate</td>\n",
       "      <td>Yes</td>\n",
       "      <td>4583</td>\n",
       "      <td>0.0</td>\n",
       "      <td>133.0</td>\n",
       "      <td>360.0</td>\n",
       "      <td>0.0</td>\n",
       "      <td>Semiurban</td>\n",
       "      <td>N</td>\n",
       "    </tr>\n",
       "  </tbody>\n",
       "</table>\n",
       "<p>614 rows × 13 columns</p>\n",
       "</div>"
      ],
      "text/plain": [
       "      Loan_ID  Gender Married Dependents     Education Self_Employed  \\\n",
       "0    LP001002    Male      No          0      Graduate            No   \n",
       "1    LP001003    Male     Yes          1      Graduate            No   \n",
       "2    LP001005    Male     Yes          0      Graduate           Yes   \n",
       "3    LP001006    Male     Yes          0  Not Graduate            No   \n",
       "4    LP001008    Male      No          0      Graduate            No   \n",
       "..        ...     ...     ...        ...           ...           ...   \n",
       "609  LP002978  Female      No          0      Graduate            No   \n",
       "610  LP002979    Male     Yes         3+      Graduate            No   \n",
       "611  LP002983    Male     Yes          1      Graduate            No   \n",
       "612  LP002984    Male     Yes          2      Graduate            No   \n",
       "613  LP002990  Female      No          0      Graduate           Yes   \n",
       "\n",
       "     ApplicantIncome  CoapplicantIncome  LoanAmount  Loan_Amount_Term  \\\n",
       "0               5849                0.0         NaN             360.0   \n",
       "1               4583             1508.0       128.0             360.0   \n",
       "2               3000                0.0        66.0             360.0   \n",
       "3               2583             2358.0       120.0             360.0   \n",
       "4               6000                0.0       141.0             360.0   \n",
       "..               ...                ...         ...               ...   \n",
       "609             2900                0.0        71.0             360.0   \n",
       "610             4106                0.0        40.0             180.0   \n",
       "611             8072              240.0       253.0             360.0   \n",
       "612             7583                0.0       187.0             360.0   \n",
       "613             4583                0.0       133.0             360.0   \n",
       "\n",
       "     Credit_History Property_Area Loan_Status  \n",
       "0               1.0         Urban           Y  \n",
       "1               1.0         Rural           N  \n",
       "2               1.0         Urban           Y  \n",
       "3               1.0         Urban           Y  \n",
       "4               1.0         Urban           Y  \n",
       "..              ...           ...         ...  \n",
       "609             1.0         Rural           Y  \n",
       "610             1.0         Rural           Y  \n",
       "611             1.0         Urban           Y  \n",
       "612             1.0         Urban           Y  \n",
       "613             0.0     Semiurban           N  \n",
       "\n",
       "[614 rows x 13 columns]"
      ]
     },
     "execution_count": 2,
     "metadata": {},
     "output_type": "execute_result"
    }
   ],
   "source": [
    "df=pd.read_csv(\"Loan_prediction.csv\")\n",
    "df"
   ]
  },
  {
   "cell_type": "markdown",
   "id": "5c4354ff",
   "metadata": {},
   "source": [
    "loading my model from jupyter notebook and saving it as df"
   ]
  },
  {
   "cell_type": "code",
   "execution_count": 3,
   "id": "1d884e38",
   "metadata": {},
   "outputs": [
    {
     "name": "stdout",
     "output_type": "stream",
     "text": [
      "<class 'pandas.core.frame.DataFrame'>\n",
      "RangeIndex: 614 entries, 0 to 613\n",
      "Data columns (total 13 columns):\n",
      " #   Column             Non-Null Count  Dtype  \n",
      "---  ------             --------------  -----  \n",
      " 0   Loan_ID            614 non-null    object \n",
      " 1   Gender             601 non-null    object \n",
      " 2   Married            611 non-null    object \n",
      " 3   Dependents         599 non-null    object \n",
      " 4   Education          614 non-null    object \n",
      " 5   Self_Employed      582 non-null    object \n",
      " 6   ApplicantIncome    614 non-null    int64  \n",
      " 7   CoapplicantIncome  614 non-null    float64\n",
      " 8   LoanAmount         592 non-null    float64\n",
      " 9   Loan_Amount_Term   600 non-null    float64\n",
      " 10  Credit_History     564 non-null    float64\n",
      " 11  Property_Area      614 non-null    object \n",
      " 12  Loan_Status        614 non-null    object \n",
      "dtypes: float64(4), int64(1), object(8)\n",
      "memory usage: 62.5+ KB\n"
     ]
    }
   ],
   "source": [
    "df.info()"
   ]
  },
  {
   "cell_type": "markdown",
   "id": "41460709",
   "metadata": {},
   "source": [
    "there are 13 columns and 614 rows present in the dataset"
   ]
  },
  {
   "cell_type": "code",
   "execution_count": 4,
   "id": "61498090",
   "metadata": {},
   "outputs": [
    {
     "data": {
      "text/plain": [
       "Index(['Loan_ID', 'Gender', 'Married', 'Dependents', 'Education',\n",
       "       'Self_Employed', 'ApplicantIncome', 'CoapplicantIncome', 'LoanAmount',\n",
       "       'Loan_Amount_Term', 'Credit_History', 'Property_Area', 'Loan_Status'],\n",
       "      dtype='object')"
      ]
     },
     "execution_count": 4,
     "metadata": {},
     "output_type": "execute_result"
    }
   ],
   "source": [
    "df.columns"
   ]
  },
  {
   "cell_type": "markdown",
   "id": "af74538e",
   "metadata": {},
   "source": [
    "columns present in the dataset"
   ]
  },
  {
   "cell_type": "code",
   "execution_count": 5,
   "id": "1d27cd5c",
   "metadata": {},
   "outputs": [
    {
     "data": {
      "text/plain": [
       "Loan_ID               object\n",
       "Gender                object\n",
       "Married               object\n",
       "Dependents            object\n",
       "Education             object\n",
       "Self_Employed         object\n",
       "ApplicantIncome        int64\n",
       "CoapplicantIncome    float64\n",
       "LoanAmount           float64\n",
       "Loan_Amount_Term     float64\n",
       "Credit_History       float64\n",
       "Property_Area         object\n",
       "Loan_Status           object\n",
       "dtype: object"
      ]
     },
     "execution_count": 5,
     "metadata": {},
     "output_type": "execute_result"
    }
   ],
   "source": [
    "df.dtypes"
   ]
  },
  {
   "cell_type": "markdown",
   "id": "bff8290f",
   "metadata": {},
   "source": [
    "3 types of data present in the df dataset"
   ]
  },
  {
   "cell_type": "code",
   "execution_count": 6,
   "id": "233ffb67",
   "metadata": {},
   "outputs": [
    {
     "data": {
      "text/plain": [
       "Loan_ID               0\n",
       "Gender               13\n",
       "Married               3\n",
       "Dependents           15\n",
       "Education             0\n",
       "Self_Employed        32\n",
       "ApplicantIncome       0\n",
       "CoapplicantIncome     0\n",
       "LoanAmount           22\n",
       "Loan_Amount_Term     14\n",
       "Credit_History       50\n",
       "Property_Area         0\n",
       "Loan_Status           0\n",
       "dtype: int64"
      ]
     },
     "execution_count": 6,
     "metadata": {},
     "output_type": "execute_result"
    }
   ],
   "source": [
    "df.isnull().sum()"
   ]
  },
  {
   "cell_type": "markdown",
   "id": "066d3655",
   "metadata": {},
   "source": [
    "Gender,Self_Employed,LoanAmount,Loan_Amount_Term,Credit_History columns has null values"
   ]
  },
  {
   "cell_type": "code",
   "execution_count": 7,
   "id": "c82b0c94",
   "metadata": {},
   "outputs": [
    {
     "data": {
      "text/plain": [
       "Male      489\n",
       "Female    112\n",
       "Name: Gender, dtype: int64"
      ]
     },
     "execution_count": 7,
     "metadata": {},
     "output_type": "execute_result"
    }
   ],
   "source": [
    "df['Gender'].value_counts()"
   ]
  },
  {
   "cell_type": "markdown",
   "id": "1a2bf55d",
   "metadata": {},
   "source": [
    "489 Males and 112 Females applied for the loan"
   ]
  },
  {
   "cell_type": "code",
   "execution_count": 8,
   "id": "5bab0488",
   "metadata": {},
   "outputs": [
    {
     "data": {
      "text/plain": [
       "Yes    398\n",
       "No     213\n",
       "Name: Married, dtype: int64"
      ]
     },
     "execution_count": 8,
     "metadata": {},
     "output_type": "execute_result"
    }
   ],
   "source": [
    "df['Married'].value_counts()"
   ]
  },
  {
   "cell_type": "markdown",
   "id": "7c923ec7",
   "metadata": {},
   "source": [
    "398 people Married and 213 people unmaried"
   ]
  },
  {
   "cell_type": "code",
   "execution_count": 9,
   "id": "ea66e142",
   "metadata": {},
   "outputs": [
    {
     "name": "stdout",
     "output_type": "stream",
     "text": [
      "******************** \n",
      " Loan_ID \n",
      " ******************** \n",
      " LP001002    1\n",
      "LP002328    1\n",
      "LP002305    1\n",
      "LP002308    1\n",
      "LP002314    1\n",
      "           ..\n",
      "LP001692    1\n",
      "LP001693    1\n",
      "LP001698    1\n",
      "LP001699    1\n",
      "LP002990    1\n",
      "Name: Loan_ID, Length: 614, dtype: int64 \n",
      "\n",
      "******************** \n",
      " Gender \n",
      " ******************** \n",
      " Male      489\n",
      "Female    112\n",
      "Name: Gender, dtype: int64 \n",
      "\n",
      "******************** \n",
      " Married \n",
      " ******************** \n",
      " Yes    398\n",
      "No     213\n",
      "Name: Married, dtype: int64 \n",
      "\n",
      "******************** \n",
      " Dependents \n",
      " ******************** \n",
      " 0     345\n",
      "1     102\n",
      "2     101\n",
      "3+     51\n",
      "Name: Dependents, dtype: int64 \n",
      "\n",
      "******************** \n",
      " Education \n",
      " ******************** \n",
      " Graduate        480\n",
      "Not Graduate    134\n",
      "Name: Education, dtype: int64 \n",
      "\n",
      "******************** \n",
      " Self_Employed \n",
      " ******************** \n",
      " No     500\n",
      "Yes     82\n",
      "Name: Self_Employed, dtype: int64 \n",
      "\n",
      "******************** \n",
      " Property_Area \n",
      " ******************** \n",
      " Semiurban    233\n",
      "Urban        202\n",
      "Rural        179\n",
      "Name: Property_Area, dtype: int64 \n",
      "\n",
      "******************** \n",
      " Loan_Status \n",
      " ******************** \n",
      " Y    422\n",
      "N    192\n",
      "Name: Loan_Status, dtype: int64 \n",
      "\n"
     ]
    }
   ],
   "source": [
    "for i in df.columns:\n",
    "    if df[i].dtypes=='object':\n",
    "        print('********************','\\n',\n",
    "              i,'\\n',\n",
    "              '********************','\\n',\n",
    "              df[i].value_counts(),'\\n')"
   ]
  },
  {
   "cell_type": "markdown",
   "id": "394ed651",
   "metadata": {},
   "source": [
    "the values present that data containing the object type"
   ]
  },
  {
   "cell_type": "code",
   "execution_count": 10,
   "id": "05fb4118",
   "metadata": {},
   "outputs": [
    {
     "name": "stdout",
     "output_type": "stream",
     "text": [
      "******************** \n",
      " CoapplicantIncome \n",
      " ******************* \n",
      " 0.0       273\n",
      "2500.0      5\n",
      "2083.0      5\n",
      "1666.0      5\n",
      "2250.0      3\n",
      "         ... \n",
      "2791.0      1\n",
      "1010.0      1\n",
      "1695.0      1\n",
      "2598.0      1\n",
      "240.0       1\n",
      "Name: CoapplicantIncome, Length: 287, dtype: int64 \n",
      "\n",
      "******************** \n",
      " LoanAmount \n",
      " ******************* \n",
      " 120.0    20\n",
      "110.0    17\n",
      "100.0    15\n",
      "160.0    12\n",
      "187.0    12\n",
      "         ..\n",
      "240.0     1\n",
      "214.0     1\n",
      "59.0      1\n",
      "166.0     1\n",
      "253.0     1\n",
      "Name: LoanAmount, Length: 203, dtype: int64 \n",
      "\n",
      "******************** \n",
      " Loan_Amount_Term \n",
      " ******************* \n",
      " 360.0    512\n",
      "180.0     44\n",
      "480.0     15\n",
      "300.0     13\n",
      "240.0      4\n",
      "84.0       4\n",
      "120.0      3\n",
      "60.0       2\n",
      "36.0       2\n",
      "12.0       1\n",
      "Name: Loan_Amount_Term, dtype: int64 \n",
      "\n",
      "******************** \n",
      " Credit_History \n",
      " ******************* \n",
      " 1.0    475\n",
      "0.0     89\n",
      "Name: Credit_History, dtype: int64 \n",
      "\n"
     ]
    }
   ],
   "source": [
    "for i in df.columns:\n",
    "    if df[i].dtypes=='float':\n",
    "        print('********************','\\n',\n",
    "              i,'\\n',\n",
    "              '*******************','\\n',\n",
    "              df[i].value_counts(),'\\n')"
   ]
  },
  {
   "cell_type": "markdown",
   "id": "60171bea",
   "metadata": {},
   "source": [
    "the values that float datatype present "
   ]
  },
  {
   "cell_type": "code",
   "execution_count": 11,
   "id": "db39eeb8",
   "metadata": {},
   "outputs": [
    {
     "name": "stdout",
     "output_type": "stream",
     "text": [
      "<bound method IndexOpsMixin.nunique of 0      LP001002\n",
      "1      LP001003\n",
      "2      LP001005\n",
      "3      LP001006\n",
      "4      LP001008\n",
      "         ...   \n",
      "609    LP002978\n",
      "610    LP002979\n",
      "611    LP002983\n",
      "612    LP002984\n",
      "613    LP002990\n",
      "Name: Loan_ID, Length: 614, dtype: object>\n",
      "<bound method IndexOpsMixin.nunique of 0        Male\n",
      "1        Male\n",
      "2        Male\n",
      "3        Male\n",
      "4        Male\n",
      "        ...  \n",
      "609    Female\n",
      "610      Male\n",
      "611      Male\n",
      "612      Male\n",
      "613    Female\n",
      "Name: Gender, Length: 614, dtype: object>\n",
      "<bound method IndexOpsMixin.nunique of 0       No\n",
      "1      Yes\n",
      "2      Yes\n",
      "3      Yes\n",
      "4       No\n",
      "      ... \n",
      "609     No\n",
      "610    Yes\n",
      "611    Yes\n",
      "612    Yes\n",
      "613     No\n",
      "Name: Married, Length: 614, dtype: object>\n",
      "<bound method IndexOpsMixin.nunique of 0       0\n",
      "1       1\n",
      "2       0\n",
      "3       0\n",
      "4       0\n",
      "       ..\n",
      "609     0\n",
      "610    3+\n",
      "611     1\n",
      "612     2\n",
      "613     0\n",
      "Name: Dependents, Length: 614, dtype: object>\n",
      "<bound method IndexOpsMixin.nunique of 0          Graduate\n",
      "1          Graduate\n",
      "2          Graduate\n",
      "3      Not Graduate\n",
      "4          Graduate\n",
      "           ...     \n",
      "609        Graduate\n",
      "610        Graduate\n",
      "611        Graduate\n",
      "612        Graduate\n",
      "613        Graduate\n",
      "Name: Education, Length: 614, dtype: object>\n",
      "<bound method IndexOpsMixin.nunique of 0       No\n",
      "1       No\n",
      "2      Yes\n",
      "3       No\n",
      "4       No\n",
      "      ... \n",
      "609     No\n",
      "610     No\n",
      "611     No\n",
      "612     No\n",
      "613    Yes\n",
      "Name: Self_Employed, Length: 614, dtype: object>\n",
      "<bound method IndexOpsMixin.nunique of 0      5849\n",
      "1      4583\n",
      "2      3000\n",
      "3      2583\n",
      "4      6000\n",
      "       ... \n",
      "609    2900\n",
      "610    4106\n",
      "611    8072\n",
      "612    7583\n",
      "613    4583\n",
      "Name: ApplicantIncome, Length: 614, dtype: int64>\n",
      "<bound method IndexOpsMixin.nunique of 0         0.0\n",
      "1      1508.0\n",
      "2         0.0\n",
      "3      2358.0\n",
      "4         0.0\n",
      "        ...  \n",
      "609       0.0\n",
      "610       0.0\n",
      "611     240.0\n",
      "612       0.0\n",
      "613       0.0\n",
      "Name: CoapplicantIncome, Length: 614, dtype: float64>\n",
      "<bound method IndexOpsMixin.nunique of 0        NaN\n",
      "1      128.0\n",
      "2       66.0\n",
      "3      120.0\n",
      "4      141.0\n",
      "       ...  \n",
      "609     71.0\n",
      "610     40.0\n",
      "611    253.0\n",
      "612    187.0\n",
      "613    133.0\n",
      "Name: LoanAmount, Length: 614, dtype: float64>\n",
      "<bound method IndexOpsMixin.nunique of 0      360.0\n",
      "1      360.0\n",
      "2      360.0\n",
      "3      360.0\n",
      "4      360.0\n",
      "       ...  \n",
      "609    360.0\n",
      "610    180.0\n",
      "611    360.0\n",
      "612    360.0\n",
      "613    360.0\n",
      "Name: Loan_Amount_Term, Length: 614, dtype: float64>\n",
      "<bound method IndexOpsMixin.nunique of 0      1.0\n",
      "1      1.0\n",
      "2      1.0\n",
      "3      1.0\n",
      "4      1.0\n",
      "      ... \n",
      "609    1.0\n",
      "610    1.0\n",
      "611    1.0\n",
      "612    1.0\n",
      "613    0.0\n",
      "Name: Credit_History, Length: 614, dtype: float64>\n",
      "<bound method IndexOpsMixin.nunique of 0          Urban\n",
      "1          Rural\n",
      "2          Urban\n",
      "3          Urban\n",
      "4          Urban\n",
      "         ...    \n",
      "609        Rural\n",
      "610        Rural\n",
      "611        Urban\n",
      "612        Urban\n",
      "613    Semiurban\n",
      "Name: Property_Area, Length: 614, dtype: object>\n",
      "<bound method IndexOpsMixin.nunique of 0      Y\n",
      "1      N\n",
      "2      Y\n",
      "3      Y\n",
      "4      Y\n",
      "      ..\n",
      "609    Y\n",
      "610    Y\n",
      "611    Y\n",
      "612    Y\n",
      "613    N\n",
      "Name: Loan_Status, Length: 614, dtype: object>\n"
     ]
    }
   ],
   "source": [
    "for i in df.columns:\n",
    "    print(df[i].nunique)"
   ]
  },
  {
   "cell_type": "markdown",
   "id": "46ce2468",
   "metadata": {},
   "source": [
    "Unique values present in the dataset"
   ]
  },
  {
   "cell_type": "code",
   "execution_count": 12,
   "id": "70a1775d",
   "metadata": {},
   "outputs": [],
   "source": [
    "df.dropna(axis=0,inplace=True)"
   ]
  },
  {
   "cell_type": "markdown",
   "id": "c5ad4b2d",
   "metadata": {},
   "source": [
    "dropping the null values containing rows from dataset"
   ]
  },
  {
   "cell_type": "code",
   "execution_count": 13,
   "id": "2522109b",
   "metadata": {},
   "outputs": [
    {
     "data": {
      "text/plain": [
       "Loan_ID              0\n",
       "Gender               0\n",
       "Married              0\n",
       "Dependents           0\n",
       "Education            0\n",
       "Self_Employed        0\n",
       "ApplicantIncome      0\n",
       "CoapplicantIncome    0\n",
       "LoanAmount           0\n",
       "Loan_Amount_Term     0\n",
       "Credit_History       0\n",
       "Property_Area        0\n",
       "Loan_Status          0\n",
       "dtype: int64"
      ]
     },
     "execution_count": 13,
     "metadata": {},
     "output_type": "execute_result"
    }
   ],
   "source": [
    "df.isnull().sum()"
   ]
  },
  {
   "cell_type": "markdown",
   "id": "d0c02364",
   "metadata": {},
   "source": [
    "Now we can see there is no null values"
   ]
  },
  {
   "cell_type": "code",
   "execution_count": 14,
   "id": "9c4b915a",
   "metadata": {},
   "outputs": [
    {
     "data": {
      "text/plain": [
       "<AxesSubplot:>"
      ]
     },
     "execution_count": 14,
     "metadata": {},
     "output_type": "execute_result"
    },
    {
     "data": {
      "image/png": "[encoded data removed]",
      "text/plain": [
       "<Figure size 432x288 with 2 Axes>"
      ]
     },
     "metadata": {
      "needs_background": "light"
     },
     "output_type": "display_data"
    }
   ],
   "source": [
    "sns.heatmap(df.isnull())"
   ]
  },
  {
   "cell_type": "markdown",
   "id": "bf171812",
   "metadata": {},
   "source": [
    "using the heatmap to check the null values "
   ]
  },
  {
   "cell_type": "code",
   "execution_count": 15,
   "id": "daac4847",
   "metadata": {},
   "outputs": [
    {
     "data": {
      "text/html": [
       "<div>\n",
       "<style scoped>\n",
       "    .dataframe tbody tr th:only-of-type {\n",
       "        vertical-align: middle;\n",
       "    }\n",
       "\n",
       "    .dataframe tbody tr th {\n",
       "        vertical-align: top;\n",
       "    }\n",
       "\n",
       "    .dataframe thead th {\n",
       "        text-align: right;\n",
       "    }\n",
       "</style>\n",
       "<table border=\"1\" class=\"dataframe\">\n",
       "  <thead>\n",
       "    <tr style=\"text-align: right;\">\n",
       "      <th></th>\n",
       "      <th>ApplicantIncome</th>\n",
       "      <th>CoapplicantIncome</th>\n",
       "      <th>LoanAmount</th>\n",
       "      <th>Loan_Amount_Term</th>\n",
       "      <th>Credit_History</th>\n",
       "    </tr>\n",
       "  </thead>\n",
       "  <tbody>\n",
       "    <tr>\n",
       "      <th>count</th>\n",
       "      <td>480.000000</td>\n",
       "      <td>480.000000</td>\n",
       "      <td>480.000000</td>\n",
       "      <td>480.000000</td>\n",
       "      <td>480.000000</td>\n",
       "    </tr>\n",
       "    <tr>\n",
       "      <th>mean</th>\n",
       "      <td>5364.231250</td>\n",
       "      <td>1581.093583</td>\n",
       "      <td>144.735417</td>\n",
       "      <td>342.050000</td>\n",
       "      <td>0.854167</td>\n",
       "    </tr>\n",
       "    <tr>\n",
       "      <th>std</th>\n",
       "      <td>5668.251251</td>\n",
       "      <td>2617.692267</td>\n",
       "      <td>80.508164</td>\n",
       "      <td>65.212401</td>\n",
       "      <td>0.353307</td>\n",
       "    </tr>\n",
       "    <tr>\n",
       "      <th>min</th>\n",
       "      <td>150.000000</td>\n",
       "      <td>0.000000</td>\n",
       "      <td>9.000000</td>\n",
       "      <td>36.000000</td>\n",
       "      <td>0.000000</td>\n",
       "    </tr>\n",
       "    <tr>\n",
       "      <th>25%</th>\n",
       "      <td>2898.750000</td>\n",
       "      <td>0.000000</td>\n",
       "      <td>100.000000</td>\n",
       "      <td>360.000000</td>\n",
       "      <td>1.000000</td>\n",
       "    </tr>\n",
       "    <tr>\n",
       "      <th>50%</th>\n",
       "      <td>3859.000000</td>\n",
       "      <td>1084.500000</td>\n",
       "      <td>128.000000</td>\n",
       "      <td>360.000000</td>\n",
       "      <td>1.000000</td>\n",
       "    </tr>\n",
       "    <tr>\n",
       "      <th>75%</th>\n",
       "      <td>5852.500000</td>\n",
       "      <td>2253.250000</td>\n",
       "      <td>170.000000</td>\n",
       "      <td>360.000000</td>\n",
       "      <td>1.000000</td>\n",
       "    </tr>\n",
       "    <tr>\n",
       "      <th>max</th>\n",
       "      <td>81000.000000</td>\n",
       "      <td>33837.000000</td>\n",
       "      <td>600.000000</td>\n",
       "      <td>480.000000</td>\n",
       "      <td>1.000000</td>\n",
       "    </tr>\n",
       "  </tbody>\n",
       "</table>\n",
       "</div>"
      ],
      "text/plain": [
       "       ApplicantIncome  CoapplicantIncome  LoanAmount  Loan_Amount_Term  \\\n",
       "count       480.000000         480.000000  480.000000        480.000000   \n",
       "mean       5364.231250        1581.093583  144.735417        342.050000   \n",
       "std        5668.251251        2617.692267   80.508164         65.212401   \n",
       "min         150.000000           0.000000    9.000000         36.000000   \n",
       "25%        2898.750000           0.000000  100.000000        360.000000   \n",
       "50%        3859.000000        1084.500000  128.000000        360.000000   \n",
       "75%        5852.500000        2253.250000  170.000000        360.000000   \n",
       "max       81000.000000       33837.000000  600.000000        480.000000   \n",
       "\n",
       "       Credit_History  \n",
       "count      480.000000  \n",
       "mean         0.854167  \n",
       "std          0.353307  \n",
       "min          0.000000  \n",
       "25%          1.000000  \n",
       "50%          1.000000  \n",
       "75%          1.000000  \n",
       "max          1.000000  "
      ]
     },
     "execution_count": 15,
     "metadata": {},
     "output_type": "execute_result"
    }
   ],
   "source": [
    "df.describe()"
   ]
  },
  {
   "cell_type": "markdown",
   "id": "c63db3fc",
   "metadata": {},
   "source": [
    "# Statistical analysis"
   ]
  },
  {
   "cell_type": "markdown",
   "id": "d5a74292",
   "metadata": {},
   "source": [
    "* 480 rows present in the dataset\n",
    "* the mean is greater than the median ,means Right skewed data is present in the dataset\n",
    "* the Standard deviation is very high all the columns, it means outliers are present we need to clean it\n",
    "* the difference between the 75Th percentile and 100% percentile is very high..\n",
    "* Using the Zscore method we need to remove the outliers from the dataset"
   ]
  },
  {
   "cell_type": "markdown",
   "id": "d37be611",
   "metadata": {},
   "source": [
    "# Exploratory Data Analysis"
   ]
  },
  {
   "cell_type": "code",
   "execution_count": 16,
   "id": "dd0a6b31",
   "metadata": {},
   "outputs": [
    {
     "data": {
      "text/plain": [
       "<AxesSubplot:xlabel='Gender', ylabel='count'>"
      ]
     },
     "execution_count": 16,
     "metadata": {},
     "output_type": "execute_result"
    },
    {
     "data": {
      "image/png": "[encoded data removed]",
      "text/plain": [
       "<Figure size 432x288 with 1 Axes>"
      ]
     },
     "metadata": {
      "needs_background": "light"
     },
     "output_type": "display_data"
    }
   ],
   "source": [
    "sns.countplot(df['Gender'])"
   ]
  },
  {
   "cell_type": "markdown",
   "id": "fb74eb8d",
   "metadata": {},
   "source": [
    "Graphically showing counts of Male and Female"
   ]
  },
  {
   "cell_type": "code",
   "execution_count": 17,
   "id": "388c42d9",
   "metadata": {},
   "outputs": [
    {
     "data": {
      "text/plain": [
       "<AxesSubplot:xlabel='Married', ylabel='count'>"
      ]
     },
     "execution_count": 17,
     "metadata": {},
     "output_type": "execute_result"
    },
    {
     "data": {
      "image/png": "[encoded data removed]",
      "text/plain": [
       "<Figure size 432x288 with 1 Axes>"
      ]
     },
     "metadata": {
      "needs_background": "light"
     },
     "output_type": "display_data"
    }
   ],
   "source": [
    "sns.countplot(df['Married'])"
   ]
  },
  {
   "cell_type": "markdown",
   "id": "fc8d4563",
   "metadata": {},
   "source": [
    "Married people applied for loan is more"
   ]
  },
  {
   "cell_type": "code",
   "execution_count": 18,
   "id": "f983abdf",
   "metadata": {},
   "outputs": [
    {
     "data": {
      "text/plain": [
       "<AxesSubplot:xlabel='Dependents', ylabel='count'>"
      ]
     },
     "execution_count": 18,
     "metadata": {},
     "output_type": "execute_result"
    },
    {
     "data": {
      "image/png": "[encoded data removed]",
      "text/plain": [
       "<Figure size 432x288 with 1 Axes>"
      ]
     },
     "metadata": {
      "needs_background": "light"
     },
     "output_type": "display_data"
    }
   ],
   "source": [
    "sns.countplot(df['Dependents'])"
   ]
  },
  {
   "cell_type": "markdown",
   "id": "42c4e0ed",
   "metadata": {},
   "source": [
    "The poeple who is not having the dependents are applied more for the Loan"
   ]
  },
  {
   "cell_type": "code",
   "execution_count": 19,
   "id": "6fc0c1a3",
   "metadata": {},
   "outputs": [
    {
     "data": {
      "text/plain": [
       "<seaborn.axisgrid.FacetGrid at 0x2ae29fcf880>"
      ]
     },
     "execution_count": 19,
     "metadata": {},
     "output_type": "execute_result"
    },
    {
     "data": {
      "image/png": "[encoded data removed]",
      "text/plain": [
       "<Figure size 432.125x360 with 1 Axes>"
      ]
     },
     "metadata": {
      "needs_background": "light"
     },
     "output_type": "display_data"
    }
   ],
   "source": [
    "sns.catplot(y='Dependents',x='Loan_Status',hue='Gender',data=df)"
   ]
  },
  {
   "cell_type": "markdown",
   "id": "88a14a6e",
   "metadata": {},
   "source": [
    "females with 0 dependent and 1 dependents only applied and 2 & 3 dependednts there males only applied"
   ]
  },
  {
   "cell_type": "code",
   "execution_count": 20,
   "id": "1a3d82a0",
   "metadata": {},
   "outputs": [
    {
     "data": {
      "text/plain": [
       "<AxesSubplot:xlabel='Loan_Amount_Term', ylabel='LoanAmount'>"
      ]
     },
     "execution_count": 20,
     "metadata": {},
     "output_type": "execute_result"
    },
    {
     "data": {
      "image/png": "[encoded data removed]",
      "text/plain": [
       "<Figure size 432x288 with 1 Axes>"
      ]
     },
     "metadata": {
      "needs_background": "light"
     },
     "output_type": "display_data"
    }
   ],
   "source": [
    "sns.scatterplot(y='LoanAmount',x='Loan_Amount_Term',data=df)"
   ]
  },
  {
   "cell_type": "markdown",
   "id": "713f7d97",
   "metadata": {},
   "source": [
    "the People taken more loan are taken long term"
   ]
  },
  {
   "cell_type": "code",
   "execution_count": 21,
   "id": "e027ee39",
   "metadata": {},
   "outputs": [
    {
     "data": {
      "text/plain": [
       "<AxesSubplot:xlabel='Loan_Amount_Term', ylabel='Count'>"
      ]
     },
     "execution_count": 21,
     "metadata": {},
     "output_type": "execute_result"
    },
    {
     "data": {
      "image/png": "[encoded data removed]",
      "text/plain": [
       "<Figure size 432x288 with 1 Axes>"
      ]
     },
     "metadata": {
      "needs_background": "light"
     },
     "output_type": "display_data"
    }
   ],
   "source": [
    "sns.histplot(x='Loan_Amount_Term',data=df)"
   ]
  },
  {
   "cell_type": "markdown",
   "id": "3e330ded",
   "metadata": {},
   "source": [
    "Mejority of people are taken long term "
   ]
  },
  {
   "cell_type": "code",
   "execution_count": 22,
   "id": "3502bb5f",
   "metadata": {},
   "outputs": [
    {
     "data": {
      "text/plain": [
       "<AxesSubplot:xlabel='Loan_Status', ylabel='ApplicantIncome'>"
      ]
     },
     "execution_count": 22,
     "metadata": {},
     "output_type": "execute_result"
    },
    {
     "data": {
      "image/png": "[encoded data removed]",
      "text/plain": [
       "<Figure size 432x288 with 1 Axes>"
      ]
     },
     "metadata": {
      "needs_background": "light"
     },
     "output_type": "display_data"
    }
   ],
   "source": [
    "sns.scatterplot(y='ApplicantIncome',x='Loan_Status',data=df)"
   ]
  },
  {
   "cell_type": "markdown",
   "id": "3b64914a",
   "metadata": {},
   "source": [
    "the poeple with low income are applied for loan and got the loan"
   ]
  },
  {
   "cell_type": "code",
   "execution_count": 23,
   "id": "fcf3a403",
   "metadata": {},
   "outputs": [
    {
     "data": {
      "text/plain": [
       "<AxesSubplot:xlabel='Self_Employed', ylabel='count'>"
      ]
     },
     "execution_count": 23,
     "metadata": {},
     "output_type": "execute_result"
    },
    {
     "data": {
      "image/png": "[encoded data removed]",
      "text/plain": [
       "<Figure size 432x288 with 1 Axes>"
      ]
     },
     "metadata": {
      "needs_background": "light"
     },
     "output_type": "display_data"
    }
   ],
   "source": [
    "sns.countplot(df['Self_Employed'])"
   ]
  },
  {
   "cell_type": "markdown",
   "id": "2426283a",
   "metadata": {},
   "source": [
    "people worked in corporate company are applied more for the Loan"
   ]
  },
  {
   "cell_type": "code",
   "execution_count": 24,
   "id": "cbbaa2ac",
   "metadata": {},
   "outputs": [
    {
     "data": {
      "text/plain": [
       "<AxesSubplot:xlabel='Property_Area', ylabel='count'>"
      ]
     },
     "execution_count": 24,
     "metadata": {},
     "output_type": "execute_result"
    },
    {
     "data": {
      "image/png": "[encoded data removed]",
      "text/plain": [
       "<Figure size 432x288 with 1 Axes>"
      ]
     },
     "metadata": {
      "needs_background": "light"
     },
     "output_type": "display_data"
    }
   ],
   "source": [
    "sns.countplot(df['Property_Area'])"
   ]
  },
  {
   "cell_type": "markdown",
   "id": "6fd8734b",
   "metadata": {},
   "source": [
    "Semiurban people applied more for Loan"
   ]
  },
  {
   "cell_type": "code",
   "execution_count": 25,
   "id": "bb5d810f",
   "metadata": {},
   "outputs": [
    {
     "data": {
      "text/plain": [
       "<seaborn.axisgrid.FacetGrid at 0x2ae2a1daca0>"
      ]
     },
     "execution_count": 25,
     "metadata": {},
     "output_type": "execute_result"
    },
    {
     "data": {
      "image/png": "[encoded data removed]",
      "text/plain": [
       "<Figure size 428.625x360 with 1 Axes>"
      ]
     },
     "metadata": {
      "needs_background": "light"
     },
     "output_type": "display_data"
    }
   ],
   "source": [
    "sns.catplot(x='Property_Area',y='Gender',hue='Loan_Status',data=df)"
   ]
  },
  {
   "cell_type": "markdown",
   "id": "f8955d99",
   "metadata": {},
   "source": [
    "urban people are got more loan compared to Rural and semiurban"
   ]
  },
  {
   "cell_type": "code",
   "execution_count": 26,
   "id": "e65113cf",
   "metadata": {},
   "outputs": [
    {
     "data": {
      "text/plain": [
       "<AxesSubplot:xlabel='ApplicantIncome', ylabel='CoapplicantIncome'>"
      ]
     },
     "execution_count": 26,
     "metadata": {},
     "output_type": "execute_result"
    },
    {
     "data": {
      "image/png": "[encoded data removed]",
      "text/plain": [
       "<Figure size 432x288 with 1 Axes>"
      ]
     },
     "metadata": {
      "needs_background": "light"
     },
     "output_type": "display_data"
    }
   ],
   "source": [
    "sns.scatterplot(x='ApplicantIncome',y='CoapplicantIncome',data=df)"
   ]
  },
  {
   "cell_type": "markdown",
   "id": "998cb2de",
   "metadata": {},
   "source": [
    "Applicants income is more compared to coapplicantIncome"
   ]
  },
  {
   "cell_type": "code",
   "execution_count": 27,
   "id": "5f8a8cb3",
   "metadata": {},
   "outputs": [
    {
     "data": {
      "text/plain": [
       "<AxesSubplot:xlabel='Credit_History', ylabel='count'>"
      ]
     },
     "execution_count": 27,
     "metadata": {},
     "output_type": "execute_result"
    },
    {
     "data": {
      "image/png": "[encoded data removed]",
      "text/plain": [
       "<Figure size 432x288 with 1 Axes>"
      ]
     },
     "metadata": {
      "needs_background": "light"
     },
     "output_type": "display_data"
    }
   ],
   "source": [
    "sns.countplot(df['Credit_History'])"
   ]
  },
  {
   "cell_type": "code",
   "execution_count": 28,
   "id": "091db8e2",
   "metadata": {},
   "outputs": [
    {
     "data": {
      "text/plain": [
       "<AxesSubplot:xlabel='Education', ylabel='count'>"
      ]
     },
     "execution_count": 28,
     "metadata": {},
     "output_type": "execute_result"
    },
    {
     "data": {
      "image/png": "[encoded data removed]",
      "text/plain": [
       "<Figure size 432x288 with 1 Axes>"
      ]
     },
     "metadata": {
      "needs_background": "light"
     },
     "output_type": "display_data"
    }
   ],
   "source": [
    "sns.countplot(df['Education'])"
   ]
  },
  {
   "cell_type": "markdown",
   "id": "8465c9fc",
   "metadata": {},
   "source": [
    "Graduate people applied more for the Loan"
   ]
  },
  {
   "cell_type": "code",
   "execution_count": 29,
   "id": "69ef9f4c",
   "metadata": {},
   "outputs": [
    {
     "data": {
      "text/plain": [
       "<seaborn.axisgrid.FacetGrid at 0x2ae2b485730>"
      ]
     },
     "execution_count": 29,
     "metadata": {},
     "output_type": "execute_result"
    },
    {
     "data": {
      "image/png": "[encoded data removed]",
      "text/plain": [
       "<Figure size 441.25x360 with 1 Axes>"
      ]
     },
     "metadata": {
      "needs_background": "light"
     },
     "output_type": "display_data"
    }
   ],
   "source": [
    "sns.catplot(x='Loan_Status',y='Education',hue='Self_Employed',data=df)"
   ]
  },
  {
   "cell_type": "markdown",
   "id": "bb27047d",
   "metadata": {},
   "source": [
    "Graduate people with working in the corporate company are got Loan more compared to others"
   ]
  },
  {
   "cell_type": "code",
   "execution_count": 30,
   "id": "03e7fcb6",
   "metadata": {},
   "outputs": [
    {
     "data": {
      "text/html": [
       "<div>\n",
       "<style scoped>\n",
       "    .dataframe tbody tr th:only-of-type {\n",
       "        vertical-align: middle;\n",
       "    }\n",
       "\n",
       "    .dataframe tbody tr th {\n",
       "        vertical-align: top;\n",
       "    }\n",
       "\n",
       "    .dataframe thead th {\n",
       "        text-align: right;\n",
       "    }\n",
       "</style>\n",
       "<table border=\"1\" class=\"dataframe\">\n",
       "  <thead>\n",
       "    <tr style=\"text-align: right;\">\n",
       "      <th></th>\n",
       "      <th>Loan_ID</th>\n",
       "      <th>Gender</th>\n",
       "      <th>Married</th>\n",
       "      <th>Dependents</th>\n",
       "      <th>Education</th>\n",
       "      <th>Self_Employed</th>\n",
       "      <th>ApplicantIncome</th>\n",
       "      <th>CoapplicantIncome</th>\n",
       "      <th>LoanAmount</th>\n",
       "      <th>Loan_Amount_Term</th>\n",
       "      <th>Credit_History</th>\n",
       "      <th>Property_Area</th>\n",
       "      <th>Loan_Status</th>\n",
       "    </tr>\n",
       "  </thead>\n",
       "  <tbody>\n",
       "    <tr>\n",
       "      <th>1</th>\n",
       "      <td>0.0</td>\n",
       "      <td>1.0</td>\n",
       "      <td>1.0</td>\n",
       "      <td>1.0</td>\n",
       "      <td>0.0</td>\n",
       "      <td>0.0</td>\n",
       "      <td>4583</td>\n",
       "      <td>1508.0</td>\n",
       "      <td>128.0</td>\n",
       "      <td>360.0</td>\n",
       "      <td>1.0</td>\n",
       "      <td>0.0</td>\n",
       "      <td>0.0</td>\n",
       "    </tr>\n",
       "    <tr>\n",
       "      <th>2</th>\n",
       "      <td>1.0</td>\n",
       "      <td>1.0</td>\n",
       "      <td>1.0</td>\n",
       "      <td>0.0</td>\n",
       "      <td>0.0</td>\n",
       "      <td>1.0</td>\n",
       "      <td>3000</td>\n",
       "      <td>0.0</td>\n",
       "      <td>66.0</td>\n",
       "      <td>360.0</td>\n",
       "      <td>1.0</td>\n",
       "      <td>2.0</td>\n",
       "      <td>1.0</td>\n",
       "    </tr>\n",
       "    <tr>\n",
       "      <th>3</th>\n",
       "      <td>2.0</td>\n",
       "      <td>1.0</td>\n",
       "      <td>1.0</td>\n",
       "      <td>0.0</td>\n",
       "      <td>1.0</td>\n",
       "      <td>0.0</td>\n",
       "      <td>2583</td>\n",
       "      <td>2358.0</td>\n",
       "      <td>120.0</td>\n",
       "      <td>360.0</td>\n",
       "      <td>1.0</td>\n",
       "      <td>2.0</td>\n",
       "      <td>1.0</td>\n",
       "    </tr>\n",
       "    <tr>\n",
       "      <th>4</th>\n",
       "      <td>3.0</td>\n",
       "      <td>1.0</td>\n",
       "      <td>0.0</td>\n",
       "      <td>0.0</td>\n",
       "      <td>0.0</td>\n",
       "      <td>0.0</td>\n",
       "      <td>6000</td>\n",
       "      <td>0.0</td>\n",
       "      <td>141.0</td>\n",
       "      <td>360.0</td>\n",
       "      <td>1.0</td>\n",
       "      <td>2.0</td>\n",
       "      <td>1.0</td>\n",
       "    </tr>\n",
       "    <tr>\n",
       "      <th>5</th>\n",
       "      <td>4.0</td>\n",
       "      <td>1.0</td>\n",
       "      <td>1.0</td>\n",
       "      <td>2.0</td>\n",
       "      <td>0.0</td>\n",
       "      <td>1.0</td>\n",
       "      <td>5417</td>\n",
       "      <td>4196.0</td>\n",
       "      <td>267.0</td>\n",
       "      <td>360.0</td>\n",
       "      <td>1.0</td>\n",
       "      <td>2.0</td>\n",
       "      <td>1.0</td>\n",
       "    </tr>\n",
       "    <tr>\n",
       "      <th>...</th>\n",
       "      <td>...</td>\n",
       "      <td>...</td>\n",
       "      <td>...</td>\n",
       "      <td>...</td>\n",
       "      <td>...</td>\n",
       "      <td>...</td>\n",
       "      <td>...</td>\n",
       "      <td>...</td>\n",
       "      <td>...</td>\n",
       "      <td>...</td>\n",
       "      <td>...</td>\n",
       "      <td>...</td>\n",
       "      <td>...</td>\n",
       "    </tr>\n",
       "    <tr>\n",
       "      <th>609</th>\n",
       "      <td>475.0</td>\n",
       "      <td>0.0</td>\n",
       "      <td>0.0</td>\n",
       "      <td>0.0</td>\n",
       "      <td>0.0</td>\n",
       "      <td>0.0</td>\n",
       "      <td>2900</td>\n",
       "      <td>0.0</td>\n",
       "      <td>71.0</td>\n",
       "      <td>360.0</td>\n",
       "      <td>1.0</td>\n",
       "      <td>0.0</td>\n",
       "      <td>1.0</td>\n",
       "    </tr>\n",
       "    <tr>\n",
       "      <th>610</th>\n",
       "      <td>476.0</td>\n",
       "      <td>1.0</td>\n",
       "      <td>1.0</td>\n",
       "      <td>3.0</td>\n",
       "      <td>0.0</td>\n",
       "      <td>0.0</td>\n",
       "      <td>4106</td>\n",
       "      <td>0.0</td>\n",
       "      <td>40.0</td>\n",
       "      <td>180.0</td>\n",
       "      <td>1.0</td>\n",
       "      <td>0.0</td>\n",
       "      <td>1.0</td>\n",
       "    </tr>\n",
       "    <tr>\n",
       "      <th>611</th>\n",
       "      <td>477.0</td>\n",
       "      <td>1.0</td>\n",
       "      <td>1.0</td>\n",
       "      <td>1.0</td>\n",
       "      <td>0.0</td>\n",
       "      <td>0.0</td>\n",
       "      <td>8072</td>\n",
       "      <td>240.0</td>\n",
       "      <td>253.0</td>\n",
       "      <td>360.0</td>\n",
       "      <td>1.0</td>\n",
       "      <td>2.0</td>\n",
       "      <td>1.0</td>\n",
       "    </tr>\n",
       "    <tr>\n",
       "      <th>612</th>\n",
       "      <td>478.0</td>\n",
       "      <td>1.0</td>\n",
       "      <td>1.0</td>\n",
       "      <td>2.0</td>\n",
       "      <td>0.0</td>\n",
       "      <td>0.0</td>\n",
       "      <td>7583</td>\n",
       "      <td>0.0</td>\n",
       "      <td>187.0</td>\n",
       "      <td>360.0</td>\n",
       "      <td>1.0</td>\n",
       "      <td>2.0</td>\n",
       "      <td>1.0</td>\n",
       "    </tr>\n",
       "    <tr>\n",
       "      <th>613</th>\n",
       "      <td>479.0</td>\n",
       "      <td>0.0</td>\n",
       "      <td>0.0</td>\n",
       "      <td>0.0</td>\n",
       "      <td>0.0</td>\n",
       "      <td>1.0</td>\n",
       "      <td>4583</td>\n",
       "      <td>0.0</td>\n",
       "      <td>133.0</td>\n",
       "      <td>360.0</td>\n",
       "      <td>0.0</td>\n",
       "      <td>1.0</td>\n",
       "      <td>0.0</td>\n",
       "    </tr>\n",
       "  </tbody>\n",
       "</table>\n",
       "<p>480 rows × 13 columns</p>\n",
       "</div>"
      ],
      "text/plain": [
       "     Loan_ID  Gender  Married  Dependents  Education  Self_Employed  \\\n",
       "1        0.0     1.0      1.0         1.0        0.0            0.0   \n",
       "2        1.0     1.0      1.0         0.0        0.0            1.0   \n",
       "3        2.0     1.0      1.0         0.0        1.0            0.0   \n",
       "4        3.0     1.0      0.0         0.0        0.0            0.0   \n",
       "5        4.0     1.0      1.0         2.0        0.0            1.0   \n",
       "..       ...     ...      ...         ...        ...            ...   \n",
       "609    475.0     0.0      0.0         0.0        0.0            0.0   \n",
       "610    476.0     1.0      1.0         3.0        0.0            0.0   \n",
       "611    477.0     1.0      1.0         1.0        0.0            0.0   \n",
       "612    478.0     1.0      1.0         2.0        0.0            0.0   \n",
       "613    479.0     0.0      0.0         0.0        0.0            1.0   \n",
       "\n",
       "     ApplicantIncome  CoapplicantIncome  LoanAmount  Loan_Amount_Term  \\\n",
       "1               4583             1508.0       128.0             360.0   \n",
       "2               3000                0.0        66.0             360.0   \n",
       "3               2583             2358.0       120.0             360.0   \n",
       "4               6000                0.0       141.0             360.0   \n",
       "5               5417             4196.0       267.0             360.0   \n",
       "..               ...                ...         ...               ...   \n",
       "609             2900                0.0        71.0             360.0   \n",
       "610             4106                0.0        40.0             180.0   \n",
       "611             8072              240.0       253.0             360.0   \n",
       "612             7583                0.0       187.0             360.0   \n",
       "613             4583                0.0       133.0             360.0   \n",
       "\n",
       "     Credit_History  Property_Area  Loan_Status  \n",
       "1               1.0            0.0          0.0  \n",
       "2               1.0            2.0          1.0  \n",
       "3               1.0            2.0          1.0  \n",
       "4               1.0            2.0          1.0  \n",
       "5               1.0            2.0          1.0  \n",
       "..              ...            ...          ...  \n",
       "609             1.0            0.0          1.0  \n",
       "610             1.0            0.0          1.0  \n",
       "611             1.0            2.0          1.0  \n",
       "612             1.0            2.0          1.0  \n",
       "613             0.0            1.0          0.0  \n",
       "\n",
       "[480 rows x 13 columns]"
      ]
     },
     "execution_count": 30,
     "metadata": {},
     "output_type": "execute_result"
    }
   ],
   "source": [
    "from sklearn.preprocessing import OrdinalEncoder\n",
    "oe=OrdinalEncoder()\n",
    "\n",
    "for i in df.columns:\n",
    "    if df[i].dtypes=='object':\n",
    "        df[i]=oe.fit_transform(df[i].values.reshape(-1,1))\n",
    "        \n",
    "df"
   ]
  },
  {
   "cell_type": "markdown",
   "id": "dce0e18d",
   "metadata": {},
   "source": [
    "Converting the object data into Numarical data with the help of OrdinalEncoder"
   ]
  },
  {
   "cell_type": "code",
   "execution_count": 31,
   "id": "ad20ee0f",
   "metadata": {},
   "outputs": [
    {
     "data": {
      "text/html": [
       "<div>\n",
       "<style scoped>\n",
       "    .dataframe tbody tr th:only-of-type {\n",
       "        vertical-align: middle;\n",
       "    }\n",
       "\n",
       "    .dataframe tbody tr th {\n",
       "        vertical-align: top;\n",
       "    }\n",
       "\n",
       "    .dataframe thead th {\n",
       "        text-align: right;\n",
       "    }\n",
       "</style>\n",
       "<table border=\"1\" class=\"dataframe\">\n",
       "  <thead>\n",
       "    <tr style=\"text-align: right;\">\n",
       "      <th></th>\n",
       "      <th>Loan_ID</th>\n",
       "      <th>Gender</th>\n",
       "      <th>Married</th>\n",
       "      <th>Dependents</th>\n",
       "      <th>Education</th>\n",
       "      <th>Self_Employed</th>\n",
       "      <th>ApplicantIncome</th>\n",
       "      <th>CoapplicantIncome</th>\n",
       "      <th>LoanAmount</th>\n",
       "      <th>Loan_Amount_Term</th>\n",
       "      <th>Credit_History</th>\n",
       "      <th>Property_Area</th>\n",
       "      <th>Loan_Status</th>\n",
       "    </tr>\n",
       "  </thead>\n",
       "  <tbody>\n",
       "    <tr>\n",
       "      <th>1</th>\n",
       "      <td>1.728446</td>\n",
       "      <td>0.467198</td>\n",
       "      <td>0.737162</td>\n",
       "      <td>0.218599</td>\n",
       "      <td>0.503253</td>\n",
       "      <td>0.399275</td>\n",
       "      <td>0.137970</td>\n",
       "      <td>0.027952</td>\n",
       "      <td>0.208089</td>\n",
       "      <td>0.275542</td>\n",
       "      <td>0.413197</td>\n",
       "      <td>1.318868</td>\n",
       "      <td>1.497746</td>\n",
       "    </tr>\n",
       "    <tr>\n",
       "      <th>2</th>\n",
       "      <td>1.721229</td>\n",
       "      <td>0.467198</td>\n",
       "      <td>0.737162</td>\n",
       "      <td>0.762033</td>\n",
       "      <td>0.503253</td>\n",
       "      <td>2.504541</td>\n",
       "      <td>0.417536</td>\n",
       "      <td>0.604633</td>\n",
       "      <td>0.979001</td>\n",
       "      <td>0.275542</td>\n",
       "      <td>0.413197</td>\n",
       "      <td>1.259774</td>\n",
       "      <td>0.667670</td>\n",
       "    </tr>\n",
       "    <tr>\n",
       "      <th>3</th>\n",
       "      <td>1.714012</td>\n",
       "      <td>0.467198</td>\n",
       "      <td>0.737162</td>\n",
       "      <td>0.762033</td>\n",
       "      <td>1.987072</td>\n",
       "      <td>0.399275</td>\n",
       "      <td>0.491180</td>\n",
       "      <td>0.297100</td>\n",
       "      <td>0.307562</td>\n",
       "      <td>0.275542</td>\n",
       "      <td>0.413197</td>\n",
       "      <td>1.259774</td>\n",
       "      <td>0.667670</td>\n",
       "    </tr>\n",
       "    <tr>\n",
       "      <th>4</th>\n",
       "      <td>1.706795</td>\n",
       "      <td>0.467198</td>\n",
       "      <td>1.356553</td>\n",
       "      <td>0.762033</td>\n",
       "      <td>0.503253</td>\n",
       "      <td>0.399275</td>\n",
       "      <td>0.112280</td>\n",
       "      <td>0.604633</td>\n",
       "      <td>0.046446</td>\n",
       "      <td>0.275542</td>\n",
       "      <td>0.413197</td>\n",
       "      <td>1.259774</td>\n",
       "      <td>0.667670</td>\n",
       "    </tr>\n",
       "    <tr>\n",
       "      <th>5</th>\n",
       "      <td>1.699579</td>\n",
       "      <td>0.467198</td>\n",
       "      <td>0.737162</td>\n",
       "      <td>1.199231</td>\n",
       "      <td>0.503253</td>\n",
       "      <td>2.504541</td>\n",
       "      <td>0.009319</td>\n",
       "      <td>0.999978</td>\n",
       "      <td>1.520245</td>\n",
       "      <td>0.275542</td>\n",
       "      <td>0.413197</td>\n",
       "      <td>1.259774</td>\n",
       "      <td>0.667670</td>\n",
       "    </tr>\n",
       "    <tr>\n",
       "      <th>...</th>\n",
       "      <td>...</td>\n",
       "      <td>...</td>\n",
       "      <td>...</td>\n",
       "      <td>...</td>\n",
       "      <td>...</td>\n",
       "      <td>...</td>\n",
       "      <td>...</td>\n",
       "      <td>...</td>\n",
       "      <td>...</td>\n",
       "      <td>...</td>\n",
       "      <td>...</td>\n",
       "      <td>...</td>\n",
       "      <td>...</td>\n",
       "    </tr>\n",
       "    <tr>\n",
       "      <th>609</th>\n",
       "      <td>1.699579</td>\n",
       "      <td>2.140419</td>\n",
       "      <td>1.356553</td>\n",
       "      <td>0.762033</td>\n",
       "      <td>0.503253</td>\n",
       "      <td>0.399275</td>\n",
       "      <td>0.435196</td>\n",
       "      <td>0.604633</td>\n",
       "      <td>0.916831</td>\n",
       "      <td>0.275542</td>\n",
       "      <td>0.413197</td>\n",
       "      <td>1.318868</td>\n",
       "      <td>0.667670</td>\n",
       "    </tr>\n",
       "    <tr>\n",
       "      <th>610</th>\n",
       "      <td>1.706795</td>\n",
       "      <td>0.467198</td>\n",
       "      <td>0.737162</td>\n",
       "      <td>2.179863</td>\n",
       "      <td>0.503253</td>\n",
       "      <td>0.399275</td>\n",
       "      <td>0.222210</td>\n",
       "      <td>0.604633</td>\n",
       "      <td>1.302286</td>\n",
       "      <td>2.487549</td>\n",
       "      <td>0.413197</td>\n",
       "      <td>1.318868</td>\n",
       "      <td>0.667670</td>\n",
       "    </tr>\n",
       "    <tr>\n",
       "      <th>611</th>\n",
       "      <td>1.714012</td>\n",
       "      <td>0.467198</td>\n",
       "      <td>0.737162</td>\n",
       "      <td>0.218599</td>\n",
       "      <td>0.503253</td>\n",
       "      <td>0.399275</td>\n",
       "      <td>0.478206</td>\n",
       "      <td>0.512854</td>\n",
       "      <td>1.346168</td>\n",
       "      <td>0.275542</td>\n",
       "      <td>0.413197</td>\n",
       "      <td>1.259774</td>\n",
       "      <td>0.667670</td>\n",
       "    </tr>\n",
       "    <tr>\n",
       "      <th>612</th>\n",
       "      <td>1.721229</td>\n",
       "      <td>0.467198</td>\n",
       "      <td>0.737162</td>\n",
       "      <td>1.199231</td>\n",
       "      <td>0.503253</td>\n",
       "      <td>0.399275</td>\n",
       "      <td>0.391846</td>\n",
       "      <td>0.604633</td>\n",
       "      <td>0.525520</td>\n",
       "      <td>0.275542</td>\n",
       "      <td>0.413197</td>\n",
       "      <td>1.259774</td>\n",
       "      <td>0.667670</td>\n",
       "    </tr>\n",
       "    <tr>\n",
       "      <th>613</th>\n",
       "      <td>1.728446</td>\n",
       "      <td>2.140419</td>\n",
       "      <td>1.356553</td>\n",
       "      <td>0.762033</td>\n",
       "      <td>0.503253</td>\n",
       "      <td>2.504541</td>\n",
       "      <td>0.137970</td>\n",
       "      <td>0.604633</td>\n",
       "      <td>0.145919</td>\n",
       "      <td>0.275542</td>\n",
       "      <td>2.420153</td>\n",
       "      <td>0.029547</td>\n",
       "      <td>1.497746</td>\n",
       "    </tr>\n",
       "  </tbody>\n",
       "</table>\n",
       "<p>480 rows × 13 columns</p>\n",
       "</div>"
      ],
      "text/plain": [
       "      Loan_ID    Gender   Married  Dependents  Education  Self_Employed  \\\n",
       "1    1.728446  0.467198  0.737162    0.218599   0.503253       0.399275   \n",
       "2    1.721229  0.467198  0.737162    0.762033   0.503253       2.504541   \n",
       "3    1.714012  0.467198  0.737162    0.762033   1.987072       0.399275   \n",
       "4    1.706795  0.467198  1.356553    0.762033   0.503253       0.399275   \n",
       "5    1.699579  0.467198  0.737162    1.199231   0.503253       2.504541   \n",
       "..        ...       ...       ...         ...        ...            ...   \n",
       "609  1.699579  2.140419  1.356553    0.762033   0.503253       0.399275   \n",
       "610  1.706795  0.467198  0.737162    2.179863   0.503253       0.399275   \n",
       "611  1.714012  0.467198  0.737162    0.218599   0.503253       0.399275   \n",
       "612  1.721229  0.467198  0.737162    1.199231   0.503253       0.399275   \n",
       "613  1.728446  2.140419  1.356553    0.762033   0.503253       2.504541   \n",
       "\n",
       "     ApplicantIncome  CoapplicantIncome  LoanAmount  Loan_Amount_Term  \\\n",
       "1           0.137970           0.027952    0.208089          0.275542   \n",
       "2           0.417536           0.604633    0.979001          0.275542   \n",
       "3           0.491180           0.297100    0.307562          0.275542   \n",
       "4           0.112280           0.604633    0.046446          0.275542   \n",
       "5           0.009319           0.999978    1.520245          0.275542   \n",
       "..               ...                ...         ...               ...   \n",
       "609         0.435196           0.604633    0.916831          0.275542   \n",
       "610         0.222210           0.604633    1.302286          2.487549   \n",
       "611         0.478206           0.512854    1.346168          0.275542   \n",
       "612         0.391846           0.604633    0.525520          0.275542   \n",
       "613         0.137970           0.604633    0.145919          0.275542   \n",
       "\n",
       "     Credit_History  Property_Area  Loan_Status  \n",
       "1          0.413197       1.318868     1.497746  \n",
       "2          0.413197       1.259774     0.667670  \n",
       "3          0.413197       1.259774     0.667670  \n",
       "4          0.413197       1.259774     0.667670  \n",
       "5          0.413197       1.259774     0.667670  \n",
       "..              ...            ...          ...  \n",
       "609        0.413197       1.318868     0.667670  \n",
       "610        0.413197       1.318868     0.667670  \n",
       "611        0.413197       1.259774     0.667670  \n",
       "612        0.413197       1.259774     0.667670  \n",
       "613        2.420153       0.029547     1.497746  \n",
       "\n",
       "[480 rows x 13 columns]"
      ]
     },
     "execution_count": 31,
     "metadata": {},
     "output_type": "execute_result"
    }
   ],
   "source": [
    "from scipy.stats import zscore\n",
    "z=np.abs(zscore(df))\n",
    "z"
   ]
  },
  {
   "cell_type": "markdown",
   "id": "41f1692a",
   "metadata": {},
   "source": [
    "Using Zscore method to Remove the outliers "
   ]
  },
  {
   "cell_type": "code",
   "execution_count": 32,
   "id": "56a02eed",
   "metadata": {},
   "outputs": [
    {
     "name": "stdout",
     "output_type": "stream",
     "text": [
      "(array([  8,  12,  54,  75,  98, 120, 120, 137, 137, 142, 144, 187, 205,\n",
      "       220, 244, 286, 312, 319, 326, 347, 380, 386, 409, 410, 426, 438,\n",
      "       450, 454, 457, 471], dtype=int64), array([7, 9, 9, 9, 9, 6, 8, 7, 8, 6, 6, 9, 9, 8, 8, 8, 7, 6, 7, 6, 8, 9,\n",
      "       8, 8, 9, 8, 9, 7, 9, 8], dtype=int64))\n"
     ]
    }
   ],
   "source": [
    "threshod=3\n",
    "print(np.where(z>3))"
   ]
  },
  {
   "cell_type": "markdown",
   "id": "e4be7c9c",
   "metadata": {},
   "source": [
    "setting threshod to 3 , because 99.9% of the data is located in the range of 3 standard deviations"
   ]
  },
  {
   "cell_type": "code",
   "execution_count": 33,
   "id": "62437e43",
   "metadata": {},
   "outputs": [
    {
     "name": "stdout",
     "output_type": "stream",
     "text": [
      "3.589688470140909\n",
      "3.621601134207327\n"
     ]
    }
   ],
   "source": [
    "print(z.iloc[8][7])\n",
    "print(z.iloc[220][8])"
   ]
  },
  {
   "cell_type": "markdown",
   "id": "87f75eba",
   "metadata": {},
   "source": [
    "we can see where the zscore is more than 3,we need to remove"
   ]
  },
  {
   "cell_type": "code",
   "execution_count": 34,
   "id": "8915fb7a",
   "metadata": {},
   "outputs": [],
   "source": [
    "df1=df[(z<3).all(axis=1)]"
   ]
  },
  {
   "cell_type": "markdown",
   "id": "059a1b69",
   "metadata": {},
   "source": [
    "removing the outliers and saving the data into new variable df1"
   ]
  },
  {
   "cell_type": "code",
   "execution_count": 35,
   "id": "8f784cfe",
   "metadata": {},
   "outputs": [
    {
     "data": {
      "text/html": [
       "<div>\n",
       "<style scoped>\n",
       "    .dataframe tbody tr th:only-of-type {\n",
       "        vertical-align: middle;\n",
       "    }\n",
       "\n",
       "    .dataframe tbody tr th {\n",
       "        vertical-align: top;\n",
       "    }\n",
       "\n",
       "    .dataframe thead th {\n",
       "        text-align: right;\n",
       "    }\n",
       "</style>\n",
       "<table border=\"1\" class=\"dataframe\">\n",
       "  <thead>\n",
       "    <tr style=\"text-align: right;\">\n",
       "      <th></th>\n",
       "      <th>Loan_ID</th>\n",
       "      <th>Gender</th>\n",
       "      <th>Married</th>\n",
       "      <th>Dependents</th>\n",
       "      <th>Education</th>\n",
       "      <th>Self_Employed</th>\n",
       "      <th>ApplicantIncome</th>\n",
       "      <th>CoapplicantIncome</th>\n",
       "      <th>LoanAmount</th>\n",
       "      <th>Loan_Amount_Term</th>\n",
       "      <th>Credit_History</th>\n",
       "      <th>Property_Area</th>\n",
       "      <th>Loan_Status</th>\n",
       "    </tr>\n",
       "  </thead>\n",
       "  <tbody>\n",
       "    <tr>\n",
       "      <th>1</th>\n",
       "      <td>0.0</td>\n",
       "      <td>1.0</td>\n",
       "      <td>1.0</td>\n",
       "      <td>1.0</td>\n",
       "      <td>0.0</td>\n",
       "      <td>0.0</td>\n",
       "      <td>4583</td>\n",
       "      <td>1508.0</td>\n",
       "      <td>128.0</td>\n",
       "      <td>360.0</td>\n",
       "      <td>1.0</td>\n",
       "      <td>0.0</td>\n",
       "      <td>0.0</td>\n",
       "    </tr>\n",
       "    <tr>\n",
       "      <th>2</th>\n",
       "      <td>1.0</td>\n",
       "      <td>1.0</td>\n",
       "      <td>1.0</td>\n",
       "      <td>0.0</td>\n",
       "      <td>0.0</td>\n",
       "      <td>1.0</td>\n",
       "      <td>3000</td>\n",
       "      <td>0.0</td>\n",
       "      <td>66.0</td>\n",
       "      <td>360.0</td>\n",
       "      <td>1.0</td>\n",
       "      <td>2.0</td>\n",
       "      <td>1.0</td>\n",
       "    </tr>\n",
       "    <tr>\n",
       "      <th>3</th>\n",
       "      <td>2.0</td>\n",
       "      <td>1.0</td>\n",
       "      <td>1.0</td>\n",
       "      <td>0.0</td>\n",
       "      <td>1.0</td>\n",
       "      <td>0.0</td>\n",
       "      <td>2583</td>\n",
       "      <td>2358.0</td>\n",
       "      <td>120.0</td>\n",
       "      <td>360.0</td>\n",
       "      <td>1.0</td>\n",
       "      <td>2.0</td>\n",
       "      <td>1.0</td>\n",
       "    </tr>\n",
       "    <tr>\n",
       "      <th>4</th>\n",
       "      <td>3.0</td>\n",
       "      <td>1.0</td>\n",
       "      <td>0.0</td>\n",
       "      <td>0.0</td>\n",
       "      <td>0.0</td>\n",
       "      <td>0.0</td>\n",
       "      <td>6000</td>\n",
       "      <td>0.0</td>\n",
       "      <td>141.0</td>\n",
       "      <td>360.0</td>\n",
       "      <td>1.0</td>\n",
       "      <td>2.0</td>\n",
       "      <td>1.0</td>\n",
       "    </tr>\n",
       "    <tr>\n",
       "      <th>5</th>\n",
       "      <td>4.0</td>\n",
       "      <td>1.0</td>\n",
       "      <td>1.0</td>\n",
       "      <td>2.0</td>\n",
       "      <td>0.0</td>\n",
       "      <td>1.0</td>\n",
       "      <td>5417</td>\n",
       "      <td>4196.0</td>\n",
       "      <td>267.0</td>\n",
       "      <td>360.0</td>\n",
       "      <td>1.0</td>\n",
       "      <td>2.0</td>\n",
       "      <td>1.0</td>\n",
       "    </tr>\n",
       "    <tr>\n",
       "      <th>...</th>\n",
       "      <td>...</td>\n",
       "      <td>...</td>\n",
       "      <td>...</td>\n",
       "      <td>...</td>\n",
       "      <td>...</td>\n",
       "      <td>...</td>\n",
       "      <td>...</td>\n",
       "      <td>...</td>\n",
       "      <td>...</td>\n",
       "      <td>...</td>\n",
       "      <td>...</td>\n",
       "      <td>...</td>\n",
       "      <td>...</td>\n",
       "    </tr>\n",
       "    <tr>\n",
       "      <th>609</th>\n",
       "      <td>475.0</td>\n",
       "      <td>0.0</td>\n",
       "      <td>0.0</td>\n",
       "      <td>0.0</td>\n",
       "      <td>0.0</td>\n",
       "      <td>0.0</td>\n",
       "      <td>2900</td>\n",
       "      <td>0.0</td>\n",
       "      <td>71.0</td>\n",
       "      <td>360.0</td>\n",
       "      <td>1.0</td>\n",
       "      <td>0.0</td>\n",
       "      <td>1.0</td>\n",
       "    </tr>\n",
       "    <tr>\n",
       "      <th>610</th>\n",
       "      <td>476.0</td>\n",
       "      <td>1.0</td>\n",
       "      <td>1.0</td>\n",
       "      <td>3.0</td>\n",
       "      <td>0.0</td>\n",
       "      <td>0.0</td>\n",
       "      <td>4106</td>\n",
       "      <td>0.0</td>\n",
       "      <td>40.0</td>\n",
       "      <td>180.0</td>\n",
       "      <td>1.0</td>\n",
       "      <td>0.0</td>\n",
       "      <td>1.0</td>\n",
       "    </tr>\n",
       "    <tr>\n",
       "      <th>611</th>\n",
       "      <td>477.0</td>\n",
       "      <td>1.0</td>\n",
       "      <td>1.0</td>\n",
       "      <td>1.0</td>\n",
       "      <td>0.0</td>\n",
       "      <td>0.0</td>\n",
       "      <td>8072</td>\n",
       "      <td>240.0</td>\n",
       "      <td>253.0</td>\n",
       "      <td>360.0</td>\n",
       "      <td>1.0</td>\n",
       "      <td>2.0</td>\n",
       "      <td>1.0</td>\n",
       "    </tr>\n",
       "    <tr>\n",
       "      <th>612</th>\n",
       "      <td>478.0</td>\n",
       "      <td>1.0</td>\n",
       "      <td>1.0</td>\n",
       "      <td>2.0</td>\n",
       "      <td>0.0</td>\n",
       "      <td>0.0</td>\n",
       "      <td>7583</td>\n",
       "      <td>0.0</td>\n",
       "      <td>187.0</td>\n",
       "      <td>360.0</td>\n",
       "      <td>1.0</td>\n",
       "      <td>2.0</td>\n",
       "      <td>1.0</td>\n",
       "    </tr>\n",
       "    <tr>\n",
       "      <th>613</th>\n",
       "      <td>479.0</td>\n",
       "      <td>0.0</td>\n",
       "      <td>0.0</td>\n",
       "      <td>0.0</td>\n",
       "      <td>0.0</td>\n",
       "      <td>1.0</td>\n",
       "      <td>4583</td>\n",
       "      <td>0.0</td>\n",
       "      <td>133.0</td>\n",
       "      <td>360.0</td>\n",
       "      <td>0.0</td>\n",
       "      <td>1.0</td>\n",
       "      <td>0.0</td>\n",
       "    </tr>\n",
       "  </tbody>\n",
       "</table>\n",
       "<p>452 rows × 13 columns</p>\n",
       "</div>"
      ],
      "text/plain": [
       "     Loan_ID  Gender  Married  Dependents  Education  Self_Employed  \\\n",
       "1        0.0     1.0      1.0         1.0        0.0            0.0   \n",
       "2        1.0     1.0      1.0         0.0        0.0            1.0   \n",
       "3        2.0     1.0      1.0         0.0        1.0            0.0   \n",
       "4        3.0     1.0      0.0         0.0        0.0            0.0   \n",
       "5        4.0     1.0      1.0         2.0        0.0            1.0   \n",
       "..       ...     ...      ...         ...        ...            ...   \n",
       "609    475.0     0.0      0.0         0.0        0.0            0.0   \n",
       "610    476.0     1.0      1.0         3.0        0.0            0.0   \n",
       "611    477.0     1.0      1.0         1.0        0.0            0.0   \n",
       "612    478.0     1.0      1.0         2.0        0.0            0.0   \n",
       "613    479.0     0.0      0.0         0.0        0.0            1.0   \n",
       "\n",
       "     ApplicantIncome  CoapplicantIncome  LoanAmount  Loan_Amount_Term  \\\n",
       "1               4583             1508.0       128.0             360.0   \n",
       "2               3000                0.0        66.0             360.0   \n",
       "3               2583             2358.0       120.0             360.0   \n",
       "4               6000                0.0       141.0             360.0   \n",
       "5               5417             4196.0       267.0             360.0   \n",
       "..               ...                ...         ...               ...   \n",
       "609             2900                0.0        71.0             360.0   \n",
       "610             4106                0.0        40.0             180.0   \n",
       "611             8072              240.0       253.0             360.0   \n",
       "612             7583                0.0       187.0             360.0   \n",
       "613             4583                0.0       133.0             360.0   \n",
       "\n",
       "     Credit_History  Property_Area  Loan_Status  \n",
       "1               1.0            0.0          0.0  \n",
       "2               1.0            2.0          1.0  \n",
       "3               1.0            2.0          1.0  \n",
       "4               1.0            2.0          1.0  \n",
       "5               1.0            2.0          1.0  \n",
       "..              ...            ...          ...  \n",
       "609             1.0            0.0          1.0  \n",
       "610             1.0            0.0          1.0  \n",
       "611             1.0            2.0          1.0  \n",
       "612             1.0            2.0          1.0  \n",
       "613             0.0            1.0          0.0  \n",
       "\n",
       "[452 rows x 13 columns]"
      ]
     },
     "execution_count": 35,
     "metadata": {},
     "output_type": "execute_result"
    }
   ],
   "source": [
    "df1"
   ]
  },
  {
   "cell_type": "code",
   "execution_count": 36,
   "id": "f60fe89e",
   "metadata": {},
   "outputs": [
    {
     "data": {
      "text/plain": [
       "<AxesSubplot:>"
      ]
     },
     "execution_count": 36,
     "metadata": {},
     "output_type": "execute_result"
    },
    {
     "data": {
      "image/png": "[encoded data removed]",
      "text/plain": [
       "<Figure size 1440x576 with 2 Axes>"
      ]
     },
     "metadata": {
      "needs_background": "light"
     },
     "output_type": "display_data"
    }
   ],
   "source": [
    "plt.figure(figsize=(20,8))\n",
    "sns.heatmap(data=df1.corr(),annot=True,fmt='0.2f')"
   ]
  },
  {
   "cell_type": "markdown",
   "id": "503fcc99",
   "metadata": {},
   "source": [
    "checing for the Coreletion of df1 "
   ]
  },
  {
   "cell_type": "code",
   "execution_count": 37,
   "id": "a899214e",
   "metadata": {},
   "outputs": [
    {
     "data": {
      "text/html": [
       "<div>\n",
       "<style scoped>\n",
       "    .dataframe tbody tr th:only-of-type {\n",
       "        vertical-align: middle;\n",
       "    }\n",
       "\n",
       "    .dataframe tbody tr th {\n",
       "        vertical-align: top;\n",
       "    }\n",
       "\n",
       "    .dataframe thead th {\n",
       "        text-align: right;\n",
       "    }\n",
       "</style>\n",
       "<table border=\"1\" class=\"dataframe\">\n",
       "  <thead>\n",
       "    <tr style=\"text-align: right;\">\n",
       "      <th></th>\n",
       "      <th>Loan_ID</th>\n",
       "      <th>Gender</th>\n",
       "      <th>Married</th>\n",
       "      <th>Dependents</th>\n",
       "      <th>Education</th>\n",
       "      <th>Self_Employed</th>\n",
       "      <th>ApplicantIncome</th>\n",
       "      <th>CoapplicantIncome</th>\n",
       "      <th>LoanAmount</th>\n",
       "      <th>Loan_Amount_Term</th>\n",
       "      <th>Credit_History</th>\n",
       "      <th>Property_Area</th>\n",
       "    </tr>\n",
       "  </thead>\n",
       "  <tbody>\n",
       "    <tr>\n",
       "      <th>1</th>\n",
       "      <td>0.0</td>\n",
       "      <td>1.0</td>\n",
       "      <td>1.0</td>\n",
       "      <td>1.0</td>\n",
       "      <td>0.0</td>\n",
       "      <td>0.0</td>\n",
       "      <td>4583</td>\n",
       "      <td>1508.0</td>\n",
       "      <td>128.0</td>\n",
       "      <td>360.0</td>\n",
       "      <td>1.0</td>\n",
       "      <td>0.0</td>\n",
       "    </tr>\n",
       "    <tr>\n",
       "      <th>2</th>\n",
       "      <td>1.0</td>\n",
       "      <td>1.0</td>\n",
       "      <td>1.0</td>\n",
       "      <td>0.0</td>\n",
       "      <td>0.0</td>\n",
       "      <td>1.0</td>\n",
       "      <td>3000</td>\n",
       "      <td>0.0</td>\n",
       "      <td>66.0</td>\n",
       "      <td>360.0</td>\n",
       "      <td>1.0</td>\n",
       "      <td>2.0</td>\n",
       "    </tr>\n",
       "    <tr>\n",
       "      <th>3</th>\n",
       "      <td>2.0</td>\n",
       "      <td>1.0</td>\n",
       "      <td>1.0</td>\n",
       "      <td>0.0</td>\n",
       "      <td>1.0</td>\n",
       "      <td>0.0</td>\n",
       "      <td>2583</td>\n",
       "      <td>2358.0</td>\n",
       "      <td>120.0</td>\n",
       "      <td>360.0</td>\n",
       "      <td>1.0</td>\n",
       "      <td>2.0</td>\n",
       "    </tr>\n",
       "    <tr>\n",
       "      <th>4</th>\n",
       "      <td>3.0</td>\n",
       "      <td>1.0</td>\n",
       "      <td>0.0</td>\n",
       "      <td>0.0</td>\n",
       "      <td>0.0</td>\n",
       "      <td>0.0</td>\n",
       "      <td>6000</td>\n",
       "      <td>0.0</td>\n",
       "      <td>141.0</td>\n",
       "      <td>360.0</td>\n",
       "      <td>1.0</td>\n",
       "      <td>2.0</td>\n",
       "    </tr>\n",
       "    <tr>\n",
       "      <th>5</th>\n",
       "      <td>4.0</td>\n",
       "      <td>1.0</td>\n",
       "      <td>1.0</td>\n",
       "      <td>2.0</td>\n",
       "      <td>0.0</td>\n",
       "      <td>1.0</td>\n",
       "      <td>5417</td>\n",
       "      <td>4196.0</td>\n",
       "      <td>267.0</td>\n",
       "      <td>360.0</td>\n",
       "      <td>1.0</td>\n",
       "      <td>2.0</td>\n",
       "    </tr>\n",
       "    <tr>\n",
       "      <th>...</th>\n",
       "      <td>...</td>\n",
       "      <td>...</td>\n",
       "      <td>...</td>\n",
       "      <td>...</td>\n",
       "      <td>...</td>\n",
       "      <td>...</td>\n",
       "      <td>...</td>\n",
       "      <td>...</td>\n",
       "      <td>...</td>\n",
       "      <td>...</td>\n",
       "      <td>...</td>\n",
       "      <td>...</td>\n",
       "    </tr>\n",
       "    <tr>\n",
       "      <th>609</th>\n",
       "      <td>475.0</td>\n",
       "      <td>0.0</td>\n",
       "      <td>0.0</td>\n",
       "      <td>0.0</td>\n",
       "      <td>0.0</td>\n",
       "      <td>0.0</td>\n",
       "      <td>2900</td>\n",
       "      <td>0.0</td>\n",
       "      <td>71.0</td>\n",
       "      <td>360.0</td>\n",
       "      <td>1.0</td>\n",
       "      <td>0.0</td>\n",
       "    </tr>\n",
       "    <tr>\n",
       "      <th>610</th>\n",
       "      <td>476.0</td>\n",
       "      <td>1.0</td>\n",
       "      <td>1.0</td>\n",
       "      <td>3.0</td>\n",
       "      <td>0.0</td>\n",
       "      <td>0.0</td>\n",
       "      <td>4106</td>\n",
       "      <td>0.0</td>\n",
       "      <td>40.0</td>\n",
       "      <td>180.0</td>\n",
       "      <td>1.0</td>\n",
       "      <td>0.0</td>\n",
       "    </tr>\n",
       "    <tr>\n",
       "      <th>611</th>\n",
       "      <td>477.0</td>\n",
       "      <td>1.0</td>\n",
       "      <td>1.0</td>\n",
       "      <td>1.0</td>\n",
       "      <td>0.0</td>\n",
       "      <td>0.0</td>\n",
       "      <td>8072</td>\n",
       "      <td>240.0</td>\n",
       "      <td>253.0</td>\n",
       "      <td>360.0</td>\n",
       "      <td>1.0</td>\n",
       "      <td>2.0</td>\n",
       "    </tr>\n",
       "    <tr>\n",
       "      <th>612</th>\n",
       "      <td>478.0</td>\n",
       "      <td>1.0</td>\n",
       "      <td>1.0</td>\n",
       "      <td>2.0</td>\n",
       "      <td>0.0</td>\n",
       "      <td>0.0</td>\n",
       "      <td>7583</td>\n",
       "      <td>0.0</td>\n",
       "      <td>187.0</td>\n",
       "      <td>360.0</td>\n",
       "      <td>1.0</td>\n",
       "      <td>2.0</td>\n",
       "    </tr>\n",
       "    <tr>\n",
       "      <th>613</th>\n",
       "      <td>479.0</td>\n",
       "      <td>0.0</td>\n",
       "      <td>0.0</td>\n",
       "      <td>0.0</td>\n",
       "      <td>0.0</td>\n",
       "      <td>1.0</td>\n",
       "      <td>4583</td>\n",
       "      <td>0.0</td>\n",
       "      <td>133.0</td>\n",
       "      <td>360.0</td>\n",
       "      <td>0.0</td>\n",
       "      <td>1.0</td>\n",
       "    </tr>\n",
       "  </tbody>\n",
       "</table>\n",
       "<p>452 rows × 12 columns</p>\n",
       "</div>"
      ],
      "text/plain": [
       "     Loan_ID  Gender  Married  Dependents  Education  Self_Employed  \\\n",
       "1        0.0     1.0      1.0         1.0        0.0            0.0   \n",
       "2        1.0     1.0      1.0         0.0        0.0            1.0   \n",
       "3        2.0     1.0      1.0         0.0        1.0            0.0   \n",
       "4        3.0     1.0      0.0         0.0        0.0            0.0   \n",
       "5        4.0     1.0      1.0         2.0        0.0            1.0   \n",
       "..       ...     ...      ...         ...        ...            ...   \n",
       "609    475.0     0.0      0.0         0.0        0.0            0.0   \n",
       "610    476.0     1.0      1.0         3.0        0.0            0.0   \n",
       "611    477.0     1.0      1.0         1.0        0.0            0.0   \n",
       "612    478.0     1.0      1.0         2.0        0.0            0.0   \n",
       "613    479.0     0.0      0.0         0.0        0.0            1.0   \n",
       "\n",
       "     ApplicantIncome  CoapplicantIncome  LoanAmount  Loan_Amount_Term  \\\n",
       "1               4583             1508.0       128.0             360.0   \n",
       "2               3000                0.0        66.0             360.0   \n",
       "3               2583             2358.0       120.0             360.0   \n",
       "4               6000                0.0       141.0             360.0   \n",
       "5               5417             4196.0       267.0             360.0   \n",
       "..               ...                ...         ...               ...   \n",
       "609             2900                0.0        71.0             360.0   \n",
       "610             4106                0.0        40.0             180.0   \n",
       "611             8072              240.0       253.0             360.0   \n",
       "612             7583                0.0       187.0             360.0   \n",
       "613             4583                0.0       133.0             360.0   \n",
       "\n",
       "     Credit_History  Property_Area  \n",
       "1               1.0            0.0  \n",
       "2               1.0            2.0  \n",
       "3               1.0            2.0  \n",
       "4               1.0            2.0  \n",
       "5               1.0            2.0  \n",
       "..              ...            ...  \n",
       "609             1.0            0.0  \n",
       "610             1.0            0.0  \n",
       "611             1.0            2.0  \n",
       "612             1.0            2.0  \n",
       "613             0.0            1.0  \n",
       "\n",
       "[452 rows x 12 columns]"
      ]
     },
     "execution_count": 37,
     "metadata": {},
     "output_type": "execute_result"
    }
   ],
   "source": [
    "x=df1.iloc[:,:-1]\n",
    "x"
   ]
  },
  {
   "cell_type": "markdown",
   "id": "e2bd6d4a",
   "metadata": {},
   "source": [
    "Seperating independent variables and naming x"
   ]
  },
  {
   "cell_type": "code",
   "execution_count": 38,
   "id": "76381de9",
   "metadata": {},
   "outputs": [
    {
     "data": {
      "text/plain": [
       "1      0.0\n",
       "2      1.0\n",
       "3      1.0\n",
       "4      1.0\n",
       "5      1.0\n",
       "      ... \n",
       "609    1.0\n",
       "610    1.0\n",
       "611    1.0\n",
       "612    1.0\n",
       "613    0.0\n",
       "Name: Loan_Status, Length: 452, dtype: float64"
      ]
     },
     "execution_count": 38,
     "metadata": {},
     "output_type": "execute_result"
    }
   ],
   "source": [
    "y=df1.iloc[:,-1]\n",
    "y"
   ]
  },
  {
   "cell_type": "markdown",
   "id": "7718976c",
   "metadata": {},
   "source": [
    "Saving the Dependent variable as y"
   ]
  },
  {
   "cell_type": "code",
   "execution_count": 39,
   "id": "d458ceab",
   "metadata": {},
   "outputs": [
    {
     "data": {
      "text/plain": [
       "Loan_ID              0.011882\n",
       "Gender              -1.658936\n",
       "Married             -0.602600\n",
       "Dependents           0.973964\n",
       "Education            1.443921\n",
       "Self_Employed        2.200742\n",
       "ApplicantIncome      1.980989\n",
       "CoapplicantIncome    1.405169\n",
       "LoanAmount           1.064924\n",
       "Loan_Amount_Term    -2.010659\n",
       "Credit_History      -1.986572\n",
       "Property_Area       -0.038700\n",
       "Loan_Status         -0.871173\n",
       "dtype: float64"
      ]
     },
     "execution_count": 39,
     "metadata": {},
     "output_type": "execute_result"
    }
   ],
   "source": [
    "df1.skew()"
   ]
  },
  {
   "cell_type": "markdown",
   "id": "4c020ebf",
   "metadata": {},
   "source": [
    "checking the skewness of the df1 dataset,some of the columns has skewness having more than aceptance range"
   ]
  },
  {
   "cell_type": "code",
   "execution_count": 40,
   "id": "c572dd55",
   "metadata": {},
   "outputs": [],
   "source": [
    "df1=np.cbrt(df1)"
   ]
  },
  {
   "cell_type": "code",
   "execution_count": 41,
   "id": "71647dd3",
   "metadata": {},
   "outputs": [
    {
     "data": {
      "text/plain": [
       "Loan_ID             -0.894936\n",
       "Gender              -1.658936\n",
       "Married             -0.602600\n",
       "Dependents           0.440002\n",
       "Education            1.443921\n",
       "Self_Employed        2.200742\n",
       "ApplicantIncome      0.855274\n",
       "CoapplicantIncome   -0.001604\n",
       "LoanAmount          -0.003970\n",
       "Loan_Amount_Term    -2.472505\n",
       "Credit_History      -1.986572\n",
       "Property_Area       -0.762389\n",
       "Loan_Status         -0.871173\n",
       "dtype: float64"
      ]
     },
     "execution_count": 41,
     "metadata": {},
     "output_type": "execute_result"
    }
   ],
   "source": [
    "df1.skew()"
   ]
  },
  {
   "cell_type": "markdown",
   "id": "afb177e6",
   "metadata": {},
   "source": [
    "we see now the skewness has came reduced using cuberoot method"
   ]
  },
  {
   "cell_type": "code",
   "execution_count": 42,
   "id": "6cb04604",
   "metadata": {},
   "outputs": [
    {
     "data": {
      "text/html": [
       "<div>\n",
       "<style scoped>\n",
       "    .dataframe tbody tr th:only-of-type {\n",
       "        vertical-align: middle;\n",
       "    }\n",
       "\n",
       "    .dataframe tbody tr th {\n",
       "        vertical-align: top;\n",
       "    }\n",
       "\n",
       "    .dataframe thead th {\n",
       "        text-align: right;\n",
       "    }\n",
       "</style>\n",
       "<table border=\"1\" class=\"dataframe\">\n",
       "  <thead>\n",
       "    <tr style=\"text-align: right;\">\n",
       "      <th></th>\n",
       "      <th>Loan_ID</th>\n",
       "      <th>Gender</th>\n",
       "      <th>Married</th>\n",
       "      <th>Dependents</th>\n",
       "      <th>Education</th>\n",
       "      <th>Self_Employed</th>\n",
       "      <th>ApplicantIncome</th>\n",
       "      <th>CoapplicantIncome</th>\n",
       "      <th>LoanAmount</th>\n",
       "      <th>Loan_Amount_Term</th>\n",
       "      <th>Credit_History</th>\n",
       "      <th>Property_Area</th>\n",
       "    </tr>\n",
       "  </thead>\n",
       "  <tbody>\n",
       "    <tr>\n",
       "      <th>0</th>\n",
       "      <td>-1.725029</td>\n",
       "      <td>0.470767</td>\n",
       "      <td>0.743818</td>\n",
       "      <td>0.239878</td>\n",
       "      <td>-0.512416</td>\n",
       "      <td>-0.387463</td>\n",
       "      <td>-0.059916</td>\n",
       "      <td>0.062631</td>\n",
       "      <td>-0.147447</td>\n",
       "      <td>0.232882</td>\n",
       "      <td>0.417164</td>\n",
       "      <td>-1.308556</td>\n",
       "    </tr>\n",
       "    <tr>\n",
       "      <th>1</th>\n",
       "      <td>-1.717772</td>\n",
       "      <td>0.470767</td>\n",
       "      <td>0.743818</td>\n",
       "      <td>-0.745801</td>\n",
       "      <td>-0.512416</td>\n",
       "      <td>2.580895</td>\n",
       "      <td>-0.586262</td>\n",
       "      <td>-0.842995</td>\n",
       "      <td>-1.201543</td>\n",
       "      <td>0.232882</td>\n",
       "      <td>0.417164</td>\n",
       "      <td>1.251909</td>\n",
       "    </tr>\n",
       "    <tr>\n",
       "      <th>2</th>\n",
       "      <td>-1.710515</td>\n",
       "      <td>0.470767</td>\n",
       "      <td>0.743818</td>\n",
       "      <td>-0.745801</td>\n",
       "      <td>1.951541</td>\n",
       "      <td>-0.387463</td>\n",
       "      <td>-0.724915</td>\n",
       "      <td>0.573097</td>\n",
       "      <td>-0.283459</td>\n",
       "      <td>0.232882</td>\n",
       "      <td>0.417164</td>\n",
       "      <td>1.251909</td>\n",
       "    </tr>\n",
       "    <tr>\n",
       "      <th>3</th>\n",
       "      <td>-1.703258</td>\n",
       "      <td>0.470767</td>\n",
       "      <td>-1.344416</td>\n",
       "      <td>-0.745801</td>\n",
       "      <td>-0.512416</td>\n",
       "      <td>-0.387463</td>\n",
       "      <td>0.411235</td>\n",
       "      <td>-0.842995</td>\n",
       "      <td>0.073573</td>\n",
       "      <td>0.232882</td>\n",
       "      <td>0.417164</td>\n",
       "      <td>1.251909</td>\n",
       "    </tr>\n",
       "    <tr>\n",
       "      <th>4</th>\n",
       "      <td>-1.696001</td>\n",
       "      <td>0.470767</td>\n",
       "      <td>0.743818</td>\n",
       "      <td>1.225556</td>\n",
       "      <td>-0.512416</td>\n",
       "      <td>2.580895</td>\n",
       "      <td>0.217388</td>\n",
       "      <td>1.676903</td>\n",
       "      <td>2.215768</td>\n",
       "      <td>0.232882</td>\n",
       "      <td>0.417164</td>\n",
       "      <td>1.251909</td>\n",
       "    </tr>\n",
       "    <tr>\n",
       "      <th>...</th>\n",
       "      <td>...</td>\n",
       "      <td>...</td>\n",
       "      <td>...</td>\n",
       "      <td>...</td>\n",
       "      <td>...</td>\n",
       "      <td>...</td>\n",
       "      <td>...</td>\n",
       "      <td>...</td>\n",
       "      <td>...</td>\n",
       "      <td>...</td>\n",
       "      <td>...</td>\n",
       "      <td>...</td>\n",
       "    </tr>\n",
       "    <tr>\n",
       "      <th>447</th>\n",
       "      <td>1.722043</td>\n",
       "      <td>-2.124193</td>\n",
       "      <td>-1.344416</td>\n",
       "      <td>-0.745801</td>\n",
       "      <td>-0.512416</td>\n",
       "      <td>-0.387463</td>\n",
       "      <td>-0.619512</td>\n",
       "      <td>-0.842995</td>\n",
       "      <td>-1.116535</td>\n",
       "      <td>0.232882</td>\n",
       "      <td>0.417164</td>\n",
       "      <td>-1.308556</td>\n",
       "    </tr>\n",
       "    <tr>\n",
       "      <th>448</th>\n",
       "      <td>1.729300</td>\n",
       "      <td>0.470767</td>\n",
       "      <td>0.743818</td>\n",
       "      <td>2.211235</td>\n",
       "      <td>-0.512416</td>\n",
       "      <td>-0.387463</td>\n",
       "      <td>-0.218518</td>\n",
       "      <td>-0.842995</td>\n",
       "      <td>-1.643583</td>\n",
       "      <td>-3.126560</td>\n",
       "      <td>0.417164</td>\n",
       "      <td>-1.308556</td>\n",
       "    </tr>\n",
       "    <tr>\n",
       "      <th>449</th>\n",
       "      <td>1.736557</td>\n",
       "      <td>0.470767</td>\n",
       "      <td>0.743818</td>\n",
       "      <td>0.239878</td>\n",
       "      <td>-0.512416</td>\n",
       "      <td>-0.387463</td>\n",
       "      <td>1.100174</td>\n",
       "      <td>-0.698863</td>\n",
       "      <td>1.977746</td>\n",
       "      <td>0.232882</td>\n",
       "      <td>0.417164</td>\n",
       "      <td>1.251909</td>\n",
       "    </tr>\n",
       "    <tr>\n",
       "      <th>450</th>\n",
       "      <td>1.743814</td>\n",
       "      <td>0.470767</td>\n",
       "      <td>0.743818</td>\n",
       "      <td>1.225556</td>\n",
       "      <td>-0.512416</td>\n",
       "      <td>-0.387463</td>\n",
       "      <td>0.937582</td>\n",
       "      <td>-0.842995</td>\n",
       "      <td>0.855644</td>\n",
       "      <td>0.232882</td>\n",
       "      <td>0.417164</td>\n",
       "      <td>1.251909</td>\n",
       "    </tr>\n",
       "    <tr>\n",
       "      <th>451</th>\n",
       "      <td>1.751071</td>\n",
       "      <td>-2.124193</td>\n",
       "      <td>-1.344416</td>\n",
       "      <td>-0.745801</td>\n",
       "      <td>-0.512416</td>\n",
       "      <td>2.580895</td>\n",
       "      <td>-0.059916</td>\n",
       "      <td>-0.842995</td>\n",
       "      <td>-0.062439</td>\n",
       "      <td>0.232882</td>\n",
       "      <td>-2.397138</td>\n",
       "      <td>-0.028324</td>\n",
       "    </tr>\n",
       "  </tbody>\n",
       "</table>\n",
       "<p>452 rows × 12 columns</p>\n",
       "</div>"
      ],
      "text/plain": [
       "      Loan_ID    Gender   Married  Dependents  Education  Self_Employed  \\\n",
       "0   -1.725029  0.470767  0.743818    0.239878  -0.512416      -0.387463   \n",
       "1   -1.717772  0.470767  0.743818   -0.745801  -0.512416       2.580895   \n",
       "2   -1.710515  0.470767  0.743818   -0.745801   1.951541      -0.387463   \n",
       "3   -1.703258  0.470767 -1.344416   -0.745801  -0.512416      -0.387463   \n",
       "4   -1.696001  0.470767  0.743818    1.225556  -0.512416       2.580895   \n",
       "..        ...       ...       ...         ...        ...            ...   \n",
       "447  1.722043 -2.124193 -1.344416   -0.745801  -0.512416      -0.387463   \n",
       "448  1.729300  0.470767  0.743818    2.211235  -0.512416      -0.387463   \n",
       "449  1.736557  0.470767  0.743818    0.239878  -0.512416      -0.387463   \n",
       "450  1.743814  0.470767  0.743818    1.225556  -0.512416      -0.387463   \n",
       "451  1.751071 -2.124193 -1.344416   -0.745801  -0.512416       2.580895   \n",
       "\n",
       "     ApplicantIncome  CoapplicantIncome  LoanAmount  Loan_Amount_Term  \\\n",
       "0          -0.059916           0.062631   -0.147447          0.232882   \n",
       "1          -0.586262          -0.842995   -1.201543          0.232882   \n",
       "2          -0.724915           0.573097   -0.283459          0.232882   \n",
       "3           0.411235          -0.842995    0.073573          0.232882   \n",
       "4           0.217388           1.676903    2.215768          0.232882   \n",
       "..               ...                ...         ...               ...   \n",
       "447        -0.619512          -0.842995   -1.116535          0.232882   \n",
       "448        -0.218518          -0.842995   -1.643583         -3.126560   \n",
       "449         1.100174          -0.698863    1.977746          0.232882   \n",
       "450         0.937582          -0.842995    0.855644          0.232882   \n",
       "451        -0.059916          -0.842995   -0.062439          0.232882   \n",
       "\n",
       "     Credit_History  Property_Area  \n",
       "0          0.417164      -1.308556  \n",
       "1          0.417164       1.251909  \n",
       "2          0.417164       1.251909  \n",
       "3          0.417164       1.251909  \n",
       "4          0.417164       1.251909  \n",
       "..              ...            ...  \n",
       "447        0.417164      -1.308556  \n",
       "448        0.417164      -1.308556  \n",
       "449        0.417164       1.251909  \n",
       "450        0.417164       1.251909  \n",
       "451       -2.397138      -0.028324  \n",
       "\n",
       "[452 rows x 12 columns]"
      ]
     },
     "execution_count": 42,
     "metadata": {},
     "output_type": "execute_result"
    }
   ],
   "source": [
    "from sklearn.preprocessing import StandardScaler\n",
    "sc=StandardScaler()\n",
    "\n",
    "x=pd.DataFrame(sc.fit_transform(x),columns=x.columns)\n",
    "x"
   ]
  },
  {
   "cell_type": "markdown",
   "id": "092c9582",
   "metadata": {},
   "source": [
    "using the Standard Scaler to standardise the values with Mean zero and Standard deviation -1 to +1"
   ]
  },
  {
   "cell_type": "code",
   "execution_count": 43,
   "id": "cfa416aa",
   "metadata": {},
   "outputs": [],
   "source": [
    "from statsmodels.stats.outliers_influence import variance_inflation_factor"
   ]
  },
  {
   "cell_type": "markdown",
   "id": "c38eadc6",
   "metadata": {},
   "source": [
    "to check the corelation of the columns we are using VIF "
   ]
  },
  {
   "cell_type": "code",
   "execution_count": 44,
   "id": "d8519d75",
   "metadata": {},
   "outputs": [
    {
     "data": {
      "text/html": [
       "<div>\n",
       "<style scoped>\n",
       "    .dataframe tbody tr th:only-of-type {\n",
       "        vertical-align: middle;\n",
       "    }\n",
       "\n",
       "    .dataframe tbody tr th {\n",
       "        vertical-align: top;\n",
       "    }\n",
       "\n",
       "    .dataframe thead th {\n",
       "        text-align: right;\n",
       "    }\n",
       "</style>\n",
       "<table border=\"1\" class=\"dataframe\">\n",
       "  <thead>\n",
       "    <tr style=\"text-align: right;\">\n",
       "      <th></th>\n",
       "      <th>VIF Values</th>\n",
       "      <th>VIF Features</th>\n",
       "    </tr>\n",
       "  </thead>\n",
       "  <tbody>\n",
       "    <tr>\n",
       "      <th>0</th>\n",
       "      <td>15.997902</td>\n",
       "      <td>Loan_ID</td>\n",
       "    </tr>\n",
       "    <tr>\n",
       "      <th>1</th>\n",
       "      <td>6.650878</td>\n",
       "      <td>Gender</td>\n",
       "    </tr>\n",
       "    <tr>\n",
       "      <th>2</th>\n",
       "      <td>4.107726</td>\n",
       "      <td>Married</td>\n",
       "    </tr>\n",
       "    <tr>\n",
       "      <th>3</th>\n",
       "      <td>2.115849</td>\n",
       "      <td>Dependents</td>\n",
       "    </tr>\n",
       "    <tr>\n",
       "      <th>4</th>\n",
       "      <td>1.303931</td>\n",
       "      <td>Education</td>\n",
       "    </tr>\n",
       "    <tr>\n",
       "      <th>5</th>\n",
       "      <td>1.257213</td>\n",
       "      <td>Self_Employed</td>\n",
       "    </tr>\n",
       "    <tr>\n",
       "      <th>6</th>\n",
       "      <td>53.591667</td>\n",
       "      <td>ApplicantIncome</td>\n",
       "    </tr>\n",
       "    <tr>\n",
       "      <th>7</th>\n",
       "      <td>3.461565</td>\n",
       "      <td>CoapplicantIncome</td>\n",
       "    </tr>\n",
       "    <tr>\n",
       "      <th>8</th>\n",
       "      <td>84.028640</td>\n",
       "      <td>LoanAmount</td>\n",
       "    </tr>\n",
       "    <tr>\n",
       "      <th>9</th>\n",
       "      <td>70.046024</td>\n",
       "      <td>Loan_Amount_Term</td>\n",
       "    </tr>\n",
       "    <tr>\n",
       "      <th>10</th>\n",
       "      <td>9.946264</td>\n",
       "      <td>Credit_History</td>\n",
       "    </tr>\n",
       "    <tr>\n",
       "      <th>11</th>\n",
       "      <td>3.492530</td>\n",
       "      <td>Property_Area</td>\n",
       "    </tr>\n",
       "    <tr>\n",
       "      <th>12</th>\n",
       "      <td>5.038513</td>\n",
       "      <td>Loan_Status</td>\n",
       "    </tr>\n",
       "  </tbody>\n",
       "</table>\n",
       "</div>"
      ],
      "text/plain": [
       "    VIF Values       VIF Features\n",
       "0    15.997902            Loan_ID\n",
       "1     6.650878             Gender\n",
       "2     4.107726            Married\n",
       "3     2.115849         Dependents\n",
       "4     1.303931          Education\n",
       "5     1.257213      Self_Employed\n",
       "6    53.591667    ApplicantIncome\n",
       "7     3.461565  CoapplicantIncome\n",
       "8    84.028640         LoanAmount\n",
       "9    70.046024   Loan_Amount_Term\n",
       "10    9.946264     Credit_History\n",
       "11    3.492530      Property_Area\n",
       "12    5.038513        Loan_Status"
      ]
     },
     "execution_count": 44,
     "metadata": {},
     "output_type": "execute_result"
    }
   ],
   "source": [
    "vif=pd.DataFrame()\n",
    "vif['VIF Values']=[variance_inflation_factor(df1.values,i)\n",
    "                  for i in range(len(df1.columns))]\n",
    "vif['VIF Features']=df1.columns\n",
    "vif"
   ]
  },
  {
   "cell_type": "markdown",
   "id": "8dd52c8f",
   "metadata": {},
   "source": [
    "the VIF values are in range , ideal range is 10 , all the columns are in range "
   ]
  },
  {
   "cell_type": "code",
   "execution_count": 45,
   "id": "c74d1d04",
   "metadata": {},
   "outputs": [],
   "source": [
    "from imblearn.over_sampling import SMOTE\n",
    "sm=SMOTE()\n",
    "\n",
    "x,y=sm.fit_resample(x,y)"
   ]
  },
  {
   "cell_type": "markdown",
   "id": "27c6429c",
   "metadata": {},
   "source": [
    "using the SMOTE function to resample the x and y values "
   ]
  },
  {
   "cell_type": "code",
   "execution_count": 46,
   "id": "5a953e99",
   "metadata": {},
   "outputs": [
    {
     "data": {
      "text/plain": [
       "0.0    316\n",
       "1.0    316\n",
       "Name: Loan_Status, dtype: int64"
      ]
     },
     "execution_count": 46,
     "metadata": {},
     "output_type": "execute_result"
    }
   ],
   "source": [
    "y.value_counts()"
   ]
  },
  {
   "cell_type": "markdown",
   "id": "b91454de",
   "metadata": {},
   "source": [
    "y values are equal prediction"
   ]
  },
  {
   "cell_type": "markdown",
   "id": "c85f7e88",
   "metadata": {},
   "source": [
    "# Modelling"
   ]
  },
  {
   "cell_type": "code",
   "execution_count": 47,
   "id": "ac4c25b6",
   "metadata": {},
   "outputs": [],
   "source": [
    "from sklearn.tree import DecisionTreeClassifier\n",
    "from sklearn.model_selection import train_test_split\n",
    "from sklearn.metrics import accuracy_score,classification_report,confusion_matrix"
   ]
  },
  {
   "cell_type": "markdown",
   "id": "85deaecf",
   "metadata": {},
   "source": [
    "Importing the Nessesary models for the prediction and train,test,splitand scoring parameters "
   ]
  },
  {
   "cell_type": "code",
   "execution_count": 48,
   "id": "a4c4f9bd",
   "metadata": {},
   "outputs": [
    {
     "name": "stdout",
     "output_type": "stream",
     "text": [
      "Best accuracy score is  0.8421052631578947 at the Random State of 148\n"
     ]
    }
   ],
   "source": [
    "maxAccu=0\n",
    "maxRs=0\n",
    "\n",
    "for i in range(1,500):\n",
    "    x_train,x_test,y_train,y_test=train_test_split(x,y,test_size=0.30,random_state=i)\n",
    "    dtc=DecisionTreeClassifier()\n",
    "    dtc.fit(x_train,y_train)\n",
    "    pred=dtc.predict(x_test)\n",
    "    accu=accuracy_score(y_test,pred)\n",
    "    if accu>maxAccu:\n",
    "        maxAccu=accu\n",
    "        maxRs=i\n",
    "print('Best accuracy score is ',maxAccu,'at the Random State of',maxRs)"
   ]
  },
  {
   "cell_type": "markdown",
   "id": "89a2f504",
   "metadata": {},
   "source": [
    "Checking for best Random state to work the model with best accuracy "
   ]
  },
  {
   "cell_type": "code",
   "execution_count": 49,
   "id": "c3bb8ee4",
   "metadata": {},
   "outputs": [],
   "source": [
    "from sklearn.svm import SVC\n",
    "from sklearn.ensemble import GradientBoostingClassifier,AdaBoostClassifier,BaggingClassifier\n",
    "from sklearn.ensemble import RandomForestClassifier,ExtraTreesClassifier"
   ]
  },
  {
   "cell_type": "markdown",
   "id": "076aeb29",
   "metadata": {},
   "source": [
    "importing other models also for modeling "
   ]
  },
  {
   "cell_type": "code",
   "execution_count": 50,
   "id": "2fa0c521",
   "metadata": {},
   "outputs": [],
   "source": [
    "x_train,x_test,y_train,y_test=train_test_split(x,y,test_size=0.30,random_state=maxRs)"
   ]
  },
  {
   "cell_type": "markdown",
   "id": "ff3ae319",
   "metadata": {},
   "source": [
    "separating the train and test model with best Random state"
   ]
  },
  {
   "cell_type": "code",
   "execution_count": 51,
   "id": "0f68cbb2",
   "metadata": {},
   "outputs": [
    {
     "name": "stdout",
     "output_type": "stream",
     "text": [
      "Support Vector\n",
      "Accuracy score on test data 81.05263157894737\n",
      "Accuracy score on train data 80.09049773755656\n",
      "Classification report \n",
      "               precision    recall  f1-score   support\n",
      "\n",
      "         0.0       0.91      0.68      0.78        94\n",
      "         1.0       0.75      0.94      0.83        96\n",
      "\n",
      "    accuracy                           0.81       190\n",
      "   macro avg       0.83      0.81      0.81       190\n",
      "weighted avg       0.83      0.81      0.81       190\n",
      "\n",
      "Confusion matrix \n",
      " [[64 30]\n",
      " [ 6 90]]\n"
     ]
    }
   ],
   "source": [
    "print('Support Vector')\n",
    "svc=SVC()\n",
    "svc.fit(x_train,y_train)\n",
    "predsvc=svc.predict(x_test)\n",
    "predsvc_train=svc.predict(x_train)\n",
    "print('Accuracy score on test data',accuracy_score(y_test,predsvc)*100)\n",
    "print('Accuracy score on train data',accuracy_score(y_train,predsvc_train)*100)\n",
    "print('Classification report','\\n',classification_report(y_test,predsvc))\n",
    "print('Confusion matrix','\\n',confusion_matrix(y_test,predsvc))"
   ]
  },
  {
   "cell_type": "markdown",
   "id": "93f8c698",
   "metadata": {},
   "source": [
    "Supporvector model is has 100% accuracy score"
   ]
  },
  {
   "cell_type": "code",
   "execution_count": 52,
   "id": "2a21b910",
   "metadata": {},
   "outputs": [
    {
     "name": "stdout",
     "output_type": "stream",
     "text": [
      "DecisionTreeClassifier\n",
      "Accuracy score on test data 84.21052631578947\n",
      "Accuracy score on train data 100.0\n",
      "Classification report \n",
      "               precision    recall  f1-score   support\n",
      "\n",
      "         0.0       0.82      0.87      0.85        94\n",
      "         1.0       0.87      0.81      0.84        96\n",
      "\n",
      "    accuracy                           0.84       190\n",
      "   macro avg       0.84      0.84      0.84       190\n",
      "weighted avg       0.84      0.84      0.84       190\n",
      "\n",
      "Confusion matrix \n",
      " [[82 12]\n",
      " [18 78]]\n"
     ]
    }
   ],
   "source": [
    "print('DecisionTreeClassifier')\n",
    "dtc=DecisionTreeClassifier()\n",
    "dtc.fit(x_train,y_train)\n",
    "preddtr=dtc.predict(x_test)\n",
    "preddtr_train=dtc.predict(x_train)\n",
    "print('Accuracy score on test data',accuracy_score(y_test,preddtr)*100)\n",
    "print('Accuracy score on train data',accuracy_score(y_train,preddtr_train)*100)\n",
    "print('Classification report','\\n',classification_report(y_test,preddtr))\n",
    "print('Confusion matrix','\\n',confusion_matrix(y_test,preddtr))"
   ]
  },
  {
   "cell_type": "markdown",
   "id": "4818962a",
   "metadata": {},
   "source": [
    "DecisionTreeclassifier also performing well"
   ]
  },
  {
   "cell_type": "code",
   "execution_count": 53,
   "id": "8706e95d",
   "metadata": {},
   "outputs": [
    {
     "name": "stdout",
     "output_type": "stream",
     "text": [
      "GradientBoostingClassifier\n",
      "Accuracy score on test data 85.78947368421052\n",
      "Accuracy score on train data 95.47511312217195\n",
      "Classification report \n",
      "               precision    recall  f1-score   support\n",
      "\n",
      "         0.0       0.89      0.82      0.85        94\n",
      "         1.0       0.83      0.90      0.86        96\n",
      "\n",
      "    accuracy                           0.86       190\n",
      "   macro avg       0.86      0.86      0.86       190\n",
      "weighted avg       0.86      0.86      0.86       190\n",
      "\n",
      "Confusion matrix \n",
      " [[77 17]\n",
      " [10 86]]\n"
     ]
    }
   ],
   "source": [
    "print('GradientBoostingClassifier')\n",
    "gb=GradientBoostingClassifier()\n",
    "gb.fit(x_train,y_train)\n",
    "predgb=gb.predict(x_test)\n",
    "predgb_train=gb.predict(x_train)\n",
    "print('Accuracy score on test data',accuracy_score(y_test,predgb)*100)\n",
    "print('Accuracy score on train data',accuracy_score(y_train,predgb_train)*100)\n",
    "print('Classification report','\\n',classification_report(y_test,predgb))\n",
    "print('Confusion matrix','\\n',confusion_matrix(y_test,predgb))"
   ]
  },
  {
   "cell_type": "markdown",
   "id": "80a50882",
   "metadata": {},
   "source": [
    "GradientBoosting also performing well"
   ]
  },
  {
   "cell_type": "code",
   "execution_count": 54,
   "id": "de58610c",
   "metadata": {},
   "outputs": [
    {
     "name": "stdout",
     "output_type": "stream",
     "text": [
      "AdaBoostClassifier\n",
      "Accuracy score on test data 81.05263157894737\n",
      "Accuracy score on train data 95.47511312217195\n",
      "Classification report               precision    recall  f1-score   support\n",
      "\n",
      "         0.0       0.82      0.79      0.80        94\n",
      "         1.0       0.80      0.83      0.82        96\n",
      "\n",
      "    accuracy                           0.81       190\n",
      "   macro avg       0.81      0.81      0.81       190\n",
      "weighted avg       0.81      0.81      0.81       190\n",
      "\n",
      "Confusion matrix [[74 20]\n",
      " [16 80]]\n"
     ]
    }
   ],
   "source": [
    "print('AdaBoostClassifier')\n",
    "ab=AdaBoostClassifier()\n",
    "ab.fit(x_train,y_train)\n",
    "predab=ab.predict(x_test)\n",
    "predab_train=gb.predict(x_train)\n",
    "print('Accuracy score on test data',accuracy_score(y_test,predab)*100)\n",
    "print('Accuracy score on train data',accuracy_score(y_train,predab_train)*100)\n",
    "print('Classification report',classification_report(y_test,predab))\n",
    "print('Confusion matrix',confusion_matrix(y_test,predab))"
   ]
  },
  {
   "cell_type": "markdown",
   "id": "e82f4c21",
   "metadata": {},
   "source": [
    "AdaBoostClassifier also performing well"
   ]
  },
  {
   "cell_type": "code",
   "execution_count": 55,
   "id": "8286a836",
   "metadata": {},
   "outputs": [
    {
     "name": "stdout",
     "output_type": "stream",
     "text": [
      "BaggingClassifier\n",
      "Accuracy score on test data 85.26315789473684\n",
      "Accuracy score on train data 98.64253393665159\n",
      "Classification report               precision    recall  f1-score   support\n",
      "\n",
      "         0.0       0.84      0.87      0.85        94\n",
      "         1.0       0.87      0.83      0.85        96\n",
      "\n",
      "    accuracy                           0.85       190\n",
      "   macro avg       0.85      0.85      0.85       190\n",
      "weighted avg       0.85      0.85      0.85       190\n",
      "\n",
      "Confusion matrix [[82 12]\n",
      " [16 80]]\n"
     ]
    }
   ],
   "source": [
    "print('BaggingClassifier')\n",
    "bg=BaggingClassifier()\n",
    "bg.fit(x_train,y_train)\n",
    "predbg=bg.predict(x_test)\n",
    "predbg_train=bg.predict(x_train)\n",
    "print('Accuracy score on test data',accuracy_score(y_test,predbg)*100)\n",
    "print('Accuracy score on train data',accuracy_score(y_train,predbg_train)*100)\n",
    "print('Classification report',classification_report(y_test,predbg))\n",
    "print('Confusion matrix',confusion_matrix(y_test,predbg))"
   ]
  },
  {
   "cell_type": "markdown",
   "id": "9dd4e146",
   "metadata": {},
   "source": [
    "BaggingClassifier also has 100% accuracy"
   ]
  },
  {
   "cell_type": "code",
   "execution_count": 56,
   "id": "4517986d",
   "metadata": {},
   "outputs": [
    {
     "name": "stdout",
     "output_type": "stream",
     "text": [
      "RandomForestClassifier\n",
      "Accuracy score on test data 91.05263157894737\n",
      "Accuracy score on train data 100.0\n",
      "Classification report               precision    recall  f1-score   support\n",
      "\n",
      "         0.0       0.94      0.87      0.91        94\n",
      "         1.0       0.88      0.95      0.91        96\n",
      "\n",
      "    accuracy                           0.91       190\n",
      "   macro avg       0.91      0.91      0.91       190\n",
      "weighted avg       0.91      0.91      0.91       190\n",
      "\n",
      "Confusion matrix [[82 12]\n",
      " [ 5 91]]\n"
     ]
    }
   ],
   "source": [
    "print('RandomForestClassifier')\n",
    "rf=RandomForestClassifier()\n",
    "rf.fit(x_train,y_train)\n",
    "predrf=rf.predict(x_test)\n",
    "predrf_train=rf.predict(x_train)\n",
    "print('Accuracy score on test data',accuracy_score(y_test,predrf)*100)\n",
    "print('Accuracy score on train data',accuracy_score(y_train,predrf_train)*100)\n",
    "print('Classification report',classification_report(y_test,predrf))\n",
    "print('Confusion matrix',confusion_matrix(y_test,predrf))"
   ]
  },
  {
   "cell_type": "markdown",
   "id": "dabe2c8b",
   "metadata": {},
   "source": [
    "RandomForestClassifier also has 100% accuracy score"
   ]
  },
  {
   "cell_type": "code",
   "execution_count": 57,
   "id": "2536b046",
   "metadata": {},
   "outputs": [
    {
     "name": "stdout",
     "output_type": "stream",
     "text": [
      "ExtraTreesClassifier\n",
      "Accuracy score on test data 93.15789473684211\n",
      "Accuracy score on train data 100.0\n",
      "Classification report               precision    recall  f1-score   support\n",
      "\n",
      "         0.0       0.95      0.91      0.93        94\n",
      "         1.0       0.92      0.95      0.93        96\n",
      "\n",
      "    accuracy                           0.93       190\n",
      "   macro avg       0.93      0.93      0.93       190\n",
      "weighted avg       0.93      0.93      0.93       190\n",
      "\n",
      "Confusion matrix [[86  8]\n",
      " [ 5 91]]\n"
     ]
    }
   ],
   "source": [
    "print('ExtraTreesClassifier')\n",
    "et=ExtraTreesClassifier()\n",
    "et.fit(x_train,y_train)\n",
    "predet=et.predict(x_test)\n",
    "predet_train=et.predict(x_train)\n",
    "print('Accuracy score on test data',accuracy_score(y_test,predet)*100)\n",
    "print('Accuracy score on train data',accuracy_score(y_train,predet_train)*100)\n",
    "print('Classification report',classification_report(y_test,predet))\n",
    "print('Confusion matrix',confusion_matrix(y_test,predet))"
   ]
  },
  {
   "cell_type": "markdown",
   "id": "b66b1d0b",
   "metadata": {},
   "source": [
    "with ExtraTreesClassifier also getting 100% accuracy"
   ]
  },
  {
   "cell_type": "code",
   "execution_count": 58,
   "id": "7af50e8f",
   "metadata": {},
   "outputs": [],
   "source": [
    "from sklearn.model_selection import cross_val_score"
   ]
  },
  {
   "cell_type": "code",
   "execution_count": 59,
   "id": "afc0c760",
   "metadata": {},
   "outputs": [
    {
     "name": "stdout",
     "output_type": "stream",
     "text": [
      "GradientBoostClassifier\n",
      "[48.4375     57.8125     31.74603175 60.31746032 77.77777778 80.95238095\n",
      " 82.53968254 84.12698413 71.42857143 49.20634921]\n",
      "Mean score 64.4345238095238\n"
     ]
    }
   ],
   "source": [
    "print('GradientBoostClassifier')\n",
    "scoregb=cross_val_score(gb,x,y,cv=10)\n",
    "print(scoregb*100)\n",
    "print('Mean score',scoregb.mean()*100)"
   ]
  },
  {
   "cell_type": "code",
   "execution_count": 60,
   "id": "1678893c",
   "metadata": {},
   "outputs": [
    {
     "name": "stdout",
     "output_type": "stream",
     "text": [
      "AdaBoostClassifer\n",
      "[43.75       51.5625     34.92063492 61.9047619  71.42857143 68.25396825\n",
      " 84.12698413 79.36507937 55.55555556 41.26984127]\n",
      "Mean score 59.213789682539684\n"
     ]
    }
   ],
   "source": [
    "print('AdaBoostClassifer')\n",
    "scoreab=cross_val_score(ab,x,y,cv=10)\n",
    "print(scoreab*100)\n",
    "print('Mean score',scoreab.mean()*100)"
   ]
  },
  {
   "cell_type": "code",
   "execution_count": 61,
   "id": "00644660",
   "metadata": {},
   "outputs": [
    {
     "name": "stdout",
     "output_type": "stream",
     "text": [
      "ExtraTreesClassifier\n",
      "[81.25       73.4375     74.6031746  77.77777778 87.3015873  93.65079365\n",
      " 95.23809524 87.3015873  93.65079365 92.06349206]\n",
      "Mean score 85.62748015873017\n"
     ]
    }
   ],
   "source": [
    "print('ExtraTreesClassifier')\n",
    "scoreet=cross_val_score(et,x,y,cv=10)\n",
    "print(scoreet*100)\n",
    "print('Mean score',scoreet.mean()*100)"
   ]
  },
  {
   "cell_type": "code",
   "execution_count": 62,
   "id": "b168fa9c",
   "metadata": {},
   "outputs": [
    {
     "name": "stdout",
     "output_type": "stream",
     "text": [
      "BaggingClassifier\n",
      "[48.4375     48.4375     34.92063492 66.66666667 80.95238095 73.01587302\n",
      " 74.6031746  76.19047619 82.53968254 61.9047619 ]\n",
      "Mean score 64.76686507936508\n"
     ]
    }
   ],
   "source": [
    "print('BaggingClassifier')\n",
    "scorebg=cross_val_score(bg,x,y,cv=10)\n",
    "print(scorebg*100)\n",
    "print('Mean score',scorebg.mean()*100)"
   ]
  },
  {
   "cell_type": "code",
   "execution_count": 63,
   "id": "7750e5df",
   "metadata": {},
   "outputs": [
    {
     "name": "stdout",
     "output_type": "stream",
     "text": [
      "DecisionTreeClassifier\n",
      "[46.875      43.75       31.74603175 47.61904762 76.19047619 84.12698413\n",
      " 73.01587302 85.71428571 82.53968254 52.38095238]\n",
      "Mean score 62.39583333333333\n"
     ]
    }
   ],
   "source": [
    "print('DecisionTreeClassifier')\n",
    "scoredtc=cross_val_score(dtc,x,y,cv=10)\n",
    "print(scoredtc*100)\n",
    "print('Mean score',scoredtc.mean()*100)"
   ]
  },
  {
   "cell_type": "code",
   "execution_count": 64,
   "id": "6555d661",
   "metadata": {},
   "outputs": [
    {
     "name": "stdout",
     "output_type": "stream",
     "text": [
      "Support vector\n",
      "[71.875      73.4375     71.42857143 71.42857143 71.42857143 73.01587302\n",
      " 69.84126984 71.42857143 76.19047619 77.77777778]\n",
      "Mean score 72.78521825396825\n"
     ]
    }
   ],
   "source": [
    "print('Support vector')\n",
    "scoresvc=cross_val_score(svc,x,y,cv=10)\n",
    "print(scoresvc*100)\n",
    "print('Mean score',scoresvc.mean()*100)"
   ]
  },
  {
   "cell_type": "markdown",
   "id": "7d9f8201",
   "metadata": {},
   "source": [
    " accuracy scoreis better with ExtraTreesClassifier"
   ]
  },
  {
   "cell_type": "code",
   "execution_count": 66,
   "id": "00bf9331",
   "metadata": {},
   "outputs": [],
   "source": [
    "from sklearn.model_selection import GridSearchCV"
   ]
  },
  {
   "cell_type": "markdown",
   "id": "2de55aee",
   "metadata": {},
   "source": [
    "with the help of Gridsearchcv finding for the best parameters"
   ]
  },
  {
   "cell_type": "code",
   "execution_count": 67,
   "id": "e55db629",
   "metadata": {},
   "outputs": [],
   "source": [
    "parameters={'criterion':['gini','entropy'],\n",
    "           'random_state':[100,500,1000,1500],\n",
    "           'max_depth':[10,50,100],\n",
    "           'n_jobs':[-2,-1,1],\n",
    "           'n_estimators':[50,100,150,200]}"
   ]
  },
  {
   "cell_type": "code",
   "execution_count": 68,
   "id": "3cea584b",
   "metadata": {},
   "outputs": [
    {
     "data": {
      "text/plain": [
       "{'criterion': 'gini',\n",
       " 'max_depth': 50,\n",
       " 'n_estimators': 50,\n",
       " 'n_jobs': -2,\n",
       " 'random_state': 100}"
      ]
     },
     "execution_count": 68,
     "metadata": {},
     "output_type": "execute_result"
    }
   ],
   "source": [
    "gscv=GridSearchCV(ExtraTreesClassifier(),parameters,cv=5)\n",
    "gscv.fit(x_train,y_train)\n",
    "gscv.best_params_"
   ]
  },
  {
   "cell_type": "markdown",
   "id": "8ab1739e",
   "metadata": {},
   "source": [
    "performing the model for best parameters"
   ]
  },
  {
   "cell_type": "code",
   "execution_count": 69,
   "id": "fe48b584",
   "metadata": {},
   "outputs": [],
   "source": [
    "model=ExtraTreesClassifier(criterion='gini',max_depth=50,n_estimators=50,n_jobs=-2,random_state=100)"
   ]
  },
  {
   "cell_type": "markdown",
   "id": "63cf2e05",
   "metadata": {},
   "source": [
    "building the best model with best parameters"
   ]
  },
  {
   "cell_type": "code",
   "execution_count": 70,
   "id": "ad5479ce",
   "metadata": {},
   "outputs": [
    {
     "name": "stdout",
     "output_type": "stream",
     "text": [
      "Best Accuracy score 93.15789473684211\n"
     ]
    }
   ],
   "source": [
    "model.fit(x_train,y_train)\n",
    "pred=model.predict(x_test)\n",
    "print('Best Accuracy score',accuracy_score(y_test,pred)*100)"
   ]
  },
  {
   "cell_type": "markdown",
   "id": "64e63806",
   "metadata": {},
   "source": [
    "training and testing the model with best parameters"
   ]
  },
  {
   "cell_type": "code",
   "execution_count": 71,
   "id": "48dab5ef",
   "metadata": {},
   "outputs": [],
   "source": [
    "import pickle\n",
    "file='Loan_prediction'\n",
    "pickle.dump(model,open(file,'wb'))"
   ]
  },
  {
   "cell_type": "markdown",
   "id": "8072357e",
   "metadata": {},
   "source": [
    "using Pickle lybrari to save the model"
   ]
  },
  {
   "cell_type": "code",
   "execution_count": 72,
   "id": "37594d58",
   "metadata": {},
   "outputs": [
    {
     "data": {
      "text/plain": [
       "93.15789473684211"
      ]
     },
     "execution_count": 72,
     "metadata": {},
     "output_type": "execute_result"
    }
   ],
   "source": [
    "final_model=pickle.load(open('Loan_prediction','rb'))\n",
    "final_model.score(x_test,y_test)*100"
   ]
  },
  {
   "cell_type": "markdown",
   "id": "76418088",
   "metadata": {},
   "source": [
    "loading the saved model from my jupyter notebook"
   ]
  },
  {
   "cell_type": "code",
   "execution_count": null,
   "id": "566aca95",
   "metadata": {},
   "outputs": [],
   "source": []
  }
 ],
 "metadata": {
  "kernelspec": {
   "display_name": "Python 3 (ipykernel)",
   "language": "python",
   "name": "python3"
  },
  "language_info": {
   "codemirror_mode": {
    "name": "ipython",
    "version": 3
   },
   "file_extension": ".py",
   "mimetype": "text/x-python",
   "name": "python",
   "nbconvert_exporter": "python",
   "pygments_lexer": "ipython3",
   "version": "3.9.12"
  }
 },
 "nbformat": 4,
 "nbformat_minor": 5
}
